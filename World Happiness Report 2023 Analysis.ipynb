{
 "cells": [
  {
   "cell_type": "markdown",
   "id": "05d3498a",
   "metadata": {},
   "source": [
    "# **World Happiness Report 2023 Analysis**\n",
    "\n",
    "## Project Objective\n",
    "This project analyzes the World Happiness Report 2023 dataset to explore global happiness trends, key drivers of happiness, and interesting insights that can be used for decision-making. \n",
    "\n",
    "The goal is to create a visually rich, interactive, and insightful report suitable for a portfolio project.\n",
    "\n",
    "## Dataset\n",
    "The dataset includes:\n",
    "- Ladder Score (overall happiness)\n",
    "- Economic indicators (GDP per capita)\n",
    "- Social support\n",
    "- Healthy life expectancy\n",
    "- Freedom to make life choices\n",
    "- Generosity\n",
    "- Perceptions of corruption\n",
    "- Dystopia + Residual (used in report calculation)\n"
   ]
  },
  {
   "cell_type": "code",
   "execution_count": 1,
   "id": "a51c5649",
   "metadata": {},
   "outputs": [],
   "source": [
    "import pandas as pd"
   ]
  },
  {
   "cell_type": "markdown",
   "id": "ec7b59c8",
   "metadata": {},
   "source": [
    "## Loading the Dataset\n",
    "\n",
    "We start by importing the **World Happiness Report 2023 dataset** from a CSV file.  \n",
    "This dataset contains key indicators such as GDP per capita, social support, healthy life expectancy, and perceptions of corruption, which are later used to analyze global happiness patterns.  \n",
    "\n",
    "By displaying the first few rows, we ensure the dataset was loaded correctly and understand its structure before cleaning and analysis."
   ]
  },
  {
   "cell_type": "code",
   "execution_count": 2,
   "id": "64e97d89",
   "metadata": {},
   "outputs": [
    {
     "data": {
      "text/html": [
       "<div>\n",
       "<style scoped>\n",
       "    .dataframe tbody tr th:only-of-type {\n",
       "        vertical-align: middle;\n",
       "    }\n",
       "\n",
       "    .dataframe tbody tr th {\n",
       "        vertical-align: top;\n",
       "    }\n",
       "\n",
       "    .dataframe thead th {\n",
       "        text-align: right;\n",
       "    }\n",
       "</style>\n",
       "<table border=\"1\" class=\"dataframe\">\n",
       "  <thead>\n",
       "    <tr style=\"text-align: right;\">\n",
       "      <th></th>\n",
       "      <th>Country name</th>\n",
       "      <th>Ladder score</th>\n",
       "      <th>Standard error of ladder score</th>\n",
       "      <th>upperwhisker</th>\n",
       "      <th>lowerwhisker</th>\n",
       "      <th>Logged GDP per capita</th>\n",
       "      <th>Social support</th>\n",
       "      <th>Healthy life expectancy</th>\n",
       "      <th>Freedom to make life choices</th>\n",
       "      <th>Generosity</th>\n",
       "      <th>Perceptions of corruption</th>\n",
       "      <th>Ladder score in Dystopia</th>\n",
       "      <th>Explained by: Log GDP per capita</th>\n",
       "      <th>Explained by: Social support</th>\n",
       "      <th>Explained by: Healthy life expectancy</th>\n",
       "      <th>Explained by: Freedom to make life choices</th>\n",
       "      <th>Explained by: Generosity</th>\n",
       "      <th>Explained by: Perceptions of corruption</th>\n",
       "      <th>Dystopia + residual</th>\n",
       "    </tr>\n",
       "  </thead>\n",
       "  <tbody>\n",
       "    <tr>\n",
       "      <th>0</th>\n",
       "      <td>Finland</td>\n",
       "      <td>7.804</td>\n",
       "      <td>0.036</td>\n",
       "      <td>7.875</td>\n",
       "      <td>7.733</td>\n",
       "      <td>10.792</td>\n",
       "      <td>0.969</td>\n",
       "      <td>71.150</td>\n",
       "      <td>0.961</td>\n",
       "      <td>-0.019</td>\n",
       "      <td>0.182</td>\n",
       "      <td>1.778</td>\n",
       "      <td>1.888</td>\n",
       "      <td>1.585</td>\n",
       "      <td>0.535</td>\n",
       "      <td>0.772</td>\n",
       "      <td>0.126</td>\n",
       "      <td>0.535</td>\n",
       "      <td>2.363</td>\n",
       "    </tr>\n",
       "    <tr>\n",
       "      <th>1</th>\n",
       "      <td>Denmark</td>\n",
       "      <td>7.586</td>\n",
       "      <td>0.041</td>\n",
       "      <td>7.667</td>\n",
       "      <td>7.506</td>\n",
       "      <td>10.962</td>\n",
       "      <td>0.954</td>\n",
       "      <td>71.250</td>\n",
       "      <td>0.934</td>\n",
       "      <td>0.134</td>\n",
       "      <td>0.196</td>\n",
       "      <td>1.778</td>\n",
       "      <td>1.949</td>\n",
       "      <td>1.548</td>\n",
       "      <td>0.537</td>\n",
       "      <td>0.734</td>\n",
       "      <td>0.208</td>\n",
       "      <td>0.525</td>\n",
       "      <td>2.084</td>\n",
       "    </tr>\n",
       "    <tr>\n",
       "      <th>2</th>\n",
       "      <td>Iceland</td>\n",
       "      <td>7.530</td>\n",
       "      <td>0.049</td>\n",
       "      <td>7.625</td>\n",
       "      <td>7.434</td>\n",
       "      <td>10.896</td>\n",
       "      <td>0.983</td>\n",
       "      <td>72.050</td>\n",
       "      <td>0.936</td>\n",
       "      <td>0.211</td>\n",
       "      <td>0.668</td>\n",
       "      <td>1.778</td>\n",
       "      <td>1.926</td>\n",
       "      <td>1.620</td>\n",
       "      <td>0.559</td>\n",
       "      <td>0.738</td>\n",
       "      <td>0.250</td>\n",
       "      <td>0.187</td>\n",
       "      <td>2.250</td>\n",
       "    </tr>\n",
       "    <tr>\n",
       "      <th>3</th>\n",
       "      <td>Israel</td>\n",
       "      <td>7.473</td>\n",
       "      <td>0.032</td>\n",
       "      <td>7.535</td>\n",
       "      <td>7.411</td>\n",
       "      <td>10.639</td>\n",
       "      <td>0.943</td>\n",
       "      <td>72.697</td>\n",
       "      <td>0.809</td>\n",
       "      <td>-0.023</td>\n",
       "      <td>0.708</td>\n",
       "      <td>1.778</td>\n",
       "      <td>1.833</td>\n",
       "      <td>1.521</td>\n",
       "      <td>0.577</td>\n",
       "      <td>0.569</td>\n",
       "      <td>0.124</td>\n",
       "      <td>0.158</td>\n",
       "      <td>2.691</td>\n",
       "    </tr>\n",
       "    <tr>\n",
       "      <th>4</th>\n",
       "      <td>Netherlands</td>\n",
       "      <td>7.403</td>\n",
       "      <td>0.029</td>\n",
       "      <td>7.460</td>\n",
       "      <td>7.346</td>\n",
       "      <td>10.942</td>\n",
       "      <td>0.930</td>\n",
       "      <td>71.550</td>\n",
       "      <td>0.887</td>\n",
       "      <td>0.213</td>\n",
       "      <td>0.379</td>\n",
       "      <td>1.778</td>\n",
       "      <td>1.942</td>\n",
       "      <td>1.488</td>\n",
       "      <td>0.545</td>\n",
       "      <td>0.672</td>\n",
       "      <td>0.251</td>\n",
       "      <td>0.394</td>\n",
       "      <td>2.110</td>\n",
       "    </tr>\n",
       "  </tbody>\n",
       "</table>\n",
       "</div>"
      ],
      "text/plain": [
       "  Country name  Ladder score  Standard error of ladder score  upperwhisker  \\\n",
       "0      Finland         7.804                           0.036         7.875   \n",
       "1      Denmark         7.586                           0.041         7.667   \n",
       "2      Iceland         7.530                           0.049         7.625   \n",
       "3       Israel         7.473                           0.032         7.535   \n",
       "4  Netherlands         7.403                           0.029         7.460   \n",
       "\n",
       "   lowerwhisker  Logged GDP per capita  Social support  \\\n",
       "0         7.733                 10.792           0.969   \n",
       "1         7.506                 10.962           0.954   \n",
       "2         7.434                 10.896           0.983   \n",
       "3         7.411                 10.639           0.943   \n",
       "4         7.346                 10.942           0.930   \n",
       "\n",
       "   Healthy life expectancy  Freedom to make life choices  Generosity  \\\n",
       "0                   71.150                         0.961      -0.019   \n",
       "1                   71.250                         0.934       0.134   \n",
       "2                   72.050                         0.936       0.211   \n",
       "3                   72.697                         0.809      -0.023   \n",
       "4                   71.550                         0.887       0.213   \n",
       "\n",
       "   Perceptions of corruption  Ladder score in Dystopia  \\\n",
       "0                      0.182                     1.778   \n",
       "1                      0.196                     1.778   \n",
       "2                      0.668                     1.778   \n",
       "3                      0.708                     1.778   \n",
       "4                      0.379                     1.778   \n",
       "\n",
       "   Explained by: Log GDP per capita  Explained by: Social support  \\\n",
       "0                             1.888                         1.585   \n",
       "1                             1.949                         1.548   \n",
       "2                             1.926                         1.620   \n",
       "3                             1.833                         1.521   \n",
       "4                             1.942                         1.488   \n",
       "\n",
       "   Explained by: Healthy life expectancy  \\\n",
       "0                                  0.535   \n",
       "1                                  0.537   \n",
       "2                                  0.559   \n",
       "3                                  0.577   \n",
       "4                                  0.545   \n",
       "\n",
       "   Explained by: Freedom to make life choices  Explained by: Generosity  \\\n",
       "0                                       0.772                     0.126   \n",
       "1                                       0.734                     0.208   \n",
       "2                                       0.738                     0.250   \n",
       "3                                       0.569                     0.124   \n",
       "4                                       0.672                     0.251   \n",
       "\n",
       "   Explained by: Perceptions of corruption  Dystopia + residual  \n",
       "0                                    0.535                2.363  \n",
       "1                                    0.525                2.084  \n",
       "2                                    0.187                2.250  \n",
       "3                                    0.158                2.691  \n",
       "4                                    0.394                2.110  "
      ]
     },
     "execution_count": 2,
     "metadata": {},
     "output_type": "execute_result"
    }
   ],
   "source": [
    "df_whr = pd.read_csv(\"WHR2023.csv\")\n",
    "df_whr.head()"
   ]
  },
  {
   "cell_type": "markdown",
   "id": "d336393f",
   "metadata": {},
   "source": [
    "## Cleaning Column Names  \n",
    "\n",
    "To ensure consistency and readability, we format all column names by converting them to **title case**.  \n",
    "This makes it easier to reference columns later in the analysis and improves the overall presentation of the dataset.  \n",
    "\n",
    "After renaming, we display the updated column names to confirm the changes.  "
   ]
  },
  {
   "cell_type": "code",
   "execution_count": 3,
   "id": "452e4ca8",
   "metadata": {},
   "outputs": [
    {
     "data": {
      "text/plain": [
       "Index(['Country Name', 'Ladder Score', 'Standard Error Of Ladder Score',\n",
       "       'Upperwhisker', 'Lowerwhisker', 'Logged Gdp Per Capita',\n",
       "       'Social Support', 'Healthy Life Expectancy',\n",
       "       'Freedom To Make Life Choices', 'Generosity',\n",
       "       'Perceptions Of Corruption', 'Ladder Score In Dystopia',\n",
       "       'Explained By: Log Gdp Per Capita', 'Explained By: Social Support',\n",
       "       'Explained By: Healthy Life Expectancy',\n",
       "       'Explained By: Freedom To Make Life Choices',\n",
       "       'Explained By: Generosity', 'Explained By: Perceptions Of Corruption',\n",
       "       'Dystopia + Residual'],\n",
       "      dtype='object')"
      ]
     },
     "execution_count": 3,
     "metadata": {},
     "output_type": "execute_result"
    }
   ],
   "source": [
    "df_whr.columns = df_whr.columns.str.title()\n",
    "df_whr.columns"
   ]
  },
  {
   "cell_type": "markdown",
   "id": "1d36d3ae",
   "metadata": {},
   "source": [
    "## Selecting Relevant Columns\n",
    "\n",
    "The dataset contains many attributes, but for this analysis we only focus on the most important factors that contribute to the **Happiness Score**.  \n",
    "We create a new DataFrame with the following selected columns:  \n",
    "\n",
    "- Country Name  \n",
    "- Ladder Score (overall happiness)  \n",
    "- Logged GDP per capita  \n",
    "- Social Support  \n",
    "- Healthy Life Expectancy  \n",
    "- Freedom to make life choices  \n",
    "- Generosity  \n",
    "- Perceptions of corruption  \n",
    "- Dystopia + Residual  \n",
    "\n",
    "This step ensures that we keep only the relevant features for analysis and visualization, avoiding unnecessary complexity."
   ]
  },
  {
   "cell_type": "code",
   "execution_count": 4,
   "id": "e800c823",
   "metadata": {},
   "outputs": [],
   "source": [
    "cols = [\n",
    "    \"Country Name\",\n",
    "    \"Ladder Score\",\n",
    "    \"Logged Gdp Per Capita\",\n",
    "    \"Social Support\",\n",
    "    \"Healthy Life Expectancy\",\n",
    "    \"Freedom To Make Life Choices\",\n",
    "    \"Generosity\",\n",
    "    \"Perceptions Of Corruption\",\n",
    "    \"Dystopia + Residual\"\n",
    "]\n",
    "\n",
    "df_whr = df_whr[cols]"
   ]
  },
  {
   "cell_type": "markdown",
   "id": "c039b384",
   "metadata": {},
   "source": [
    "## Setting the Index  \n",
    "\n",
    "We set **Country Name** as the index of the DataFrame.  \n",
    "This makes it easier to reference countries directly without having to use an additional column, and it improves the clarity of our analysis and visualizations.  \n",
    "By treating countries as unique identifiers, we can efficiently compare and filter data at the country level. "
   ]
  },
  {
   "cell_type": "code",
   "execution_count": 5,
   "id": "db758926",
   "metadata": {},
   "outputs": [],
   "source": [
    "df_whr = df_whr.set_index(\"Country Name\")"
   ]
  },
  {
   "cell_type": "markdown",
   "id": "65839326",
   "metadata": {},
   "source": [
    "## Checking Data Types  \n",
    "\n",
    "We inspect the data types of each column to confirm they are in the correct format for analysis.  \n",
    "All feature columns are stored as **float64**, which is suitable since they represent continuous numerical values.  \n",
    "\n",
    "This means we can directly perform statistical analysis and create visualizations without additional type conversion.  "
   ]
  },
  {
   "cell_type": "code",
   "execution_count": 6,
   "id": "b4c74ebc",
   "metadata": {},
   "outputs": [
    {
     "data": {
      "text/plain": [
       "Ladder Score                    float64\n",
       "Logged Gdp Per Capita           float64\n",
       "Social Support                  float64\n",
       "Healthy Life Expectancy         float64\n",
       "Freedom To Make Life Choices    float64\n",
       "Generosity                      float64\n",
       "Perceptions Of Corruption       float64\n",
       "Dystopia + Residual             float64\n",
       "dtype: object"
      ]
     },
     "execution_count": 6,
     "metadata": {},
     "output_type": "execute_result"
    }
   ],
   "source": [
    "df_whr.dtypes # All columns are float64"
   ]
  },
  {
   "cell_type": "markdown",
   "id": "36773543",
   "metadata": {},
   "source": [
    "## Checking for Missing Values  \n",
    "\n",
    "We check for missing values in the dataset.  \n",
    "The results show that:  \n",
    "\n",
    "- **Healthy Life Expectancy** → 1 missing value  \n",
    "- **Dystopia + Residual** → 1 missing value  \n",
    "- All other columns have complete data  \n",
    "\n",
    "Since only two values are missing, this will not significantly affect the analysis.  \n",
    "We can either drop the rows with missing values or impute them depending on the context, but in this case dropping them is a reasonable choice.  "
   ]
  },
  {
   "cell_type": "code",
   "execution_count": 7,
   "id": "1ec1da84",
   "metadata": {},
   "outputs": [
    {
     "data": {
      "text/plain": [
       "Healthy Life Expectancy         1\n",
       "Dystopia + Residual             1\n",
       "Ladder Score                    0\n",
       "Logged Gdp Per Capita           0\n",
       "Social Support                  0\n",
       "Freedom To Make Life Choices    0\n",
       "Generosity                      0\n",
       "Perceptions Of Corruption       0\n",
       "dtype: int64"
      ]
     },
     "execution_count": 7,
     "metadata": {},
     "output_type": "execute_result"
    }
   ],
   "source": [
    "df_whr.isnull().sum().sort_values(ascending=False)"
   ]
  },
  {
   "cell_type": "markdown",
   "id": "99be6d73",
   "metadata": {},
   "source": [
    "## Handling Missing Values  \n",
    "\n",
    "To ensure a clean dataset, we drop rows where values are missing in  \n",
    "**Healthy Life Expectancy** or **Dystopia + Residual**.  \n",
    "\n",
    "Since only one row is missing in each of these columns, removing them avoids introducing bias or complications in the analysis.  \n",
    "This keeps the dataset consistent while having minimal impact on the overall results.  \n"
   ]
  },
  {
   "cell_type": "code",
   "execution_count": 8,
   "id": "fdb3bbf7",
   "metadata": {},
   "outputs": [],
   "source": [
    "df_whr = df_whr.dropna(subset=[\"Healthy Life Expectancy\", \"Dystopia + Residual\"])"
   ]
  },
  {
   "cell_type": "markdown",
   "id": "91541967",
   "metadata": {},
   "source": [
    "## Verifying Missing Values After Cleaning  \n",
    "\n",
    "After dropping rows with missing values in  \n",
    "**Healthy Life Expectancy** and **Dystopia + Residual**,  \n",
    "we recheck for null values.  \n",
    "\n",
    "The result confirms that:  \n",
    "- All columns now have **0 missing values**.  \n",
    "- The dataset is fully clean and ready for analysis.  "
   ]
  },
  {
   "cell_type": "code",
   "execution_count": 9,
   "id": "f473fa51",
   "metadata": {},
   "outputs": [
    {
     "data": {
      "text/plain": [
       "Ladder Score                    0\n",
       "Logged Gdp Per Capita           0\n",
       "Social Support                  0\n",
       "Healthy Life Expectancy         0\n",
       "Freedom To Make Life Choices    0\n",
       "Generosity                      0\n",
       "Perceptions Of Corruption       0\n",
       "Dystopia + Residual             0\n",
       "dtype: int64"
      ]
     },
     "execution_count": 9,
     "metadata": {},
     "output_type": "execute_result"
    }
   ],
   "source": [
    "df_whr.isnull().sum().sort_values(ascending=False)"
   ]
  },
  {
   "cell_type": "markdown",
   "id": "e21eb014",
   "metadata": {},
   "source": [
    "## Checking for Duplicate Rows  \n",
    "\n",
    "We check if the dataset contains any duplicated rows.  \n",
    "Having duplicates could bias the analysis, especially when comparing averages or distributions across countries.  \n",
    "\n",
    "The output shows **no duplicated values**, meaning each country has a unique entry.  \n",
    "This confirms the dataset is reliable for further exploration.  "
   ]
  },
  {
   "cell_type": "code",
   "execution_count": 10,
   "id": "ae5f88ea",
   "metadata": {},
   "outputs": [
    {
     "data": {
      "text/html": [
       "<div>\n",
       "<style scoped>\n",
       "    .dataframe tbody tr th:only-of-type {\n",
       "        vertical-align: middle;\n",
       "    }\n",
       "\n",
       "    .dataframe tbody tr th {\n",
       "        vertical-align: top;\n",
       "    }\n",
       "\n",
       "    .dataframe thead th {\n",
       "        text-align: right;\n",
       "    }\n",
       "</style>\n",
       "<table border=\"1\" class=\"dataframe\">\n",
       "  <thead>\n",
       "    <tr style=\"text-align: right;\">\n",
       "      <th></th>\n",
       "      <th>Ladder Score</th>\n",
       "      <th>Logged Gdp Per Capita</th>\n",
       "      <th>Social Support</th>\n",
       "      <th>Healthy Life Expectancy</th>\n",
       "      <th>Freedom To Make Life Choices</th>\n",
       "      <th>Generosity</th>\n",
       "      <th>Perceptions Of Corruption</th>\n",
       "      <th>Dystopia + Residual</th>\n",
       "    </tr>\n",
       "    <tr>\n",
       "      <th>Country Name</th>\n",
       "      <th></th>\n",
       "      <th></th>\n",
       "      <th></th>\n",
       "      <th></th>\n",
       "      <th></th>\n",
       "      <th></th>\n",
       "      <th></th>\n",
       "      <th></th>\n",
       "    </tr>\n",
       "  </thead>\n",
       "  <tbody>\n",
       "  </tbody>\n",
       "</table>\n",
       "</div>"
      ],
      "text/plain": [
       "Empty DataFrame\n",
       "Columns: [Ladder Score, Logged Gdp Per Capita, Social Support, Healthy Life Expectancy, Freedom To Make Life Choices, Generosity, Perceptions Of Corruption, Dystopia + Residual]\n",
       "Index: []"
      ]
     },
     "execution_count": 10,
     "metadata": {},
     "output_type": "execute_result"
    }
   ],
   "source": [
    "df_whr[df_whr.duplicated()] # No duplicated values"
   ]
  },
  {
   "cell_type": "markdown",
   "id": "7bf229b8",
   "metadata": {},
   "source": [
    "## Final Cleaned Dataset  \n",
    "\n",
    "We display the full cleaned dataset after:  \n",
    "- Standardizing column names  \n",
    "- Selecting relevant variables  \n",
    "- Setting country names as the index  \n",
    "- Removing missing values  \n",
    "- Ensuring no duplicates  \n",
    "\n",
    "This dataset is now ready for **Exploratory Data Analysis (EDA)** and visualization.  "
   ]
  },
  {
   "cell_type": "code",
   "execution_count": 11,
   "id": "3c2b419f",
   "metadata": {},
   "outputs": [
    {
     "data": {
      "text/html": [
       "<div>\n",
       "<style scoped>\n",
       "    .dataframe tbody tr th:only-of-type {\n",
       "        vertical-align: middle;\n",
       "    }\n",
       "\n",
       "    .dataframe tbody tr th {\n",
       "        vertical-align: top;\n",
       "    }\n",
       "\n",
       "    .dataframe thead th {\n",
       "        text-align: right;\n",
       "    }\n",
       "</style>\n",
       "<table border=\"1\" class=\"dataframe\">\n",
       "  <thead>\n",
       "    <tr style=\"text-align: right;\">\n",
       "      <th></th>\n",
       "      <th>Ladder Score</th>\n",
       "      <th>Logged Gdp Per Capita</th>\n",
       "      <th>Social Support</th>\n",
       "      <th>Healthy Life Expectancy</th>\n",
       "      <th>Freedom To Make Life Choices</th>\n",
       "      <th>Generosity</th>\n",
       "      <th>Perceptions Of Corruption</th>\n",
       "      <th>Dystopia + Residual</th>\n",
       "    </tr>\n",
       "    <tr>\n",
       "      <th>Country Name</th>\n",
       "      <th></th>\n",
       "      <th></th>\n",
       "      <th></th>\n",
       "      <th></th>\n",
       "      <th></th>\n",
       "      <th></th>\n",
       "      <th></th>\n",
       "      <th></th>\n",
       "    </tr>\n",
       "  </thead>\n",
       "  <tbody>\n",
       "    <tr>\n",
       "      <th>Finland</th>\n",
       "      <td>7.804</td>\n",
       "      <td>10.792</td>\n",
       "      <td>0.969</td>\n",
       "      <td>71.150</td>\n",
       "      <td>0.961</td>\n",
       "      <td>-0.019</td>\n",
       "      <td>0.182</td>\n",
       "      <td>2.363</td>\n",
       "    </tr>\n",
       "    <tr>\n",
       "      <th>Denmark</th>\n",
       "      <td>7.586</td>\n",
       "      <td>10.962</td>\n",
       "      <td>0.954</td>\n",
       "      <td>71.250</td>\n",
       "      <td>0.934</td>\n",
       "      <td>0.134</td>\n",
       "      <td>0.196</td>\n",
       "      <td>2.084</td>\n",
       "    </tr>\n",
       "    <tr>\n",
       "      <th>Iceland</th>\n",
       "      <td>7.530</td>\n",
       "      <td>10.896</td>\n",
       "      <td>0.983</td>\n",
       "      <td>72.050</td>\n",
       "      <td>0.936</td>\n",
       "      <td>0.211</td>\n",
       "      <td>0.668</td>\n",
       "      <td>2.250</td>\n",
       "    </tr>\n",
       "    <tr>\n",
       "      <th>Israel</th>\n",
       "      <td>7.473</td>\n",
       "      <td>10.639</td>\n",
       "      <td>0.943</td>\n",
       "      <td>72.697</td>\n",
       "      <td>0.809</td>\n",
       "      <td>-0.023</td>\n",
       "      <td>0.708</td>\n",
       "      <td>2.691</td>\n",
       "    </tr>\n",
       "    <tr>\n",
       "      <th>Netherlands</th>\n",
       "      <td>7.403</td>\n",
       "      <td>10.942</td>\n",
       "      <td>0.930</td>\n",
       "      <td>71.550</td>\n",
       "      <td>0.887</td>\n",
       "      <td>0.213</td>\n",
       "      <td>0.379</td>\n",
       "      <td>2.110</td>\n",
       "    </tr>\n",
       "    <tr>\n",
       "      <th>...</th>\n",
       "      <td>...</td>\n",
       "      <td>...</td>\n",
       "      <td>...</td>\n",
       "      <td>...</td>\n",
       "      <td>...</td>\n",
       "      <td>...</td>\n",
       "      <td>...</td>\n",
       "      <td>...</td>\n",
       "    </tr>\n",
       "    <tr>\n",
       "      <th>Congo (Kinshasa)</th>\n",
       "      <td>3.207</td>\n",
       "      <td>7.007</td>\n",
       "      <td>0.652</td>\n",
       "      <td>55.375</td>\n",
       "      <td>0.664</td>\n",
       "      <td>0.086</td>\n",
       "      <td>0.834</td>\n",
       "      <td>1.162</td>\n",
       "    </tr>\n",
       "    <tr>\n",
       "      <th>Zimbabwe</th>\n",
       "      <td>3.204</td>\n",
       "      <td>7.641</td>\n",
       "      <td>0.690</td>\n",
       "      <td>54.050</td>\n",
       "      <td>0.654</td>\n",
       "      <td>-0.046</td>\n",
       "      <td>0.766</td>\n",
       "      <td>0.905</td>\n",
       "    </tr>\n",
       "    <tr>\n",
       "      <th>Sierra Leone</th>\n",
       "      <td>3.138</td>\n",
       "      <td>7.394</td>\n",
       "      <td>0.555</td>\n",
       "      <td>54.900</td>\n",
       "      <td>0.660</td>\n",
       "      <td>0.105</td>\n",
       "      <td>0.858</td>\n",
       "      <td>1.221</td>\n",
       "    </tr>\n",
       "    <tr>\n",
       "      <th>Lebanon</th>\n",
       "      <td>2.392</td>\n",
       "      <td>9.478</td>\n",
       "      <td>0.530</td>\n",
       "      <td>66.149</td>\n",
       "      <td>0.474</td>\n",
       "      <td>-0.141</td>\n",
       "      <td>0.891</td>\n",
       "      <td>-0.110</td>\n",
       "    </tr>\n",
       "    <tr>\n",
       "      <th>Afghanistan</th>\n",
       "      <td>1.859</td>\n",
       "      <td>7.324</td>\n",
       "      <td>0.341</td>\n",
       "      <td>54.712</td>\n",
       "      <td>0.382</td>\n",
       "      <td>-0.081</td>\n",
       "      <td>0.847</td>\n",
       "      <td>0.976</td>\n",
       "    </tr>\n",
       "  </tbody>\n",
       "</table>\n",
       "<p>136 rows × 8 columns</p>\n",
       "</div>"
      ],
      "text/plain": [
       "                  Ladder Score  Logged Gdp Per Capita  Social Support  \\\n",
       "Country Name                                                            \n",
       "Finland                  7.804                 10.792           0.969   \n",
       "Denmark                  7.586                 10.962           0.954   \n",
       "Iceland                  7.530                 10.896           0.983   \n",
       "Israel                   7.473                 10.639           0.943   \n",
       "Netherlands              7.403                 10.942           0.930   \n",
       "...                        ...                    ...             ...   \n",
       "Congo (Kinshasa)         3.207                  7.007           0.652   \n",
       "Zimbabwe                 3.204                  7.641           0.690   \n",
       "Sierra Leone             3.138                  7.394           0.555   \n",
       "Lebanon                  2.392                  9.478           0.530   \n",
       "Afghanistan              1.859                  7.324           0.341   \n",
       "\n",
       "                  Healthy Life Expectancy  Freedom To Make Life Choices  \\\n",
       "Country Name                                                              \n",
       "Finland                            71.150                         0.961   \n",
       "Denmark                            71.250                         0.934   \n",
       "Iceland                            72.050                         0.936   \n",
       "Israel                             72.697                         0.809   \n",
       "Netherlands                        71.550                         0.887   \n",
       "...                                   ...                           ...   \n",
       "Congo (Kinshasa)                   55.375                         0.664   \n",
       "Zimbabwe                           54.050                         0.654   \n",
       "Sierra Leone                       54.900                         0.660   \n",
       "Lebanon                            66.149                         0.474   \n",
       "Afghanistan                        54.712                         0.382   \n",
       "\n",
       "                  Generosity  Perceptions Of Corruption  Dystopia + Residual  \n",
       "Country Name                                                                  \n",
       "Finland               -0.019                      0.182                2.363  \n",
       "Denmark                0.134                      0.196                2.084  \n",
       "Iceland                0.211                      0.668                2.250  \n",
       "Israel                -0.023                      0.708                2.691  \n",
       "Netherlands            0.213                      0.379                2.110  \n",
       "...                      ...                        ...                  ...  \n",
       "Congo (Kinshasa)       0.086                      0.834                1.162  \n",
       "Zimbabwe              -0.046                      0.766                0.905  \n",
       "Sierra Leone           0.105                      0.858                1.221  \n",
       "Lebanon               -0.141                      0.891               -0.110  \n",
       "Afghanistan           -0.081                      0.847                0.976  \n",
       "\n",
       "[136 rows x 8 columns]"
      ]
     },
     "execution_count": 11,
     "metadata": {},
     "output_type": "execute_result"
    }
   ],
   "source": [
    "df_whr"
   ]
  },
  {
   "cell_type": "markdown",
   "id": "9ac3d798",
   "metadata": {},
   "source": [
    "## Descriptive Statistics  \n",
    "\n",
    "We generate summary statistics for all numerical columns in the dataset.  \n",
    "\n",
    "**Key Insights:**  \n",
    "- The **average Ladder Score (happiness index)** is around **5.54**, with values ranging from **1.86 (least happy)** to **7.80 (most happy)**.  \n",
    "- **GDP per capita (log)** averages **9.45**, with a wide spread (min: 5.52, max: 11.66). This indicates large economic disparities between countries.  \n",
    "- **Social Support** is generally high (mean ~0.80), showing most countries report strong social connections.  \n",
    "- **Healthy Life Expectancy** ranges from ~51.5 to 77.3 years, highlighting differences in healthcare quality and longevity.  \n",
    "- **Freedom to make life choices** has a median of ~0.80, but some countries score much lower (~0.38).  \n",
    "- **Generosity** shows large variation, even negative values (indicating below-average contributions).  \n",
    "- **Perceptions of corruption** tend to be high (mean ~0.72), meaning most countries report corruption as a significant issue.  \n",
    "- **Dystopia + Residual** averages around **1.78**, serving as the baseline component in the happiness model.  \n",
    "\n",
    "These statistics provide a first overview of global well-being and the socio-economic factors behind it.  "
   ]
  },
  {
   "cell_type": "code",
   "execution_count": 12,
   "id": "cc3da5f4",
   "metadata": {},
   "outputs": [
    {
     "data": {
      "text/html": [
       "<div>\n",
       "<style scoped>\n",
       "    .dataframe tbody tr th:only-of-type {\n",
       "        vertical-align: middle;\n",
       "    }\n",
       "\n",
       "    .dataframe tbody tr th {\n",
       "        vertical-align: top;\n",
       "    }\n",
       "\n",
       "    .dataframe thead th {\n",
       "        text-align: right;\n",
       "    }\n",
       "</style>\n",
       "<table border=\"1\" class=\"dataframe\">\n",
       "  <thead>\n",
       "    <tr style=\"text-align: right;\">\n",
       "      <th></th>\n",
       "      <th>Ladder Score</th>\n",
       "      <th>Logged Gdp Per Capita</th>\n",
       "      <th>Social Support</th>\n",
       "      <th>Healthy Life Expectancy</th>\n",
       "      <th>Freedom To Make Life Choices</th>\n",
       "      <th>Generosity</th>\n",
       "      <th>Perceptions Of Corruption</th>\n",
       "      <th>Dystopia + Residual</th>\n",
       "    </tr>\n",
       "  </thead>\n",
       "  <tbody>\n",
       "    <tr>\n",
       "      <th>count</th>\n",
       "      <td>136.000000</td>\n",
       "      <td>136.000000</td>\n",
       "      <td>136.000000</td>\n",
       "      <td>136.000000</td>\n",
       "      <td>136.000000</td>\n",
       "      <td>136.000000</td>\n",
       "      <td>136.000000</td>\n",
       "      <td>136.000000</td>\n",
       "    </tr>\n",
       "    <tr>\n",
       "      <th>mean</th>\n",
       "      <td>5.544441</td>\n",
       "      <td>9.455191</td>\n",
       "      <td>0.798632</td>\n",
       "      <td>64.967632</td>\n",
       "      <td>0.788081</td>\n",
       "      <td>0.023566</td>\n",
       "      <td>0.724588</td>\n",
       "      <td>1.777838</td>\n",
       "    </tr>\n",
       "    <tr>\n",
       "      <th>std</th>\n",
       "      <td>1.142841</td>\n",
       "      <td>1.210107</td>\n",
       "      <td>0.129597</td>\n",
       "      <td>5.750390</td>\n",
       "      <td>0.112498</td>\n",
       "      <td>0.141604</td>\n",
       "      <td>0.177353</td>\n",
       "      <td>0.504390</td>\n",
       "    </tr>\n",
       "    <tr>\n",
       "      <th>min</th>\n",
       "      <td>1.859000</td>\n",
       "      <td>5.527000</td>\n",
       "      <td>0.341000</td>\n",
       "      <td>51.530000</td>\n",
       "      <td>0.382000</td>\n",
       "      <td>-0.254000</td>\n",
       "      <td>0.146000</td>\n",
       "      <td>-0.110000</td>\n",
       "    </tr>\n",
       "    <tr>\n",
       "      <th>25%</th>\n",
       "      <td>4.702500</td>\n",
       "      <td>8.587250</td>\n",
       "      <td>0.721000</td>\n",
       "      <td>60.648500</td>\n",
       "      <td>0.726250</td>\n",
       "      <td>-0.071000</td>\n",
       "      <td>0.666000</td>\n",
       "      <td>1.555250</td>\n",
       "    </tr>\n",
       "    <tr>\n",
       "      <th>50%</th>\n",
       "      <td>5.693500</td>\n",
       "      <td>9.574500</td>\n",
       "      <td>0.826500</td>\n",
       "      <td>65.837500</td>\n",
       "      <td>0.801000</td>\n",
       "      <td>0.002000</td>\n",
       "      <td>0.772500</td>\n",
       "      <td>1.848500</td>\n",
       "    </tr>\n",
       "    <tr>\n",
       "      <th>75%</th>\n",
       "      <td>6.342500</td>\n",
       "      <td>10.540250</td>\n",
       "      <td>0.896000</td>\n",
       "      <td>69.412500</td>\n",
       "      <td>0.874750</td>\n",
       "      <td>0.117500</td>\n",
       "      <td>0.846000</td>\n",
       "      <td>2.078750</td>\n",
       "    </tr>\n",
       "    <tr>\n",
       "      <th>max</th>\n",
       "      <td>7.804000</td>\n",
       "      <td>11.660000</td>\n",
       "      <td>0.983000</td>\n",
       "      <td>77.280000</td>\n",
       "      <td>0.961000</td>\n",
       "      <td>0.531000</td>\n",
       "      <td>0.929000</td>\n",
       "      <td>2.955000</td>\n",
       "    </tr>\n",
       "  </tbody>\n",
       "</table>\n",
       "</div>"
      ],
      "text/plain": [
       "       Ladder Score  Logged Gdp Per Capita  Social Support  \\\n",
       "count    136.000000             136.000000      136.000000   \n",
       "mean       5.544441               9.455191        0.798632   \n",
       "std        1.142841               1.210107        0.129597   \n",
       "min        1.859000               5.527000        0.341000   \n",
       "25%        4.702500               8.587250        0.721000   \n",
       "50%        5.693500               9.574500        0.826500   \n",
       "75%        6.342500              10.540250        0.896000   \n",
       "max        7.804000              11.660000        0.983000   \n",
       "\n",
       "       Healthy Life Expectancy  Freedom To Make Life Choices  Generosity  \\\n",
       "count               136.000000                    136.000000  136.000000   \n",
       "mean                 64.967632                      0.788081    0.023566   \n",
       "std                   5.750390                      0.112498    0.141604   \n",
       "min                  51.530000                      0.382000   -0.254000   \n",
       "25%                  60.648500                      0.726250   -0.071000   \n",
       "50%                  65.837500                      0.801000    0.002000   \n",
       "75%                  69.412500                      0.874750    0.117500   \n",
       "max                  77.280000                      0.961000    0.531000   \n",
       "\n",
       "       Perceptions Of Corruption  Dystopia + Residual  \n",
       "count                 136.000000           136.000000  \n",
       "mean                    0.724588             1.777838  \n",
       "std                     0.177353             0.504390  \n",
       "min                     0.146000            -0.110000  \n",
       "25%                     0.666000             1.555250  \n",
       "50%                     0.772500             1.848500  \n",
       "75%                     0.846000             2.078750  \n",
       "max                     0.929000             2.955000  "
      ]
     },
     "execution_count": 12,
     "metadata": {},
     "output_type": "execute_result"
    }
   ],
   "source": [
    "df_whr.describe()"
   ]
  },
  {
   "cell_type": "markdown",
   "id": "e8d1570b",
   "metadata": {},
   "source": [
    "## Top 10 Happiest Countries in 2023  \n",
    "\n",
    "We extract the 10 countries with the highest **Ladder Score** (Happiness Index).  \n",
    "\n",
    "**Key Insights:**  \n",
    "- The top positions are dominated by **Nordic countries** (Finland, Denmark, Iceland, Sweden, Norway), confirming their consistent global leadership in happiness rankings.  \n",
    "- **Finland** ranks first with a score of **7.80**, maintaining its reputation as the happiest country in the world.  \n",
    "- Economic prosperity plays a significant role: countries like **Luxembourg** and **Switzerland** also score highly, supported by high **GDP per capita**.  \n",
    "- High scores in **social support, healthy life expectancy, and freedom of life choices** are common traits across these top countries.  \n",
    "- Interestingly, **Generosity** is not necessarily very high among the top 10 (some countries even score negative), suggesting happiness is more strongly driven by structural and social factors rather than individual donations.  \n",
    "\n",
    "This top 10 snapshot highlights that **strong social systems, economic stability, and freedom** are key drivers of happiness worldwide."
   ]
  },
  {
   "cell_type": "code",
   "execution_count": 13,
   "id": "0405da31",
   "metadata": {},
   "outputs": [
    {
     "data": {
      "text/html": [
       "<div>\n",
       "<style scoped>\n",
       "    .dataframe tbody tr th:only-of-type {\n",
       "        vertical-align: middle;\n",
       "    }\n",
       "\n",
       "    .dataframe tbody tr th {\n",
       "        vertical-align: top;\n",
       "    }\n",
       "\n",
       "    .dataframe thead th {\n",
       "        text-align: right;\n",
       "    }\n",
       "</style>\n",
       "<table border=\"1\" class=\"dataframe\">\n",
       "  <thead>\n",
       "    <tr style=\"text-align: right;\">\n",
       "      <th></th>\n",
       "      <th>Ladder Score</th>\n",
       "      <th>Logged Gdp Per Capita</th>\n",
       "      <th>Social Support</th>\n",
       "      <th>Healthy Life Expectancy</th>\n",
       "      <th>Freedom To Make Life Choices</th>\n",
       "      <th>Generosity</th>\n",
       "      <th>Perceptions Of Corruption</th>\n",
       "      <th>Dystopia + Residual</th>\n",
       "    </tr>\n",
       "    <tr>\n",
       "      <th>Country Name</th>\n",
       "      <th></th>\n",
       "      <th></th>\n",
       "      <th></th>\n",
       "      <th></th>\n",
       "      <th></th>\n",
       "      <th></th>\n",
       "      <th></th>\n",
       "      <th></th>\n",
       "    </tr>\n",
       "  </thead>\n",
       "  <tbody>\n",
       "    <tr>\n",
       "      <th>Finland</th>\n",
       "      <td>7.804</td>\n",
       "      <td>10.792</td>\n",
       "      <td>0.969</td>\n",
       "      <td>71.150</td>\n",
       "      <td>0.961</td>\n",
       "      <td>-0.019</td>\n",
       "      <td>0.182</td>\n",
       "      <td>2.363</td>\n",
       "    </tr>\n",
       "    <tr>\n",
       "      <th>Denmark</th>\n",
       "      <td>7.586</td>\n",
       "      <td>10.962</td>\n",
       "      <td>0.954</td>\n",
       "      <td>71.250</td>\n",
       "      <td>0.934</td>\n",
       "      <td>0.134</td>\n",
       "      <td>0.196</td>\n",
       "      <td>2.084</td>\n",
       "    </tr>\n",
       "    <tr>\n",
       "      <th>Iceland</th>\n",
       "      <td>7.530</td>\n",
       "      <td>10.896</td>\n",
       "      <td>0.983</td>\n",
       "      <td>72.050</td>\n",
       "      <td>0.936</td>\n",
       "      <td>0.211</td>\n",
       "      <td>0.668</td>\n",
       "      <td>2.250</td>\n",
       "    </tr>\n",
       "    <tr>\n",
       "      <th>Israel</th>\n",
       "      <td>7.473</td>\n",
       "      <td>10.639</td>\n",
       "      <td>0.943</td>\n",
       "      <td>72.697</td>\n",
       "      <td>0.809</td>\n",
       "      <td>-0.023</td>\n",
       "      <td>0.708</td>\n",
       "      <td>2.691</td>\n",
       "    </tr>\n",
       "    <tr>\n",
       "      <th>Netherlands</th>\n",
       "      <td>7.403</td>\n",
       "      <td>10.942</td>\n",
       "      <td>0.930</td>\n",
       "      <td>71.550</td>\n",
       "      <td>0.887</td>\n",
       "      <td>0.213</td>\n",
       "      <td>0.379</td>\n",
       "      <td>2.110</td>\n",
       "    </tr>\n",
       "    <tr>\n",
       "      <th>Sweden</th>\n",
       "      <td>7.395</td>\n",
       "      <td>10.883</td>\n",
       "      <td>0.939</td>\n",
       "      <td>72.150</td>\n",
       "      <td>0.948</td>\n",
       "      <td>0.165</td>\n",
       "      <td>0.202</td>\n",
       "      <td>1.903</td>\n",
       "    </tr>\n",
       "    <tr>\n",
       "      <th>Norway</th>\n",
       "      <td>7.315</td>\n",
       "      <td>11.088</td>\n",
       "      <td>0.943</td>\n",
       "      <td>71.500</td>\n",
       "      <td>0.947</td>\n",
       "      <td>0.141</td>\n",
       "      <td>0.283</td>\n",
       "      <td>1.829</td>\n",
       "    </tr>\n",
       "    <tr>\n",
       "      <th>Switzerland</th>\n",
       "      <td>7.240</td>\n",
       "      <td>11.164</td>\n",
       "      <td>0.920</td>\n",
       "      <td>72.900</td>\n",
       "      <td>0.891</td>\n",
       "      <td>0.027</td>\n",
       "      <td>0.266</td>\n",
       "      <td>1.870</td>\n",
       "    </tr>\n",
       "    <tr>\n",
       "      <th>Luxembourg</th>\n",
       "      <td>7.228</td>\n",
       "      <td>11.660</td>\n",
       "      <td>0.879</td>\n",
       "      <td>71.675</td>\n",
       "      <td>0.915</td>\n",
       "      <td>0.024</td>\n",
       "      <td>0.345</td>\n",
       "      <td>1.845</td>\n",
       "    </tr>\n",
       "    <tr>\n",
       "      <th>New Zealand</th>\n",
       "      <td>7.123</td>\n",
       "      <td>10.662</td>\n",
       "      <td>0.952</td>\n",
       "      <td>70.350</td>\n",
       "      <td>0.887</td>\n",
       "      <td>0.175</td>\n",
       "      <td>0.271</td>\n",
       "      <td>1.852</td>\n",
       "    </tr>\n",
       "  </tbody>\n",
       "</table>\n",
       "</div>"
      ],
      "text/plain": [
       "              Ladder Score  Logged Gdp Per Capita  Social Support  \\\n",
       "Country Name                                                        \n",
       "Finland              7.804                 10.792           0.969   \n",
       "Denmark              7.586                 10.962           0.954   \n",
       "Iceland              7.530                 10.896           0.983   \n",
       "Israel               7.473                 10.639           0.943   \n",
       "Netherlands          7.403                 10.942           0.930   \n",
       "Sweden               7.395                 10.883           0.939   \n",
       "Norway               7.315                 11.088           0.943   \n",
       "Switzerland          7.240                 11.164           0.920   \n",
       "Luxembourg           7.228                 11.660           0.879   \n",
       "New Zealand          7.123                 10.662           0.952   \n",
       "\n",
       "              Healthy Life Expectancy  Freedom To Make Life Choices  \\\n",
       "Country Name                                                          \n",
       "Finland                        71.150                         0.961   \n",
       "Denmark                        71.250                         0.934   \n",
       "Iceland                        72.050                         0.936   \n",
       "Israel                         72.697                         0.809   \n",
       "Netherlands                    71.550                         0.887   \n",
       "Sweden                         72.150                         0.948   \n",
       "Norway                         71.500                         0.947   \n",
       "Switzerland                    72.900                         0.891   \n",
       "Luxembourg                     71.675                         0.915   \n",
       "New Zealand                    70.350                         0.887   \n",
       "\n",
       "              Generosity  Perceptions Of Corruption  Dystopia + Residual  \n",
       "Country Name                                                              \n",
       "Finland           -0.019                      0.182                2.363  \n",
       "Denmark            0.134                      0.196                2.084  \n",
       "Iceland            0.211                      0.668                2.250  \n",
       "Israel            -0.023                      0.708                2.691  \n",
       "Netherlands        0.213                      0.379                2.110  \n",
       "Sweden             0.165                      0.202                1.903  \n",
       "Norway             0.141                      0.283                1.829  \n",
       "Switzerland        0.027                      0.266                1.870  \n",
       "Luxembourg         0.024                      0.345                1.845  \n",
       "New Zealand        0.175                      0.271                1.852  "
      ]
     },
     "execution_count": 13,
     "metadata": {},
     "output_type": "execute_result"
    }
   ],
   "source": [
    "df_top10 = df_whr.sort_values(by=\"Ladder Score\", ascending=False).head(10)\n",
    "df_top10"
   ]
  },
  {
   "cell_type": "markdown",
   "id": "8c72286b",
   "metadata": {},
   "source": [
    "## Bottom 10 Happiest Countries in 2023  \n",
    "\n",
    "We extract the 10 countries with the lowest **Ladder Score** (Happiness Index).  \n",
    "\n",
    "**Key Insights:**  \n",
    "- **Afghanistan** ranks last with a score of **1.85**, reflecting severe political instability, conflict, and lack of basic freedoms.  \n",
    "- **Lebanon** appears in the bottom 10 despite having relatively high GDP per capita highlighting that **economic wealth alone does not guarantee happiness**.  \n",
    "- Most bottom countries are located in **Sub-Saharan Africa** (Sierra Leone, Zimbabwe, Congo, Malawi, Comoros, Tanzania, Zambia), where challenges include poverty, health issues, and limited social infrastructure.  \n",
    "- Scores in **Healthy Life Expectancy** are much lower compared to the global average, often in the mid-50s, indicating weaker healthcare systems.  \n",
    "- **Freedom to make life choices** and **social support** are also considerably lower, contributing to dissatisfaction.  \n",
    "- Interestingly, some countries (like Tanzania and Malawi) show relatively high scores in **freedom** or **social support**, but these are not enough to offset weaknesses in economy and health.  \n",
    "\n",
    "The bottom 10 highlights how **conflict, governance issues, and underdeveloped infrastructure** severely impact happiness levels.  "
   ]
  },
  {
   "cell_type": "code",
   "execution_count": 14,
   "id": "dbbc0ee5",
   "metadata": {},
   "outputs": [
    {
     "data": {
      "text/html": [
       "<div>\n",
       "<style scoped>\n",
       "    .dataframe tbody tr th:only-of-type {\n",
       "        vertical-align: middle;\n",
       "    }\n",
       "\n",
       "    .dataframe tbody tr th {\n",
       "        vertical-align: top;\n",
       "    }\n",
       "\n",
       "    .dataframe thead th {\n",
       "        text-align: right;\n",
       "    }\n",
       "</style>\n",
       "<table border=\"1\" class=\"dataframe\">\n",
       "  <thead>\n",
       "    <tr style=\"text-align: right;\">\n",
       "      <th></th>\n",
       "      <th>Ladder Score</th>\n",
       "      <th>Logged Gdp Per Capita</th>\n",
       "      <th>Social Support</th>\n",
       "      <th>Healthy Life Expectancy</th>\n",
       "      <th>Freedom To Make Life Choices</th>\n",
       "      <th>Generosity</th>\n",
       "      <th>Perceptions Of Corruption</th>\n",
       "      <th>Dystopia + Residual</th>\n",
       "    </tr>\n",
       "    <tr>\n",
       "      <th>Country Name</th>\n",
       "      <th></th>\n",
       "      <th></th>\n",
       "      <th></th>\n",
       "      <th></th>\n",
       "      <th></th>\n",
       "      <th></th>\n",
       "      <th></th>\n",
       "      <th></th>\n",
       "    </tr>\n",
       "  </thead>\n",
       "  <tbody>\n",
       "    <tr>\n",
       "      <th>Afghanistan</th>\n",
       "      <td>1.859</td>\n",
       "      <td>7.324</td>\n",
       "      <td>0.341</td>\n",
       "      <td>54.712</td>\n",
       "      <td>0.382</td>\n",
       "      <td>-0.081</td>\n",
       "      <td>0.847</td>\n",
       "      <td>0.976</td>\n",
       "    </tr>\n",
       "    <tr>\n",
       "      <th>Lebanon</th>\n",
       "      <td>2.392</td>\n",
       "      <td>9.478</td>\n",
       "      <td>0.530</td>\n",
       "      <td>66.149</td>\n",
       "      <td>0.474</td>\n",
       "      <td>-0.141</td>\n",
       "      <td>0.891</td>\n",
       "      <td>-0.110</td>\n",
       "    </tr>\n",
       "    <tr>\n",
       "      <th>Sierra Leone</th>\n",
       "      <td>3.138</td>\n",
       "      <td>7.394</td>\n",
       "      <td>0.555</td>\n",
       "      <td>54.900</td>\n",
       "      <td>0.660</td>\n",
       "      <td>0.105</td>\n",
       "      <td>0.858</td>\n",
       "      <td>1.221</td>\n",
       "    </tr>\n",
       "    <tr>\n",
       "      <th>Zimbabwe</th>\n",
       "      <td>3.204</td>\n",
       "      <td>7.641</td>\n",
       "      <td>0.690</td>\n",
       "      <td>54.050</td>\n",
       "      <td>0.654</td>\n",
       "      <td>-0.046</td>\n",
       "      <td>0.766</td>\n",
       "      <td>0.905</td>\n",
       "    </tr>\n",
       "    <tr>\n",
       "      <th>Congo (Kinshasa)</th>\n",
       "      <td>3.207</td>\n",
       "      <td>7.007</td>\n",
       "      <td>0.652</td>\n",
       "      <td>55.375</td>\n",
       "      <td>0.664</td>\n",
       "      <td>0.086</td>\n",
       "      <td>0.834</td>\n",
       "      <td>1.162</td>\n",
       "    </tr>\n",
       "    <tr>\n",
       "      <th>Botswana</th>\n",
       "      <td>3.435</td>\n",
       "      <td>9.629</td>\n",
       "      <td>0.753</td>\n",
       "      <td>54.725</td>\n",
       "      <td>0.742</td>\n",
       "      <td>-0.215</td>\n",
       "      <td>0.830</td>\n",
       "      <td>0.264</td>\n",
       "    </tr>\n",
       "    <tr>\n",
       "      <th>Malawi</th>\n",
       "      <td>3.495</td>\n",
       "      <td>7.302</td>\n",
       "      <td>0.531</td>\n",
       "      <td>58.475</td>\n",
       "      <td>0.750</td>\n",
       "      <td>0.005</td>\n",
       "      <td>0.749</td>\n",
       "      <td>1.432</td>\n",
       "    </tr>\n",
       "    <tr>\n",
       "      <th>Comoros</th>\n",
       "      <td>3.545</td>\n",
       "      <td>8.075</td>\n",
       "      <td>0.471</td>\n",
       "      <td>59.425</td>\n",
       "      <td>0.470</td>\n",
       "      <td>-0.014</td>\n",
       "      <td>0.727</td>\n",
       "      <td>1.699</td>\n",
       "    </tr>\n",
       "    <tr>\n",
       "      <th>Tanzania</th>\n",
       "      <td>3.694</td>\n",
       "      <td>7.857</td>\n",
       "      <td>0.653</td>\n",
       "      <td>59.401</td>\n",
       "      <td>0.838</td>\n",
       "      <td>0.182</td>\n",
       "      <td>0.554</td>\n",
       "      <td>0.747</td>\n",
       "    </tr>\n",
       "    <tr>\n",
       "      <th>Zambia</th>\n",
       "      <td>3.982</td>\n",
       "      <td>8.074</td>\n",
       "      <td>0.694</td>\n",
       "      <td>55.032</td>\n",
       "      <td>0.791</td>\n",
       "      <td>0.098</td>\n",
       "      <td>0.818</td>\n",
       "      <td>1.270</td>\n",
       "    </tr>\n",
       "  </tbody>\n",
       "</table>\n",
       "</div>"
      ],
      "text/plain": [
       "                  Ladder Score  Logged Gdp Per Capita  Social Support  \\\n",
       "Country Name                                                            \n",
       "Afghanistan              1.859                  7.324           0.341   \n",
       "Lebanon                  2.392                  9.478           0.530   \n",
       "Sierra Leone             3.138                  7.394           0.555   \n",
       "Zimbabwe                 3.204                  7.641           0.690   \n",
       "Congo (Kinshasa)         3.207                  7.007           0.652   \n",
       "Botswana                 3.435                  9.629           0.753   \n",
       "Malawi                   3.495                  7.302           0.531   \n",
       "Comoros                  3.545                  8.075           0.471   \n",
       "Tanzania                 3.694                  7.857           0.653   \n",
       "Zambia                   3.982                  8.074           0.694   \n",
       "\n",
       "                  Healthy Life Expectancy  Freedom To Make Life Choices  \\\n",
       "Country Name                                                              \n",
       "Afghanistan                        54.712                         0.382   \n",
       "Lebanon                            66.149                         0.474   \n",
       "Sierra Leone                       54.900                         0.660   \n",
       "Zimbabwe                           54.050                         0.654   \n",
       "Congo (Kinshasa)                   55.375                         0.664   \n",
       "Botswana                           54.725                         0.742   \n",
       "Malawi                             58.475                         0.750   \n",
       "Comoros                            59.425                         0.470   \n",
       "Tanzania                           59.401                         0.838   \n",
       "Zambia                             55.032                         0.791   \n",
       "\n",
       "                  Generosity  Perceptions Of Corruption  Dystopia + Residual  \n",
       "Country Name                                                                  \n",
       "Afghanistan           -0.081                      0.847                0.976  \n",
       "Lebanon               -0.141                      0.891               -0.110  \n",
       "Sierra Leone           0.105                      0.858                1.221  \n",
       "Zimbabwe              -0.046                      0.766                0.905  \n",
       "Congo (Kinshasa)       0.086                      0.834                1.162  \n",
       "Botswana              -0.215                      0.830                0.264  \n",
       "Malawi                 0.005                      0.749                1.432  \n",
       "Comoros               -0.014                      0.727                1.699  \n",
       "Tanzania               0.182                      0.554                0.747  \n",
       "Zambia                 0.098                      0.818                1.270  "
      ]
     },
     "execution_count": 14,
     "metadata": {},
     "output_type": "execute_result"
    }
   ],
   "source": [
    "df_bottom10 = df_whr.sort_values(by=\"Ladder Score\").head(10)\n",
    "df_bottom10"
   ]
  },
  {
   "cell_type": "markdown",
   "id": "02da1fbf",
   "metadata": {},
   "source": [
    "## Top 5 Countries by GDP per Capita  \n",
    "\n",
    "We now look at the countries with the **highest GDP per capita (log-transformed)**.  \n",
    "\n",
    "**Key Observations:**  \n",
    "- **Luxembourg** leads with the highest GDP per capita (**11.66**) and also a high happiness score (**7.22**).  \n",
    "- **Singapore** and **Ireland** follow, showing strong economies and above-average happiness (6.58 and 6.91).  \n",
    "- **Switzerland** combines high GDP (**11.16**) with a strong happiness score (**7.24**), ranking among the happiest globally.  \n",
    "- **UAE** demonstrates high GDP (**11.14**), yet its happiness score (**6.57**) is noticeably lower compared to European counterparts.  \n",
    "\n",
    "While GDP strongly correlates with happiness, **it’s not the sole determinant**. For instance:  \n",
    "- **Singapore** has very high GDP but happiness (6.58) is lower than expected.  \n",
    "- **Ireland and Switzerland** show a better balance between GDP and happiness.  \n",
    "\n",
    "This suggests that while **economic prosperity is a key driver**, factors like **social support, freedom, and governance** also significantly affect happiness outcomes.  \n"
   ]
  },
  {
   "cell_type": "code",
   "execution_count": 15,
   "id": "0f849526",
   "metadata": {},
   "outputs": [
    {
     "data": {
      "text/html": [
       "<div>\n",
       "<style scoped>\n",
       "    .dataframe tbody tr th:only-of-type {\n",
       "        vertical-align: middle;\n",
       "    }\n",
       "\n",
       "    .dataframe tbody tr th {\n",
       "        vertical-align: top;\n",
       "    }\n",
       "\n",
       "    .dataframe thead th {\n",
       "        text-align: right;\n",
       "    }\n",
       "</style>\n",
       "<table border=\"1\" class=\"dataframe\">\n",
       "  <thead>\n",
       "    <tr style=\"text-align: right;\">\n",
       "      <th></th>\n",
       "      <th>Ladder Score</th>\n",
       "      <th>Logged Gdp Per Capita</th>\n",
       "      <th>Social Support</th>\n",
       "      <th>Healthy Life Expectancy</th>\n",
       "      <th>Freedom To Make Life Choices</th>\n",
       "      <th>Generosity</th>\n",
       "      <th>Perceptions Of Corruption</th>\n",
       "      <th>Dystopia + Residual</th>\n",
       "    </tr>\n",
       "    <tr>\n",
       "      <th>Country Name</th>\n",
       "      <th></th>\n",
       "      <th></th>\n",
       "      <th></th>\n",
       "      <th></th>\n",
       "      <th></th>\n",
       "      <th></th>\n",
       "      <th></th>\n",
       "      <th></th>\n",
       "    </tr>\n",
       "  </thead>\n",
       "  <tbody>\n",
       "    <tr>\n",
       "      <th>Luxembourg</th>\n",
       "      <td>7.228</td>\n",
       "      <td>11.660</td>\n",
       "      <td>0.879</td>\n",
       "      <td>71.675</td>\n",
       "      <td>0.915</td>\n",
       "      <td>0.024</td>\n",
       "      <td>0.345</td>\n",
       "      <td>1.845</td>\n",
       "    </tr>\n",
       "    <tr>\n",
       "      <th>Singapore</th>\n",
       "      <td>6.587</td>\n",
       "      <td>11.571</td>\n",
       "      <td>0.878</td>\n",
       "      <td>73.800</td>\n",
       "      <td>0.878</td>\n",
       "      <td>0.063</td>\n",
       "      <td>0.146</td>\n",
       "      <td>1.067</td>\n",
       "    </tr>\n",
       "    <tr>\n",
       "      <th>Ireland</th>\n",
       "      <td>6.911</td>\n",
       "      <td>11.527</td>\n",
       "      <td>0.905</td>\n",
       "      <td>71.300</td>\n",
       "      <td>0.874</td>\n",
       "      <td>0.092</td>\n",
       "      <td>0.358</td>\n",
       "      <td>1.545</td>\n",
       "    </tr>\n",
       "    <tr>\n",
       "      <th>Switzerland</th>\n",
       "      <td>7.240</td>\n",
       "      <td>11.164</td>\n",
       "      <td>0.920</td>\n",
       "      <td>72.900</td>\n",
       "      <td>0.891</td>\n",
       "      <td>0.027</td>\n",
       "      <td>0.266</td>\n",
       "      <td>1.870</td>\n",
       "    </tr>\n",
       "    <tr>\n",
       "      <th>United Arab Emirates</th>\n",
       "      <td>6.571</td>\n",
       "      <td>11.145</td>\n",
       "      <td>0.826</td>\n",
       "      <td>66.243</td>\n",
       "      <td>0.942</td>\n",
       "      <td>0.096</td>\n",
       "      <td>0.584</td>\n",
       "      <td>1.752</td>\n",
       "    </tr>\n",
       "  </tbody>\n",
       "</table>\n",
       "</div>"
      ],
      "text/plain": [
       "                      Ladder Score  Logged Gdp Per Capita  Social Support  \\\n",
       "Country Name                                                                \n",
       "Luxembourg                   7.228                 11.660           0.879   \n",
       "Singapore                    6.587                 11.571           0.878   \n",
       "Ireland                      6.911                 11.527           0.905   \n",
       "Switzerland                  7.240                 11.164           0.920   \n",
       "United Arab Emirates         6.571                 11.145           0.826   \n",
       "\n",
       "                      Healthy Life Expectancy  Freedom To Make Life Choices  \\\n",
       "Country Name                                                                  \n",
       "Luxembourg                             71.675                         0.915   \n",
       "Singapore                              73.800                         0.878   \n",
       "Ireland                                71.300                         0.874   \n",
       "Switzerland                            72.900                         0.891   \n",
       "United Arab Emirates                   66.243                         0.942   \n",
       "\n",
       "                      Generosity  Perceptions Of Corruption  \\\n",
       "Country Name                                                  \n",
       "Luxembourg                 0.024                      0.345   \n",
       "Singapore                  0.063                      0.146   \n",
       "Ireland                    0.092                      0.358   \n",
       "Switzerland                0.027                      0.266   \n",
       "United Arab Emirates       0.096                      0.584   \n",
       "\n",
       "                      Dystopia + Residual  \n",
       "Country Name                               \n",
       "Luxembourg                          1.845  \n",
       "Singapore                           1.067  \n",
       "Ireland                             1.545  \n",
       "Switzerland                         1.870  \n",
       "United Arab Emirates                1.752  "
      ]
     },
     "execution_count": 15,
     "metadata": {},
     "output_type": "execute_result"
    }
   ],
   "source": [
    "df_topgdp = df_whr.sort_values(by=\"Logged Gdp Per Capita\", ascending=False).head()\n",
    "df_topgdp"
   ]
  },
  {
   "cell_type": "markdown",
   "id": "ee8a07c3",
   "metadata": {},
   "source": [
    "## Top 5 Countries by Social Support  \n",
    "\n",
    "Here we explore the countries with the **highest levels of social support**.  \n",
    "\n",
    "**Key Observations:**  \n",
    "- **Iceland** ranks #1 with the strongest social support (**0.983**) and also enjoys a high happiness score (**7.53**).  \n",
    "- **Finland** and **Denmark** follow closely, both among the happiest countries globally (scores above 7.5).  \n",
    "- Interestingly, **Slovakia (0.953)** and **Czechia (0.953)** appear in the top list despite having lower happiness scores (6.46 and 6.84).  \n",
    "\n",
    "This shows that while **social support strongly boosts happiness**, other factors (like GDP, corruption, and freedom) also play a critical role.  \n",
    "- Nordic countries (Iceland, Finland, Denmark) maintain **both high social support and high happiness**.  \n",
    "- Central European countries (Slovakia, Czechia) demonstrate that strong social bonds help, but cannot fully offset other limiting factors.  \n"
   ]
  },
  {
   "cell_type": "code",
   "execution_count": 16,
   "id": "43d8f339",
   "metadata": {},
   "outputs": [
    {
     "data": {
      "text/html": [
       "<div>\n",
       "<style scoped>\n",
       "    .dataframe tbody tr th:only-of-type {\n",
       "        vertical-align: middle;\n",
       "    }\n",
       "\n",
       "    .dataframe tbody tr th {\n",
       "        vertical-align: top;\n",
       "    }\n",
       "\n",
       "    .dataframe thead th {\n",
       "        text-align: right;\n",
       "    }\n",
       "</style>\n",
       "<table border=\"1\" class=\"dataframe\">\n",
       "  <thead>\n",
       "    <tr style=\"text-align: right;\">\n",
       "      <th></th>\n",
       "      <th>Ladder Score</th>\n",
       "      <th>Logged Gdp Per Capita</th>\n",
       "      <th>Social Support</th>\n",
       "      <th>Healthy Life Expectancy</th>\n",
       "      <th>Freedom To Make Life Choices</th>\n",
       "      <th>Generosity</th>\n",
       "      <th>Perceptions Of Corruption</th>\n",
       "      <th>Dystopia + Residual</th>\n",
       "    </tr>\n",
       "    <tr>\n",
       "      <th>Country Name</th>\n",
       "      <th></th>\n",
       "      <th></th>\n",
       "      <th></th>\n",
       "      <th></th>\n",
       "      <th></th>\n",
       "      <th></th>\n",
       "      <th></th>\n",
       "      <th></th>\n",
       "    </tr>\n",
       "  </thead>\n",
       "  <tbody>\n",
       "    <tr>\n",
       "      <th>Iceland</th>\n",
       "      <td>7.530</td>\n",
       "      <td>10.896</td>\n",
       "      <td>0.983</td>\n",
       "      <td>72.050</td>\n",
       "      <td>0.936</td>\n",
       "      <td>0.211</td>\n",
       "      <td>0.668</td>\n",
       "      <td>2.250</td>\n",
       "    </tr>\n",
       "    <tr>\n",
       "      <th>Finland</th>\n",
       "      <td>7.804</td>\n",
       "      <td>10.792</td>\n",
       "      <td>0.969</td>\n",
       "      <td>71.150</td>\n",
       "      <td>0.961</td>\n",
       "      <td>-0.019</td>\n",
       "      <td>0.182</td>\n",
       "      <td>2.363</td>\n",
       "    </tr>\n",
       "    <tr>\n",
       "      <th>Denmark</th>\n",
       "      <td>7.586</td>\n",
       "      <td>10.962</td>\n",
       "      <td>0.954</td>\n",
       "      <td>71.250</td>\n",
       "      <td>0.934</td>\n",
       "      <td>0.134</td>\n",
       "      <td>0.196</td>\n",
       "      <td>2.084</td>\n",
       "    </tr>\n",
       "    <tr>\n",
       "      <th>Slovakia</th>\n",
       "      <td>6.469</td>\n",
       "      <td>10.353</td>\n",
       "      <td>0.953</td>\n",
       "      <td>68.838</td>\n",
       "      <td>0.753</td>\n",
       "      <td>-0.016</td>\n",
       "      <td>0.898</td>\n",
       "      <td>2.078</td>\n",
       "    </tr>\n",
       "    <tr>\n",
       "      <th>Czechia</th>\n",
       "      <td>6.845</td>\n",
       "      <td>10.611</td>\n",
       "      <td>0.953</td>\n",
       "      <td>69.050</td>\n",
       "      <td>0.903</td>\n",
       "      <td>0.040</td>\n",
       "      <td>0.859</td>\n",
       "      <td>2.099</td>\n",
       "    </tr>\n",
       "  </tbody>\n",
       "</table>\n",
       "</div>"
      ],
      "text/plain": [
       "              Ladder Score  Logged Gdp Per Capita  Social Support  \\\n",
       "Country Name                                                        \n",
       "Iceland              7.530                 10.896           0.983   \n",
       "Finland              7.804                 10.792           0.969   \n",
       "Denmark              7.586                 10.962           0.954   \n",
       "Slovakia             6.469                 10.353           0.953   \n",
       "Czechia              6.845                 10.611           0.953   \n",
       "\n",
       "              Healthy Life Expectancy  Freedom To Make Life Choices  \\\n",
       "Country Name                                                          \n",
       "Iceland                        72.050                         0.936   \n",
       "Finland                        71.150                         0.961   \n",
       "Denmark                        71.250                         0.934   \n",
       "Slovakia                       68.838                         0.753   \n",
       "Czechia                        69.050                         0.903   \n",
       "\n",
       "              Generosity  Perceptions Of Corruption  Dystopia + Residual  \n",
       "Country Name                                                              \n",
       "Iceland            0.211                      0.668                2.250  \n",
       "Finland           -0.019                      0.182                2.363  \n",
       "Denmark            0.134                      0.196                2.084  \n",
       "Slovakia          -0.016                      0.898                2.078  \n",
       "Czechia            0.040                      0.859                2.099  "
      ]
     },
     "execution_count": 16,
     "metadata": {},
     "output_type": "execute_result"
    }
   ],
   "source": [
    "df_topss = df_whr.sort_values(by=\"Social Support\", ascending=False).head()\n",
    "df_topss"
   ]
  },
  {
   "cell_type": "markdown",
   "id": "09323654",
   "metadata": {},
   "source": [
    "## Top 5 Countries by Healthy Life Expectancy  \n",
    "\n",
    "These countries enjoy the **longest healthy lifespans**, but their happiness scores vary.  \n",
    "\n",
    "**Key Observations:**  \n",
    "- **Hong Kong** leads with the highest life expectancy (**77.28 years**) but has a relatively modest happiness score (**5.30**).  \n",
    "- **Japan (74.35 years)** and **South Korea (73.65 years)** also rank high in life expectancy, yet their happiness scores are in the mid-range (5.9–6.1).  \n",
    "- **Singapore (73.80 years)** combines both high life expectancy and strong GDP, yielding a higher happiness score (**6.59**).  \n",
    "- **Switzerland (72.90 years)** stands out as the only country here with both **very high life expectancy and a top-tier happiness score (7.24)**.  \n",
    "\n",
    "Conclusion:  \n",
    "- **Long life expectancy alone does not guarantee high happiness.**  \n",
    "- Other factors (social support, freedom, corruption perceptions) are equally important in shaping well-being.  \n",
    "- Switzerland shows the most balanced model: wealth, health, and happiness together.  "
   ]
  },
  {
   "cell_type": "code",
   "execution_count": 17,
   "id": "8866167f",
   "metadata": {},
   "outputs": [
    {
     "data": {
      "text/html": [
       "<div>\n",
       "<style scoped>\n",
       "    .dataframe tbody tr th:only-of-type {\n",
       "        vertical-align: middle;\n",
       "    }\n",
       "\n",
       "    .dataframe tbody tr th {\n",
       "        vertical-align: top;\n",
       "    }\n",
       "\n",
       "    .dataframe thead th {\n",
       "        text-align: right;\n",
       "    }\n",
       "</style>\n",
       "<table border=\"1\" class=\"dataframe\">\n",
       "  <thead>\n",
       "    <tr style=\"text-align: right;\">\n",
       "      <th></th>\n",
       "      <th>Ladder Score</th>\n",
       "      <th>Logged Gdp Per Capita</th>\n",
       "      <th>Social Support</th>\n",
       "      <th>Healthy Life Expectancy</th>\n",
       "      <th>Freedom To Make Life Choices</th>\n",
       "      <th>Generosity</th>\n",
       "      <th>Perceptions Of Corruption</th>\n",
       "      <th>Dystopia + Residual</th>\n",
       "    </tr>\n",
       "    <tr>\n",
       "      <th>Country Name</th>\n",
       "      <th></th>\n",
       "      <th></th>\n",
       "      <th></th>\n",
       "      <th></th>\n",
       "      <th></th>\n",
       "      <th></th>\n",
       "      <th></th>\n",
       "      <th></th>\n",
       "    </tr>\n",
       "  </thead>\n",
       "  <tbody>\n",
       "    <tr>\n",
       "      <th>Hong Kong S.A.R. of China</th>\n",
       "      <td>5.308</td>\n",
       "      <td>10.966</td>\n",
       "      <td>0.817</td>\n",
       "      <td>77.280</td>\n",
       "      <td>0.687</td>\n",
       "      <td>-0.026</td>\n",
       "      <td>0.385</td>\n",
       "      <td>0.535</td>\n",
       "    </tr>\n",
       "    <tr>\n",
       "      <th>Japan</th>\n",
       "      <td>6.129</td>\n",
       "      <td>10.616</td>\n",
       "      <td>0.894</td>\n",
       "      <td>74.349</td>\n",
       "      <td>0.799</td>\n",
       "      <td>-0.237</td>\n",
       "      <td>0.640</td>\n",
       "      <td>1.513</td>\n",
       "    </tr>\n",
       "    <tr>\n",
       "      <th>Singapore</th>\n",
       "      <td>6.587</td>\n",
       "      <td>11.571</td>\n",
       "      <td>0.878</td>\n",
       "      <td>73.800</td>\n",
       "      <td>0.878</td>\n",
       "      <td>0.063</td>\n",
       "      <td>0.146</td>\n",
       "      <td>1.067</td>\n",
       "    </tr>\n",
       "    <tr>\n",
       "      <th>South Korea</th>\n",
       "      <td>5.951</td>\n",
       "      <td>10.693</td>\n",
       "      <td>0.812</td>\n",
       "      <td>73.650</td>\n",
       "      <td>0.717</td>\n",
       "      <td>-0.046</td>\n",
       "      <td>0.701</td>\n",
       "      <td>1.587</td>\n",
       "    </tr>\n",
       "    <tr>\n",
       "      <th>Switzerland</th>\n",
       "      <td>7.240</td>\n",
       "      <td>11.164</td>\n",
       "      <td>0.920</td>\n",
       "      <td>72.900</td>\n",
       "      <td>0.891</td>\n",
       "      <td>0.027</td>\n",
       "      <td>0.266</td>\n",
       "      <td>1.870</td>\n",
       "    </tr>\n",
       "  </tbody>\n",
       "</table>\n",
       "</div>"
      ],
      "text/plain": [
       "                           Ladder Score  Logged Gdp Per Capita  \\\n",
       "Country Name                                                     \n",
       "Hong Kong S.A.R. of China         5.308                 10.966   \n",
       "Japan                             6.129                 10.616   \n",
       "Singapore                         6.587                 11.571   \n",
       "South Korea                       5.951                 10.693   \n",
       "Switzerland                       7.240                 11.164   \n",
       "\n",
       "                           Social Support  Healthy Life Expectancy  \\\n",
       "Country Name                                                         \n",
       "Hong Kong S.A.R. of China           0.817                   77.280   \n",
       "Japan                               0.894                   74.349   \n",
       "Singapore                           0.878                   73.800   \n",
       "South Korea                         0.812                   73.650   \n",
       "Switzerland                         0.920                   72.900   \n",
       "\n",
       "                           Freedom To Make Life Choices  Generosity  \\\n",
       "Country Name                                                          \n",
       "Hong Kong S.A.R. of China                         0.687      -0.026   \n",
       "Japan                                             0.799      -0.237   \n",
       "Singapore                                         0.878       0.063   \n",
       "South Korea                                       0.717      -0.046   \n",
       "Switzerland                                       0.891       0.027   \n",
       "\n",
       "                           Perceptions Of Corruption  Dystopia + Residual  \n",
       "Country Name                                                               \n",
       "Hong Kong S.A.R. of China                      0.385                0.535  \n",
       "Japan                                          0.640                1.513  \n",
       "Singapore                                      0.146                1.067  \n",
       "South Korea                                    0.701                1.587  \n",
       "Switzerland                                    0.266                1.870  "
      ]
     },
     "execution_count": 17,
     "metadata": {},
     "output_type": "execute_result"
    }
   ],
   "source": [
    "df_tophle = df_whr.sort_values(by=\"Healthy Life Expectancy\", ascending=False).head()\n",
    "df_tophle"
   ]
  },
  {
   "cell_type": "markdown",
   "id": "4d95f132",
   "metadata": {},
   "source": [
    "## Top 5 Countries by Freedom To Make Life Choices  \n",
    "\n",
    "These are the nations where people feel **most free to make life decisions** (e.g., career, lifestyle, family).  \n",
    "\n",
    "**Key Observations:**  \n",
    "- **Finland (0.961)** tops the list and also has the **highest happiness score (7.80)**, showing a strong link between freedom and life satisfaction.  \n",
    "- **Cambodia (0.958)** scores almost as high in freedom, but its happiness score is much lower (**4.39**), suggesting that freedom alone cannot overcome challenges like lower GDP and weaker social support.  \n",
    "- **Sweden (0.948)** and **Norway (0.947)** combine high freedom with **very high happiness scores (7.3–7.4)**.  \n",
    "- **Bahrain (0.944)** sits in the middle, with a solid happiness score (**6.17**), supported by high GDP but limited by weaker corruption perceptions.  \n",
    "\n",
    "Conclusion:  \n",
    "- **Nordic countries (Finland, Sweden, Norway)** show the strongest relationship between freedom and happiness.  \n",
    "- **Cambodia’s case** highlights that freedom contributes to well-being but must be supported by **economic stability, social support, and governance**.  \n",
    "- **Bahrain** demonstrates how high freedom combined with wealth can still result in good (but not top-tier) happiness scores.  "
   ]
  },
  {
   "cell_type": "code",
   "execution_count": 18,
   "id": "4d089284",
   "metadata": {},
   "outputs": [
    {
     "data": {
      "text/html": [
       "<div>\n",
       "<style scoped>\n",
       "    .dataframe tbody tr th:only-of-type {\n",
       "        vertical-align: middle;\n",
       "    }\n",
       "\n",
       "    .dataframe tbody tr th {\n",
       "        vertical-align: top;\n",
       "    }\n",
       "\n",
       "    .dataframe thead th {\n",
       "        text-align: right;\n",
       "    }\n",
       "</style>\n",
       "<table border=\"1\" class=\"dataframe\">\n",
       "  <thead>\n",
       "    <tr style=\"text-align: right;\">\n",
       "      <th></th>\n",
       "      <th>Ladder Score</th>\n",
       "      <th>Logged Gdp Per Capita</th>\n",
       "      <th>Social Support</th>\n",
       "      <th>Healthy Life Expectancy</th>\n",
       "      <th>Freedom To Make Life Choices</th>\n",
       "      <th>Generosity</th>\n",
       "      <th>Perceptions Of Corruption</th>\n",
       "      <th>Dystopia + Residual</th>\n",
       "    </tr>\n",
       "    <tr>\n",
       "      <th>Country Name</th>\n",
       "      <th></th>\n",
       "      <th></th>\n",
       "      <th></th>\n",
       "      <th></th>\n",
       "      <th></th>\n",
       "      <th></th>\n",
       "      <th></th>\n",
       "      <th></th>\n",
       "    </tr>\n",
       "  </thead>\n",
       "  <tbody>\n",
       "    <tr>\n",
       "      <th>Finland</th>\n",
       "      <td>7.804</td>\n",
       "      <td>10.792</td>\n",
       "      <td>0.969</td>\n",
       "      <td>71.150</td>\n",
       "      <td>0.961</td>\n",
       "      <td>-0.019</td>\n",
       "      <td>0.182</td>\n",
       "      <td>2.363</td>\n",
       "    </tr>\n",
       "    <tr>\n",
       "      <th>Cambodia</th>\n",
       "      <td>4.393</td>\n",
       "      <td>8.385</td>\n",
       "      <td>0.747</td>\n",
       "      <td>61.900</td>\n",
       "      <td>0.958</td>\n",
       "      <td>0.073</td>\n",
       "      <td>0.857</td>\n",
       "      <td>1.068</td>\n",
       "    </tr>\n",
       "    <tr>\n",
       "      <th>Sweden</th>\n",
       "      <td>7.395</td>\n",
       "      <td>10.883</td>\n",
       "      <td>0.939</td>\n",
       "      <td>72.150</td>\n",
       "      <td>0.948</td>\n",
       "      <td>0.165</td>\n",
       "      <td>0.202</td>\n",
       "      <td>1.903</td>\n",
       "    </tr>\n",
       "    <tr>\n",
       "      <th>Norway</th>\n",
       "      <td>7.315</td>\n",
       "      <td>11.088</td>\n",
       "      <td>0.943</td>\n",
       "      <td>71.500</td>\n",
       "      <td>0.947</td>\n",
       "      <td>0.141</td>\n",
       "      <td>0.283</td>\n",
       "      <td>1.829</td>\n",
       "    </tr>\n",
       "    <tr>\n",
       "      <th>Bahrain</th>\n",
       "      <td>6.173</td>\n",
       "      <td>10.776</td>\n",
       "      <td>0.844</td>\n",
       "      <td>65.825</td>\n",
       "      <td>0.944</td>\n",
       "      <td>0.117</td>\n",
       "      <td>0.737</td>\n",
       "      <td>1.546</td>\n",
       "    </tr>\n",
       "  </tbody>\n",
       "</table>\n",
       "</div>"
      ],
      "text/plain": [
       "              Ladder Score  Logged Gdp Per Capita  Social Support  \\\n",
       "Country Name                                                        \n",
       "Finland              7.804                 10.792           0.969   \n",
       "Cambodia             4.393                  8.385           0.747   \n",
       "Sweden               7.395                 10.883           0.939   \n",
       "Norway               7.315                 11.088           0.943   \n",
       "Bahrain              6.173                 10.776           0.844   \n",
       "\n",
       "              Healthy Life Expectancy  Freedom To Make Life Choices  \\\n",
       "Country Name                                                          \n",
       "Finland                        71.150                         0.961   \n",
       "Cambodia                       61.900                         0.958   \n",
       "Sweden                         72.150                         0.948   \n",
       "Norway                         71.500                         0.947   \n",
       "Bahrain                        65.825                         0.944   \n",
       "\n",
       "              Generosity  Perceptions Of Corruption  Dystopia + Residual  \n",
       "Country Name                                                              \n",
       "Finland           -0.019                      0.182                2.363  \n",
       "Cambodia           0.073                      0.857                1.068  \n",
       "Sweden             0.165                      0.202                1.903  \n",
       "Norway             0.141                      0.283                1.829  \n",
       "Bahrain            0.117                      0.737                1.546  "
      ]
     },
     "execution_count": 18,
     "metadata": {},
     "output_type": "execute_result"
    }
   ],
   "source": [
    "df_topftmlc = df_whr.sort_values(by=\"Freedom To Make Life Choices\", ascending=False).head()\n",
    "df_topftmlc"
   ]
  },
  {
   "cell_type": "markdown",
   "id": "e53a5913",
   "metadata": {},
   "source": [
    "## Top 5 Countries by Generosity  \n",
    "\n",
    "These are the nations with the **highest generosity scores** (measured by charitable giving and willingness to help others).  \n",
    "\n",
    "**Key Observations:**  \n",
    "- **Indonesia (0.531)** ranks **#1 in generosity**, with a decent happiness score (**5.28**) despite only moderate GDP.  \n",
    "- **Myanmar (0.491)** shows **high generosity** but a lower happiness score (**4.37**), reflecting political/economic struggles.  \n",
    "- **Gambia (0.364)** has relatively high generosity given its **very low GDP**, but happiness remains low (**4.28**).  \n",
    "- **Thailand (0.289)** balances **above-average generosity** with stronger GDP and life expectancy, leading to a **better happiness score (5.84)**.  \n",
    "- **Kenya (0.288)** shows similar generosity to Thailand but with lower GDP and life expectancy, resulting in a lower happiness score (**4.49**).  \n",
    "\n",
    "Conclusion:  \n",
    "- Generosity **alone does not guarantee happiness**. Countries like **Myanmar, Gambia, and Kenya** score high in generosity but still have low happiness due to economic and governance challenges.  \n",
    "- **Indonesia and Thailand** show that when generosity is combined with **higher social support and better living standards**, happiness improves.  \n",
    "- Compared to **Nordic countries**, generosity is not the strongest driver of happiness but reflects cultural values of sharing and resilience in lower-income countries.  "
   ]
  },
  {
   "cell_type": "code",
   "execution_count": 19,
   "id": "e20e2728",
   "metadata": {},
   "outputs": [
    {
     "data": {
      "text/html": [
       "<div>\n",
       "<style scoped>\n",
       "    .dataframe tbody tr th:only-of-type {\n",
       "        vertical-align: middle;\n",
       "    }\n",
       "\n",
       "    .dataframe tbody tr th {\n",
       "        vertical-align: top;\n",
       "    }\n",
       "\n",
       "    .dataframe thead th {\n",
       "        text-align: right;\n",
       "    }\n",
       "</style>\n",
       "<table border=\"1\" class=\"dataframe\">\n",
       "  <thead>\n",
       "    <tr style=\"text-align: right;\">\n",
       "      <th></th>\n",
       "      <th>Ladder Score</th>\n",
       "      <th>Logged Gdp Per Capita</th>\n",
       "      <th>Social Support</th>\n",
       "      <th>Healthy Life Expectancy</th>\n",
       "      <th>Freedom To Make Life Choices</th>\n",
       "      <th>Generosity</th>\n",
       "      <th>Perceptions Of Corruption</th>\n",
       "      <th>Dystopia + Residual</th>\n",
       "    </tr>\n",
       "    <tr>\n",
       "      <th>Country Name</th>\n",
       "      <th></th>\n",
       "      <th></th>\n",
       "      <th></th>\n",
       "      <th></th>\n",
       "      <th></th>\n",
       "      <th></th>\n",
       "      <th></th>\n",
       "      <th></th>\n",
       "    </tr>\n",
       "  </thead>\n",
       "  <tbody>\n",
       "    <tr>\n",
       "      <th>Indonesia</th>\n",
       "      <td>5.277</td>\n",
       "      <td>9.385</td>\n",
       "      <td>0.804</td>\n",
       "      <td>63.048</td>\n",
       "      <td>0.880</td>\n",
       "      <td>0.531</td>\n",
       "      <td>0.876</td>\n",
       "      <td>1.288</td>\n",
       "    </tr>\n",
       "    <tr>\n",
       "      <th>Myanmar</th>\n",
       "      <td>4.372</td>\n",
       "      <td>8.404</td>\n",
       "      <td>0.787</td>\n",
       "      <td>61.388</td>\n",
       "      <td>0.727</td>\n",
       "      <td>0.491</td>\n",
       "      <td>0.658</td>\n",
       "      <td>0.893</td>\n",
       "    </tr>\n",
       "    <tr>\n",
       "      <th>Gambia</th>\n",
       "      <td>4.279</td>\n",
       "      <td>7.648</td>\n",
       "      <td>0.584</td>\n",
       "      <td>57.900</td>\n",
       "      <td>0.596</td>\n",
       "      <td>0.364</td>\n",
       "      <td>0.883</td>\n",
       "      <td>2.081</td>\n",
       "    </tr>\n",
       "    <tr>\n",
       "      <th>Thailand</th>\n",
       "      <td>5.843</td>\n",
       "      <td>9.751</td>\n",
       "      <td>0.874</td>\n",
       "      <td>68.450</td>\n",
       "      <td>0.850</td>\n",
       "      <td>0.289</td>\n",
       "      <td>0.910</td>\n",
       "      <td>1.594</td>\n",
       "    </tr>\n",
       "    <tr>\n",
       "      <th>Kenya</th>\n",
       "      <td>4.487</td>\n",
       "      <td>8.458</td>\n",
       "      <td>0.690</td>\n",
       "      <td>58.499</td>\n",
       "      <td>0.696</td>\n",
       "      <td>0.288</td>\n",
       "      <td>0.852</td>\n",
       "      <td>1.601</td>\n",
       "    </tr>\n",
       "  </tbody>\n",
       "</table>\n",
       "</div>"
      ],
      "text/plain": [
       "              Ladder Score  Logged Gdp Per Capita  Social Support  \\\n",
       "Country Name                                                        \n",
       "Indonesia            5.277                  9.385           0.804   \n",
       "Myanmar              4.372                  8.404           0.787   \n",
       "Gambia               4.279                  7.648           0.584   \n",
       "Thailand             5.843                  9.751           0.874   \n",
       "Kenya                4.487                  8.458           0.690   \n",
       "\n",
       "              Healthy Life Expectancy  Freedom To Make Life Choices  \\\n",
       "Country Name                                                          \n",
       "Indonesia                      63.048                         0.880   \n",
       "Myanmar                        61.388                         0.727   \n",
       "Gambia                         57.900                         0.596   \n",
       "Thailand                       68.450                         0.850   \n",
       "Kenya                          58.499                         0.696   \n",
       "\n",
       "              Generosity  Perceptions Of Corruption  Dystopia + Residual  \n",
       "Country Name                                                              \n",
       "Indonesia          0.531                      0.876                1.288  \n",
       "Myanmar            0.491                      0.658                0.893  \n",
       "Gambia             0.364                      0.883                2.081  \n",
       "Thailand           0.289                      0.910                1.594  \n",
       "Kenya              0.288                      0.852                1.601  "
      ]
     },
     "execution_count": 19,
     "metadata": {},
     "output_type": "execute_result"
    }
   ],
   "source": [
    "df_topg = df_whr.sort_values(by=\"Generosity\", ascending=False).head()\n",
    "df_topg"
   ]
  },
  {
   "cell_type": "markdown",
   "id": "f789f0a7",
   "metadata": {},
   "source": [
    "## Top 5 Countries by Perceptions of Corruption  \n",
    "\n",
    "These are the nations with the **highest corruption perception scores** (meaning citizens feel corruption is widespread).  \n",
    "\n",
    "**Key Observations:**  \n",
    "- **Romania (0.929)** has the **highest corruption perception**, yet its happiness score (**6.59**) is surprisingly good. Likely supported by strong GDP and social support.  \n",
    "- **Croatia (0.925)** is similar, with relatively high GDP & life expectancy, but corruption perception drags trust down.  \n",
    "- **Bosnia & Herzegovina (0.918)** shows high corruption perception alongside **medium happiness (5.63)**.  \n",
    "- **Nigeria (0.911)** reflects both **low life expectancy (54.9 years)** and high corruption, resulting in a lower happiness score (**4.98**).  \n",
    "- **Bulgaria (0.911)** matches Nigeria in corruption perception, but higher GDP and social support push its happiness score a bit higher (**5.47**).  \n",
    "\n",
    "**Conclusion:**  \n",
    "- **High corruption perception does not always destroy happiness**, in places like **Romania and Croatia**, strong GDP, social support, and life expectancy keep happiness relatively high.  \n",
    "- But in lower-income countries (e.g., **Nigeria**), corruption perception adds another barrier to happiness, amplifying struggles from poor life expectancy and weak infrastructure.  \n",
    "- Compared to **Nordic countries (low corruption perception + high happiness)**, this group highlights how **trust in institutions** is a key factor in long-term well-being.  "
   ]
  },
  {
   "cell_type": "code",
   "execution_count": 20,
   "id": "61cef5e4",
   "metadata": {},
   "outputs": [
    {
     "data": {
      "text/html": [
       "<div>\n",
       "<style scoped>\n",
       "    .dataframe tbody tr th:only-of-type {\n",
       "        vertical-align: middle;\n",
       "    }\n",
       "\n",
       "    .dataframe tbody tr th {\n",
       "        vertical-align: top;\n",
       "    }\n",
       "\n",
       "    .dataframe thead th {\n",
       "        text-align: right;\n",
       "    }\n",
       "</style>\n",
       "<table border=\"1\" class=\"dataframe\">\n",
       "  <thead>\n",
       "    <tr style=\"text-align: right;\">\n",
       "      <th></th>\n",
       "      <th>Ladder Score</th>\n",
       "      <th>Logged Gdp Per Capita</th>\n",
       "      <th>Social Support</th>\n",
       "      <th>Healthy Life Expectancy</th>\n",
       "      <th>Freedom To Make Life Choices</th>\n",
       "      <th>Generosity</th>\n",
       "      <th>Perceptions Of Corruption</th>\n",
       "      <th>Dystopia + Residual</th>\n",
       "    </tr>\n",
       "    <tr>\n",
       "      <th>Country Name</th>\n",
       "      <th></th>\n",
       "      <th></th>\n",
       "      <th></th>\n",
       "      <th></th>\n",
       "      <th></th>\n",
       "      <th></th>\n",
       "      <th></th>\n",
       "      <th></th>\n",
       "    </tr>\n",
       "  </thead>\n",
       "  <tbody>\n",
       "    <tr>\n",
       "      <th>Romania</th>\n",
       "      <td>6.589</td>\n",
       "      <td>10.339</td>\n",
       "      <td>0.848</td>\n",
       "      <td>67.051</td>\n",
       "      <td>0.856</td>\n",
       "      <td>-0.172</td>\n",
       "      <td>0.929</td>\n",
       "      <td>2.485</td>\n",
       "    </tr>\n",
       "    <tr>\n",
       "      <th>Croatia</th>\n",
       "      <td>6.125</td>\n",
       "      <td>10.341</td>\n",
       "      <td>0.917</td>\n",
       "      <td>68.950</td>\n",
       "      <td>0.757</td>\n",
       "      <td>-0.093</td>\n",
       "      <td>0.925</td>\n",
       "      <td>1.880</td>\n",
       "    </tr>\n",
       "    <tr>\n",
       "      <th>Bosnia and Herzegovina</th>\n",
       "      <td>5.633</td>\n",
       "      <td>9.616</td>\n",
       "      <td>0.880</td>\n",
       "      <td>67.275</td>\n",
       "      <td>0.746</td>\n",
       "      <td>0.206</td>\n",
       "      <td>0.918</td>\n",
       "      <td>1.635</td>\n",
       "    </tr>\n",
       "    <tr>\n",
       "      <th>Nigeria</th>\n",
       "      <td>4.981</td>\n",
       "      <td>8.496</td>\n",
       "      <td>0.740</td>\n",
       "      <td>54.891</td>\n",
       "      <td>0.718</td>\n",
       "      <td>0.073</td>\n",
       "      <td>0.911</td>\n",
       "      <td>2.181</td>\n",
       "    </tr>\n",
       "    <tr>\n",
       "      <th>Bulgaria</th>\n",
       "      <td>5.466</td>\n",
       "      <td>10.087</td>\n",
       "      <td>0.918</td>\n",
       "      <td>66.500</td>\n",
       "      <td>0.801</td>\n",
       "      <td>-0.057</td>\n",
       "      <td>0.911</td>\n",
       "      <td>1.289</td>\n",
       "    </tr>\n",
       "  </tbody>\n",
       "</table>\n",
       "</div>"
      ],
      "text/plain": [
       "                        Ladder Score  Logged Gdp Per Capita  Social Support  \\\n",
       "Country Name                                                                  \n",
       "Romania                        6.589                 10.339           0.848   \n",
       "Croatia                        6.125                 10.341           0.917   \n",
       "Bosnia and Herzegovina         5.633                  9.616           0.880   \n",
       "Nigeria                        4.981                  8.496           0.740   \n",
       "Bulgaria                       5.466                 10.087           0.918   \n",
       "\n",
       "                        Healthy Life Expectancy  Freedom To Make Life Choices  \\\n",
       "Country Name                                                                    \n",
       "Romania                                  67.051                         0.856   \n",
       "Croatia                                  68.950                         0.757   \n",
       "Bosnia and Herzegovina                   67.275                         0.746   \n",
       "Nigeria                                  54.891                         0.718   \n",
       "Bulgaria                                 66.500                         0.801   \n",
       "\n",
       "                        Generosity  Perceptions Of Corruption  \\\n",
       "Country Name                                                    \n",
       "Romania                     -0.172                      0.929   \n",
       "Croatia                     -0.093                      0.925   \n",
       "Bosnia and Herzegovina       0.206                      0.918   \n",
       "Nigeria                      0.073                      0.911   \n",
       "Bulgaria                    -0.057                      0.911   \n",
       "\n",
       "                        Dystopia + Residual  \n",
       "Country Name                                 \n",
       "Romania                               2.485  \n",
       "Croatia                               1.880  \n",
       "Bosnia and Herzegovina                1.635  \n",
       "Nigeria                               2.181  \n",
       "Bulgaria                              1.289  "
      ]
     },
     "execution_count": 20,
     "metadata": {},
     "output_type": "execute_result"
    }
   ],
   "source": [
    "df_toppoc = df_whr.sort_values(by=\"Perceptions Of Corruption\", ascending=False).head()\n",
    "df_toppoc"
   ]
  },
  {
   "cell_type": "markdown",
   "id": "ba8990bc",
   "metadata": {},
   "source": [
    "# Summary of Key Insights from Top 5 Comparisons  \n",
    "\n",
    "1. GDP (Logged GDP per Capita)  \n",
    "- **Luxembourg, Singapore, Ireland, Switzerland, UAE** lead in wealth.  \n",
    "- High GDP countries usually score **well in happiness**, but not always the highest — money alone doesn’t guarantee well-being.  \n",
    "\n",
    "2. Social Support  \n",
    "- **Iceland, Finland, Denmark, Slovakia, Czechia** dominate.  \n",
    "- Strong social safety nets clearly align with **higher happiness scores**.  \n",
    "- Nordic countries stand out as the happiest due to both wealth and strong support systems.  \n",
    "\n",
    "3. Healthy Life Expectancy  \n",
    "- **Hong Kong, Japan, Singapore, South Korea, Switzerland** top this list.  \n",
    "- High life expectancy doesn’t always equal high happiness (e.g., Hong Kong has very high HLE but a modest happiness score).  \n",
    "- Suggests that **longevity without freedom or trust** may limit well-being.  \n",
    "\n",
    "4. Freedom to Make Life Choices  \n",
    "- **Finland, Cambodia, Sweden, Norway, Bahrain** rank highest.  \n",
    "- Freedom strongly correlates with happiness in Nordic nations.  \n",
    "- Cambodia is an outlier: very high freedom perception, but still relatively low happiness due to weak economy and health.  \n",
    "\n",
    "5. Generosity  \n",
    "- **Indonesia, Myanmar, Gambia, Thailand, Kenya** lead.  \n",
    "- Generosity boosts happiness, even in countries with **lower GDP**.  \n",
    "- Suggests **cultural and community values** play a big role beyond wealth.  \n",
    "\n",
    "6. Perceptions of Corruption  \n",
    "- **Romania, Croatia, Bosnia & Herzegovina, Nigeria, Bulgaria** show the highest corruption perception.  \n",
    "- Some (Romania, Croatia) balance it with stronger economies, keeping happiness moderate.  \n",
    "- Others (Nigeria, Bosnia) struggle more as corruption combines with weaker institutions.  \n",
    "\n",
    "Overall Takeaways  \n",
    "- **Nordic countries** consistently perform well due to a **balanced mix** of GDP, social support, freedom, and low corruption.  \n",
    "- **Asian countries** dominate life expectancy but often lag in freedom or trust.  \n",
    "- **Developing nations** show how **generosity and community bonds** can still provide resilience despite economic struggles.  \n",
    "- Happiness is **multifactorial** — no single variable (GDP, freedom, health) explains it fully; it’s the combination that matters.  \n"
   ]
  },
  {
   "cell_type": "markdown",
   "id": "fc75e4ad",
   "metadata": {},
   "source": [
    "---"
   ]
  },
  {
   "cell_type": "markdown",
   "id": "6a0b80ea",
   "metadata": {},
   "source": [
    "## Data Visualizations  \n",
    "\n",
    "Now that we have explored the dataset and key factors, we move on to **interactive visualizations** using **Plotly Express**.  \n",
    "\n",
    "These visualizations will help us:  \n",
    "- Compare countries on happiness and key drivers.  \n",
    "- Identify trends, outliers, and correlations.  \n",
    "- Tell a visual story that complements our descriptive analysis.  "
   ]
  },
  {
   "cell_type": "code",
   "execution_count": 21,
   "id": "57521680",
   "metadata": {},
   "outputs": [],
   "source": [
    "import plotly.express as px"
   ]
  },
  {
   "cell_type": "markdown",
   "id": "6ebacb58",
   "metadata": {},
   "source": [
    "## Visualizing the Top 10 Happiest Countries  \n",
    "\n",
    "We use **bar and pie charts** to illustrate the **Ladder Score** for the top 10 countries.  \n",
    "\n",
    "**Bar Chart Insights:**  \n",
    "- **Finland** leads clearly with **7.80**, slightly ahead of Denmark (7.59) and Iceland (7.53).  \n",
    "- The Nordic countries dominate the top ranks, confirming their consistent high performance in global happiness.  \n",
    "- The bar heights show small gaps among the top 5, indicating that several countries maintain very similar levels of well-being.  \n",
    "- **Switzerland, Luxembourg, and New Zealand** appear slightly lower but still above 7, highlighting strong global performance.  \n",
    "\n",
    "**Pie Chart Insights:**  \n",
    "- The pie chart emphasizes the **relative contribution of each country** to the top 10 happiness bracket.  \n",
    "- Nordic countries collectively occupy the largest portion, reinforcing that **high social support, freedom, and economic stability** drive happiness.  \n",
    "- Even smaller slices (New Zealand, Luxembourg) still represent meaningful scores, showing that high happiness is not exclusive to Europe.  \n",
    "\n",
    "**Conclusion:**  \n",
    "- Both visualizations clearly highlight the dominance of **Nordic countries** and the narrow range of Ladder Scores among the happiest nations.  \n",
    "- This visual storytelling makes it easy for viewers to quickly identify **leaders in global well-being**.  \n"
   ]
  },
  {
   "cell_type": "code",
   "execution_count": 42,
   "id": "b6f41c6d",
   "metadata": {},
   "outputs": [
    {
     "data": {
      "application/vnd.plotly.v1+json": {
       "config": {
        "plotlyServerURL": "https://plot.ly"
       },
       "data": [
        {
         "hovertemplate": "Country Name=%{x}<br>Ladder Score=%{marker.color}<extra></extra>",
         "legendgroup": "",
         "marker": {
          "color": {
           "bdata": "nu+nxks3H0Dy0k1iEFgeQB+F61G4Hh5AMQisHFrkHUDpJjEIrJwdQBSuR+F6lB1Aw/UoXI9CHUD2KFyPwvUcQLbz/dR46RxAy6FFtvN9HEA=",
           "dtype": "f8"
          },
          "coloraxis": "coloraxis",
          "pattern": {
           "shape": ""
          }
         },
         "name": "",
         "orientation": "v",
         "showlegend": false,
         "textposition": "auto",
         "type": "bar",
         "x": [
          "Finland",
          "Denmark",
          "Iceland",
          "Israel",
          "Netherlands",
          "Sweden",
          "Norway",
          "Switzerland",
          "Luxembourg",
          "New Zealand"
         ],
         "xaxis": "x",
         "y": {
          "bdata": "nu+nxks3H0Dy0k1iEFgeQB+F61G4Hh5AMQisHFrkHUDpJjEIrJwdQBSuR+F6lB1Aw/UoXI9CHUD2KFyPwvUcQLbz/dR46RxAy6FFtvN9HEA=",
          "dtype": "f8"
         },
         "yaxis": "y"
        }
       ],
       "layout": {
        "barmode": "relative",
        "coloraxis": {
         "colorbar": {
          "title": {
           "text": "Ladder Score"
          }
         },
         "colorscale": [
          [
           0,
           "#0d0887"
          ],
          [
           0.1111111111111111,
           "#46039f"
          ],
          [
           0.2222222222222222,
           "#7201a8"
          ],
          [
           0.3333333333333333,
           "#9c179e"
          ],
          [
           0.4444444444444444,
           "#bd3786"
          ],
          [
           0.5555555555555556,
           "#d8576b"
          ],
          [
           0.6666666666666666,
           "#ed7953"
          ],
          [
           0.7777777777777778,
           "#fb9f3a"
          ],
          [
           0.8888888888888888,
           "#fdca26"
          ],
          [
           1,
           "#f0f921"
          ]
         ]
        },
        "height": 500,
        "legend": {
         "tracegroupgap": 0
        },
        "template": {
         "data": {
          "bar": [
           {
            "error_x": {
             "color": "#2a3f5f"
            },
            "error_y": {
             "color": "#2a3f5f"
            },
            "marker": {
             "line": {
              "color": "#E5ECF6",
              "width": 0.5
             },
             "pattern": {
              "fillmode": "overlay",
              "size": 10,
              "solidity": 0.2
             }
            },
            "type": "bar"
           }
          ],
          "barpolar": [
           {
            "marker": {
             "line": {
              "color": "#E5ECF6",
              "width": 0.5
             },
             "pattern": {
              "fillmode": "overlay",
              "size": 10,
              "solidity": 0.2
             }
            },
            "type": "barpolar"
           }
          ],
          "carpet": [
           {
            "aaxis": {
             "endlinecolor": "#2a3f5f",
             "gridcolor": "white",
             "linecolor": "white",
             "minorgridcolor": "white",
             "startlinecolor": "#2a3f5f"
            },
            "baxis": {
             "endlinecolor": "#2a3f5f",
             "gridcolor": "white",
             "linecolor": "white",
             "minorgridcolor": "white",
             "startlinecolor": "#2a3f5f"
            },
            "type": "carpet"
           }
          ],
          "choropleth": [
           {
            "colorbar": {
             "outlinewidth": 0,
             "ticks": ""
            },
            "type": "choropleth"
           }
          ],
          "contour": [
           {
            "colorbar": {
             "outlinewidth": 0,
             "ticks": ""
            },
            "colorscale": [
             [
              0,
              "#0d0887"
             ],
             [
              0.1111111111111111,
              "#46039f"
             ],
             [
              0.2222222222222222,
              "#7201a8"
             ],
             [
              0.3333333333333333,
              "#9c179e"
             ],
             [
              0.4444444444444444,
              "#bd3786"
             ],
             [
              0.5555555555555556,
              "#d8576b"
             ],
             [
              0.6666666666666666,
              "#ed7953"
             ],
             [
              0.7777777777777778,
              "#fb9f3a"
             ],
             [
              0.8888888888888888,
              "#fdca26"
             ],
             [
              1,
              "#f0f921"
             ]
            ],
            "type": "contour"
           }
          ],
          "contourcarpet": [
           {
            "colorbar": {
             "outlinewidth": 0,
             "ticks": ""
            },
            "type": "contourcarpet"
           }
          ],
          "heatmap": [
           {
            "colorbar": {
             "outlinewidth": 0,
             "ticks": ""
            },
            "colorscale": [
             [
              0,
              "#0d0887"
             ],
             [
              0.1111111111111111,
              "#46039f"
             ],
             [
              0.2222222222222222,
              "#7201a8"
             ],
             [
              0.3333333333333333,
              "#9c179e"
             ],
             [
              0.4444444444444444,
              "#bd3786"
             ],
             [
              0.5555555555555556,
              "#d8576b"
             ],
             [
              0.6666666666666666,
              "#ed7953"
             ],
             [
              0.7777777777777778,
              "#fb9f3a"
             ],
             [
              0.8888888888888888,
              "#fdca26"
             ],
             [
              1,
              "#f0f921"
             ]
            ],
            "type": "heatmap"
           }
          ],
          "histogram": [
           {
            "marker": {
             "pattern": {
              "fillmode": "overlay",
              "size": 10,
              "solidity": 0.2
             }
            },
            "type": "histogram"
           }
          ],
          "histogram2d": [
           {
            "colorbar": {
             "outlinewidth": 0,
             "ticks": ""
            },
            "colorscale": [
             [
              0,
              "#0d0887"
             ],
             [
              0.1111111111111111,
              "#46039f"
             ],
             [
              0.2222222222222222,
              "#7201a8"
             ],
             [
              0.3333333333333333,
              "#9c179e"
             ],
             [
              0.4444444444444444,
              "#bd3786"
             ],
             [
              0.5555555555555556,
              "#d8576b"
             ],
             [
              0.6666666666666666,
              "#ed7953"
             ],
             [
              0.7777777777777778,
              "#fb9f3a"
             ],
             [
              0.8888888888888888,
              "#fdca26"
             ],
             [
              1,
              "#f0f921"
             ]
            ],
            "type": "histogram2d"
           }
          ],
          "histogram2dcontour": [
           {
            "colorbar": {
             "outlinewidth": 0,
             "ticks": ""
            },
            "colorscale": [
             [
              0,
              "#0d0887"
             ],
             [
              0.1111111111111111,
              "#46039f"
             ],
             [
              0.2222222222222222,
              "#7201a8"
             ],
             [
              0.3333333333333333,
              "#9c179e"
             ],
             [
              0.4444444444444444,
              "#bd3786"
             ],
             [
              0.5555555555555556,
              "#d8576b"
             ],
             [
              0.6666666666666666,
              "#ed7953"
             ],
             [
              0.7777777777777778,
              "#fb9f3a"
             ],
             [
              0.8888888888888888,
              "#fdca26"
             ],
             [
              1,
              "#f0f921"
             ]
            ],
            "type": "histogram2dcontour"
           }
          ],
          "mesh3d": [
           {
            "colorbar": {
             "outlinewidth": 0,
             "ticks": ""
            },
            "type": "mesh3d"
           }
          ],
          "parcoords": [
           {
            "line": {
             "colorbar": {
              "outlinewidth": 0,
              "ticks": ""
             }
            },
            "type": "parcoords"
           }
          ],
          "pie": [
           {
            "automargin": true,
            "type": "pie"
           }
          ],
          "scatter": [
           {
            "fillpattern": {
             "fillmode": "overlay",
             "size": 10,
             "solidity": 0.2
            },
            "type": "scatter"
           }
          ],
          "scatter3d": [
           {
            "line": {
             "colorbar": {
              "outlinewidth": 0,
              "ticks": ""
             }
            },
            "marker": {
             "colorbar": {
              "outlinewidth": 0,
              "ticks": ""
             }
            },
            "type": "scatter3d"
           }
          ],
          "scattercarpet": [
           {
            "marker": {
             "colorbar": {
              "outlinewidth": 0,
              "ticks": ""
             }
            },
            "type": "scattercarpet"
           }
          ],
          "scattergeo": [
           {
            "marker": {
             "colorbar": {
              "outlinewidth": 0,
              "ticks": ""
             }
            },
            "type": "scattergeo"
           }
          ],
          "scattergl": [
           {
            "marker": {
             "colorbar": {
              "outlinewidth": 0,
              "ticks": ""
             }
            },
            "type": "scattergl"
           }
          ],
          "scattermap": [
           {
            "marker": {
             "colorbar": {
              "outlinewidth": 0,
              "ticks": ""
             }
            },
            "type": "scattermap"
           }
          ],
          "scattermapbox": [
           {
            "marker": {
             "colorbar": {
              "outlinewidth": 0,
              "ticks": ""
             }
            },
            "type": "scattermapbox"
           }
          ],
          "scatterpolar": [
           {
            "marker": {
             "colorbar": {
              "outlinewidth": 0,
              "ticks": ""
             }
            },
            "type": "scatterpolar"
           }
          ],
          "scatterpolargl": [
           {
            "marker": {
             "colorbar": {
              "outlinewidth": 0,
              "ticks": ""
             }
            },
            "type": "scatterpolargl"
           }
          ],
          "scatterternary": [
           {
            "marker": {
             "colorbar": {
              "outlinewidth": 0,
              "ticks": ""
             }
            },
            "type": "scatterternary"
           }
          ],
          "surface": [
           {
            "colorbar": {
             "outlinewidth": 0,
             "ticks": ""
            },
            "colorscale": [
             [
              0,
              "#0d0887"
             ],
             [
              0.1111111111111111,
              "#46039f"
             ],
             [
              0.2222222222222222,
              "#7201a8"
             ],
             [
              0.3333333333333333,
              "#9c179e"
             ],
             [
              0.4444444444444444,
              "#bd3786"
             ],
             [
              0.5555555555555556,
              "#d8576b"
             ],
             [
              0.6666666666666666,
              "#ed7953"
             ],
             [
              0.7777777777777778,
              "#fb9f3a"
             ],
             [
              0.8888888888888888,
              "#fdca26"
             ],
             [
              1,
              "#f0f921"
             ]
            ],
            "type": "surface"
           }
          ],
          "table": [
           {
            "cells": {
             "fill": {
              "color": "#EBF0F8"
             },
             "line": {
              "color": "white"
             }
            },
            "header": {
             "fill": {
              "color": "#C8D4E3"
             },
             "line": {
              "color": "white"
             }
            },
            "type": "table"
           }
          ]
         },
         "layout": {
          "annotationdefaults": {
           "arrowcolor": "#2a3f5f",
           "arrowhead": 0,
           "arrowwidth": 1
          },
          "autotypenumbers": "strict",
          "coloraxis": {
           "colorbar": {
            "outlinewidth": 0,
            "ticks": ""
           }
          },
          "colorscale": {
           "diverging": [
            [
             0,
             "#8e0152"
            ],
            [
             0.1,
             "#c51b7d"
            ],
            [
             0.2,
             "#de77ae"
            ],
            [
             0.3,
             "#f1b6da"
            ],
            [
             0.4,
             "#fde0ef"
            ],
            [
             0.5,
             "#f7f7f7"
            ],
            [
             0.6,
             "#e6f5d0"
            ],
            [
             0.7,
             "#b8e186"
            ],
            [
             0.8,
             "#7fbc41"
            ],
            [
             0.9,
             "#4d9221"
            ],
            [
             1,
             "#276419"
            ]
           ],
           "sequential": [
            [
             0,
             "#0d0887"
            ],
            [
             0.1111111111111111,
             "#46039f"
            ],
            [
             0.2222222222222222,
             "#7201a8"
            ],
            [
             0.3333333333333333,
             "#9c179e"
            ],
            [
             0.4444444444444444,
             "#bd3786"
            ],
            [
             0.5555555555555556,
             "#d8576b"
            ],
            [
             0.6666666666666666,
             "#ed7953"
            ],
            [
             0.7777777777777778,
             "#fb9f3a"
            ],
            [
             0.8888888888888888,
             "#fdca26"
            ],
            [
             1,
             "#f0f921"
            ]
           ],
           "sequentialminus": [
            [
             0,
             "#0d0887"
            ],
            [
             0.1111111111111111,
             "#46039f"
            ],
            [
             0.2222222222222222,
             "#7201a8"
            ],
            [
             0.3333333333333333,
             "#9c179e"
            ],
            [
             0.4444444444444444,
             "#bd3786"
            ],
            [
             0.5555555555555556,
             "#d8576b"
            ],
            [
             0.6666666666666666,
             "#ed7953"
            ],
            [
             0.7777777777777778,
             "#fb9f3a"
            ],
            [
             0.8888888888888888,
             "#fdca26"
            ],
            [
             1,
             "#f0f921"
            ]
           ]
          },
          "colorway": [
           "#636efa",
           "#EF553B",
           "#00cc96",
           "#ab63fa",
           "#FFA15A",
           "#19d3f3",
           "#FF6692",
           "#B6E880",
           "#FF97FF",
           "#FECB52"
          ],
          "font": {
           "color": "#2a3f5f"
          },
          "geo": {
           "bgcolor": "white",
           "lakecolor": "white",
           "landcolor": "#E5ECF6",
           "showlakes": true,
           "showland": true,
           "subunitcolor": "white"
          },
          "hoverlabel": {
           "align": "left"
          },
          "hovermode": "closest",
          "mapbox": {
           "style": "light"
          },
          "paper_bgcolor": "white",
          "plot_bgcolor": "#E5ECF6",
          "polar": {
           "angularaxis": {
            "gridcolor": "white",
            "linecolor": "white",
            "ticks": ""
           },
           "bgcolor": "#E5ECF6",
           "radialaxis": {
            "gridcolor": "white",
            "linecolor": "white",
            "ticks": ""
           }
          },
          "scene": {
           "xaxis": {
            "backgroundcolor": "#E5ECF6",
            "gridcolor": "white",
            "gridwidth": 2,
            "linecolor": "white",
            "showbackground": true,
            "ticks": "",
            "zerolinecolor": "white"
           },
           "yaxis": {
            "backgroundcolor": "#E5ECF6",
            "gridcolor": "white",
            "gridwidth": 2,
            "linecolor": "white",
            "showbackground": true,
            "ticks": "",
            "zerolinecolor": "white"
           },
           "zaxis": {
            "backgroundcolor": "#E5ECF6",
            "gridcolor": "white",
            "gridwidth": 2,
            "linecolor": "white",
            "showbackground": true,
            "ticks": "",
            "zerolinecolor": "white"
           }
          },
          "shapedefaults": {
           "line": {
            "color": "#2a3f5f"
           }
          },
          "ternary": {
           "aaxis": {
            "gridcolor": "white",
            "linecolor": "white",
            "ticks": ""
           },
           "baxis": {
            "gridcolor": "white",
            "linecolor": "white",
            "ticks": ""
           },
           "bgcolor": "#E5ECF6",
           "caxis": {
            "gridcolor": "white",
            "linecolor": "white",
            "ticks": ""
           }
          },
          "title": {
           "x": 0.05
          },
          "xaxis": {
           "automargin": true,
           "gridcolor": "white",
           "linecolor": "white",
           "ticks": "",
           "title": {
            "standoff": 15
           },
           "zerolinecolor": "white",
           "zerolinewidth": 2
          },
          "yaxis": {
           "automargin": true,
           "gridcolor": "white",
           "linecolor": "white",
           "ticks": "",
           "title": {
            "standoff": 15
           },
           "zerolinecolor": "white",
           "zerolinewidth": 2
          }
         }
        },
        "title": {
         "text": "Top 10 Happiest Countries (Ladder Score)"
        },
        "xaxis": {
         "anchor": "y",
         "domain": [
          0,
          1
         ],
         "title": {
          "text": "Country Name"
         }
        },
        "yaxis": {
         "anchor": "x",
         "domain": [
          0,
          1
         ],
         "title": {
          "text": "Ladder Score"
         }
        }
       }
      }
     },
     "metadata": {},
     "output_type": "display_data"
    }
   ],
   "source": [
    "px.bar(\n",
    "    df_top10,\n",
    "    x=df_top10.index,\n",
    "    y=\"Ladder Score\",\n",
    "    color=\"Ladder Score\",\n",
    "    title=\"Top 10 Happiest Countries (Ladder Score)\",\n",
    "    labels={\"Country Name\": \"Country Name\", \"Ladder Score\": \"Ladder Score\"},\n",
    "    height=500,\n",
    ")"
   ]
  },
  {
   "cell_type": "markdown",
   "id": "1ba44760",
   "metadata": {},
   "source": [
    "![Track Age vs Streams](screenshots/top-10-happiest-countries-bar.png)"
   ]
  },
  {
   "cell_type": "code",
   "execution_count": 23,
   "id": "334a86a8",
   "metadata": {},
   "outputs": [
    {
     "data": {
      "application/vnd.plotly.v1+json": {
       "config": {
        "plotlyServerURL": "https://plot.ly"
       },
       "data": [
        {
         "domain": {
          "x": [
           0,
           1
          ],
          "y": [
           0,
           1
          ]
         },
         "hovertemplate": "Country Name=%{label}<br>Ladder Score=%{value}<extra></extra>",
         "labels": [
          "Finland",
          "Denmark",
          "Iceland",
          "Israel",
          "Netherlands",
          "Sweden",
          "Norway",
          "Switzerland",
          "Luxembourg",
          "New Zealand"
         ],
         "legendgroup": "",
         "name": "",
         "showlegend": true,
         "type": "pie",
         "values": {
          "bdata": "nu+nxks3H0Dy0k1iEFgeQB+F61G4Hh5AMQisHFrkHUDpJjEIrJwdQBSuR+F6lB1Aw/UoXI9CHUD2KFyPwvUcQLbz/dR46RxAy6FFtvN9HEA=",
          "dtype": "f8"
         }
        }
       ],
       "layout": {
        "legend": {
         "tracegroupgap": 0
        },
        "template": {
         "data": {
          "bar": [
           {
            "error_x": {
             "color": "#2a3f5f"
            },
            "error_y": {
             "color": "#2a3f5f"
            },
            "marker": {
             "line": {
              "color": "#E5ECF6",
              "width": 0.5
             },
             "pattern": {
              "fillmode": "overlay",
              "size": 10,
              "solidity": 0.2
             }
            },
            "type": "bar"
           }
          ],
          "barpolar": [
           {
            "marker": {
             "line": {
              "color": "#E5ECF6",
              "width": 0.5
             },
             "pattern": {
              "fillmode": "overlay",
              "size": 10,
              "solidity": 0.2
             }
            },
            "type": "barpolar"
           }
          ],
          "carpet": [
           {
            "aaxis": {
             "endlinecolor": "#2a3f5f",
             "gridcolor": "white",
             "linecolor": "white",
             "minorgridcolor": "white",
             "startlinecolor": "#2a3f5f"
            },
            "baxis": {
             "endlinecolor": "#2a3f5f",
             "gridcolor": "white",
             "linecolor": "white",
             "minorgridcolor": "white",
             "startlinecolor": "#2a3f5f"
            },
            "type": "carpet"
           }
          ],
          "choropleth": [
           {
            "colorbar": {
             "outlinewidth": 0,
             "ticks": ""
            },
            "type": "choropleth"
           }
          ],
          "contour": [
           {
            "colorbar": {
             "outlinewidth": 0,
             "ticks": ""
            },
            "colorscale": [
             [
              0,
              "#0d0887"
             ],
             [
              0.1111111111111111,
              "#46039f"
             ],
             [
              0.2222222222222222,
              "#7201a8"
             ],
             [
              0.3333333333333333,
              "#9c179e"
             ],
             [
              0.4444444444444444,
              "#bd3786"
             ],
             [
              0.5555555555555556,
              "#d8576b"
             ],
             [
              0.6666666666666666,
              "#ed7953"
             ],
             [
              0.7777777777777778,
              "#fb9f3a"
             ],
             [
              0.8888888888888888,
              "#fdca26"
             ],
             [
              1,
              "#f0f921"
             ]
            ],
            "type": "contour"
           }
          ],
          "contourcarpet": [
           {
            "colorbar": {
             "outlinewidth": 0,
             "ticks": ""
            },
            "type": "contourcarpet"
           }
          ],
          "heatmap": [
           {
            "colorbar": {
             "outlinewidth": 0,
             "ticks": ""
            },
            "colorscale": [
             [
              0,
              "#0d0887"
             ],
             [
              0.1111111111111111,
              "#46039f"
             ],
             [
              0.2222222222222222,
              "#7201a8"
             ],
             [
              0.3333333333333333,
              "#9c179e"
             ],
             [
              0.4444444444444444,
              "#bd3786"
             ],
             [
              0.5555555555555556,
              "#d8576b"
             ],
             [
              0.6666666666666666,
              "#ed7953"
             ],
             [
              0.7777777777777778,
              "#fb9f3a"
             ],
             [
              0.8888888888888888,
              "#fdca26"
             ],
             [
              1,
              "#f0f921"
             ]
            ],
            "type": "heatmap"
           }
          ],
          "histogram": [
           {
            "marker": {
             "pattern": {
              "fillmode": "overlay",
              "size": 10,
              "solidity": 0.2
             }
            },
            "type": "histogram"
           }
          ],
          "histogram2d": [
           {
            "colorbar": {
             "outlinewidth": 0,
             "ticks": ""
            },
            "colorscale": [
             [
              0,
              "#0d0887"
             ],
             [
              0.1111111111111111,
              "#46039f"
             ],
             [
              0.2222222222222222,
              "#7201a8"
             ],
             [
              0.3333333333333333,
              "#9c179e"
             ],
             [
              0.4444444444444444,
              "#bd3786"
             ],
             [
              0.5555555555555556,
              "#d8576b"
             ],
             [
              0.6666666666666666,
              "#ed7953"
             ],
             [
              0.7777777777777778,
              "#fb9f3a"
             ],
             [
              0.8888888888888888,
              "#fdca26"
             ],
             [
              1,
              "#f0f921"
             ]
            ],
            "type": "histogram2d"
           }
          ],
          "histogram2dcontour": [
           {
            "colorbar": {
             "outlinewidth": 0,
             "ticks": ""
            },
            "colorscale": [
             [
              0,
              "#0d0887"
             ],
             [
              0.1111111111111111,
              "#46039f"
             ],
             [
              0.2222222222222222,
              "#7201a8"
             ],
             [
              0.3333333333333333,
              "#9c179e"
             ],
             [
              0.4444444444444444,
              "#bd3786"
             ],
             [
              0.5555555555555556,
              "#d8576b"
             ],
             [
              0.6666666666666666,
              "#ed7953"
             ],
             [
              0.7777777777777778,
              "#fb9f3a"
             ],
             [
              0.8888888888888888,
              "#fdca26"
             ],
             [
              1,
              "#f0f921"
             ]
            ],
            "type": "histogram2dcontour"
           }
          ],
          "mesh3d": [
           {
            "colorbar": {
             "outlinewidth": 0,
             "ticks": ""
            },
            "type": "mesh3d"
           }
          ],
          "parcoords": [
           {
            "line": {
             "colorbar": {
              "outlinewidth": 0,
              "ticks": ""
             }
            },
            "type": "parcoords"
           }
          ],
          "pie": [
           {
            "automargin": true,
            "type": "pie"
           }
          ],
          "scatter": [
           {
            "fillpattern": {
             "fillmode": "overlay",
             "size": 10,
             "solidity": 0.2
            },
            "type": "scatter"
           }
          ],
          "scatter3d": [
           {
            "line": {
             "colorbar": {
              "outlinewidth": 0,
              "ticks": ""
             }
            },
            "marker": {
             "colorbar": {
              "outlinewidth": 0,
              "ticks": ""
             }
            },
            "type": "scatter3d"
           }
          ],
          "scattercarpet": [
           {
            "marker": {
             "colorbar": {
              "outlinewidth": 0,
              "ticks": ""
             }
            },
            "type": "scattercarpet"
           }
          ],
          "scattergeo": [
           {
            "marker": {
             "colorbar": {
              "outlinewidth": 0,
              "ticks": ""
             }
            },
            "type": "scattergeo"
           }
          ],
          "scattergl": [
           {
            "marker": {
             "colorbar": {
              "outlinewidth": 0,
              "ticks": ""
             }
            },
            "type": "scattergl"
           }
          ],
          "scattermap": [
           {
            "marker": {
             "colorbar": {
              "outlinewidth": 0,
              "ticks": ""
             }
            },
            "type": "scattermap"
           }
          ],
          "scattermapbox": [
           {
            "marker": {
             "colorbar": {
              "outlinewidth": 0,
              "ticks": ""
             }
            },
            "type": "scattermapbox"
           }
          ],
          "scatterpolar": [
           {
            "marker": {
             "colorbar": {
              "outlinewidth": 0,
              "ticks": ""
             }
            },
            "type": "scatterpolar"
           }
          ],
          "scatterpolargl": [
           {
            "marker": {
             "colorbar": {
              "outlinewidth": 0,
              "ticks": ""
             }
            },
            "type": "scatterpolargl"
           }
          ],
          "scatterternary": [
           {
            "marker": {
             "colorbar": {
              "outlinewidth": 0,
              "ticks": ""
             }
            },
            "type": "scatterternary"
           }
          ],
          "surface": [
           {
            "colorbar": {
             "outlinewidth": 0,
             "ticks": ""
            },
            "colorscale": [
             [
              0,
              "#0d0887"
             ],
             [
              0.1111111111111111,
              "#46039f"
             ],
             [
              0.2222222222222222,
              "#7201a8"
             ],
             [
              0.3333333333333333,
              "#9c179e"
             ],
             [
              0.4444444444444444,
              "#bd3786"
             ],
             [
              0.5555555555555556,
              "#d8576b"
             ],
             [
              0.6666666666666666,
              "#ed7953"
             ],
             [
              0.7777777777777778,
              "#fb9f3a"
             ],
             [
              0.8888888888888888,
              "#fdca26"
             ],
             [
              1,
              "#f0f921"
             ]
            ],
            "type": "surface"
           }
          ],
          "table": [
           {
            "cells": {
             "fill": {
              "color": "#EBF0F8"
             },
             "line": {
              "color": "white"
             }
            },
            "header": {
             "fill": {
              "color": "#C8D4E3"
             },
             "line": {
              "color": "white"
             }
            },
            "type": "table"
           }
          ]
         },
         "layout": {
          "annotationdefaults": {
           "arrowcolor": "#2a3f5f",
           "arrowhead": 0,
           "arrowwidth": 1
          },
          "autotypenumbers": "strict",
          "coloraxis": {
           "colorbar": {
            "outlinewidth": 0,
            "ticks": ""
           }
          },
          "colorscale": {
           "diverging": [
            [
             0,
             "#8e0152"
            ],
            [
             0.1,
             "#c51b7d"
            ],
            [
             0.2,
             "#de77ae"
            ],
            [
             0.3,
             "#f1b6da"
            ],
            [
             0.4,
             "#fde0ef"
            ],
            [
             0.5,
             "#f7f7f7"
            ],
            [
             0.6,
             "#e6f5d0"
            ],
            [
             0.7,
             "#b8e186"
            ],
            [
             0.8,
             "#7fbc41"
            ],
            [
             0.9,
             "#4d9221"
            ],
            [
             1,
             "#276419"
            ]
           ],
           "sequential": [
            [
             0,
             "#0d0887"
            ],
            [
             0.1111111111111111,
             "#46039f"
            ],
            [
             0.2222222222222222,
             "#7201a8"
            ],
            [
             0.3333333333333333,
             "#9c179e"
            ],
            [
             0.4444444444444444,
             "#bd3786"
            ],
            [
             0.5555555555555556,
             "#d8576b"
            ],
            [
             0.6666666666666666,
             "#ed7953"
            ],
            [
             0.7777777777777778,
             "#fb9f3a"
            ],
            [
             0.8888888888888888,
             "#fdca26"
            ],
            [
             1,
             "#f0f921"
            ]
           ],
           "sequentialminus": [
            [
             0,
             "#0d0887"
            ],
            [
             0.1111111111111111,
             "#46039f"
            ],
            [
             0.2222222222222222,
             "#7201a8"
            ],
            [
             0.3333333333333333,
             "#9c179e"
            ],
            [
             0.4444444444444444,
             "#bd3786"
            ],
            [
             0.5555555555555556,
             "#d8576b"
            ],
            [
             0.6666666666666666,
             "#ed7953"
            ],
            [
             0.7777777777777778,
             "#fb9f3a"
            ],
            [
             0.8888888888888888,
             "#fdca26"
            ],
            [
             1,
             "#f0f921"
            ]
           ]
          },
          "colorway": [
           "#636efa",
           "#EF553B",
           "#00cc96",
           "#ab63fa",
           "#FFA15A",
           "#19d3f3",
           "#FF6692",
           "#B6E880",
           "#FF97FF",
           "#FECB52"
          ],
          "font": {
           "color": "#2a3f5f"
          },
          "geo": {
           "bgcolor": "white",
           "lakecolor": "white",
           "landcolor": "#E5ECF6",
           "showlakes": true,
           "showland": true,
           "subunitcolor": "white"
          },
          "hoverlabel": {
           "align": "left"
          },
          "hovermode": "closest",
          "mapbox": {
           "style": "light"
          },
          "paper_bgcolor": "white",
          "plot_bgcolor": "#E5ECF6",
          "polar": {
           "angularaxis": {
            "gridcolor": "white",
            "linecolor": "white",
            "ticks": ""
           },
           "bgcolor": "#E5ECF6",
           "radialaxis": {
            "gridcolor": "white",
            "linecolor": "white",
            "ticks": ""
           }
          },
          "scene": {
           "xaxis": {
            "backgroundcolor": "#E5ECF6",
            "gridcolor": "white",
            "gridwidth": 2,
            "linecolor": "white",
            "showbackground": true,
            "ticks": "",
            "zerolinecolor": "white"
           },
           "yaxis": {
            "backgroundcolor": "#E5ECF6",
            "gridcolor": "white",
            "gridwidth": 2,
            "linecolor": "white",
            "showbackground": true,
            "ticks": "",
            "zerolinecolor": "white"
           },
           "zaxis": {
            "backgroundcolor": "#E5ECF6",
            "gridcolor": "white",
            "gridwidth": 2,
            "linecolor": "white",
            "showbackground": true,
            "ticks": "",
            "zerolinecolor": "white"
           }
          },
          "shapedefaults": {
           "line": {
            "color": "#2a3f5f"
           }
          },
          "ternary": {
           "aaxis": {
            "gridcolor": "white",
            "linecolor": "white",
            "ticks": ""
           },
           "baxis": {
            "gridcolor": "white",
            "linecolor": "white",
            "ticks": ""
           },
           "bgcolor": "#E5ECF6",
           "caxis": {
            "gridcolor": "white",
            "linecolor": "white",
            "ticks": ""
           }
          },
          "title": {
           "x": 0.05
          },
          "xaxis": {
           "automargin": true,
           "gridcolor": "white",
           "linecolor": "white",
           "ticks": "",
           "title": {
            "standoff": 15
           },
           "zerolinecolor": "white",
           "zerolinewidth": 2
          },
          "yaxis": {
           "automargin": true,
           "gridcolor": "white",
           "linecolor": "white",
           "ticks": "",
           "title": {
            "standoff": 15
           },
           "zerolinecolor": "white",
           "zerolinewidth": 2
          }
         }
        },
        "title": {
         "text": "Top 10 Happiest Countries (Ladder Score)"
        }
       }
      }
     },
     "metadata": {},
     "output_type": "display_data"
    }
   ],
   "source": [
    "px.pie(\n",
    "    df_top10,\n",
    "    names=df_top10.index,\n",
    "    values=\"Ladder Score\",\n",
    "    title=\"Top 10 Happiest Countries (Ladder Score)\",\n",
    ")"
   ]
  },
  {
   "cell_type": "markdown",
   "id": "9b562165",
   "metadata": {},
   "source": [
    "![Track Age vs Streams](screenshots/top-10-happiest-countries-pie.png)\n"
   ]
  },
  {
   "cell_type": "markdown",
   "id": "c8d5375b",
   "metadata": {},
   "source": [
    "## Visualizing the Bottom 10 Least Happy Countries  \n",
    "\n",
    "We now examine the **countries with the lowest Ladder Scores** using **bar and pie charts**.  \n",
    "\n",
    "**Bar Chart Insights:**  \n",
    "- **Afghanistan (1.86)** ranks lowest, followed by **Lebanon (2.39)** and **Sierra Leone (3.14)**, showing extreme disparities in global happiness.  \n",
    "- The bar heights clearly demonstrate how large the gap is between the happiest and least happy countries (top scores ~7.8 vs bottom ~1.86).  \n",
    "- Many of the bottom 10 countries are affected by **conflict, weak governance, and low social support**, which are likely major contributors to their low scores.  \n",
    "\n",
    "**Pie Chart Insights:**  \n",
    "- The pie chart highlights how each country contributes proportionally to the bottom 10 bracket.  \n",
    "- **Afghanistan and Lebanon** occupy the largest slices, emphasizing their extreme low happiness levels.  \n",
    "- Smaller slices (e.g., Zambia, Tanzania) show that even within the bottom 10, there is variation, but all remain significantly lower than the global average (~5.54).  \n",
    "\n",
    "**Conclusion:**  \n",
    "- These visualizations reinforce that **economic, social, and political factors** heavily influence happiness outcomes.  \n",
    "- Contrasting top 10 vs bottom 10 charts visually demonstrates **the global inequality in well-being**.  \n"
   ]
  },
  {
   "cell_type": "code",
   "execution_count": 41,
   "id": "5057b964",
   "metadata": {},
   "outputs": [
    {
     "data": {
      "application/vnd.plotly.v1+json": {
       "config": {
        "plotlyServerURL": "https://plot.ly"
       },
       "data": [
        {
         "hovertemplate": "Country Name=%{x}<br>Ladder Score=%{marker.color}<extra></extra>",
         "legendgroup": "",
         "marker": {
          "color": {
           "bdata": "WDm0yHa+/T+JQWDl0CIDQLTIdr6fGglAbxKDwMqhCUAOLbKd76cJQHsUrkfhegtA9ihcj8L1C0Bcj8L1KFwMQFpkO99PjQ1AQmDl0CLbD0A=",
           "dtype": "f8"
          },
          "coloraxis": "coloraxis",
          "pattern": {
           "shape": ""
          }
         },
         "name": "",
         "orientation": "v",
         "showlegend": false,
         "textposition": "auto",
         "type": "bar",
         "x": [
          "Afghanistan",
          "Lebanon",
          "Sierra Leone",
          "Zimbabwe",
          "Congo (Kinshasa)",
          "Botswana",
          "Malawi",
          "Comoros",
          "Tanzania",
          "Zambia"
         ],
         "xaxis": "x",
         "y": {
          "bdata": "WDm0yHa+/T+JQWDl0CIDQLTIdr6fGglAbxKDwMqhCUAOLbKd76cJQHsUrkfhegtA9ihcj8L1C0Bcj8L1KFwMQFpkO99PjQ1AQmDl0CLbD0A=",
          "dtype": "f8"
         },
         "yaxis": "y"
        }
       ],
       "layout": {
        "barmode": "relative",
        "coloraxis": {
         "colorbar": {
          "title": {
           "text": "Ladder Score"
          }
         },
         "colorscale": [
          [
           0,
           "#0d0887"
          ],
          [
           0.1111111111111111,
           "#46039f"
          ],
          [
           0.2222222222222222,
           "#7201a8"
          ],
          [
           0.3333333333333333,
           "#9c179e"
          ],
          [
           0.4444444444444444,
           "#bd3786"
          ],
          [
           0.5555555555555556,
           "#d8576b"
          ],
          [
           0.6666666666666666,
           "#ed7953"
          ],
          [
           0.7777777777777778,
           "#fb9f3a"
          ],
          [
           0.8888888888888888,
           "#fdca26"
          ],
          [
           1,
           "#f0f921"
          ]
         ]
        },
        "height": 500,
        "legend": {
         "tracegroupgap": 0
        },
        "template": {
         "data": {
          "bar": [
           {
            "error_x": {
             "color": "#2a3f5f"
            },
            "error_y": {
             "color": "#2a3f5f"
            },
            "marker": {
             "line": {
              "color": "#E5ECF6",
              "width": 0.5
             },
             "pattern": {
              "fillmode": "overlay",
              "size": 10,
              "solidity": 0.2
             }
            },
            "type": "bar"
           }
          ],
          "barpolar": [
           {
            "marker": {
             "line": {
              "color": "#E5ECF6",
              "width": 0.5
             },
             "pattern": {
              "fillmode": "overlay",
              "size": 10,
              "solidity": 0.2
             }
            },
            "type": "barpolar"
           }
          ],
          "carpet": [
           {
            "aaxis": {
             "endlinecolor": "#2a3f5f",
             "gridcolor": "white",
             "linecolor": "white",
             "minorgridcolor": "white",
             "startlinecolor": "#2a3f5f"
            },
            "baxis": {
             "endlinecolor": "#2a3f5f",
             "gridcolor": "white",
             "linecolor": "white",
             "minorgridcolor": "white",
             "startlinecolor": "#2a3f5f"
            },
            "type": "carpet"
           }
          ],
          "choropleth": [
           {
            "colorbar": {
             "outlinewidth": 0,
             "ticks": ""
            },
            "type": "choropleth"
           }
          ],
          "contour": [
           {
            "colorbar": {
             "outlinewidth": 0,
             "ticks": ""
            },
            "colorscale": [
             [
              0,
              "#0d0887"
             ],
             [
              0.1111111111111111,
              "#46039f"
             ],
             [
              0.2222222222222222,
              "#7201a8"
             ],
             [
              0.3333333333333333,
              "#9c179e"
             ],
             [
              0.4444444444444444,
              "#bd3786"
             ],
             [
              0.5555555555555556,
              "#d8576b"
             ],
             [
              0.6666666666666666,
              "#ed7953"
             ],
             [
              0.7777777777777778,
              "#fb9f3a"
             ],
             [
              0.8888888888888888,
              "#fdca26"
             ],
             [
              1,
              "#f0f921"
             ]
            ],
            "type": "contour"
           }
          ],
          "contourcarpet": [
           {
            "colorbar": {
             "outlinewidth": 0,
             "ticks": ""
            },
            "type": "contourcarpet"
           }
          ],
          "heatmap": [
           {
            "colorbar": {
             "outlinewidth": 0,
             "ticks": ""
            },
            "colorscale": [
             [
              0,
              "#0d0887"
             ],
             [
              0.1111111111111111,
              "#46039f"
             ],
             [
              0.2222222222222222,
              "#7201a8"
             ],
             [
              0.3333333333333333,
              "#9c179e"
             ],
             [
              0.4444444444444444,
              "#bd3786"
             ],
             [
              0.5555555555555556,
              "#d8576b"
             ],
             [
              0.6666666666666666,
              "#ed7953"
             ],
             [
              0.7777777777777778,
              "#fb9f3a"
             ],
             [
              0.8888888888888888,
              "#fdca26"
             ],
             [
              1,
              "#f0f921"
             ]
            ],
            "type": "heatmap"
           }
          ],
          "histogram": [
           {
            "marker": {
             "pattern": {
              "fillmode": "overlay",
              "size": 10,
              "solidity": 0.2
             }
            },
            "type": "histogram"
           }
          ],
          "histogram2d": [
           {
            "colorbar": {
             "outlinewidth": 0,
             "ticks": ""
            },
            "colorscale": [
             [
              0,
              "#0d0887"
             ],
             [
              0.1111111111111111,
              "#46039f"
             ],
             [
              0.2222222222222222,
              "#7201a8"
             ],
             [
              0.3333333333333333,
              "#9c179e"
             ],
             [
              0.4444444444444444,
              "#bd3786"
             ],
             [
              0.5555555555555556,
              "#d8576b"
             ],
             [
              0.6666666666666666,
              "#ed7953"
             ],
             [
              0.7777777777777778,
              "#fb9f3a"
             ],
             [
              0.8888888888888888,
              "#fdca26"
             ],
             [
              1,
              "#f0f921"
             ]
            ],
            "type": "histogram2d"
           }
          ],
          "histogram2dcontour": [
           {
            "colorbar": {
             "outlinewidth": 0,
             "ticks": ""
            },
            "colorscale": [
             [
              0,
              "#0d0887"
             ],
             [
              0.1111111111111111,
              "#46039f"
             ],
             [
              0.2222222222222222,
              "#7201a8"
             ],
             [
              0.3333333333333333,
              "#9c179e"
             ],
             [
              0.4444444444444444,
              "#bd3786"
             ],
             [
              0.5555555555555556,
              "#d8576b"
             ],
             [
              0.6666666666666666,
              "#ed7953"
             ],
             [
              0.7777777777777778,
              "#fb9f3a"
             ],
             [
              0.8888888888888888,
              "#fdca26"
             ],
             [
              1,
              "#f0f921"
             ]
            ],
            "type": "histogram2dcontour"
           }
          ],
          "mesh3d": [
           {
            "colorbar": {
             "outlinewidth": 0,
             "ticks": ""
            },
            "type": "mesh3d"
           }
          ],
          "parcoords": [
           {
            "line": {
             "colorbar": {
              "outlinewidth": 0,
              "ticks": ""
             }
            },
            "type": "parcoords"
           }
          ],
          "pie": [
           {
            "automargin": true,
            "type": "pie"
           }
          ],
          "scatter": [
           {
            "fillpattern": {
             "fillmode": "overlay",
             "size": 10,
             "solidity": 0.2
            },
            "type": "scatter"
           }
          ],
          "scatter3d": [
           {
            "line": {
             "colorbar": {
              "outlinewidth": 0,
              "ticks": ""
             }
            },
            "marker": {
             "colorbar": {
              "outlinewidth": 0,
              "ticks": ""
             }
            },
            "type": "scatter3d"
           }
          ],
          "scattercarpet": [
           {
            "marker": {
             "colorbar": {
              "outlinewidth": 0,
              "ticks": ""
             }
            },
            "type": "scattercarpet"
           }
          ],
          "scattergeo": [
           {
            "marker": {
             "colorbar": {
              "outlinewidth": 0,
              "ticks": ""
             }
            },
            "type": "scattergeo"
           }
          ],
          "scattergl": [
           {
            "marker": {
             "colorbar": {
              "outlinewidth": 0,
              "ticks": ""
             }
            },
            "type": "scattergl"
           }
          ],
          "scattermap": [
           {
            "marker": {
             "colorbar": {
              "outlinewidth": 0,
              "ticks": ""
             }
            },
            "type": "scattermap"
           }
          ],
          "scattermapbox": [
           {
            "marker": {
             "colorbar": {
              "outlinewidth": 0,
              "ticks": ""
             }
            },
            "type": "scattermapbox"
           }
          ],
          "scatterpolar": [
           {
            "marker": {
             "colorbar": {
              "outlinewidth": 0,
              "ticks": ""
             }
            },
            "type": "scatterpolar"
           }
          ],
          "scatterpolargl": [
           {
            "marker": {
             "colorbar": {
              "outlinewidth": 0,
              "ticks": ""
             }
            },
            "type": "scatterpolargl"
           }
          ],
          "scatterternary": [
           {
            "marker": {
             "colorbar": {
              "outlinewidth": 0,
              "ticks": ""
             }
            },
            "type": "scatterternary"
           }
          ],
          "surface": [
           {
            "colorbar": {
             "outlinewidth": 0,
             "ticks": ""
            },
            "colorscale": [
             [
              0,
              "#0d0887"
             ],
             [
              0.1111111111111111,
              "#46039f"
             ],
             [
              0.2222222222222222,
              "#7201a8"
             ],
             [
              0.3333333333333333,
              "#9c179e"
             ],
             [
              0.4444444444444444,
              "#bd3786"
             ],
             [
              0.5555555555555556,
              "#d8576b"
             ],
             [
              0.6666666666666666,
              "#ed7953"
             ],
             [
              0.7777777777777778,
              "#fb9f3a"
             ],
             [
              0.8888888888888888,
              "#fdca26"
             ],
             [
              1,
              "#f0f921"
             ]
            ],
            "type": "surface"
           }
          ],
          "table": [
           {
            "cells": {
             "fill": {
              "color": "#EBF0F8"
             },
             "line": {
              "color": "white"
             }
            },
            "header": {
             "fill": {
              "color": "#C8D4E3"
             },
             "line": {
              "color": "white"
             }
            },
            "type": "table"
           }
          ]
         },
         "layout": {
          "annotationdefaults": {
           "arrowcolor": "#2a3f5f",
           "arrowhead": 0,
           "arrowwidth": 1
          },
          "autotypenumbers": "strict",
          "coloraxis": {
           "colorbar": {
            "outlinewidth": 0,
            "ticks": ""
           }
          },
          "colorscale": {
           "diverging": [
            [
             0,
             "#8e0152"
            ],
            [
             0.1,
             "#c51b7d"
            ],
            [
             0.2,
             "#de77ae"
            ],
            [
             0.3,
             "#f1b6da"
            ],
            [
             0.4,
             "#fde0ef"
            ],
            [
             0.5,
             "#f7f7f7"
            ],
            [
             0.6,
             "#e6f5d0"
            ],
            [
             0.7,
             "#b8e186"
            ],
            [
             0.8,
             "#7fbc41"
            ],
            [
             0.9,
             "#4d9221"
            ],
            [
             1,
             "#276419"
            ]
           ],
           "sequential": [
            [
             0,
             "#0d0887"
            ],
            [
             0.1111111111111111,
             "#46039f"
            ],
            [
             0.2222222222222222,
             "#7201a8"
            ],
            [
             0.3333333333333333,
             "#9c179e"
            ],
            [
             0.4444444444444444,
             "#bd3786"
            ],
            [
             0.5555555555555556,
             "#d8576b"
            ],
            [
             0.6666666666666666,
             "#ed7953"
            ],
            [
             0.7777777777777778,
             "#fb9f3a"
            ],
            [
             0.8888888888888888,
             "#fdca26"
            ],
            [
             1,
             "#f0f921"
            ]
           ],
           "sequentialminus": [
            [
             0,
             "#0d0887"
            ],
            [
             0.1111111111111111,
             "#46039f"
            ],
            [
             0.2222222222222222,
             "#7201a8"
            ],
            [
             0.3333333333333333,
             "#9c179e"
            ],
            [
             0.4444444444444444,
             "#bd3786"
            ],
            [
             0.5555555555555556,
             "#d8576b"
            ],
            [
             0.6666666666666666,
             "#ed7953"
            ],
            [
             0.7777777777777778,
             "#fb9f3a"
            ],
            [
             0.8888888888888888,
             "#fdca26"
            ],
            [
             1,
             "#f0f921"
            ]
           ]
          },
          "colorway": [
           "#636efa",
           "#EF553B",
           "#00cc96",
           "#ab63fa",
           "#FFA15A",
           "#19d3f3",
           "#FF6692",
           "#B6E880",
           "#FF97FF",
           "#FECB52"
          ],
          "font": {
           "color": "#2a3f5f"
          },
          "geo": {
           "bgcolor": "white",
           "lakecolor": "white",
           "landcolor": "#E5ECF6",
           "showlakes": true,
           "showland": true,
           "subunitcolor": "white"
          },
          "hoverlabel": {
           "align": "left"
          },
          "hovermode": "closest",
          "mapbox": {
           "style": "light"
          },
          "paper_bgcolor": "white",
          "plot_bgcolor": "#E5ECF6",
          "polar": {
           "angularaxis": {
            "gridcolor": "white",
            "linecolor": "white",
            "ticks": ""
           },
           "bgcolor": "#E5ECF6",
           "radialaxis": {
            "gridcolor": "white",
            "linecolor": "white",
            "ticks": ""
           }
          },
          "scene": {
           "xaxis": {
            "backgroundcolor": "#E5ECF6",
            "gridcolor": "white",
            "gridwidth": 2,
            "linecolor": "white",
            "showbackground": true,
            "ticks": "",
            "zerolinecolor": "white"
           },
           "yaxis": {
            "backgroundcolor": "#E5ECF6",
            "gridcolor": "white",
            "gridwidth": 2,
            "linecolor": "white",
            "showbackground": true,
            "ticks": "",
            "zerolinecolor": "white"
           },
           "zaxis": {
            "backgroundcolor": "#E5ECF6",
            "gridcolor": "white",
            "gridwidth": 2,
            "linecolor": "white",
            "showbackground": true,
            "ticks": "",
            "zerolinecolor": "white"
           }
          },
          "shapedefaults": {
           "line": {
            "color": "#2a3f5f"
           }
          },
          "ternary": {
           "aaxis": {
            "gridcolor": "white",
            "linecolor": "white",
            "ticks": ""
           },
           "baxis": {
            "gridcolor": "white",
            "linecolor": "white",
            "ticks": ""
           },
           "bgcolor": "#E5ECF6",
           "caxis": {
            "gridcolor": "white",
            "linecolor": "white",
            "ticks": ""
           }
          },
          "title": {
           "x": 0.05
          },
          "xaxis": {
           "automargin": true,
           "gridcolor": "white",
           "linecolor": "white",
           "ticks": "",
           "title": {
            "standoff": 15
           },
           "zerolinecolor": "white",
           "zerolinewidth": 2
          },
          "yaxis": {
           "automargin": true,
           "gridcolor": "white",
           "linecolor": "white",
           "ticks": "",
           "title": {
            "standoff": 15
           },
           "zerolinecolor": "white",
           "zerolinewidth": 2
          }
         }
        },
        "title": {
         "text": "Bottom 10 Least Happy Countries (Ladder Score)"
        },
        "xaxis": {
         "anchor": "y",
         "domain": [
          0,
          1
         ],
         "title": {
          "text": "Country Name"
         }
        },
        "yaxis": {
         "anchor": "x",
         "domain": [
          0,
          1
         ],
         "title": {
          "text": "Ladder Score"
         }
        }
       }
      }
     },
     "metadata": {},
     "output_type": "display_data"
    }
   ],
   "source": [
    "px.bar(\n",
    "    df_bottom10,\n",
    "    x=df_bottom10.index,\n",
    "    y=\"Ladder Score\",\n",
    "    color=\"Ladder Score\",\n",
    "    title=\"Bottom 10 Least Happy Countries (Ladder Score)\",\n",
    "    labels={\"Country Name\": \"Country Name\", \"Ladder Score\": \"Ladder Score\"},\n",
    "    height=500,\n",
    ")"
   ]
  },
  {
   "cell_type": "markdown",
   "id": "d9345d37",
   "metadata": {},
   "source": [
    "![Track Age vs Streams](screenshots/bottom-10-happiest-countries-bar.png)\n"
   ]
  },
  {
   "cell_type": "code",
   "execution_count": 25,
   "id": "8f9cab81",
   "metadata": {},
   "outputs": [
    {
     "data": {
      "application/vnd.plotly.v1+json": {
       "config": {
        "plotlyServerURL": "https://plot.ly"
       },
       "data": [
        {
         "domain": {
          "x": [
           0,
           1
          ],
          "y": [
           0,
           1
          ]
         },
         "hovertemplate": "Country Name=%{label}<br>Ladder Score=%{value}<extra></extra>",
         "labels": [
          "Afghanistan",
          "Lebanon",
          "Sierra Leone",
          "Zimbabwe",
          "Congo (Kinshasa)",
          "Botswana",
          "Malawi",
          "Comoros",
          "Tanzania",
          "Zambia"
         ],
         "legendgroup": "",
         "name": "",
         "showlegend": true,
         "type": "pie",
         "values": {
          "bdata": "WDm0yHa+/T+JQWDl0CIDQLTIdr6fGglAbxKDwMqhCUAOLbKd76cJQHsUrkfhegtA9ihcj8L1C0Bcj8L1KFwMQFpkO99PjQ1AQmDl0CLbD0A=",
          "dtype": "f8"
         }
        }
       ],
       "layout": {
        "legend": {
         "tracegroupgap": 0
        },
        "template": {
         "data": {
          "bar": [
           {
            "error_x": {
             "color": "#2a3f5f"
            },
            "error_y": {
             "color": "#2a3f5f"
            },
            "marker": {
             "line": {
              "color": "#E5ECF6",
              "width": 0.5
             },
             "pattern": {
              "fillmode": "overlay",
              "size": 10,
              "solidity": 0.2
             }
            },
            "type": "bar"
           }
          ],
          "barpolar": [
           {
            "marker": {
             "line": {
              "color": "#E5ECF6",
              "width": 0.5
             },
             "pattern": {
              "fillmode": "overlay",
              "size": 10,
              "solidity": 0.2
             }
            },
            "type": "barpolar"
           }
          ],
          "carpet": [
           {
            "aaxis": {
             "endlinecolor": "#2a3f5f",
             "gridcolor": "white",
             "linecolor": "white",
             "minorgridcolor": "white",
             "startlinecolor": "#2a3f5f"
            },
            "baxis": {
             "endlinecolor": "#2a3f5f",
             "gridcolor": "white",
             "linecolor": "white",
             "minorgridcolor": "white",
             "startlinecolor": "#2a3f5f"
            },
            "type": "carpet"
           }
          ],
          "choropleth": [
           {
            "colorbar": {
             "outlinewidth": 0,
             "ticks": ""
            },
            "type": "choropleth"
           }
          ],
          "contour": [
           {
            "colorbar": {
             "outlinewidth": 0,
             "ticks": ""
            },
            "colorscale": [
             [
              0,
              "#0d0887"
             ],
             [
              0.1111111111111111,
              "#46039f"
             ],
             [
              0.2222222222222222,
              "#7201a8"
             ],
             [
              0.3333333333333333,
              "#9c179e"
             ],
             [
              0.4444444444444444,
              "#bd3786"
             ],
             [
              0.5555555555555556,
              "#d8576b"
             ],
             [
              0.6666666666666666,
              "#ed7953"
             ],
             [
              0.7777777777777778,
              "#fb9f3a"
             ],
             [
              0.8888888888888888,
              "#fdca26"
             ],
             [
              1,
              "#f0f921"
             ]
            ],
            "type": "contour"
           }
          ],
          "contourcarpet": [
           {
            "colorbar": {
             "outlinewidth": 0,
             "ticks": ""
            },
            "type": "contourcarpet"
           }
          ],
          "heatmap": [
           {
            "colorbar": {
             "outlinewidth": 0,
             "ticks": ""
            },
            "colorscale": [
             [
              0,
              "#0d0887"
             ],
             [
              0.1111111111111111,
              "#46039f"
             ],
             [
              0.2222222222222222,
              "#7201a8"
             ],
             [
              0.3333333333333333,
              "#9c179e"
             ],
             [
              0.4444444444444444,
              "#bd3786"
             ],
             [
              0.5555555555555556,
              "#d8576b"
             ],
             [
              0.6666666666666666,
              "#ed7953"
             ],
             [
              0.7777777777777778,
              "#fb9f3a"
             ],
             [
              0.8888888888888888,
              "#fdca26"
             ],
             [
              1,
              "#f0f921"
             ]
            ],
            "type": "heatmap"
           }
          ],
          "histogram": [
           {
            "marker": {
             "pattern": {
              "fillmode": "overlay",
              "size": 10,
              "solidity": 0.2
             }
            },
            "type": "histogram"
           }
          ],
          "histogram2d": [
           {
            "colorbar": {
             "outlinewidth": 0,
             "ticks": ""
            },
            "colorscale": [
             [
              0,
              "#0d0887"
             ],
             [
              0.1111111111111111,
              "#46039f"
             ],
             [
              0.2222222222222222,
              "#7201a8"
             ],
             [
              0.3333333333333333,
              "#9c179e"
             ],
             [
              0.4444444444444444,
              "#bd3786"
             ],
             [
              0.5555555555555556,
              "#d8576b"
             ],
             [
              0.6666666666666666,
              "#ed7953"
             ],
             [
              0.7777777777777778,
              "#fb9f3a"
             ],
             [
              0.8888888888888888,
              "#fdca26"
             ],
             [
              1,
              "#f0f921"
             ]
            ],
            "type": "histogram2d"
           }
          ],
          "histogram2dcontour": [
           {
            "colorbar": {
             "outlinewidth": 0,
             "ticks": ""
            },
            "colorscale": [
             [
              0,
              "#0d0887"
             ],
             [
              0.1111111111111111,
              "#46039f"
             ],
             [
              0.2222222222222222,
              "#7201a8"
             ],
             [
              0.3333333333333333,
              "#9c179e"
             ],
             [
              0.4444444444444444,
              "#bd3786"
             ],
             [
              0.5555555555555556,
              "#d8576b"
             ],
             [
              0.6666666666666666,
              "#ed7953"
             ],
             [
              0.7777777777777778,
              "#fb9f3a"
             ],
             [
              0.8888888888888888,
              "#fdca26"
             ],
             [
              1,
              "#f0f921"
             ]
            ],
            "type": "histogram2dcontour"
           }
          ],
          "mesh3d": [
           {
            "colorbar": {
             "outlinewidth": 0,
             "ticks": ""
            },
            "type": "mesh3d"
           }
          ],
          "parcoords": [
           {
            "line": {
             "colorbar": {
              "outlinewidth": 0,
              "ticks": ""
             }
            },
            "type": "parcoords"
           }
          ],
          "pie": [
           {
            "automargin": true,
            "type": "pie"
           }
          ],
          "scatter": [
           {
            "fillpattern": {
             "fillmode": "overlay",
             "size": 10,
             "solidity": 0.2
            },
            "type": "scatter"
           }
          ],
          "scatter3d": [
           {
            "line": {
             "colorbar": {
              "outlinewidth": 0,
              "ticks": ""
             }
            },
            "marker": {
             "colorbar": {
              "outlinewidth": 0,
              "ticks": ""
             }
            },
            "type": "scatter3d"
           }
          ],
          "scattercarpet": [
           {
            "marker": {
             "colorbar": {
              "outlinewidth": 0,
              "ticks": ""
             }
            },
            "type": "scattercarpet"
           }
          ],
          "scattergeo": [
           {
            "marker": {
             "colorbar": {
              "outlinewidth": 0,
              "ticks": ""
             }
            },
            "type": "scattergeo"
           }
          ],
          "scattergl": [
           {
            "marker": {
             "colorbar": {
              "outlinewidth": 0,
              "ticks": ""
             }
            },
            "type": "scattergl"
           }
          ],
          "scattermap": [
           {
            "marker": {
             "colorbar": {
              "outlinewidth": 0,
              "ticks": ""
             }
            },
            "type": "scattermap"
           }
          ],
          "scattermapbox": [
           {
            "marker": {
             "colorbar": {
              "outlinewidth": 0,
              "ticks": ""
             }
            },
            "type": "scattermapbox"
           }
          ],
          "scatterpolar": [
           {
            "marker": {
             "colorbar": {
              "outlinewidth": 0,
              "ticks": ""
             }
            },
            "type": "scatterpolar"
           }
          ],
          "scatterpolargl": [
           {
            "marker": {
             "colorbar": {
              "outlinewidth": 0,
              "ticks": ""
             }
            },
            "type": "scatterpolargl"
           }
          ],
          "scatterternary": [
           {
            "marker": {
             "colorbar": {
              "outlinewidth": 0,
              "ticks": ""
             }
            },
            "type": "scatterternary"
           }
          ],
          "surface": [
           {
            "colorbar": {
             "outlinewidth": 0,
             "ticks": ""
            },
            "colorscale": [
             [
              0,
              "#0d0887"
             ],
             [
              0.1111111111111111,
              "#46039f"
             ],
             [
              0.2222222222222222,
              "#7201a8"
             ],
             [
              0.3333333333333333,
              "#9c179e"
             ],
             [
              0.4444444444444444,
              "#bd3786"
             ],
             [
              0.5555555555555556,
              "#d8576b"
             ],
             [
              0.6666666666666666,
              "#ed7953"
             ],
             [
              0.7777777777777778,
              "#fb9f3a"
             ],
             [
              0.8888888888888888,
              "#fdca26"
             ],
             [
              1,
              "#f0f921"
             ]
            ],
            "type": "surface"
           }
          ],
          "table": [
           {
            "cells": {
             "fill": {
              "color": "#EBF0F8"
             },
             "line": {
              "color": "white"
             }
            },
            "header": {
             "fill": {
              "color": "#C8D4E3"
             },
             "line": {
              "color": "white"
             }
            },
            "type": "table"
           }
          ]
         },
         "layout": {
          "annotationdefaults": {
           "arrowcolor": "#2a3f5f",
           "arrowhead": 0,
           "arrowwidth": 1
          },
          "autotypenumbers": "strict",
          "coloraxis": {
           "colorbar": {
            "outlinewidth": 0,
            "ticks": ""
           }
          },
          "colorscale": {
           "diverging": [
            [
             0,
             "#8e0152"
            ],
            [
             0.1,
             "#c51b7d"
            ],
            [
             0.2,
             "#de77ae"
            ],
            [
             0.3,
             "#f1b6da"
            ],
            [
             0.4,
             "#fde0ef"
            ],
            [
             0.5,
             "#f7f7f7"
            ],
            [
             0.6,
             "#e6f5d0"
            ],
            [
             0.7,
             "#b8e186"
            ],
            [
             0.8,
             "#7fbc41"
            ],
            [
             0.9,
             "#4d9221"
            ],
            [
             1,
             "#276419"
            ]
           ],
           "sequential": [
            [
             0,
             "#0d0887"
            ],
            [
             0.1111111111111111,
             "#46039f"
            ],
            [
             0.2222222222222222,
             "#7201a8"
            ],
            [
             0.3333333333333333,
             "#9c179e"
            ],
            [
             0.4444444444444444,
             "#bd3786"
            ],
            [
             0.5555555555555556,
             "#d8576b"
            ],
            [
             0.6666666666666666,
             "#ed7953"
            ],
            [
             0.7777777777777778,
             "#fb9f3a"
            ],
            [
             0.8888888888888888,
             "#fdca26"
            ],
            [
             1,
             "#f0f921"
            ]
           ],
           "sequentialminus": [
            [
             0,
             "#0d0887"
            ],
            [
             0.1111111111111111,
             "#46039f"
            ],
            [
             0.2222222222222222,
             "#7201a8"
            ],
            [
             0.3333333333333333,
             "#9c179e"
            ],
            [
             0.4444444444444444,
             "#bd3786"
            ],
            [
             0.5555555555555556,
             "#d8576b"
            ],
            [
             0.6666666666666666,
             "#ed7953"
            ],
            [
             0.7777777777777778,
             "#fb9f3a"
            ],
            [
             0.8888888888888888,
             "#fdca26"
            ],
            [
             1,
             "#f0f921"
            ]
           ]
          },
          "colorway": [
           "#636efa",
           "#EF553B",
           "#00cc96",
           "#ab63fa",
           "#FFA15A",
           "#19d3f3",
           "#FF6692",
           "#B6E880",
           "#FF97FF",
           "#FECB52"
          ],
          "font": {
           "color": "#2a3f5f"
          },
          "geo": {
           "bgcolor": "white",
           "lakecolor": "white",
           "landcolor": "#E5ECF6",
           "showlakes": true,
           "showland": true,
           "subunitcolor": "white"
          },
          "hoverlabel": {
           "align": "left"
          },
          "hovermode": "closest",
          "mapbox": {
           "style": "light"
          },
          "paper_bgcolor": "white",
          "plot_bgcolor": "#E5ECF6",
          "polar": {
           "angularaxis": {
            "gridcolor": "white",
            "linecolor": "white",
            "ticks": ""
           },
           "bgcolor": "#E5ECF6",
           "radialaxis": {
            "gridcolor": "white",
            "linecolor": "white",
            "ticks": ""
           }
          },
          "scene": {
           "xaxis": {
            "backgroundcolor": "#E5ECF6",
            "gridcolor": "white",
            "gridwidth": 2,
            "linecolor": "white",
            "showbackground": true,
            "ticks": "",
            "zerolinecolor": "white"
           },
           "yaxis": {
            "backgroundcolor": "#E5ECF6",
            "gridcolor": "white",
            "gridwidth": 2,
            "linecolor": "white",
            "showbackground": true,
            "ticks": "",
            "zerolinecolor": "white"
           },
           "zaxis": {
            "backgroundcolor": "#E5ECF6",
            "gridcolor": "white",
            "gridwidth": 2,
            "linecolor": "white",
            "showbackground": true,
            "ticks": "",
            "zerolinecolor": "white"
           }
          },
          "shapedefaults": {
           "line": {
            "color": "#2a3f5f"
           }
          },
          "ternary": {
           "aaxis": {
            "gridcolor": "white",
            "linecolor": "white",
            "ticks": ""
           },
           "baxis": {
            "gridcolor": "white",
            "linecolor": "white",
            "ticks": ""
           },
           "bgcolor": "#E5ECF6",
           "caxis": {
            "gridcolor": "white",
            "linecolor": "white",
            "ticks": ""
           }
          },
          "title": {
           "x": 0.05
          },
          "xaxis": {
           "automargin": true,
           "gridcolor": "white",
           "linecolor": "white",
           "ticks": "",
           "title": {
            "standoff": 15
           },
           "zerolinecolor": "white",
           "zerolinewidth": 2
          },
          "yaxis": {
           "automargin": true,
           "gridcolor": "white",
           "linecolor": "white",
           "ticks": "",
           "title": {
            "standoff": 15
           },
           "zerolinecolor": "white",
           "zerolinewidth": 2
          }
         }
        },
        "title": {
         "text": "Bottom 10 Least Happy Countries (Ladder Score)"
        }
       }
      }
     },
     "metadata": {},
     "output_type": "display_data"
    }
   ],
   "source": [
    "px.pie(\n",
    "    df_bottom10,\n",
    "    names=df_bottom10.index,\n",
    "    values=\"Ladder Score\",\n",
    "    title=\"Bottom 10 Least Happy Countries (Ladder Score)\",\n",
    ")"
   ]
  },
  {
   "cell_type": "markdown",
   "id": "96b4aab2",
   "metadata": {},
   "source": [
    "![Track Age vs Streams](screenshots/bottom-10-happiest-countries-pie.png)\n"
   ]
  },
  {
   "cell_type": "markdown",
   "id": "aaf0bcfa",
   "metadata": {},
   "source": [
    "## Scatter Plot: Ladder Score vs Social Support  \n",
    "\n",
    "This scatter plot examines the relationship between **Social Support** and **Ladder Score** across all countries.  \n",
    "\n",
    "**Key Observations:**  \n",
    "- There is a **strong positive correlation**: countries with higher social support generally have higher happiness scores.  \n",
    "- **Nordic countries** (Finland, Denmark, Iceland) cluster at the top-right, showing **high social support and very high happiness**.  \n",
    "- **Bottom-ranking countries** (Afghanistan, Lebanon, Sierra Leone) are at the bottom-left, reflecting **low social support and low happiness**.  \n",
    "- The trendline (OLS regression) confirms that **social support is one of the most significant drivers of happiness globally**.  \n",
    "- Outliers are minimal, suggesting that social support consistently affects well-being across diverse regions.  \n",
    "\n",
    "**Conclusion:**  \n",
    "- Social support is a **key predictor of happiness**, highlighting the importance of strong social networks and safety nets in improving national well-being.  "
   ]
  },
  {
   "cell_type": "code",
   "execution_count": 45,
   "id": "502b533f",
   "metadata": {},
   "outputs": [
    {
     "data": {
      "application/vnd.plotly.v1+json": {
       "config": {
        "plotlyServerURL": "https://plot.ly"
       },
       "data": [
        {
         "hovertemplate": "<b>%{hovertext}</b><br><br>Social Support=%{x}<br>Ladder Score=%{y}<extra></extra>",
         "hovertext": [
          "Finland",
          "Denmark",
          "Iceland",
          "Israel",
          "Netherlands",
          "Sweden",
          "Norway",
          "Switzerland",
          "Luxembourg",
          "New Zealand",
          "Austria",
          "Australia",
          "Canada",
          "Ireland",
          "United States",
          "Germany",
          "Belgium",
          "Czechia",
          "United Kingdom",
          "Lithuania",
          "France",
          "Slovenia",
          "Costa Rica",
          "Romania",
          "Singapore",
          "United Arab Emirates",
          "Taiwan Province of China",
          "Uruguay",
          "Slovakia",
          "Saudi Arabia",
          "Estonia",
          "Spain",
          "Italy",
          "Kosovo",
          "Chile",
          "Mexico",
          "Malta",
          "Panama",
          "Poland",
          "Nicaragua",
          "Latvia",
          "Bahrain",
          "Guatemala",
          "Kazakhstan",
          "Serbia",
          "Cyprus",
          "Japan",
          "Croatia",
          "Brazil",
          "El Salvador",
          "Hungary",
          "Argentina",
          "Honduras",
          "Uzbekistan",
          "Malaysia",
          "Portugal",
          "South Korea",
          "Greece",
          "Mauritius",
          "Thailand",
          "Mongolia",
          "Kyrgyzstan",
          "Moldova",
          "China",
          "Vietnam",
          "Paraguay",
          "Montenegro",
          "Jamaica",
          "Bolivia",
          "Russia",
          "Bosnia and Herzegovina",
          "Colombia",
          "Dominican Republic",
          "Ecuador",
          "Peru",
          "Philippines",
          "Bulgaria",
          "Nepal",
          "Armenia",
          "Tajikistan",
          "Algeria",
          "Hong Kong S.A.R. of China",
          "Albania",
          "Indonesia",
          "South Africa",
          "Congo (Brazzaville)",
          "North Macedonia",
          "Venezuela",
          "Laos",
          "Georgia",
          "Guinea",
          "Ukraine",
          "Ivory Coast",
          "Gabon",
          "Nigeria",
          "Cameroon",
          "Mozambique",
          "Iraq",
          "Morocco",
          "Iran",
          "Senegal",
          "Mauritania",
          "Burkina Faso",
          "Namibia",
          "Turkiye",
          "Ghana",
          "Pakistan",
          "Niger",
          "Tunisia",
          "Kenya",
          "Sri Lanka",
          "Uganda",
          "Chad",
          "Cambodia",
          "Benin",
          "Myanmar",
          "Bangladesh",
          "Gambia",
          "Mali",
          "Egypt",
          "Togo",
          "Jordan",
          "Ethiopia",
          "Liberia",
          "India",
          "Madagascar",
          "Zambia",
          "Tanzania",
          "Comoros",
          "Malawi",
          "Botswana",
          "Congo (Kinshasa)",
          "Zimbabwe",
          "Sierra Leone",
          "Lebanon",
          "Afghanistan"
         ],
         "legendgroup": "",
         "marker": {
          "color": "#F28E2B",
          "opacity": 0.7,
          "symbol": "circle"
         },
         "mode": "markers",
         "name": "",
         "orientation": "v",
         "showlegend": false,
         "type": "scatter",
         "x": {
          "bdata": "NV66SQwC7z+6SQwCK4fuP9v5fmq8dO8/kxgEVg4t7j/D9Shcj8LtPz81XrpJDO4/kxgEVg4t7j9xPQrXo3DtP1TjpZvEIOw/EFg5tMh27j/RItv5fmrsPxfZzvdT4+0/7nw/NV667T/2KFyPwvXsP5zEILByaO0/eekmMQis7D9I4XoUrkftP+XQItv5fu4/001iEFg57D8/NV66SQzuP0oMAiuHFu0/O99PjZdu7j+BlUOLbOfrP4lBYOXQIus/f2q8dJMY7D8730+Nl27qP30/NV66Sew/nu+nxks37T/l0CLb+X7uP30/NV66Sew/EoPAyqFF7j9t5/up8dLtP9NNYhBYOew/NV66SQwC6z+mm8QgsHLsP+58PzVeuuk/8KfGSzeJ7T956SYxCKzsP5qZmZmZme0/sp3vp8ZL6z+WQ4ts5/vtPzVeukkMAus/lkOLbOf76T+YbhKDwMrtP1YOLbKd7+s/O99PjZdu6j/P91PjpZvsP/LSTWIQWO0/jZduEoPA6j8pXI/C9SjoP5MYBFYOLe4/UI2XbhKD7D9QjZduEoPoPwAAAAAAAOw/xSCwcmiR6T9/arx0kxjsP5ZDi2zn++k/uB6F61G46j/RItv5fmrsPyuHFtnO9+s/QmDl0CLb7T/0/dR46SbtPwaBlUOLbOs/jZduEoPA6j8Sg8DKoUXqP8uhRbbz/ew/exSuR+F67D9YObTIdr7rP8HKoUW28+k/ppvEILBy7D8pXI/C9SjsP+f7qfHSTeo/EFg5tMh26j+YbhKDwMrpP/Cnxks3iek/9ihcj8L16D/HSzeJQWDtP1YOLbKd7+c/SOF6FK5H6T+Nl24Sg8DqP1yPwvUoXOs/vp8aL90k6j9g5dAi2/nmP+58PzVeuuk/oBov3SQG7T9cj8L1KFzjP8P1KFyPwuk/DAIrhxbZ6j/ufD81XrrlP7bz/dR46eY/+FPjpZvE5D9/arx0kxjsP+f7qfHSTeI/rBxaZDvf5z+uR+F6FK7nP8HKoUW28+U/vp8aL90k5j9g5dAi2/nmPxkEVg4tsuE/TDeJQWDl6D9U46WbxCDkP8/3U+Olm+Q/nu+nxks35T/Jdr6fGi/pP0a28/3UeOk/UI2XbhKD5D8IrBxaZDvjP+F6FK5H4eI/XI/C9Shc5z8UrkfhehTmPzvfT42Xbuo/nMQgsHJo6T+0yHa+nxrnP4GVQ4ts5+c/K4cW2c732z/Jdr6fGi/pP5zEILByaOE/46WbxCCw4j9g5dAi2/niPwisHFpkO+c/CtejcD0K4z+HFtnO91PnP6AaL90kBuk/30+Nl24S4z/b+X5qvHTjP83MzMzMzOQ/aJHtfD815j9MN4lBYOXkP76fGi/dJN4/y6FFtvP94D9/arx0kxjoP3e+nxov3eQ/FK5H4XoU5j/D9Shcj8LhP/YoXI/C9eA/bef7qfHS1T8=",
          "dtype": "f8"
         },
         "xaxis": "x",
         "y": {
          "bdata": "nu+nxks3H0Dy0k1iEFgeQB+F61G4Hh5AMQisHFrkHUDpJjEIrJwdQBSuR+F6lB1Aw/UoXI9CHUD2KFyPwvUcQLbz/dR46RxAy6FFtvN9HEAX2c73U2McQOF6FK5HYRxA8tJNYhDYG0C+nxov3aQbQPp+arx0kxtAxSCwcmiRG0BWDi2ynW8bQOF6FK5HYRtAyXa+nxovG0BaZDvfTw0bQL6fGi/dpBpAmpmZmZmZGkBWDi2ynW8aQEJg5dAiWxpADAIrhxZZGkBiEFg5tEgaQKRwPQrXIxpAYOXQItv5GUDHSzeJQeAZQCcxCKwc2hlAUrgehevRGUBYObTIdr4ZQB+F61G4nhlARrbz/dR4GUC8dJMYBFYZQFK4HoXrURlAMzMzMzMzGUCPwvUoXA8ZQArXo3A9ChlA8KfGSzcJGUAnMQisHNoYQP7UeOkmsRhAmpmZmZmZGED6fmq8dJMYQPp+arx0kxhAhetRuB6FGEBqvHSTGIQYQAAAAAAAgBhAAAAAAACAGECwcmiR7XwYQESLbOf7KRhAf2q8dJMYGEBkO99PjRcYQHWTGARWDhhAPzVeukkMGECsHFpkO98XQOf7qfHSzRdA001iEFi5F0DP91PjpZsXQKwcWmQ7XxdAXI/C9ShcF0DNzMzMzEwXQC2yne+nRhdAEoPAyqFFF0BaZDvfTw0XQMHKoUW28xZAF9nO91PjFkAdWmQ7388WQCPb+X5qvBZAvp8aL92kFkDVeOkmMYgWQIXrUbgehRZALbKd76dGFkAj2/l+ajwWQLTIdr6fGhZAZDvfT40XFkB3vp8aL90VQHE9CtejcBVAke18PzVeFUBSuB6F61EVQDeJQWDlUBVACKwcWmQ7FUDP91PjpRsVQM/3U+OlGxVAmpmZmZkZFUDFILByaBEVQGq8dJMYBBVA8tJNYhDYFECLbOf7qXEUQFYOLbKdbxRAfT81XrpJFEBiEFg5tEgUQIPAyqFFNhRApHA9CtcjFEAGgZVDi+wTQDEIrBxa5BNAN4lBYOXQE0DdJAaBlcMTQOkmMQisnBNAGy/dJAaBE0DsUbgehWsTQEw3iUFg5RJAWmQ730+NEkCgGi/dJIYSQNv5fmq8dBJA7FG4HoVrEkC4HoXrUTgSQBsv3SQGARJAsHJoke38EUCmm8QgsPIRQPhT46WbxBFA7nw/NV66EUBKDAIrh5YRQN9PjZdukhFA5dAi2/l+EUCwcmiR7XwRQFTjpZvEIBFABFYOLbIdEUCYbhKDwMoQQK5H4XoUrhBAPzVeukmMEEB7FK5H4XoQQHe+nxovXRBAXrpJDAIrEEC+nxov3SQQQPp+arx0ExBAQmDl0CLbD0BaZDvfT40NQFyPwvUoXAxA9ihcj8L1C0B7FK5H4XoLQA4tsp3vpwlAbxKDwMqhCUC0yHa+nxoJQIlBYOXQIgNAWDm0yHa+/T8=",
          "dtype": "f8"
         },
         "yaxis": "y"
        },
        {
         "hovertemplate": "<b>OLS trendline</b><br>Ladder Score = 7.39036 * Social Support + -0.357737<br>R<sup>2</sup>=0.702339<br><br>Social Support=%{x}<br>Ladder Score=%{y} <b>(trend)</b><extra></extra>",
         "legendgroup": "",
         "marker": {
          "color": "#F28E2B",
          "symbol": "circle"
         },
         "mode": "lines",
         "name": "",
         "showlegend": false,
         "type": "scatter",
         "x": {
          "bdata": "bef7qfHS1T8rhxbZzvfbP76fGi/dJN4/9ihcj8L14D/LoUW28/3gP5zEILByaOE/GQRWDi2y4T/D9Shcj8LhP+f7qfHSTeI/46WbxCCw4j/hehSuR+HiP2Dl0CLb+eI/CtejcD0K4z/fT42XbhLjPwisHFpkO+M/XI/C9Shc4z/b+X5qvHTjP1TjpZvEIOQ/UI2XbhKD5D/P91PjpZvkP/hT46WbxOQ/zczMzMzM5D93vp8aL93kP0w3iUFg5eQ/nu+nxks35T/ufD81XrrlP8HKoUW28+U/FK5H4XoU5j8UrkfhehTmP76fGi/dJOY/aJHtfD815j+28/3UeOnmP2Dl0CLb+eY/YOXQItv55j+0yHa+nxrnPwisHFpkO+c/hxbZzvdT5z9cj8L1KFznP65H4XoUruc/rBxaZDvf5z+BlUOLbOfnP1YOLbKd7+c/f2q8dJMY6D8pXI/C9SjoP1CNl24Sg+g/TDeJQWDl6D/2KFyPwvXoP6AaL90kBuk/yXa+nxov6T/Jdr6fGi/pP0jhehSuR+k/nMQgsHJo6T9GtvP91HjpP/Cnxks3iek/xSCwcmiR6T/ufD81XrrpP+58PzVeuuk/w/UoXI/C6T+YbhKDwMrpP8HKoUW28+k/lkOLbOf76T+WQ4ts5/vpP76fGi/dJOo/EoPAyqFF6j/n+6nx0k3qPzvfT42Xbuo/O99PjZdu6j8730+Nl27qPxBYObTIduo/uB6F61G46j+Nl24Sg8DqP42XbhKDwOo/jZduEoPA6j8MAiuHFtnqPzVeukkMAus/NV66SQwC6z+JQWDl0CLrP7Kd76fGS+s/XI/C9Shc6z8GgZVDi2zrP1g5tMh2vus/gZVDi2zn6z9WDi2yne/rPyuHFtnO9+s/AAAAAAAA7D9/arx0kxjsP39qvHSTGOw/f2q8dJMY7D9U46WbxCDsPylcj8L1KOw/001iEFg57D/TTWIQWDnsP30/NV66Sew/fT81XrpJ7D/RItv5fmrsP9Ei2/l+auw/ppvEILBy7D+mm8QgsHLsP3sUrkfheuw/UI2XbhKD7D/P91PjpZvsP3npJjEIrOw/eekmMQis7D/2KFyPwvXsP8uhRbbz/ew/oBov3SQG7T9KDAIrhxbtP/T91HjpJu0/nu+nxks37T9I4XoUrkftP/LSTWIQWO0/x0s3iUFg7T+cxCCwcmjtP3E9CtejcO0/8KfGSzeJ7T+amZmZmZntP+58PzVeuu0/w/UoXI/C7T+YbhKDwMrtP23n+6nx0u0/QmDl0CLb7T8X2c73U+PtP5ZDi2zn++0/PzVeukkM7j8/NV66SQzuP5MYBFYOLe4/kxgEVg4t7j+TGARWDi3uPxKDwMqhRe4/O99PjZdu7j8QWDm0yHbuP+XQItv5fu4/5dAi2/l+7j+6SQwCK4fuPzVeukkMAu8/2/l+arx07z8=",
          "dtype": "f8"
         },
         "xaxis": "x",
         "y": {
          "bdata": "02JGMYtMAUAOOukFjPkGQEjm4vsm/AhAkPrm0yR5DEDOrMiAR4gMQPO5PkgKTQ1AIf4tXELVDUCdYvG1h/MNQLk47jDV9A5AoZOCS3WqD0CKYGasogIQQOjruK9WGRBAJJ6aXHkoEEBEdwuzCjAQQN60P2PhVRBAWhkDvSZ0EEC4pFXA2ooQQEJ0l9fGKRFAtqHh5JaEEUAULTToSpsRQK5qaJghwRFAzkPZ7rLIEUAM9rqb1dcRQCrPK/Jm3xFAYEqUUhQrEkBQ3KG5KaQSQCjMtxYj2RJApDB7cGj3EkCkMHtwaPcSQOLiXB2LBhNAIJU+yq0VE0DKPfE3K7wTQAjw0uRNyxNACPDS5E3LE0CCVJY+k+kTQP64WZjYBxRAXESsm4weFEB6HR3yHSYUQLCYhVLLcRRAaq8qWTOfFECKiJuvxKYUQKhhDAZWrhRARJ9AtizUFECCUSJjT+MUQNal+xmONhVAStNFJ16RFUCIhSfUgKAVQMY3CYGjrxVAYHU9MXrVFUBgdT0xetUVQL4AkDQu7BVAOmVTjnMKFkB4FzU7lhkWQLbJFui4KBZA1KKHPkowFkBw4LvuIFYWQHDgu+4gVhZAjrksRbJdFkCukp2bQ2UWQEjQ0UsaixZAaKlCoquSFkBoqUKiq5IWQALndlKCuBZAfks6rMfWFkCcJKsCWd4WQBiJblye/BZAGIluXJ78FkAYiW5cnvwWQDhi37IvBBdAMCtmZrpAF0BOBNe8S0gXQE4E17xLSBdATgTXvEtIF0CsjynA/14XQEbNXXDWhBdARs1dcNaEF0DCMSHKG6MXQFxvVXryyBdAmiE3JxXYF0DY0xjUN+cXQA5PgTTlMhhAqoy15LtYGEDIZSY7TWAYQOg+l5HeZxhABhgI6G9vGEBko1rrI4YYQGSjWusjhhhAZKNa6yOGGECCfMtBtY0YQKJVPJhGlRhA4AceRWmkGEDgBx5FaaQYQB66//GLsxhAHrr/8YuzGECaHsNL0dEYQJoew0vR0RhAuPczomLZGEC49zOiYtkYQNjQpPjz4BhA9qkVT4XoGEBUNWhSOf8YQJLnSf9bDhlAkudJ/1sOGUCoiUEJeFIZQMZisl8JWhlA5jsjtpphGUAk7gRjvXAZQGKg5g/gfxlAoFLIvAKPGUDeBKppJZ4ZQBy3ixZIrRlAOpD8bNm0GUBaaW3DarwZQHhC3hn8wxlA1s0wHbDaGUAUgBLK0ukZQJDk1SMYCBpArr1GeqkPGkDOlrfQOhcaQOxvKCfMHhpADEmZfV0mGkAqIgrU7i0aQIitXNeiRBpAxF8+hMVTGkDEXz6ExVMaQEDEAd4KchpAQMQB3gpyGkBAxAHeCnIaQJ5PVOG+iBpAOI2IkZWuGkBYZvnnJrYaQHY/aj64vRpAdj9qPri9GkCWGNuUScUaQGbRd6XNNhtAGLGjX8CgG0A=",
          "dtype": "f8"
         },
         "yaxis": "y"
        }
       ],
       "layout": {
        "legend": {
         "tracegroupgap": 0
        },
        "template": {
         "data": {
          "bar": [
           {
            "error_x": {
             "color": "#2a3f5f"
            },
            "error_y": {
             "color": "#2a3f5f"
            },
            "marker": {
             "line": {
              "color": "#E5ECF6",
              "width": 0.5
             },
             "pattern": {
              "fillmode": "overlay",
              "size": 10,
              "solidity": 0.2
             }
            },
            "type": "bar"
           }
          ],
          "barpolar": [
           {
            "marker": {
             "line": {
              "color": "#E5ECF6",
              "width": 0.5
             },
             "pattern": {
              "fillmode": "overlay",
              "size": 10,
              "solidity": 0.2
             }
            },
            "type": "barpolar"
           }
          ],
          "carpet": [
           {
            "aaxis": {
             "endlinecolor": "#2a3f5f",
             "gridcolor": "white",
             "linecolor": "white",
             "minorgridcolor": "white",
             "startlinecolor": "#2a3f5f"
            },
            "baxis": {
             "endlinecolor": "#2a3f5f",
             "gridcolor": "white",
             "linecolor": "white",
             "minorgridcolor": "white",
             "startlinecolor": "#2a3f5f"
            },
            "type": "carpet"
           }
          ],
          "choropleth": [
           {
            "colorbar": {
             "outlinewidth": 0,
             "ticks": ""
            },
            "type": "choropleth"
           }
          ],
          "contour": [
           {
            "colorbar": {
             "outlinewidth": 0,
             "ticks": ""
            },
            "colorscale": [
             [
              0,
              "#0d0887"
             ],
             [
              0.1111111111111111,
              "#46039f"
             ],
             [
              0.2222222222222222,
              "#7201a8"
             ],
             [
              0.3333333333333333,
              "#9c179e"
             ],
             [
              0.4444444444444444,
              "#bd3786"
             ],
             [
              0.5555555555555556,
              "#d8576b"
             ],
             [
              0.6666666666666666,
              "#ed7953"
             ],
             [
              0.7777777777777778,
              "#fb9f3a"
             ],
             [
              0.8888888888888888,
              "#fdca26"
             ],
             [
              1,
              "#f0f921"
             ]
            ],
            "type": "contour"
           }
          ],
          "contourcarpet": [
           {
            "colorbar": {
             "outlinewidth": 0,
             "ticks": ""
            },
            "type": "contourcarpet"
           }
          ],
          "heatmap": [
           {
            "colorbar": {
             "outlinewidth": 0,
             "ticks": ""
            },
            "colorscale": [
             [
              0,
              "#0d0887"
             ],
             [
              0.1111111111111111,
              "#46039f"
             ],
             [
              0.2222222222222222,
              "#7201a8"
             ],
             [
              0.3333333333333333,
              "#9c179e"
             ],
             [
              0.4444444444444444,
              "#bd3786"
             ],
             [
              0.5555555555555556,
              "#d8576b"
             ],
             [
              0.6666666666666666,
              "#ed7953"
             ],
             [
              0.7777777777777778,
              "#fb9f3a"
             ],
             [
              0.8888888888888888,
              "#fdca26"
             ],
             [
              1,
              "#f0f921"
             ]
            ],
            "type": "heatmap"
           }
          ],
          "histogram": [
           {
            "marker": {
             "pattern": {
              "fillmode": "overlay",
              "size": 10,
              "solidity": 0.2
             }
            },
            "type": "histogram"
           }
          ],
          "histogram2d": [
           {
            "colorbar": {
             "outlinewidth": 0,
             "ticks": ""
            },
            "colorscale": [
             [
              0,
              "#0d0887"
             ],
             [
              0.1111111111111111,
              "#46039f"
             ],
             [
              0.2222222222222222,
              "#7201a8"
             ],
             [
              0.3333333333333333,
              "#9c179e"
             ],
             [
              0.4444444444444444,
              "#bd3786"
             ],
             [
              0.5555555555555556,
              "#d8576b"
             ],
             [
              0.6666666666666666,
              "#ed7953"
             ],
             [
              0.7777777777777778,
              "#fb9f3a"
             ],
             [
              0.8888888888888888,
              "#fdca26"
             ],
             [
              1,
              "#f0f921"
             ]
            ],
            "type": "histogram2d"
           }
          ],
          "histogram2dcontour": [
           {
            "colorbar": {
             "outlinewidth": 0,
             "ticks": ""
            },
            "colorscale": [
             [
              0,
              "#0d0887"
             ],
             [
              0.1111111111111111,
              "#46039f"
             ],
             [
              0.2222222222222222,
              "#7201a8"
             ],
             [
              0.3333333333333333,
              "#9c179e"
             ],
             [
              0.4444444444444444,
              "#bd3786"
             ],
             [
              0.5555555555555556,
              "#d8576b"
             ],
             [
              0.6666666666666666,
              "#ed7953"
             ],
             [
              0.7777777777777778,
              "#fb9f3a"
             ],
             [
              0.8888888888888888,
              "#fdca26"
             ],
             [
              1,
              "#f0f921"
             ]
            ],
            "type": "histogram2dcontour"
           }
          ],
          "mesh3d": [
           {
            "colorbar": {
             "outlinewidth": 0,
             "ticks": ""
            },
            "type": "mesh3d"
           }
          ],
          "parcoords": [
           {
            "line": {
             "colorbar": {
              "outlinewidth": 0,
              "ticks": ""
             }
            },
            "type": "parcoords"
           }
          ],
          "pie": [
           {
            "automargin": true,
            "type": "pie"
           }
          ],
          "scatter": [
           {
            "fillpattern": {
             "fillmode": "overlay",
             "size": 10,
             "solidity": 0.2
            },
            "type": "scatter"
           }
          ],
          "scatter3d": [
           {
            "line": {
             "colorbar": {
              "outlinewidth": 0,
              "ticks": ""
             }
            },
            "marker": {
             "colorbar": {
              "outlinewidth": 0,
              "ticks": ""
             }
            },
            "type": "scatter3d"
           }
          ],
          "scattercarpet": [
           {
            "marker": {
             "colorbar": {
              "outlinewidth": 0,
              "ticks": ""
             }
            },
            "type": "scattercarpet"
           }
          ],
          "scattergeo": [
           {
            "marker": {
             "colorbar": {
              "outlinewidth": 0,
              "ticks": ""
             }
            },
            "type": "scattergeo"
           }
          ],
          "scattergl": [
           {
            "marker": {
             "colorbar": {
              "outlinewidth": 0,
              "ticks": ""
             }
            },
            "type": "scattergl"
           }
          ],
          "scattermap": [
           {
            "marker": {
             "colorbar": {
              "outlinewidth": 0,
              "ticks": ""
             }
            },
            "type": "scattermap"
           }
          ],
          "scattermapbox": [
           {
            "marker": {
             "colorbar": {
              "outlinewidth": 0,
              "ticks": ""
             }
            },
            "type": "scattermapbox"
           }
          ],
          "scatterpolar": [
           {
            "marker": {
             "colorbar": {
              "outlinewidth": 0,
              "ticks": ""
             }
            },
            "type": "scatterpolar"
           }
          ],
          "scatterpolargl": [
           {
            "marker": {
             "colorbar": {
              "outlinewidth": 0,
              "ticks": ""
             }
            },
            "type": "scatterpolargl"
           }
          ],
          "scatterternary": [
           {
            "marker": {
             "colorbar": {
              "outlinewidth": 0,
              "ticks": ""
             }
            },
            "type": "scatterternary"
           }
          ],
          "surface": [
           {
            "colorbar": {
             "outlinewidth": 0,
             "ticks": ""
            },
            "colorscale": [
             [
              0,
              "#0d0887"
             ],
             [
              0.1111111111111111,
              "#46039f"
             ],
             [
              0.2222222222222222,
              "#7201a8"
             ],
             [
              0.3333333333333333,
              "#9c179e"
             ],
             [
              0.4444444444444444,
              "#bd3786"
             ],
             [
              0.5555555555555556,
              "#d8576b"
             ],
             [
              0.6666666666666666,
              "#ed7953"
             ],
             [
              0.7777777777777778,
              "#fb9f3a"
             ],
             [
              0.8888888888888888,
              "#fdca26"
             ],
             [
              1,
              "#f0f921"
             ]
            ],
            "type": "surface"
           }
          ],
          "table": [
           {
            "cells": {
             "fill": {
              "color": "#EBF0F8"
             },
             "line": {
              "color": "white"
             }
            },
            "header": {
             "fill": {
              "color": "#C8D4E3"
             },
             "line": {
              "color": "white"
             }
            },
            "type": "table"
           }
          ]
         },
         "layout": {
          "annotationdefaults": {
           "arrowcolor": "#2a3f5f",
           "arrowhead": 0,
           "arrowwidth": 1
          },
          "autotypenumbers": "strict",
          "coloraxis": {
           "colorbar": {
            "outlinewidth": 0,
            "ticks": ""
           }
          },
          "colorscale": {
           "diverging": [
            [
             0,
             "#8e0152"
            ],
            [
             0.1,
             "#c51b7d"
            ],
            [
             0.2,
             "#de77ae"
            ],
            [
             0.3,
             "#f1b6da"
            ],
            [
             0.4,
             "#fde0ef"
            ],
            [
             0.5,
             "#f7f7f7"
            ],
            [
             0.6,
             "#e6f5d0"
            ],
            [
             0.7,
             "#b8e186"
            ],
            [
             0.8,
             "#7fbc41"
            ],
            [
             0.9,
             "#4d9221"
            ],
            [
             1,
             "#276419"
            ]
           ],
           "sequential": [
            [
             0,
             "#0d0887"
            ],
            [
             0.1111111111111111,
             "#46039f"
            ],
            [
             0.2222222222222222,
             "#7201a8"
            ],
            [
             0.3333333333333333,
             "#9c179e"
            ],
            [
             0.4444444444444444,
             "#bd3786"
            ],
            [
             0.5555555555555556,
             "#d8576b"
            ],
            [
             0.6666666666666666,
             "#ed7953"
            ],
            [
             0.7777777777777778,
             "#fb9f3a"
            ],
            [
             0.8888888888888888,
             "#fdca26"
            ],
            [
             1,
             "#f0f921"
            ]
           ],
           "sequentialminus": [
            [
             0,
             "#0d0887"
            ],
            [
             0.1111111111111111,
             "#46039f"
            ],
            [
             0.2222222222222222,
             "#7201a8"
            ],
            [
             0.3333333333333333,
             "#9c179e"
            ],
            [
             0.4444444444444444,
             "#bd3786"
            ],
            [
             0.5555555555555556,
             "#d8576b"
            ],
            [
             0.6666666666666666,
             "#ed7953"
            ],
            [
             0.7777777777777778,
             "#fb9f3a"
            ],
            [
             0.8888888888888888,
             "#fdca26"
            ],
            [
             1,
             "#f0f921"
            ]
           ]
          },
          "colorway": [
           "#636efa",
           "#EF553B",
           "#00cc96",
           "#ab63fa",
           "#FFA15A",
           "#19d3f3",
           "#FF6692",
           "#B6E880",
           "#FF97FF",
           "#FECB52"
          ],
          "font": {
           "color": "#2a3f5f"
          },
          "geo": {
           "bgcolor": "white",
           "lakecolor": "white",
           "landcolor": "#E5ECF6",
           "showlakes": true,
           "showland": true,
           "subunitcolor": "white"
          },
          "hoverlabel": {
           "align": "left"
          },
          "hovermode": "closest",
          "mapbox": {
           "style": "light"
          },
          "paper_bgcolor": "white",
          "plot_bgcolor": "#E5ECF6",
          "polar": {
           "angularaxis": {
            "gridcolor": "white",
            "linecolor": "white",
            "ticks": ""
           },
           "bgcolor": "#E5ECF6",
           "radialaxis": {
            "gridcolor": "white",
            "linecolor": "white",
            "ticks": ""
           }
          },
          "scene": {
           "xaxis": {
            "backgroundcolor": "#E5ECF6",
            "gridcolor": "white",
            "gridwidth": 2,
            "linecolor": "white",
            "showbackground": true,
            "ticks": "",
            "zerolinecolor": "white"
           },
           "yaxis": {
            "backgroundcolor": "#E5ECF6",
            "gridcolor": "white",
            "gridwidth": 2,
            "linecolor": "white",
            "showbackground": true,
            "ticks": "",
            "zerolinecolor": "white"
           },
           "zaxis": {
            "backgroundcolor": "#E5ECF6",
            "gridcolor": "white",
            "gridwidth": 2,
            "linecolor": "white",
            "showbackground": true,
            "ticks": "",
            "zerolinecolor": "white"
           }
          },
          "shapedefaults": {
           "line": {
            "color": "#2a3f5f"
           }
          },
          "ternary": {
           "aaxis": {
            "gridcolor": "white",
            "linecolor": "white",
            "ticks": ""
           },
           "baxis": {
            "gridcolor": "white",
            "linecolor": "white",
            "ticks": ""
           },
           "bgcolor": "#E5ECF6",
           "caxis": {
            "gridcolor": "white",
            "linecolor": "white",
            "ticks": ""
           }
          },
          "title": {
           "x": 0.05
          },
          "xaxis": {
           "automargin": true,
           "gridcolor": "white",
           "linecolor": "white",
           "ticks": "",
           "title": {
            "standoff": 15
           },
           "zerolinecolor": "white",
           "zerolinewidth": 2
          },
          "yaxis": {
           "automargin": true,
           "gridcolor": "white",
           "linecolor": "white",
           "ticks": "",
           "title": {
            "standoff": 15
           },
           "zerolinecolor": "white",
           "zerolinewidth": 2
          }
         }
        },
        "title": {
         "text": "Ladder Score vs Social Support"
        },
        "xaxis": {
         "anchor": "y",
         "domain": [
          0,
          1
         ],
         "title": {
          "text": "Social Support"
         }
        },
        "yaxis": {
         "anchor": "x",
         "domain": [
          0,
          1
         ],
         "title": {
          "text": "Ladder Score"
         }
        }
       }
      }
     },
     "metadata": {},
     "output_type": "display_data"
    }
   ],
   "source": [
    "px.scatter(\n",
    "    df_whr,\n",
    "    x=\"Social Support\",\n",
    "    y=\"Ladder Score\",\n",
    "    hover_name=df_whr.index,\n",
    "    title=\"Ladder Score vs Social Support\",\n",
    "    labels={\"Social Support\": \"Social Support\", \"Ladder Score\": \"Ladder Score\"},\n",
    "    color_discrete_sequence=[\"#F28E2B\"],\n",
    "    opacity=0.7,\n",
    "    trendline=\"ols\"\n",
    ")"
   ]
  },
  {
   "cell_type": "markdown",
   "id": "4f4becb1",
   "metadata": {},
   "source": [
    "![Track Age vs Streams](screenshots/ladder-score-vs-social-support.png)\n"
   ]
  },
  {
   "cell_type": "markdown",
   "id": "11223b09",
   "metadata": {},
   "source": [
    "## Scatter Plot: Ladder Score vs Healthy Life Expectancy  \n",
    "\n",
    "This scatter plot explores the relationship between **Healthy Life Expectancy** and **Ladder Score**.  \n",
    "\n",
    "**Key Observations:**  \n",
    "- There is a **moderate positive correlation**: countries with higher life expectancy generally tend to have higher happiness scores.  \n",
    "- **Nordic countries** (Finland, Denmark, Iceland) again appear in the top-right quadrant, combining high life expectancy (≈71–72 years) with high happiness.  \n",
    "- **Lowest-ranking countries** (Afghanistan, Zimbabwe, Congo) have life expectancy around 54–55 years and correspondingly low happiness.  \n",
    "- Some exceptions exist: **Lebanon** has a relatively high life expectancy (≈66) but very low happiness (2.39), suggesting **other factors, like social support and freedom, heavily influence happiness** beyond life expectancy alone.  \n",
    "- The trendline (OLS regression) confirms that while healthy life expectancy contributes to happiness, it is **less predictive than social support or GDP**.  \n",
    "\n",
    "**Conclusion:**  \n",
    "- Health is important, but **well-being is multidimensional**, and life expectancy alone does not fully explain variations in global happiness.  "
   ]
  },
  {
   "cell_type": "code",
   "execution_count": 46,
   "id": "20ca0a17",
   "metadata": {},
   "outputs": [
    {
     "data": {
      "application/vnd.plotly.v1+json": {
       "config": {
        "plotlyServerURL": "https://plot.ly"
       },
       "data": [
        {
         "hovertemplate": "<b>%{hovertext}</b><br><br>Healthy Life Expectancy=%{x}<br>Ladder Score=%{y}<extra></extra>",
         "hovertext": [
          "Finland",
          "Denmark",
          "Iceland",
          "Israel",
          "Netherlands",
          "Sweden",
          "Norway",
          "Switzerland",
          "Luxembourg",
          "New Zealand",
          "Austria",
          "Australia",
          "Canada",
          "Ireland",
          "United States",
          "Germany",
          "Belgium",
          "Czechia",
          "United Kingdom",
          "Lithuania",
          "France",
          "Slovenia",
          "Costa Rica",
          "Romania",
          "Singapore",
          "United Arab Emirates",
          "Taiwan Province of China",
          "Uruguay",
          "Slovakia",
          "Saudi Arabia",
          "Estonia",
          "Spain",
          "Italy",
          "Kosovo",
          "Chile",
          "Mexico",
          "Malta",
          "Panama",
          "Poland",
          "Nicaragua",
          "Latvia",
          "Bahrain",
          "Guatemala",
          "Kazakhstan",
          "Serbia",
          "Cyprus",
          "Japan",
          "Croatia",
          "Brazil",
          "El Salvador",
          "Hungary",
          "Argentina",
          "Honduras",
          "Uzbekistan",
          "Malaysia",
          "Portugal",
          "South Korea",
          "Greece",
          "Mauritius",
          "Thailand",
          "Mongolia",
          "Kyrgyzstan",
          "Moldova",
          "China",
          "Vietnam",
          "Paraguay",
          "Montenegro",
          "Jamaica",
          "Bolivia",
          "Russia",
          "Bosnia and Herzegovina",
          "Colombia",
          "Dominican Republic",
          "Ecuador",
          "Peru",
          "Philippines",
          "Bulgaria",
          "Nepal",
          "Armenia",
          "Tajikistan",
          "Algeria",
          "Hong Kong S.A.R. of China",
          "Albania",
          "Indonesia",
          "South Africa",
          "Congo (Brazzaville)",
          "North Macedonia",
          "Venezuela",
          "Laos",
          "Georgia",
          "Guinea",
          "Ukraine",
          "Ivory Coast",
          "Gabon",
          "Nigeria",
          "Cameroon",
          "Mozambique",
          "Iraq",
          "Morocco",
          "Iran",
          "Senegal",
          "Mauritania",
          "Burkina Faso",
          "Namibia",
          "Turkiye",
          "Ghana",
          "Pakistan",
          "Niger",
          "Tunisia",
          "Kenya",
          "Sri Lanka",
          "Uganda",
          "Chad",
          "Cambodia",
          "Benin",
          "Myanmar",
          "Bangladesh",
          "Gambia",
          "Mali",
          "Egypt",
          "Togo",
          "Jordan",
          "Ethiopia",
          "Liberia",
          "India",
          "Madagascar",
          "Zambia",
          "Tanzania",
          "Comoros",
          "Malawi",
          "Botswana",
          "Congo (Kinshasa)",
          "Zimbabwe",
          "Sierra Leone",
          "Lebanon",
          "Afghanistan"
         ],
         "legendgroup": "",
         "marker": {
          "color": "#A32976",
          "opacity": 0.7,
          "symbol": "circle"
         },
         "mode": "markers",
         "name": "",
         "orientation": "v",
         "showlegend": false,
         "type": "scatter",
         "x": {
          "bdata": "mpmZmZnJUUAAAAAAANBRQDMzMzMzA1JA+FPjpZssUkAzMzMzM+NRQJqZmZmZCVJAAAAAAADgUUCamZmZmTlSQDMzMzMz61FAZmZmZmaWUUCamZmZmclRQDMzMzMzw1FAmpmZmZnZUUAzMzMzM9NRQGZmZmZmdlBAMzMzMzPTUUCoxks3iblRQDMzMzMzQ1FAMzMzMzOTUUDFILByaNlQQDMzMzMzE1JAF9nO91PDUUAAAAAAAIBRQCUGgZVDw1BAMzMzMzNzUkBkO99PjY9QQGZmZmZmZlFAAAAAAADgUEASg8DKoTVRQKjGSzeJGVBAmpmZmZlpUUBmZmZmZhZSQDMzMzMzA1JAFK5H4XpMUEAzMzMzM5NRQDMzMzMzc1BAZmZmZmbmUUDNzMzMzDxRQEJg5dAiQ1FAmpmZmZlpUECamZmZmZlQQM3MzMzMdFBAMzMzMzNzT0AX2c73U3NQQBKDwMqhxVBAF9nO91MzUkB1kxgEVpZSQM3MzMzMPFFADi2yne9vUECR7Xw/NWZQQAAAAAAA4FBAzczMzMzMUEB56SYxCARQQCUGgZVDU1BA7nw/NV5qUEAAAAAAANBRQJqZmZmZaVJAmpmZmZnJUUDNzMzMzOxPQM3MzMzMHFFAAAAAAABATkBKDAIrh7ZQQEJg5dAiU1BAarx0kxgsUUDjpZvEIGBQQJqZmZmZeVBAZmZmZmbGUEBmZmZmZqZQQOkmMQiszE9A+FPjpZs8UECamZmZmdFQQGZmZmZmVlFAqMZLN4kZUEAAAAAAAEBRQGZmZmZmdlFAvp8aL90ET0AAAAAAAKBQQCPb+X5q7E5A0SLb+X7yUECwcmiR7RxPQEJg5dAio1BAUrgehetRU0CamZmZmUlRQKAaL90khk9AO99PjZd+TEDNzMzMzGxMQAAAAAAAoFBAMzMzMzMDUEAMAiuHFnlOQM3MzMzMPFBASOF6FK4XS0AzMzMzMyNQQESLbOf7+UtAx0s3iUEgTUA1XrpJDHJLQCPb+X5q7EtApHA9CtfDSUCF61G4HrVPQBfZzvdT809AZmZmZmamUEAdWmQ73/9NQM3MzMzMPE5AXrpJDAK7S0CwcmiR7WxMQN9PjZduKlFAi2zn+6lhTUDy0k1iEKhMQGZmZmZmRkxAAAAAAADAUEAdWmQ73z9NQJqZmZmZyVBAvp8aL910TUAAAAAAAJBKQDMzMzMz805AXI/C9SgMTECLbOf7qbFOQFCNl24SI1BAMzMzMzPzTEDdJAaBlbNLQKrx0k1iwE9AtvP91Hi5TEBmZmZmZuZQQNNNYhBYWU5AmpmZmZlZTED6fmq8dGNOQGZmZmZmBk1Aarx0kxiES0AX2c73U7NNQGZmZmZmtk1AzczMzMw8TUDNzMzMzFxLQAAAAAAAsEtAZmZmZmYGS0AzMzMzM3NLQKjGSzeJiVBAQmDl0CJbS0A=",
          "dtype": "f8"
         },
         "xaxis": "x",
         "y": {
          "bdata": "nu+nxks3H0Dy0k1iEFgeQB+F61G4Hh5AMQisHFrkHUDpJjEIrJwdQBSuR+F6lB1Aw/UoXI9CHUD2KFyPwvUcQLbz/dR46RxAy6FFtvN9HEAX2c73U2McQOF6FK5HYRxA8tJNYhDYG0C+nxov3aQbQPp+arx0kxtAxSCwcmiRG0BWDi2ynW8bQOF6FK5HYRtAyXa+nxovG0BaZDvfTw0bQL6fGi/dpBpAmpmZmZmZGkBWDi2ynW8aQEJg5dAiWxpADAIrhxZZGkBiEFg5tEgaQKRwPQrXIxpAYOXQItv5GUDHSzeJQeAZQCcxCKwc2hlAUrgehevRGUBYObTIdr4ZQB+F61G4nhlARrbz/dR4GUC8dJMYBFYZQFK4HoXrURlAMzMzMzMzGUCPwvUoXA8ZQArXo3A9ChlA8KfGSzcJGUAnMQisHNoYQP7UeOkmsRhAmpmZmZmZGED6fmq8dJMYQPp+arx0kxhAhetRuB6FGEBqvHSTGIQYQAAAAAAAgBhAAAAAAACAGECwcmiR7XwYQESLbOf7KRhAf2q8dJMYGEBkO99PjRcYQHWTGARWDhhAPzVeukkMGECsHFpkO98XQOf7qfHSzRdA001iEFi5F0DP91PjpZsXQKwcWmQ7XxdAXI/C9ShcF0DNzMzMzEwXQC2yne+nRhdAEoPAyqFFF0BaZDvfTw0XQMHKoUW28xZAF9nO91PjFkAdWmQ7388WQCPb+X5qvBZAvp8aL92kFkDVeOkmMYgWQIXrUbgehRZALbKd76dGFkAj2/l+ajwWQLTIdr6fGhZAZDvfT40XFkB3vp8aL90VQHE9CtejcBVAke18PzVeFUBSuB6F61EVQDeJQWDlUBVACKwcWmQ7FUDP91PjpRsVQM/3U+OlGxVAmpmZmZkZFUDFILByaBEVQGq8dJMYBBVA8tJNYhDYFECLbOf7qXEUQFYOLbKdbxRAfT81XrpJFEBiEFg5tEgUQIPAyqFFNhRApHA9CtcjFEAGgZVDi+wTQDEIrBxa5BNAN4lBYOXQE0DdJAaBlcMTQOkmMQisnBNAGy/dJAaBE0DsUbgehWsTQEw3iUFg5RJAWmQ730+NEkCgGi/dJIYSQNv5fmq8dBJA7FG4HoVrEkC4HoXrUTgSQBsv3SQGARJAsHJoke38EUCmm8QgsPIRQPhT46WbxBFA7nw/NV66EUBKDAIrh5YRQN9PjZdukhFA5dAi2/l+EUCwcmiR7XwRQFTjpZvEIBFABFYOLbIdEUCYbhKDwMoQQK5H4XoUrhBAPzVeukmMEEB7FK5H4XoQQHe+nxovXRBAXrpJDAIrEEC+nxov3SQQQPp+arx0ExBAQmDl0CLbD0BaZDvfT40NQFyPwvUoXAxA9ihcj8L1C0B7FK5H4XoLQA4tsp3vpwlAbxKDwMqhCUC0yHa+nxoJQIlBYOXQIgNAWDm0yHa+/T8=",
          "dtype": "f8"
         },
         "yaxis": "y"
        },
        {
         "hovertemplate": "<b>OLS trendline</b><br>Ladder Score = 0.148446 * Healthy Life Expectancy + -4.09971<br>R<sup>2</sup>=0.557902<br><br>Healthy Life Expectancy=%{x}<br>Ladder Score=%{y} <b>(trend)</b><extra></extra>",
         "legendgroup": "",
         "marker": {
          "color": "#A32976",
          "symbol": "circle"
         },
         "mode": "lines",
         "name": "",
         "showlegend": false,
         "type": "scatter",
         "x": {
          "bdata": "pHA9CtfDSUAAAAAAAJBKQGZmZmZmBktASOF6FK4XS0BCYOXQIltLQM3MzMzMXEtANV66SQxyS0AzMzMzM3NLQGq8dJMYhEtAAAAAAACwS0DdJAaBlbNLQF66SQwCu0tAI9v5fmrsS0BEi2zn+/lLQFyPwvUoDExAZmZmZmZGTECamZmZmVlMQM3MzMzMbExAsHJoke1sTEA730+Nl35MQPLSTWIQqExAtvP91Hi5TEAzMzMzM/NMQGZmZmZmBk1Ax0s3iUEgTUDNzMzMzDxNQB1aZDvfP01Ai2zn+6lhTUC+nxov3XRNQBfZzvdTs01AZmZmZma2TUAdWmQ73/9NQM3MzMzMPE5AAAAAAABATkDTTWIQWFlOQPp+arx0Y05ADAIrhxZ5TkCLbOf7qbFOQCPb+X5q7E5AMzMzMzPzTkC+nxov3QRPQLByaJHtHE9AMzMzMzNzT0CgGi/dJIZPQIXrUbgetU9AqvHSTWLAT0DpJjEIrMxPQM3MzMzM7E9AF9nO91PzT0AzMzMzMwNQQHnpJjEIBFBAqMZLN4kZUECoxks3iRlQQFCNl24SI1BAMzMzMzMjUED4U+OlmzxQQM3MzMzMPFBAFK5H4XpMUEBCYOXQIlNQQCUGgZVDU1BA46WbxCBgUECR7Xw/NWZQQJqZmZmZaVBA7nw/NV5qUEAOLbKd729QQDMzMzMzc1BAF9nO91NzUEDNzMzMzHRQQGZmZmZmdlBAmpmZmZl5UECoxks3iYlQQGQ730+Nj1BAmpmZmZmZUEAAAAAAAKBQQAAAAAAAoFBAQmDl0CKjUEBmZmZmZqZQQGZmZmZmplBASgwCK4e2UEAAAAAAAMBQQCUGgZVDw1BAEoPAyqHFUEBmZmZmZsZQQJqZmZmZyVBAzczMzMzMUECamZmZmdFQQMUgsHJo2VBAAAAAAADgUEAAAAAAAOBQQGZmZmZm5lBA0SLb+X7yUEDNzMzMzBxRQN9PjZduKlFAarx0kxgsUUASg8DKoTVRQM3MzMzMPFFAzczMzMw8UUAAAAAAAEBRQEJg5dAiQ1FAMzMzMzNDUUCamZmZmUlRQGZmZmZmVlFAZmZmZmZmUUCamZmZmWlRQGZmZmZmdlFAAAAAAACAUUAzMzMzM5NRQDMzMzMzk1FAZmZmZmaWUUCoxks3iblRQDMzMzMzw1FAF9nO91PDUUCamZmZmclRQJqZmZmZyVFAmpmZmZnJUUAAAAAAANBRQAAAAAAA0FFAMzMzMzPTUUAzMzMzM9NRQJqZmZmZ2VFAAAAAAADgUUAzMzMzM+NRQGZmZmZm5lFAMzMzMzPrUUAzMzMzMwNSQDMzMzMzA1JAmpmZmZkJUkAzMzMzMxNSQGZmZmZmFlJA+FPjpZssUkAX2c73UzNSQJqZmZmZOVJAmpmZmZlpUkAzMzMzM3NSQHWTGARWllJAUrgehetRU0A=",
          "dtype": "f8"
         },
         "xaxis": "x",
         "y": {
          "bdata": "DKS4D8FlDEAEILAPqUoOQIDjiyjgYw9AnDSX9+qMD0C8trw3kRYQQIg84hmLGBBAPF/B18YxEEBmWdsRJTMQQDxZWLs1RxBAnl42RVl7EEAKMIfdmn8QQLKYLuJriBBAHruIuhjDEEBar7qfNdMQQEKMVG3L6BBAUtd1WPUtEUB+yyZ2wkQRQKy/15OPWxFAlKLafbZbEUDa82ijsHARQP4hEM/woRFAdK2YIJ22EUDibK5jK/sRQBBhX4H4ERJAcmymJ60wEkDkFCoAk1ISQK5ab/A4VhJAWFppQ1p+EkCEThphJ5USQIrZmnZV3xJAUh/gZvviEkBs5FgZPDoTQIzMtjaXghNAPvX+EGSGE0D+dDoPfaQTQLZ6HkZ/sBNAIkYGwi/KE0BkCwLLXw0UQBbiLl4lUxRANNzH0DNbFEB6LVb2LXAUQCjQdNDBjBRACDgO7DXzFEBkZrk1tQkVQJCx3K9+QRVAdLHaIN9OFUCayO/hdl0VQHhCxFKegxVAxHZX8V6LFUAIiAUlBaIVQNYNKwf/oxVA3t70KhLXFUDe3vQqEtcVQCLwol647RVA8rWoMgbuFUBcmCIZXyoWQBRBK9fTKhZAfmnuyxFQFkDqlxrd4F8WQLpdILEuYBZAMoZkbbx+FkBwunZELY0WQJC0D7c7lRZAdFcyrw6XFkBudC02SKQWQLqowNQIrBZAjm7GqFasFkBu0Qiv1a8WQB76UImisxZAhEvhPTy7FkCQ/6/aFeEWQOZQv8df7xZAbnmESz0HF0A2HKW0cBYXQDYcpbRwFhdAtIoyf+MdF0D+vsUdpCUXQP6+xR2kJRdAxhudePJLF0AgSkjCcWIXQG5+22AyahdAAkpGM9JvF0Do7GgrpXEXQE4++d8+eRdAso+JlNiAF0DICWIjP4wXQIoswqjKnhdACnjrz3KuF0AKeOvPcq4XQNIaDDmmvRdAaKAt/WDaF0B6gqE22z4YQNhNCOs7XxhAcllTry9jGEC2agHj1XkYQGSwRETcihhAZLBERNyKGEDIAdX4dZIYQEZwYsPomRhALFNlrQ+aGED29YUWQ6kYQIQ7x+ipxxhAetKYb6rtGEDgIykkRPUYQG5pavaqExlAnF0bFHgqGUD2RX1PElgZQPZFfU8SWBlAWJcNBKxfGUDAMz7cH7MZQNQK8uMTyhlAptD3t2HKGUCerRJNR9kZQJ6tEk1H2RlAnq0STUfZGUBmUDO2eugZQGZQM7Z66BlAyqHDahTwGUDKocNqFPAZQJRE5NNH/xlAWucEPXsOGkC+OJXxFBYaQCKKJaauHRpAOAT+NBUpGkCoZjj/FWIaQKhmOP8VYhpAcglZaElxGkCe/QmGFogaQABPmjqwjxpABuCDbG/EGkBa8bJnZdQaQFLOzfxK4xpAMJNCkUxVG0Bch/OuGWwbQMIjJIeNvxtAmg4wxhZ9HUA=",
          "dtype": "f8"
         },
         "yaxis": "y"
        }
       ],
       "layout": {
        "legend": {
         "tracegroupgap": 0
        },
        "template": {
         "data": {
          "bar": [
           {
            "error_x": {
             "color": "#2a3f5f"
            },
            "error_y": {
             "color": "#2a3f5f"
            },
            "marker": {
             "line": {
              "color": "#E5ECF6",
              "width": 0.5
             },
             "pattern": {
              "fillmode": "overlay",
              "size": 10,
              "solidity": 0.2
             }
            },
            "type": "bar"
           }
          ],
          "barpolar": [
           {
            "marker": {
             "line": {
              "color": "#E5ECF6",
              "width": 0.5
             },
             "pattern": {
              "fillmode": "overlay",
              "size": 10,
              "solidity": 0.2
             }
            },
            "type": "barpolar"
           }
          ],
          "carpet": [
           {
            "aaxis": {
             "endlinecolor": "#2a3f5f",
             "gridcolor": "white",
             "linecolor": "white",
             "minorgridcolor": "white",
             "startlinecolor": "#2a3f5f"
            },
            "baxis": {
             "endlinecolor": "#2a3f5f",
             "gridcolor": "white",
             "linecolor": "white",
             "minorgridcolor": "white",
             "startlinecolor": "#2a3f5f"
            },
            "type": "carpet"
           }
          ],
          "choropleth": [
           {
            "colorbar": {
             "outlinewidth": 0,
             "ticks": ""
            },
            "type": "choropleth"
           }
          ],
          "contour": [
           {
            "colorbar": {
             "outlinewidth": 0,
             "ticks": ""
            },
            "colorscale": [
             [
              0,
              "#0d0887"
             ],
             [
              0.1111111111111111,
              "#46039f"
             ],
             [
              0.2222222222222222,
              "#7201a8"
             ],
             [
              0.3333333333333333,
              "#9c179e"
             ],
             [
              0.4444444444444444,
              "#bd3786"
             ],
             [
              0.5555555555555556,
              "#d8576b"
             ],
             [
              0.6666666666666666,
              "#ed7953"
             ],
             [
              0.7777777777777778,
              "#fb9f3a"
             ],
             [
              0.8888888888888888,
              "#fdca26"
             ],
             [
              1,
              "#f0f921"
             ]
            ],
            "type": "contour"
           }
          ],
          "contourcarpet": [
           {
            "colorbar": {
             "outlinewidth": 0,
             "ticks": ""
            },
            "type": "contourcarpet"
           }
          ],
          "heatmap": [
           {
            "colorbar": {
             "outlinewidth": 0,
             "ticks": ""
            },
            "colorscale": [
             [
              0,
              "#0d0887"
             ],
             [
              0.1111111111111111,
              "#46039f"
             ],
             [
              0.2222222222222222,
              "#7201a8"
             ],
             [
              0.3333333333333333,
              "#9c179e"
             ],
             [
              0.4444444444444444,
              "#bd3786"
             ],
             [
              0.5555555555555556,
              "#d8576b"
             ],
             [
              0.6666666666666666,
              "#ed7953"
             ],
             [
              0.7777777777777778,
              "#fb9f3a"
             ],
             [
              0.8888888888888888,
              "#fdca26"
             ],
             [
              1,
              "#f0f921"
             ]
            ],
            "type": "heatmap"
           }
          ],
          "histogram": [
           {
            "marker": {
             "pattern": {
              "fillmode": "overlay",
              "size": 10,
              "solidity": 0.2
             }
            },
            "type": "histogram"
           }
          ],
          "histogram2d": [
           {
            "colorbar": {
             "outlinewidth": 0,
             "ticks": ""
            },
            "colorscale": [
             [
              0,
              "#0d0887"
             ],
             [
              0.1111111111111111,
              "#46039f"
             ],
             [
              0.2222222222222222,
              "#7201a8"
             ],
             [
              0.3333333333333333,
              "#9c179e"
             ],
             [
              0.4444444444444444,
              "#bd3786"
             ],
             [
              0.5555555555555556,
              "#d8576b"
             ],
             [
              0.6666666666666666,
              "#ed7953"
             ],
             [
              0.7777777777777778,
              "#fb9f3a"
             ],
             [
              0.8888888888888888,
              "#fdca26"
             ],
             [
              1,
              "#f0f921"
             ]
            ],
            "type": "histogram2d"
           }
          ],
          "histogram2dcontour": [
           {
            "colorbar": {
             "outlinewidth": 0,
             "ticks": ""
            },
            "colorscale": [
             [
              0,
              "#0d0887"
             ],
             [
              0.1111111111111111,
              "#46039f"
             ],
             [
              0.2222222222222222,
              "#7201a8"
             ],
             [
              0.3333333333333333,
              "#9c179e"
             ],
             [
              0.4444444444444444,
              "#bd3786"
             ],
             [
              0.5555555555555556,
              "#d8576b"
             ],
             [
              0.6666666666666666,
              "#ed7953"
             ],
             [
              0.7777777777777778,
              "#fb9f3a"
             ],
             [
              0.8888888888888888,
              "#fdca26"
             ],
             [
              1,
              "#f0f921"
             ]
            ],
            "type": "histogram2dcontour"
           }
          ],
          "mesh3d": [
           {
            "colorbar": {
             "outlinewidth": 0,
             "ticks": ""
            },
            "type": "mesh3d"
           }
          ],
          "parcoords": [
           {
            "line": {
             "colorbar": {
              "outlinewidth": 0,
              "ticks": ""
             }
            },
            "type": "parcoords"
           }
          ],
          "pie": [
           {
            "automargin": true,
            "type": "pie"
           }
          ],
          "scatter": [
           {
            "fillpattern": {
             "fillmode": "overlay",
             "size": 10,
             "solidity": 0.2
            },
            "type": "scatter"
           }
          ],
          "scatter3d": [
           {
            "line": {
             "colorbar": {
              "outlinewidth": 0,
              "ticks": ""
             }
            },
            "marker": {
             "colorbar": {
              "outlinewidth": 0,
              "ticks": ""
             }
            },
            "type": "scatter3d"
           }
          ],
          "scattercarpet": [
           {
            "marker": {
             "colorbar": {
              "outlinewidth": 0,
              "ticks": ""
             }
            },
            "type": "scattercarpet"
           }
          ],
          "scattergeo": [
           {
            "marker": {
             "colorbar": {
              "outlinewidth": 0,
              "ticks": ""
             }
            },
            "type": "scattergeo"
           }
          ],
          "scattergl": [
           {
            "marker": {
             "colorbar": {
              "outlinewidth": 0,
              "ticks": ""
             }
            },
            "type": "scattergl"
           }
          ],
          "scattermap": [
           {
            "marker": {
             "colorbar": {
              "outlinewidth": 0,
              "ticks": ""
             }
            },
            "type": "scattermap"
           }
          ],
          "scattermapbox": [
           {
            "marker": {
             "colorbar": {
              "outlinewidth": 0,
              "ticks": ""
             }
            },
            "type": "scattermapbox"
           }
          ],
          "scatterpolar": [
           {
            "marker": {
             "colorbar": {
              "outlinewidth": 0,
              "ticks": ""
             }
            },
            "type": "scatterpolar"
           }
          ],
          "scatterpolargl": [
           {
            "marker": {
             "colorbar": {
              "outlinewidth": 0,
              "ticks": ""
             }
            },
            "type": "scatterpolargl"
           }
          ],
          "scatterternary": [
           {
            "marker": {
             "colorbar": {
              "outlinewidth": 0,
              "ticks": ""
             }
            },
            "type": "scatterternary"
           }
          ],
          "surface": [
           {
            "colorbar": {
             "outlinewidth": 0,
             "ticks": ""
            },
            "colorscale": [
             [
              0,
              "#0d0887"
             ],
             [
              0.1111111111111111,
              "#46039f"
             ],
             [
              0.2222222222222222,
              "#7201a8"
             ],
             [
              0.3333333333333333,
              "#9c179e"
             ],
             [
              0.4444444444444444,
              "#bd3786"
             ],
             [
              0.5555555555555556,
              "#d8576b"
             ],
             [
              0.6666666666666666,
              "#ed7953"
             ],
             [
              0.7777777777777778,
              "#fb9f3a"
             ],
             [
              0.8888888888888888,
              "#fdca26"
             ],
             [
              1,
              "#f0f921"
             ]
            ],
            "type": "surface"
           }
          ],
          "table": [
           {
            "cells": {
             "fill": {
              "color": "#EBF0F8"
             },
             "line": {
              "color": "white"
             }
            },
            "header": {
             "fill": {
              "color": "#C8D4E3"
             },
             "line": {
              "color": "white"
             }
            },
            "type": "table"
           }
          ]
         },
         "layout": {
          "annotationdefaults": {
           "arrowcolor": "#2a3f5f",
           "arrowhead": 0,
           "arrowwidth": 1
          },
          "autotypenumbers": "strict",
          "coloraxis": {
           "colorbar": {
            "outlinewidth": 0,
            "ticks": ""
           }
          },
          "colorscale": {
           "diverging": [
            [
             0,
             "#8e0152"
            ],
            [
             0.1,
             "#c51b7d"
            ],
            [
             0.2,
             "#de77ae"
            ],
            [
             0.3,
             "#f1b6da"
            ],
            [
             0.4,
             "#fde0ef"
            ],
            [
             0.5,
             "#f7f7f7"
            ],
            [
             0.6,
             "#e6f5d0"
            ],
            [
             0.7,
             "#b8e186"
            ],
            [
             0.8,
             "#7fbc41"
            ],
            [
             0.9,
             "#4d9221"
            ],
            [
             1,
             "#276419"
            ]
           ],
           "sequential": [
            [
             0,
             "#0d0887"
            ],
            [
             0.1111111111111111,
             "#46039f"
            ],
            [
             0.2222222222222222,
             "#7201a8"
            ],
            [
             0.3333333333333333,
             "#9c179e"
            ],
            [
             0.4444444444444444,
             "#bd3786"
            ],
            [
             0.5555555555555556,
             "#d8576b"
            ],
            [
             0.6666666666666666,
             "#ed7953"
            ],
            [
             0.7777777777777778,
             "#fb9f3a"
            ],
            [
             0.8888888888888888,
             "#fdca26"
            ],
            [
             1,
             "#f0f921"
            ]
           ],
           "sequentialminus": [
            [
             0,
             "#0d0887"
            ],
            [
             0.1111111111111111,
             "#46039f"
            ],
            [
             0.2222222222222222,
             "#7201a8"
            ],
            [
             0.3333333333333333,
             "#9c179e"
            ],
            [
             0.4444444444444444,
             "#bd3786"
            ],
            [
             0.5555555555555556,
             "#d8576b"
            ],
            [
             0.6666666666666666,
             "#ed7953"
            ],
            [
             0.7777777777777778,
             "#fb9f3a"
            ],
            [
             0.8888888888888888,
             "#fdca26"
            ],
            [
             1,
             "#f0f921"
            ]
           ]
          },
          "colorway": [
           "#636efa",
           "#EF553B",
           "#00cc96",
           "#ab63fa",
           "#FFA15A",
           "#19d3f3",
           "#FF6692",
           "#B6E880",
           "#FF97FF",
           "#FECB52"
          ],
          "font": {
           "color": "#2a3f5f"
          },
          "geo": {
           "bgcolor": "white",
           "lakecolor": "white",
           "landcolor": "#E5ECF6",
           "showlakes": true,
           "showland": true,
           "subunitcolor": "white"
          },
          "hoverlabel": {
           "align": "left"
          },
          "hovermode": "closest",
          "mapbox": {
           "style": "light"
          },
          "paper_bgcolor": "white",
          "plot_bgcolor": "#E5ECF6",
          "polar": {
           "angularaxis": {
            "gridcolor": "white",
            "linecolor": "white",
            "ticks": ""
           },
           "bgcolor": "#E5ECF6",
           "radialaxis": {
            "gridcolor": "white",
            "linecolor": "white",
            "ticks": ""
           }
          },
          "scene": {
           "xaxis": {
            "backgroundcolor": "#E5ECF6",
            "gridcolor": "white",
            "gridwidth": 2,
            "linecolor": "white",
            "showbackground": true,
            "ticks": "",
            "zerolinecolor": "white"
           },
           "yaxis": {
            "backgroundcolor": "#E5ECF6",
            "gridcolor": "white",
            "gridwidth": 2,
            "linecolor": "white",
            "showbackground": true,
            "ticks": "",
            "zerolinecolor": "white"
           },
           "zaxis": {
            "backgroundcolor": "#E5ECF6",
            "gridcolor": "white",
            "gridwidth": 2,
            "linecolor": "white",
            "showbackground": true,
            "ticks": "",
            "zerolinecolor": "white"
           }
          },
          "shapedefaults": {
           "line": {
            "color": "#2a3f5f"
           }
          },
          "ternary": {
           "aaxis": {
            "gridcolor": "white",
            "linecolor": "white",
            "ticks": ""
           },
           "baxis": {
            "gridcolor": "white",
            "linecolor": "white",
            "ticks": ""
           },
           "bgcolor": "#E5ECF6",
           "caxis": {
            "gridcolor": "white",
            "linecolor": "white",
            "ticks": ""
           }
          },
          "title": {
           "x": 0.05
          },
          "xaxis": {
           "automargin": true,
           "gridcolor": "white",
           "linecolor": "white",
           "ticks": "",
           "title": {
            "standoff": 15
           },
           "zerolinecolor": "white",
           "zerolinewidth": 2
          },
          "yaxis": {
           "automargin": true,
           "gridcolor": "white",
           "linecolor": "white",
           "ticks": "",
           "title": {
            "standoff": 15
           },
           "zerolinecolor": "white",
           "zerolinewidth": 2
          }
         }
        },
        "title": {
         "text": "Ladder Score vs Healthy Life Expectancy"
        },
        "xaxis": {
         "anchor": "y",
         "domain": [
          0,
          1
         ],
         "title": {
          "text": "Healthy Life Expectancy"
         }
        },
        "yaxis": {
         "anchor": "x",
         "domain": [
          0,
          1
         ],
         "title": {
          "text": "Ladder Score"
         }
        }
       }
      }
     },
     "metadata": {},
     "output_type": "display_data"
    }
   ],
   "source": [
    "px.scatter(\n",
    "    df_whr,\n",
    "    x=\"Healthy Life Expectancy\",\n",
    "    y=\"Ladder Score\",\n",
    "    hover_name=df_whr.index,\n",
    "    title=\"Ladder Score vs Healthy Life Expectancy\",\n",
    "    labels={\"Healthy Life Expectancy\": \"Healthy Life Expectancy\", \"Ladder Score\": \"Ladder Score\"},\n",
    "    color_discrete_sequence=[\"#A32976\"],\n",
    "    opacity=0.7,\n",
    "    trendline=\"ols\"\n",
    ")"
   ]
  },
  {
   "cell_type": "markdown",
   "id": "4665f05c",
   "metadata": {},
   "source": [
    "![Track Age vs Streams](screenshots/ladder-score-vs-healthy-life-expectancy.png\n",
    ")\n"
   ]
  },
  {
   "cell_type": "markdown",
   "id": "77c2638a",
   "metadata": {},
   "source": [
    "## Scatter Plot: Ladder Score vs Freedom To Make Life Choices  \n",
    "\n",
    "This scatter plot examines how **freedom to make life choices** relates to **Ladder Score**.  \n",
    "\n",
    "**Key Observations:**  \n",
    "- There is a **strong positive correlation**: countries where people report more freedom tend to have higher happiness scores.  \n",
    "- **Top-ranking countries** (Finland, Denmark, Iceland) are in the top-right corner, combining high freedom (~0.93–0.96) with high happiness (~7.5–7.8).  \n",
    "- **Lowest-ranking countries** (Afghanistan, Lebanon) are at the bottom-left, indicating low freedom (0.38–0.47) and very low happiness (1.86–2.39).  \n",
    "- Some middle-income countries (like Israel, Netherlands) show **moderate freedom** but still maintain high happiness, suggesting **freedom is necessary but interacts with other factors** like social support and GDP.  \n",
    "- The OLS trendline confirms freedom as a **critical predictor of happiness**, second only to social support in explanatory power.  \n",
    "\n",
    "**Conclusion:**  \n",
    "- Enhancing **personal freedom and choice** is strongly linked to national well-being.  \n",
    "- Countries with limited freedom face substantial constraints on overall happiness, even if other factors (like GDP) are moderate.  "
   ]
  },
  {
   "cell_type": "code",
   "execution_count": 47,
   "id": "b1cc4dbb",
   "metadata": {},
   "outputs": [
    {
     "data": {
      "application/vnd.plotly.v1+json": {
       "config": {
        "plotlyServerURL": "https://plot.ly"
       },
       "data": [
        {
         "hovertemplate": "<b>%{hovertext}</b><br><br>Freedom To Make Life Choices=%{x}<br>Ladder Score=%{y}<extra></extra>",
         "hovertext": [
          "Finland",
          "Denmark",
          "Iceland",
          "Israel",
          "Netherlands",
          "Sweden",
          "Norway",
          "Switzerland",
          "Luxembourg",
          "New Zealand",
          "Austria",
          "Australia",
          "Canada",
          "Ireland",
          "United States",
          "Germany",
          "Belgium",
          "Czechia",
          "United Kingdom",
          "Lithuania",
          "France",
          "Slovenia",
          "Costa Rica",
          "Romania",
          "Singapore",
          "United Arab Emirates",
          "Taiwan Province of China",
          "Uruguay",
          "Slovakia",
          "Saudi Arabia",
          "Estonia",
          "Spain",
          "Italy",
          "Kosovo",
          "Chile",
          "Mexico",
          "Malta",
          "Panama",
          "Poland",
          "Nicaragua",
          "Latvia",
          "Bahrain",
          "Guatemala",
          "Kazakhstan",
          "Serbia",
          "Cyprus",
          "Japan",
          "Croatia",
          "Brazil",
          "El Salvador",
          "Hungary",
          "Argentina",
          "Honduras",
          "Uzbekistan",
          "Malaysia",
          "Portugal",
          "South Korea",
          "Greece",
          "Mauritius",
          "Thailand",
          "Mongolia",
          "Kyrgyzstan",
          "Moldova",
          "China",
          "Vietnam",
          "Paraguay",
          "Montenegro",
          "Jamaica",
          "Bolivia",
          "Russia",
          "Bosnia and Herzegovina",
          "Colombia",
          "Dominican Republic",
          "Ecuador",
          "Peru",
          "Philippines",
          "Bulgaria",
          "Nepal",
          "Armenia",
          "Tajikistan",
          "Algeria",
          "Hong Kong S.A.R. of China",
          "Albania",
          "Indonesia",
          "South Africa",
          "Congo (Brazzaville)",
          "North Macedonia",
          "Venezuela",
          "Laos",
          "Georgia",
          "Guinea",
          "Ukraine",
          "Ivory Coast",
          "Gabon",
          "Nigeria",
          "Cameroon",
          "Mozambique",
          "Iraq",
          "Morocco",
          "Iran",
          "Senegal",
          "Mauritania",
          "Burkina Faso",
          "Namibia",
          "Turkiye",
          "Ghana",
          "Pakistan",
          "Niger",
          "Tunisia",
          "Kenya",
          "Sri Lanka",
          "Uganda",
          "Chad",
          "Cambodia",
          "Benin",
          "Myanmar",
          "Bangladesh",
          "Gambia",
          "Mali",
          "Egypt",
          "Togo",
          "Jordan",
          "Ethiopia",
          "Liberia",
          "India",
          "Madagascar",
          "Zambia",
          "Tanzania",
          "Comoros",
          "Malawi",
          "Botswana",
          "Congo (Kinshasa)",
          "Zimbabwe",
          "Sierra Leone",
          "Lebanon",
          "Afghanistan"
         ],
         "legendgroup": "",
         "marker": {
          "color": "#4E268F",
          "opacity": 0.7,
          "symbol": "circle"
         },
         "mode": "markers",
         "name": "",
         "orientation": "v",
         "showlegend": false,
         "type": "scatter",
         "x": {
          "bdata": "jZduEoPA7j8X2c73U+PtP8HKoUW28+0/F9nO91Pj6T/8qfHSTWLsP7x0kxgEVu4/5/up8dJN7j9QjZduEoPsP0jhehSuR+0//Knx0k1i7D9cj8L1KFzrP3sUrkfheuw/K4cW2c736z8rhxbZzvfrP5qZmZmZmek/30+Nl24S6z9mZmZmZmbqP0w3iUFg5ew/3SQGgZVD6z9WDi2yne/nP2iR7Xw/Neo/nu+nxks37T+kcD0K16PsPzEIrBxaZOs/f2q8dJMY7D++nxov3STuP+58PzVeuuk/pHA9Ctej7D9/arx0kxjoP8/3U+Olm+w/7nw/NV667T+gGi/dJAbpP42XbhKDwOY/WmQ730+N6z/y0k1iEFjpPzEIrBxaZOs/JzEIrBxa7D9cj8L1KFzrP3sUrkfheug/qvHSTWIQ7D+TGARWDi3qP2iR7Xw/Ne4/MQisHFpk6z+yne+nxkvrPwrXo3A9Cus/XrpJDAIr5z/FILByaJHpP9NNYhBYOeg/bxKDwMqh6T/HSzeJQWDtP6jGSzeJQeg/vHSTGARW6j9g5dAi2/nqP2q8dJMYBO4/qvHSTWIQ7D93vp8aL93sP4ts5/up8eY/kxgEVg4t4j9qvHSTGATqPzMzMzMzM+s/O99PjZdu5j8X2c73U+PtP+F6FK5H4eo/001iEFg57D8/NV66SQzuP1CNl24Sg+w/w/UoXI/C6T/n+6nx0k3qPy2yne+nxus/NV66SQwC5z+sHFpkO9/nP+58PzVeuuk/MzMzMzMz6z9Ei2zn+6npP5zEILByaOk/nMQgsHJo7T9vEoPAyqHpP0Jg5dAi2+k/Rrbz/dR46T85tMh2vp/qPxKDwMqhReI/lkOLbOf75T+cxCCwcmjpPylcj8L1KOw/XI/C9Shc5z9cj8L1KFznP8/3U+Olm+g/SgwCK4cW5T+cxCCwcmjtP/T91HjpJuk/SgwCK4cW5T9xPQrXo3DpP9v5fmq8dOc/JQaBlUOL5D9g5dAi2/nmP8HKoUW28+U/CKwcWmQ76z956SYxCKzkP8l2vp8aL+k/YOXQItv54j9OYhBYObToP4GVQ4ts5+M/EoPAyqFF5j+cxCCwcmjlP2ZmZmZmZt4/d76fGi/d6D9QjZduEoPoP57vp8ZLN+k/O99PjZdu4j8Sg8DKoUXmP8l2vp8aL+k/O99PjZdu5j9Ei2zn+6nlPw4tsp3vp+4/LbKd76fG5z/dJAaBlUPnPwrXo3A9Cus/30+Nl24S4z83iUFg5dDmPwaBlUOLbOc/oBov3SQG5T+kcD0K16PoPwrXo3A9Cuc/hetRuB6F5z9OYhBYObTsP05iEFg5tOA/HVpkO99P6T83iUFg5dDqPxSuR+F6FN4/AAAAAAAA6D9YObTIdr7nP3Noke18P+U/IbByaJHt5D8fhetRuB7lP7x0kxgEVt4/ppvEILBy2D8=",
          "dtype": "f8"
         },
         "xaxis": "x",
         "y": {
          "bdata": "nu+nxks3H0Dy0k1iEFgeQB+F61G4Hh5AMQisHFrkHUDpJjEIrJwdQBSuR+F6lB1Aw/UoXI9CHUD2KFyPwvUcQLbz/dR46RxAy6FFtvN9HEAX2c73U2McQOF6FK5HYRxA8tJNYhDYG0C+nxov3aQbQPp+arx0kxtAxSCwcmiRG0BWDi2ynW8bQOF6FK5HYRtAyXa+nxovG0BaZDvfTw0bQL6fGi/dpBpAmpmZmZmZGkBWDi2ynW8aQEJg5dAiWxpADAIrhxZZGkBiEFg5tEgaQKRwPQrXIxpAYOXQItv5GUDHSzeJQeAZQCcxCKwc2hlAUrgehevRGUBYObTIdr4ZQB+F61G4nhlARrbz/dR4GUC8dJMYBFYZQFK4HoXrURlAMzMzMzMzGUCPwvUoXA8ZQArXo3A9ChlA8KfGSzcJGUAnMQisHNoYQP7UeOkmsRhAmpmZmZmZGED6fmq8dJMYQPp+arx0kxhAhetRuB6FGEBqvHSTGIQYQAAAAAAAgBhAAAAAAACAGECwcmiR7XwYQESLbOf7KRhAf2q8dJMYGEBkO99PjRcYQHWTGARWDhhAPzVeukkMGECsHFpkO98XQOf7qfHSzRdA001iEFi5F0DP91PjpZsXQKwcWmQ7XxdAXI/C9ShcF0DNzMzMzEwXQC2yne+nRhdAEoPAyqFFF0BaZDvfTw0XQMHKoUW28xZAF9nO91PjFkAdWmQ7388WQCPb+X5qvBZAvp8aL92kFkDVeOkmMYgWQIXrUbgehRZALbKd76dGFkAj2/l+ajwWQLTIdr6fGhZAZDvfT40XFkB3vp8aL90VQHE9CtejcBVAke18PzVeFUBSuB6F61EVQDeJQWDlUBVACKwcWmQ7FUDP91PjpRsVQM/3U+OlGxVAmpmZmZkZFUDFILByaBEVQGq8dJMYBBVA8tJNYhDYFECLbOf7qXEUQFYOLbKdbxRAfT81XrpJFEBiEFg5tEgUQIPAyqFFNhRApHA9CtcjFEAGgZVDi+wTQDEIrBxa5BNAN4lBYOXQE0DdJAaBlcMTQOkmMQisnBNAGy/dJAaBE0DsUbgehWsTQEw3iUFg5RJAWmQ730+NEkCgGi/dJIYSQNv5fmq8dBJA7FG4HoVrEkC4HoXrUTgSQBsv3SQGARJAsHJoke38EUCmm8QgsPIRQPhT46WbxBFA7nw/NV66EUBKDAIrh5YRQN9PjZdukhFA5dAi2/l+EUCwcmiR7XwRQFTjpZvEIBFABFYOLbIdEUCYbhKDwMoQQK5H4XoUrhBAPzVeukmMEEB7FK5H4XoQQHe+nxovXRBAXrpJDAIrEEC+nxov3SQQQPp+arx0ExBAQmDl0CLbD0BaZDvfT40NQFyPwvUoXAxA9ihcj8L1C0B7FK5H4XoLQA4tsp3vpwlAbxKDwMqhCUC0yHa+nxoJQIlBYOXQIgNAWDm0yHa+/T8=",
          "dtype": "f8"
         },
         "yaxis": "y"
        },
        {
         "hovertemplate": "<b>OLS trendline</b><br>Ladder Score = 6.72471 * Freedom To Make Life Choices + 0.244824<br>R<sup>2</sup>=0.438190<br><br>Freedom To Make Life Choices=%{x}<br>Ladder Score=%{y} <b>(trend)</b><extra></extra>",
         "legendgroup": "",
         "marker": {
          "color": "#4E268F",
          "symbol": "circle"
         },
         "mode": "lines",
         "name": "",
         "showlegend": false,
         "type": "scatter",
         "x": {
          "bdata": "ppvEILBy2D8UrkfhehTeP7x0kxgEVt4/ZmZmZmZm3j9OYhBYObTgP5MYBFYOLeI/EoPAyqFF4j8730+Nl27iP2Dl0CLb+eI/30+Nl24S4z+BlUOLbOfjPyUGgZVDi+Q/eekmMQis5D8hsHJoke3kP6AaL90kBuU/SgwCK4cW5T9KDAIrhxblPx+F61G4HuU/c2iR7Xw/5T+cxCCwcmjlP0SLbOf7qeU/wcqhRbbz5T+WQ4ts5/vlPxKDwMqhReY/EoPAyqFF5j8730+Nl27mPzvfT42XbuY/jZduEoPA5j83iUFg5dDmP4ts5/up8eY/YOXQItv55j81XrpJDALnPwrXo3A9Cuc/XrpJDAIr5z/dJAaBlUPnP1yPwvUoXOc/XI/C9Shc5z8GgZVDi2znP9v5fmq8dOc/hetRuB6F5z9YObTIdr7nPy2yne+nxuc/rBxaZDvf5z9WDi2yne/nPwAAAAAAAOg/f2q8dJMY6D/TTWIQWDnoP6jGSzeJQeg/exSuR+F66D9QjZduEoPoP8/3U+Olm+g/pHA9Ctej6D9OYhBYObToP3e+nxov3eg/oBov3SQG6T/0/dR46SbpP8l2vp8aL+k/yXa+nxov6T+e76fGSzfpPx1aZDvfT+k/8tJNYhBY6T+cxCCwcmjpP5zEILByaOk/cT0K16Nw6T9GtvP91HjpP8UgsHJokek/mpmZmZmZ6T9vEoPAyqHpP28Sg8DKoek/RIts5/up6T/ufD81XrrpP+58PzVeuuk/w/UoXI/C6T9CYOXQItvpPxfZzvdT4+k/arx0kxgE6j+TGARWDi3qP2iR7Xw/Neo/5/up8dJN6j+8dJMYBFbqP2ZmZmZmZuo/ObTIdr6f6j83iUFg5dDqP+F6FK5H4eo/YOXQItv56j8K16NwPQrrPwrXo3A9Cus/30+Nl24S6z8zMzMzMzPrPzMzMzMzM+s/CKwcWmQ76z/dJAaBlUPrP7Kd76fGS+s/XI/C9Shc6z9cj8L1KFzrPzEIrBxaZOs/MQisHFpk6z8xCKwcWmTrP1pkO99Pjes/LbKd76fG6z8rhxbZzvfrPyuHFtnO9+s/qvHSTWIQ7D+q8dJNYhDsP39qvHSTGOw/KVyPwvUo7D/TTWIQWDnsPycxCKwcWuw//Knx0k1i7D/8qfHSTWLsP3sUrkfheuw/UI2XbhKD7D9QjZduEoPsP8/3U+Olm+w/pHA9Ctej7D+kcD0K16PsP05iEFg5tOw/d76fGi/d7D9MN4lBYOXsP57vp8ZLN+0/SOF6FK5H7T/HSzeJQWDtP5zEILByaO0/nMQgsHJo7T/ufD81XrrtPxfZzvdT4+0/F9nO91Pj7T/ByqFFtvPtP2q8dJMYBO4/PzVeukkM7j++nxov3STuP2iR7Xw/Ne4/5/up8dJN7j+8dJMYBFbuPw4tsp3vp+4/jZduEoPA7j8=",
          "dtype": "f8"
         },
         "xaxis": "x",
         "y": {
          "bdata": "BgYoX2KCBkAxKQq5Vj4LQCefTndtdQtApbzfJjODC0C0JoRifgoOQKK5S/cBQhBA32WlfqpWEECZL5C1GHkQQESq4Qkp7hBAgVY7kdECEUDi1Zl727URQMr8RFeUPxJAxTdnth9bEkC7rat0NpISQPhZBfzephJAdXeWq6S0EkB1d5arpLQSQDQGX4OHuxJAL0GB4hLXEkDpCmwZgfkSQOCAsNeXMBNAlYW9bZFuE0BUFIZFdHUTQAgZk9ttsxNACBmT222zE0DC4n0S3NUTQMLifRLc1RNANnZTgLgaFEC0k+QvfigUQK/OBo8JRBRAbl3PZuxKFEAt7Jc+z1EUQOt6YBayWBRA57WCdT10FEAjYtz85YgUQF8ONoSOnRRAXw42hI6dFEDdK8czVKsUQJy6jws3shRAGdggu/y/FEBRv5yhMPAUQBBOZXkT9xRATPq+ALwLFUDKF1CwgRkVQEg14V9HJxVAhOE65+87FUB/HF1Ge1cVQD6rJR5eXhVAdpKhBJKOFUA0IWrcdJUVQHHNw2MdqhVAMFyMOwCxFUCteR3rxb4VQGdDCCI04RVAIQ3zWKIDFkAcSBW4LR8WQNvW3Y8QJhZA29bdjxAmFkCaZaZn8ywWQNYRAO+bQRZAlaDIxn5IFkATvll2RFYWQBO+WXZEVhZA0kwiTiddFkCQ2+olCmQWQM2HRK2yeBZAjBYNhZV/FkBKpdVceIYWQEql1Vx4hhZACTSeNFuNFkCHUS/kIJsWQIdRL+QgmxZARuD3uwOiFkCCjFFDrLYWQEEbGhuPvRZAO1Y8ehrZFkD1HyexiPsWQLSu74hrAhdA8FpJEBQXF0Cv6RHo9h0XQC0Ho5e8KxdAZO4efvBbF0DdRtKMQYUXQFtkYzwHkxdAlxC9w6+nF0AVLk5zdbUXQBUuTnN1tRdA1LwWS1i8F0DP9ziq49cXQM/3OKrj1xdAjoYBgsbeF0BMFcpZqeUXQAukkjGM7BdAicEj4VH6F0CJwSPhUfoXQEhQ7Lg0ARhASFDsuDQBGEBIUOy4NAEYQAIa1++iIxhAOQFT1tZTGECyWQblJ30YQLJZBuUnfRhA7gVgbNCRGEDuBWBs0JEYQK2UKESzmBhAK7K583imGECoz0qjPrQYQKQKbQLKzxhAYpk12qzWGEBimTXarNYYQJ9Fj2FV6xhAXtRXOTjyGEBe1Fc5OPIYQJqAscDgBhlAWQ96mMMNGUBZD3qYww0ZQNYsC0iJGxlAkPb1fvc9GUBPhb5W2kQZQMMYlMS2iRlAQTYldHyXGUB94n77JKwZQDxxR9MHsxlAPHFH0wezGUCwBB1B5PcZQGrOB3hSGhpAas4HeFIaGkDo65gnGCgaQGQJKtfdNRpAI5jyrsA8GkBgREw2aVEaQN1h3eUuXxpAGg43bddzGkDYnP9EunoaQEww1bKWvxpAidwuOj/UGkA=",
          "dtype": "f8"
         },
         "yaxis": "y"
        }
       ],
       "layout": {
        "legend": {
         "tracegroupgap": 0
        },
        "template": {
         "data": {
          "bar": [
           {
            "error_x": {
             "color": "#2a3f5f"
            },
            "error_y": {
             "color": "#2a3f5f"
            },
            "marker": {
             "line": {
              "color": "#E5ECF6",
              "width": 0.5
             },
             "pattern": {
              "fillmode": "overlay",
              "size": 10,
              "solidity": 0.2
             }
            },
            "type": "bar"
           }
          ],
          "barpolar": [
           {
            "marker": {
             "line": {
              "color": "#E5ECF6",
              "width": 0.5
             },
             "pattern": {
              "fillmode": "overlay",
              "size": 10,
              "solidity": 0.2
             }
            },
            "type": "barpolar"
           }
          ],
          "carpet": [
           {
            "aaxis": {
             "endlinecolor": "#2a3f5f",
             "gridcolor": "white",
             "linecolor": "white",
             "minorgridcolor": "white",
             "startlinecolor": "#2a3f5f"
            },
            "baxis": {
             "endlinecolor": "#2a3f5f",
             "gridcolor": "white",
             "linecolor": "white",
             "minorgridcolor": "white",
             "startlinecolor": "#2a3f5f"
            },
            "type": "carpet"
           }
          ],
          "choropleth": [
           {
            "colorbar": {
             "outlinewidth": 0,
             "ticks": ""
            },
            "type": "choropleth"
           }
          ],
          "contour": [
           {
            "colorbar": {
             "outlinewidth": 0,
             "ticks": ""
            },
            "colorscale": [
             [
              0,
              "#0d0887"
             ],
             [
              0.1111111111111111,
              "#46039f"
             ],
             [
              0.2222222222222222,
              "#7201a8"
             ],
             [
              0.3333333333333333,
              "#9c179e"
             ],
             [
              0.4444444444444444,
              "#bd3786"
             ],
             [
              0.5555555555555556,
              "#d8576b"
             ],
             [
              0.6666666666666666,
              "#ed7953"
             ],
             [
              0.7777777777777778,
              "#fb9f3a"
             ],
             [
              0.8888888888888888,
              "#fdca26"
             ],
             [
              1,
              "#f0f921"
             ]
            ],
            "type": "contour"
           }
          ],
          "contourcarpet": [
           {
            "colorbar": {
             "outlinewidth": 0,
             "ticks": ""
            },
            "type": "contourcarpet"
           }
          ],
          "heatmap": [
           {
            "colorbar": {
             "outlinewidth": 0,
             "ticks": ""
            },
            "colorscale": [
             [
              0,
              "#0d0887"
             ],
             [
              0.1111111111111111,
              "#46039f"
             ],
             [
              0.2222222222222222,
              "#7201a8"
             ],
             [
              0.3333333333333333,
              "#9c179e"
             ],
             [
              0.4444444444444444,
              "#bd3786"
             ],
             [
              0.5555555555555556,
              "#d8576b"
             ],
             [
              0.6666666666666666,
              "#ed7953"
             ],
             [
              0.7777777777777778,
              "#fb9f3a"
             ],
             [
              0.8888888888888888,
              "#fdca26"
             ],
             [
              1,
              "#f0f921"
             ]
            ],
            "type": "heatmap"
           }
          ],
          "histogram": [
           {
            "marker": {
             "pattern": {
              "fillmode": "overlay",
              "size": 10,
              "solidity": 0.2
             }
            },
            "type": "histogram"
           }
          ],
          "histogram2d": [
           {
            "colorbar": {
             "outlinewidth": 0,
             "ticks": ""
            },
            "colorscale": [
             [
              0,
              "#0d0887"
             ],
             [
              0.1111111111111111,
              "#46039f"
             ],
             [
              0.2222222222222222,
              "#7201a8"
             ],
             [
              0.3333333333333333,
              "#9c179e"
             ],
             [
              0.4444444444444444,
              "#bd3786"
             ],
             [
              0.5555555555555556,
              "#d8576b"
             ],
             [
              0.6666666666666666,
              "#ed7953"
             ],
             [
              0.7777777777777778,
              "#fb9f3a"
             ],
             [
              0.8888888888888888,
              "#fdca26"
             ],
             [
              1,
              "#f0f921"
             ]
            ],
            "type": "histogram2d"
           }
          ],
          "histogram2dcontour": [
           {
            "colorbar": {
             "outlinewidth": 0,
             "ticks": ""
            },
            "colorscale": [
             [
              0,
              "#0d0887"
             ],
             [
              0.1111111111111111,
              "#46039f"
             ],
             [
              0.2222222222222222,
              "#7201a8"
             ],
             [
              0.3333333333333333,
              "#9c179e"
             ],
             [
              0.4444444444444444,
              "#bd3786"
             ],
             [
              0.5555555555555556,
              "#d8576b"
             ],
             [
              0.6666666666666666,
              "#ed7953"
             ],
             [
              0.7777777777777778,
              "#fb9f3a"
             ],
             [
              0.8888888888888888,
              "#fdca26"
             ],
             [
              1,
              "#f0f921"
             ]
            ],
            "type": "histogram2dcontour"
           }
          ],
          "mesh3d": [
           {
            "colorbar": {
             "outlinewidth": 0,
             "ticks": ""
            },
            "type": "mesh3d"
           }
          ],
          "parcoords": [
           {
            "line": {
             "colorbar": {
              "outlinewidth": 0,
              "ticks": ""
             }
            },
            "type": "parcoords"
           }
          ],
          "pie": [
           {
            "automargin": true,
            "type": "pie"
           }
          ],
          "scatter": [
           {
            "fillpattern": {
             "fillmode": "overlay",
             "size": 10,
             "solidity": 0.2
            },
            "type": "scatter"
           }
          ],
          "scatter3d": [
           {
            "line": {
             "colorbar": {
              "outlinewidth": 0,
              "ticks": ""
             }
            },
            "marker": {
             "colorbar": {
              "outlinewidth": 0,
              "ticks": ""
             }
            },
            "type": "scatter3d"
           }
          ],
          "scattercarpet": [
           {
            "marker": {
             "colorbar": {
              "outlinewidth": 0,
              "ticks": ""
             }
            },
            "type": "scattercarpet"
           }
          ],
          "scattergeo": [
           {
            "marker": {
             "colorbar": {
              "outlinewidth": 0,
              "ticks": ""
             }
            },
            "type": "scattergeo"
           }
          ],
          "scattergl": [
           {
            "marker": {
             "colorbar": {
              "outlinewidth": 0,
              "ticks": ""
             }
            },
            "type": "scattergl"
           }
          ],
          "scattermap": [
           {
            "marker": {
             "colorbar": {
              "outlinewidth": 0,
              "ticks": ""
             }
            },
            "type": "scattermap"
           }
          ],
          "scattermapbox": [
           {
            "marker": {
             "colorbar": {
              "outlinewidth": 0,
              "ticks": ""
             }
            },
            "type": "scattermapbox"
           }
          ],
          "scatterpolar": [
           {
            "marker": {
             "colorbar": {
              "outlinewidth": 0,
              "ticks": ""
             }
            },
            "type": "scatterpolar"
           }
          ],
          "scatterpolargl": [
           {
            "marker": {
             "colorbar": {
              "outlinewidth": 0,
              "ticks": ""
             }
            },
            "type": "scatterpolargl"
           }
          ],
          "scatterternary": [
           {
            "marker": {
             "colorbar": {
              "outlinewidth": 0,
              "ticks": ""
             }
            },
            "type": "scatterternary"
           }
          ],
          "surface": [
           {
            "colorbar": {
             "outlinewidth": 0,
             "ticks": ""
            },
            "colorscale": [
             [
              0,
              "#0d0887"
             ],
             [
              0.1111111111111111,
              "#46039f"
             ],
             [
              0.2222222222222222,
              "#7201a8"
             ],
             [
              0.3333333333333333,
              "#9c179e"
             ],
             [
              0.4444444444444444,
              "#bd3786"
             ],
             [
              0.5555555555555556,
              "#d8576b"
             ],
             [
              0.6666666666666666,
              "#ed7953"
             ],
             [
              0.7777777777777778,
              "#fb9f3a"
             ],
             [
              0.8888888888888888,
              "#fdca26"
             ],
             [
              1,
              "#f0f921"
             ]
            ],
            "type": "surface"
           }
          ],
          "table": [
           {
            "cells": {
             "fill": {
              "color": "#EBF0F8"
             },
             "line": {
              "color": "white"
             }
            },
            "header": {
             "fill": {
              "color": "#C8D4E3"
             },
             "line": {
              "color": "white"
             }
            },
            "type": "table"
           }
          ]
         },
         "layout": {
          "annotationdefaults": {
           "arrowcolor": "#2a3f5f",
           "arrowhead": 0,
           "arrowwidth": 1
          },
          "autotypenumbers": "strict",
          "coloraxis": {
           "colorbar": {
            "outlinewidth": 0,
            "ticks": ""
           }
          },
          "colorscale": {
           "diverging": [
            [
             0,
             "#8e0152"
            ],
            [
             0.1,
             "#c51b7d"
            ],
            [
             0.2,
             "#de77ae"
            ],
            [
             0.3,
             "#f1b6da"
            ],
            [
             0.4,
             "#fde0ef"
            ],
            [
             0.5,
             "#f7f7f7"
            ],
            [
             0.6,
             "#e6f5d0"
            ],
            [
             0.7,
             "#b8e186"
            ],
            [
             0.8,
             "#7fbc41"
            ],
            [
             0.9,
             "#4d9221"
            ],
            [
             1,
             "#276419"
            ]
           ],
           "sequential": [
            [
             0,
             "#0d0887"
            ],
            [
             0.1111111111111111,
             "#46039f"
            ],
            [
             0.2222222222222222,
             "#7201a8"
            ],
            [
             0.3333333333333333,
             "#9c179e"
            ],
            [
             0.4444444444444444,
             "#bd3786"
            ],
            [
             0.5555555555555556,
             "#d8576b"
            ],
            [
             0.6666666666666666,
             "#ed7953"
            ],
            [
             0.7777777777777778,
             "#fb9f3a"
            ],
            [
             0.8888888888888888,
             "#fdca26"
            ],
            [
             1,
             "#f0f921"
            ]
           ],
           "sequentialminus": [
            [
             0,
             "#0d0887"
            ],
            [
             0.1111111111111111,
             "#46039f"
            ],
            [
             0.2222222222222222,
             "#7201a8"
            ],
            [
             0.3333333333333333,
             "#9c179e"
            ],
            [
             0.4444444444444444,
             "#bd3786"
            ],
            [
             0.5555555555555556,
             "#d8576b"
            ],
            [
             0.6666666666666666,
             "#ed7953"
            ],
            [
             0.7777777777777778,
             "#fb9f3a"
            ],
            [
             0.8888888888888888,
             "#fdca26"
            ],
            [
             1,
             "#f0f921"
            ]
           ]
          },
          "colorway": [
           "#636efa",
           "#EF553B",
           "#00cc96",
           "#ab63fa",
           "#FFA15A",
           "#19d3f3",
           "#FF6692",
           "#B6E880",
           "#FF97FF",
           "#FECB52"
          ],
          "font": {
           "color": "#2a3f5f"
          },
          "geo": {
           "bgcolor": "white",
           "lakecolor": "white",
           "landcolor": "#E5ECF6",
           "showlakes": true,
           "showland": true,
           "subunitcolor": "white"
          },
          "hoverlabel": {
           "align": "left"
          },
          "hovermode": "closest",
          "mapbox": {
           "style": "light"
          },
          "paper_bgcolor": "white",
          "plot_bgcolor": "#E5ECF6",
          "polar": {
           "angularaxis": {
            "gridcolor": "white",
            "linecolor": "white",
            "ticks": ""
           },
           "bgcolor": "#E5ECF6",
           "radialaxis": {
            "gridcolor": "white",
            "linecolor": "white",
            "ticks": ""
           }
          },
          "scene": {
           "xaxis": {
            "backgroundcolor": "#E5ECF6",
            "gridcolor": "white",
            "gridwidth": 2,
            "linecolor": "white",
            "showbackground": true,
            "ticks": "",
            "zerolinecolor": "white"
           },
           "yaxis": {
            "backgroundcolor": "#E5ECF6",
            "gridcolor": "white",
            "gridwidth": 2,
            "linecolor": "white",
            "showbackground": true,
            "ticks": "",
            "zerolinecolor": "white"
           },
           "zaxis": {
            "backgroundcolor": "#E5ECF6",
            "gridcolor": "white",
            "gridwidth": 2,
            "linecolor": "white",
            "showbackground": true,
            "ticks": "",
            "zerolinecolor": "white"
           }
          },
          "shapedefaults": {
           "line": {
            "color": "#2a3f5f"
           }
          },
          "ternary": {
           "aaxis": {
            "gridcolor": "white",
            "linecolor": "white",
            "ticks": ""
           },
           "baxis": {
            "gridcolor": "white",
            "linecolor": "white",
            "ticks": ""
           },
           "bgcolor": "#E5ECF6",
           "caxis": {
            "gridcolor": "white",
            "linecolor": "white",
            "ticks": ""
           }
          },
          "title": {
           "x": 0.05
          },
          "xaxis": {
           "automargin": true,
           "gridcolor": "white",
           "linecolor": "white",
           "ticks": "",
           "title": {
            "standoff": 15
           },
           "zerolinecolor": "white",
           "zerolinewidth": 2
          },
          "yaxis": {
           "automargin": true,
           "gridcolor": "white",
           "linecolor": "white",
           "ticks": "",
           "title": {
            "standoff": 15
           },
           "zerolinecolor": "white",
           "zerolinewidth": 2
          }
         }
        },
        "title": {
         "text": "Ladder Score vs Freedom To Make Life Choices"
        },
        "xaxis": {
         "anchor": "y",
         "domain": [
          0,
          1
         ],
         "title": {
          "text": "Freedom To Make Life Choices"
         }
        },
        "yaxis": {
         "anchor": "x",
         "domain": [
          0,
          1
         ],
         "title": {
          "text": "Ladder Score"
         }
        }
       }
      }
     },
     "metadata": {},
     "output_type": "display_data"
    }
   ],
   "source": [
    "px.scatter(\n",
    "    df_whr,\n",
    "    x=\"Freedom To Make Life Choices\",\n",
    "    y=\"Ladder Score\",\n",
    "    hover_name=df_whr.index,\n",
    "    title=\"Ladder Score vs Freedom To Make Life Choices\",\n",
    "    labels={\"Freedom To Make Life Choices\": \"Freedom To Make Life Choices\", \"Ladder Score\": \"Ladder Score\"},\n",
    "    color_discrete_sequence=[\"#4E268F\"],\n",
    "    opacity=0.7,\n",
    "    trendline=\"ols\"\n",
    ")"
   ]
  },
  {
   "cell_type": "markdown",
   "id": "a3d6c228",
   "metadata": {},
   "source": [
    "![Track Age vs Streams](screenshots/ladder-score-vs-freedom-to-make-life-choices.png\n",
    ")\n"
   ]
  },
  {
   "cell_type": "markdown",
   "id": "0fa6d457",
   "metadata": {},
   "source": [
    "## Scatter Plot: Ladder Score vs Generosity  \n",
    "\n",
    "This scatter plot explores the relationship between **Generosity** and **Ladder Score** across countries.  \n",
    "\n",
    "**Key Observations:**  \n",
    "- The correlation is **weak to moderate**: higher generosity does not always guarantee higher happiness.  \n",
    "- **Top-ranking countries** (Finland, Denmark, Iceland) have moderate generosity (≈ -0.02 to 0.21) but still maintain high happiness scores, suggesting **other factors like social support and GDP are more decisive**.  \n",
    "- **Lower-ranking countries** (Afghanistan, Lebanon, Zimbabwe) show a range of generosity values, some positive and some negative, but consistently low happiness, confirming generosity alone is not sufficient.  \n",
    "- **Outliers** exist: Indonesia (Generosity ≈ 0.531) has relatively higher generosity but only moderate happiness (~5.28), showing that generosity can boost happiness but depends on context.  \n",
    "- The trendline (OLS) is nearly flat, reinforcing that **generosity has a limited direct effect** on Ladder Score compared to social support or freedom.  \n",
    "\n",
    "**Conclusion:**  \n",
    "- Generosity contributes to happiness, but it is **not the primary driver**; economic factors, social support, and personal freedom play larger roles.  \n",
    "- Policies aiming to improve well-being should consider generosity **in combination with other social and economic factors**.  \n"
   ]
  },
  {
   "cell_type": "code",
   "execution_count": 48,
   "id": "c62e9bbd",
   "metadata": {},
   "outputs": [
    {
     "data": {
      "application/vnd.plotly.v1+json": {
       "config": {
        "plotlyServerURL": "https://plot.ly"
       },
       "data": [
        {
         "hovertemplate": "<b>%{hovertext}</b><br><br>Generosity=%{x}<br>Ladder Score=%{y}<extra></extra>",
         "hovertext": [
          "Finland",
          "Denmark",
          "Iceland",
          "Israel",
          "Netherlands",
          "Sweden",
          "Norway",
          "Switzerland",
          "Luxembourg",
          "New Zealand",
          "Austria",
          "Australia",
          "Canada",
          "Ireland",
          "United States",
          "Germany",
          "Belgium",
          "Czechia",
          "United Kingdom",
          "Lithuania",
          "France",
          "Slovenia",
          "Costa Rica",
          "Romania",
          "Singapore",
          "United Arab Emirates",
          "Taiwan Province of China",
          "Uruguay",
          "Slovakia",
          "Saudi Arabia",
          "Estonia",
          "Spain",
          "Italy",
          "Kosovo",
          "Chile",
          "Mexico",
          "Malta",
          "Panama",
          "Poland",
          "Nicaragua",
          "Latvia",
          "Bahrain",
          "Guatemala",
          "Kazakhstan",
          "Serbia",
          "Cyprus",
          "Japan",
          "Croatia",
          "Brazil",
          "El Salvador",
          "Hungary",
          "Argentina",
          "Honduras",
          "Uzbekistan",
          "Malaysia",
          "Portugal",
          "South Korea",
          "Greece",
          "Mauritius",
          "Thailand",
          "Mongolia",
          "Kyrgyzstan",
          "Moldova",
          "China",
          "Vietnam",
          "Paraguay",
          "Montenegro",
          "Jamaica",
          "Bolivia",
          "Russia",
          "Bosnia and Herzegovina",
          "Colombia",
          "Dominican Republic",
          "Ecuador",
          "Peru",
          "Philippines",
          "Bulgaria",
          "Nepal",
          "Armenia",
          "Tajikistan",
          "Algeria",
          "Hong Kong S.A.R. of China",
          "Albania",
          "Indonesia",
          "South Africa",
          "Congo (Brazzaville)",
          "North Macedonia",
          "Venezuela",
          "Laos",
          "Georgia",
          "Guinea",
          "Ukraine",
          "Ivory Coast",
          "Gabon",
          "Nigeria",
          "Cameroon",
          "Mozambique",
          "Iraq",
          "Morocco",
          "Iran",
          "Senegal",
          "Mauritania",
          "Burkina Faso",
          "Namibia",
          "Turkiye",
          "Ghana",
          "Pakistan",
          "Niger",
          "Tunisia",
          "Kenya",
          "Sri Lanka",
          "Uganda",
          "Chad",
          "Cambodia",
          "Benin",
          "Myanmar",
          "Bangladesh",
          "Gambia",
          "Mali",
          "Egypt",
          "Togo",
          "Jordan",
          "Ethiopia",
          "Liberia",
          "India",
          "Madagascar",
          "Zambia",
          "Tanzania",
          "Comoros",
          "Malawi",
          "Botswana",
          "Congo (Kinshasa)",
          "Zimbabwe",
          "Sierra Leone",
          "Lebanon",
          "Afghanistan"
         ],
         "legendgroup": "",
         "marker": {
          "color": "#188FFF",
          "opacity": 0.7,
          "symbol": "circle"
         },
         "mode": "markers",
         "name": "",
         "orientation": "v",
         "showlegend": false,
         "type": "scatter",
         "x": {
          "bdata": "2/l+arx0k7/0/dR46SbBPzVeukkMAss/WmQ730+Nl7/dJAaBlUPLPx+F61G4HsU/PzVeukkMwj/ZzvdT46WbP/p+arx0k5g/ZmZmZmZmxj/pJjEIrBy6P/LSTWIQWMk/L90kBoGVwz9aZDvfT423P/Cnxks3icE/uB6F61G4nj/8qfHSTWJQP3sUrkfheqQ//tR46SYx0D+PwvUoXI/Cv5qZmZmZmbm/eekmMQisjD/sUbgeheuxv2q8dJMYBMa/VOOlm8QgsD/6fmq8dJO4P1CNl24Sg8C/pHA9CtejsL/8qfHSTWKQvyPb+X5qvLS//Knx0k1ioD9MN4lBYOWwv4ts5/up8bK/+n5qvHST0D+6SQwCK4eGv6rx0k1iELi/EFg5tMh2vj+gGi/dJAbBv1g5tMh2vp+/Gy/dJAaBlT956SYxCKysv8HKoUW2870/yXa+nxovrb8AAAAAAAAAAOkmMQisHMo/uB6F61G4rr+8dJMYBFbOvwIrhxbZzre/O99PjZdugr/ZzvdT46W7v2iR7Xw/Na6/YhBYObTItr+iRbbz/dS4P3E9CtejcM0/exSuR+F6xD9KDAIrhxbJv1pkO99Pjae/uB6F61G4zr956SYxCKycv+XQItv5ftI/UrgehetRyD9eukkMAivHP3sUrkfherS/y6FFtvP9pL/8qfHSTWJwvxsv3SQGgZU/VOOlm8QgsD+JQWDl0CK7v1TjpZvEILC/uB6F61G4nr+R7Xw/NV7KPzm0yHa+n7q/8tJNYhBYub/ZzvdT46W7vxBYObTIdr6/uB6F61G4rr/Jdr6fGi+tv+Olm8QgsMI/16NwPQrXw7+4HoXrUbiuv8HKoUW2872/ObTIdr6fmr956SYxCKx8v8uhRbbz/eA/EoPAyqFFtr/8qfHSTWJwv/hT46WbxMA//Knx0k1iwD+yne+nxku3P6jGSzeJQdC/AAAAAAAAwD+4HoXrUbjOP/p+arx0k2g/Vg4tsp3vx7/jpZvEILCyP7gehetRuI4/qvHSTWIQqD97FK5H4Xp0v8UgsHJokc2/vp8aL90kxj+6SQwCK4eGPzm0yHa+n4q/UrgehetRuD9U46WbxCDAv4PAyqFFtrO/mG4Sg8DKwT/8qfHSTWKAP/yp8dJNYqA/3SQGgZVDy78730+Nl27SP7gehetRuJ6/yXa+nxovvT99PzVeuknMP+Olm8QgsLI/arx0kxgEpr8GgZVDi2zfP3sUrkfhenQ/sp3vp8ZL1z956SYxCKycvwaBlUOLbMe/+n5qvHSTmD8zMzMzMzPDv0a28/3UeNE/g8DKoUW2wz8730+Nl26yPzMzMzMzM7M/SgwCK4cWuT+yne+nxkvHP3npJjEIrIy/exSuR+F6dD+F61G4HoXLv2q8dJMYBLY/WmQ730+Np7/hehSuR+G6Pz81XrpJDMK/I9v5fmq8tL8=",
          "dtype": "f8"
         },
         "xaxis": "x",
         "y": {
          "bdata": "nu+nxks3H0Dy0k1iEFgeQB+F61G4Hh5AMQisHFrkHUDpJjEIrJwdQBSuR+F6lB1Aw/UoXI9CHUD2KFyPwvUcQLbz/dR46RxAy6FFtvN9HEAX2c73U2McQOF6FK5HYRxA8tJNYhDYG0C+nxov3aQbQPp+arx0kxtAxSCwcmiRG0BWDi2ynW8bQOF6FK5HYRtAyXa+nxovG0BaZDvfTw0bQL6fGi/dpBpAmpmZmZmZGkBWDi2ynW8aQEJg5dAiWxpADAIrhxZZGkBiEFg5tEgaQKRwPQrXIxpAYOXQItv5GUDHSzeJQeAZQCcxCKwc2hlAUrgehevRGUBYObTIdr4ZQB+F61G4nhlARrbz/dR4GUC8dJMYBFYZQFK4HoXrURlAMzMzMzMzGUCPwvUoXA8ZQArXo3A9ChlA8KfGSzcJGUAnMQisHNoYQP7UeOkmsRhAmpmZmZmZGED6fmq8dJMYQPp+arx0kxhAhetRuB6FGEBqvHSTGIQYQAAAAAAAgBhAAAAAAACAGECwcmiR7XwYQESLbOf7KRhAf2q8dJMYGEBkO99PjRcYQHWTGARWDhhAPzVeukkMGECsHFpkO98XQOf7qfHSzRdA001iEFi5F0DP91PjpZsXQKwcWmQ7XxdAXI/C9ShcF0DNzMzMzEwXQC2yne+nRhdAEoPAyqFFF0BaZDvfTw0XQMHKoUW28xZAF9nO91PjFkAdWmQ7388WQCPb+X5qvBZAvp8aL92kFkDVeOkmMYgWQIXrUbgehRZALbKd76dGFkAj2/l+ajwWQLTIdr6fGhZAZDvfT40XFkB3vp8aL90VQHE9CtejcBVAke18PzVeFUBSuB6F61EVQDeJQWDlUBVACKwcWmQ7FUDP91PjpRsVQM/3U+OlGxVAmpmZmZkZFUDFILByaBEVQGq8dJMYBBVA8tJNYhDYFECLbOf7qXEUQFYOLbKdbxRAfT81XrpJFEBiEFg5tEgUQIPAyqFFNhRApHA9CtcjFEAGgZVDi+wTQDEIrBxa5BNAN4lBYOXQE0DdJAaBlcMTQOkmMQisnBNAGy/dJAaBE0DsUbgehWsTQEw3iUFg5RJAWmQ730+NEkCgGi/dJIYSQNv5fmq8dBJA7FG4HoVrEkC4HoXrUTgSQBsv3SQGARJAsHJoke38EUCmm8QgsPIRQPhT46WbxBFA7nw/NV66EUBKDAIrh5YRQN9PjZdukhFA5dAi2/l+EUCwcmiR7XwRQFTjpZvEIBFABFYOLbIdEUCYbhKDwMoQQK5H4XoUrhBAPzVeukmMEEB7FK5H4XoQQHe+nxovXRBAXrpJDAIrEEC+nxov3SQQQPp+arx0ExBAQmDl0CLbD0BaZDvfT40NQFyPwvUoXAxA9ihcj8L1C0B7FK5H4XoLQA4tsp3vpwlAbxKDwMqhCUC0yHa+nxoJQIlBYOXQIgNAWDm0yHa+/T8=",
          "dtype": "f8"
         },
         "yaxis": "y"
        },
        {
         "hovertemplate": "<b>OLS trendline</b><br>Ladder Score = 0.321445 * Generosity + 5.53687<br>R<sup>2</sup>=0.001586<br><br>Generosity=%{x}<br>Ladder Score=%{y} <b>(trend)</b><extra></extra>",
         "legendgroup": "",
         "marker": {
          "color": "#188FFF",
          "symbol": "circle"
         },
         "mode": "lines",
         "name": "",
         "showlegend": false,
         "type": "scatter",
         "x": {
          "bdata": "qMZLN4lB0L+4HoXrUbjOv7x0kxgEVs6/xSCwcmiRzb+F61G4HoXLv90kBoGVQ8u/SgwCK4cWyb9WDi2yne/HvwaBlUOLbMe/arx0kxgExr/Xo3A9CtfDvzMzMzMzM8O/j8L1KFyPwr8/NV66SQzCv6AaL90kBsG/UI2XbhKDwL9U46WbxCDAvxBYObTIdr6/wcqhRbbzvb/ZzvdT46W7v9nO91Pjpbu/iUFg5dAiu785tMh2vp+6v5qZmZmZmbm/8tJNYhBYub+q8dJNYhC4vwIrhxbZzre/YhBYObTItr8Sg8DKoUW2vyPb+X5qvLS/I9v5fmq8tL97FK5H4Xq0v4PAyqFFtrO/i2zn+6nxsr/sUbgeheuxv0w3iUFg5bC/pHA9CtejsL9U46WbxCCwv7gehetRuK6/uB6F61G4rr+4HoXrUbiuv2iR7Xw/Na6/yXa+nxovrb/Jdr6fGi+tv3npJjEIrKy/WmQ730+Np79aZDvfT42nv2q8dJMYBKa/y6FFtvP9pL9YObTIdr6fv7gehetRuJ6/uB6F61G4nr956SYxCKycv3npJjEIrJy/ObTIdr6fmr9aZDvfT42Xv9v5fmq8dJO//Knx0k1ikL956SYxCKyMvzm0yHa+n4q/ukkMAiuHhr8730+Nl26Cv3npJjEIrHy/exSuR+F6dL/8qfHSTWJwv/yp8dJNYnC/AAAAAAAAAAD8qfHSTWJQP/p+arx0k2g/exSuR+F6dD97FK5H4Xp0P/yp8dJNYoA/ukkMAiuHhj956SYxCKyMP7gehetRuI4/Gy/dJAaBlT8bL90kBoGVP/p+arx0k5g/+n5qvHSTmD/ZzvdT46WbP7gehetRuJ4//Knx0k1ioD/8qfHSTWKgP3sUrkfheqQ/qvHSTWIQqD9U46WbxCCwP1TjpZvEILA/O99PjZdusj/jpZvEILCyP+Olm8QgsLI/MzMzMzMzsz9qvHSTGAS2P7Kd76fGS7c/WmQ730+Ntz9SuB6F61G4P/p+arx0k7g/okW28/3UuD9KDAIrhxa5P+kmMQisHLo/4XoUrkfhuj/Jdr6fGi+9P8HKoUW2870/EFg5tMh2vj8AAAAAAADAP/yp8dJNYsA/+FPjpZvEwD/0/dR46SbBP/Cnxks3icE/mG4Sg8DKwT8/NV66SQzCP+Olm8QgsMI/L90kBoGVwz+DwMqhRbbDP3sUrkfhesQ/H4XrUbgexT++nxov3STGP2ZmZmZmZsY/XrpJDAIrxz+yne+nxkvHP1K4HoXrUcg/8tJNYhBYyT/pJjEIrBzKP5HtfD81Xso/NV66SQwCyz/dJAaBlUPLP30/NV66Scw/cT0K16NwzT+4HoXrUbjOP/7UeOkmMdA/+n5qvHST0D9GtvP91HjRPzvfT42XbtI/5dAi2/l+0j+yne+nxkvXPwaBlUOLbN8/y6FFtvP94D8=",
          "dtype": "f8"
         },
         "xaxis": "x",
         "y": {
          "bdata": "FLmd6STSFUD8fuCewNYVQK47Smq91xVAEbUdAbfZFUAbTvw9+94VQDwhmMWj3xVA1qNERjzlFUDr2YGoMugVQC2AubeD6RVAZImSoSLtFUD+Cz8iu/IVQNGbRHVg9BVAoytKyAX2FUDm0YHXVvcVQGoe8fX4+RVArcQoBUr7FUBfgZLQRvwVQFPkM6uU/hVAdLfPMj3/FUCJ7QyVMwIWQIntDJUzAhZAqsCoHNwCFkDLk0SkhAMWQA46fLPVBBZAniNK9ykFFkBxs09KzwYWQAKdHY4jBxZARENVnXQIFkBlFvEkHQkWQMmPxLsWCxZAyY/EuxYLFkBZeZL/agsWQAs2/MpnDBZAvfJllmQNFkD/mJ2ltQ4WQEI/1bQGEBZA0iij+FoQFkDz+z6AAxEWQKW4qEsAEhZApbioSwASFkCluKhLABIWQDaido9UEhZAV3USF/0SFkBXdRIX/RIWQOde4FpRExZAjX7rAJwWFkCNfusAnBYWQD87VcyYFxZAYA7xU0EYFkAGLvz5ixsWQJcXyj3gGxZAlxfKPeAbFkC46mXFiBwWQLjqZcWIHBZA2b0BTTEdFkCLemsYLh4WQM0goyd/HxZAf90M83sgFkCgsKh6JCEWQDCadr54IRZAUm0SRiEiFkBzQK7NySIWQJQTSlVyIxZAtebl3BokFkBG0LMgbyQWQEbQsyBvJBZAiHbrL8AlFkAZYLlzFCYWQDozVfu8JhZAWwbxgmUnFkBbBvGCZScWQA3DWk5iKBZAvn/EGV8pFkBwPC7lWyoWQAEm/CiwKhZAZJ/Pv6ksFkBkn8+/qSwWQBZcOYumLRZAFlw5i6YtFkDIGKNWoy4WQHnVDCKgLxZAm6ioqUgwFkCbqKipSDAWQB/1F8jqMhZAE1i5ojg1FkAd8ZfffDoWQB3xl998OhZAMifVQXM9FkDDEKOFxz0WQMMQo4XHPRZA5OM+DXA+FkAa7Rf3DkIWQO18HUq0QxZAfmbrjQhEFkAvI1VZBUUWQMAMI51ZRRZAUfbw4K1FFkDh374kAkYWQCOG9jNTRxZA1UJg/09IFkDqeJ1hRksWQJw1By1DTBZAvQijtOtMFkAhgnZL5U4WQNM+4BbiTxZAhPtJ4t5QFkA2uLOt21EWQOh0HXnYUhZACUi5AIFTFkAqG1WIKVQWQP2qWtvOVRZA8Q38tRxYFkCC98n5cFgWQOVwnZBqWhZAuACj4w9cFkA9TRICsl4WQF4grolaXxZAwpmBIFRhFkBSg09kqGEWQNfPvoJKZBZAWxwuoexmFkC/lQE45mgWQOBonb+OaRZAs/iiEjRrFkDUyz6a3GsWQFkYrrh+bhZAbk7rGnVxFkAUbvbAv3QWQGtKazIHeRZAz8M+yQB7FkC3iYF+nH8WQDA5kneMhBZAwCJgu+CEFkAckLOYkJ0WQNZu2jtexxZAbu0G1IjUFkA=",
          "dtype": "f8"
         },
         "yaxis": "y"
        }
       ],
       "layout": {
        "legend": {
         "tracegroupgap": 0
        },
        "template": {
         "data": {
          "bar": [
           {
            "error_x": {
             "color": "#2a3f5f"
            },
            "error_y": {
             "color": "#2a3f5f"
            },
            "marker": {
             "line": {
              "color": "#E5ECF6",
              "width": 0.5
             },
             "pattern": {
              "fillmode": "overlay",
              "size": 10,
              "solidity": 0.2
             }
            },
            "type": "bar"
           }
          ],
          "barpolar": [
           {
            "marker": {
             "line": {
              "color": "#E5ECF6",
              "width": 0.5
             },
             "pattern": {
              "fillmode": "overlay",
              "size": 10,
              "solidity": 0.2
             }
            },
            "type": "barpolar"
           }
          ],
          "carpet": [
           {
            "aaxis": {
             "endlinecolor": "#2a3f5f",
             "gridcolor": "white",
             "linecolor": "white",
             "minorgridcolor": "white",
             "startlinecolor": "#2a3f5f"
            },
            "baxis": {
             "endlinecolor": "#2a3f5f",
             "gridcolor": "white",
             "linecolor": "white",
             "minorgridcolor": "white",
             "startlinecolor": "#2a3f5f"
            },
            "type": "carpet"
           }
          ],
          "choropleth": [
           {
            "colorbar": {
             "outlinewidth": 0,
             "ticks": ""
            },
            "type": "choropleth"
           }
          ],
          "contour": [
           {
            "colorbar": {
             "outlinewidth": 0,
             "ticks": ""
            },
            "colorscale": [
             [
              0,
              "#0d0887"
             ],
             [
              0.1111111111111111,
              "#46039f"
             ],
             [
              0.2222222222222222,
              "#7201a8"
             ],
             [
              0.3333333333333333,
              "#9c179e"
             ],
             [
              0.4444444444444444,
              "#bd3786"
             ],
             [
              0.5555555555555556,
              "#d8576b"
             ],
             [
              0.6666666666666666,
              "#ed7953"
             ],
             [
              0.7777777777777778,
              "#fb9f3a"
             ],
             [
              0.8888888888888888,
              "#fdca26"
             ],
             [
              1,
              "#f0f921"
             ]
            ],
            "type": "contour"
           }
          ],
          "contourcarpet": [
           {
            "colorbar": {
             "outlinewidth": 0,
             "ticks": ""
            },
            "type": "contourcarpet"
           }
          ],
          "heatmap": [
           {
            "colorbar": {
             "outlinewidth": 0,
             "ticks": ""
            },
            "colorscale": [
             [
              0,
              "#0d0887"
             ],
             [
              0.1111111111111111,
              "#46039f"
             ],
             [
              0.2222222222222222,
              "#7201a8"
             ],
             [
              0.3333333333333333,
              "#9c179e"
             ],
             [
              0.4444444444444444,
              "#bd3786"
             ],
             [
              0.5555555555555556,
              "#d8576b"
             ],
             [
              0.6666666666666666,
              "#ed7953"
             ],
             [
              0.7777777777777778,
              "#fb9f3a"
             ],
             [
              0.8888888888888888,
              "#fdca26"
             ],
             [
              1,
              "#f0f921"
             ]
            ],
            "type": "heatmap"
           }
          ],
          "histogram": [
           {
            "marker": {
             "pattern": {
              "fillmode": "overlay",
              "size": 10,
              "solidity": 0.2
             }
            },
            "type": "histogram"
           }
          ],
          "histogram2d": [
           {
            "colorbar": {
             "outlinewidth": 0,
             "ticks": ""
            },
            "colorscale": [
             [
              0,
              "#0d0887"
             ],
             [
              0.1111111111111111,
              "#46039f"
             ],
             [
              0.2222222222222222,
              "#7201a8"
             ],
             [
              0.3333333333333333,
              "#9c179e"
             ],
             [
              0.4444444444444444,
              "#bd3786"
             ],
             [
              0.5555555555555556,
              "#d8576b"
             ],
             [
              0.6666666666666666,
              "#ed7953"
             ],
             [
              0.7777777777777778,
              "#fb9f3a"
             ],
             [
              0.8888888888888888,
              "#fdca26"
             ],
             [
              1,
              "#f0f921"
             ]
            ],
            "type": "histogram2d"
           }
          ],
          "histogram2dcontour": [
           {
            "colorbar": {
             "outlinewidth": 0,
             "ticks": ""
            },
            "colorscale": [
             [
              0,
              "#0d0887"
             ],
             [
              0.1111111111111111,
              "#46039f"
             ],
             [
              0.2222222222222222,
              "#7201a8"
             ],
             [
              0.3333333333333333,
              "#9c179e"
             ],
             [
              0.4444444444444444,
              "#bd3786"
             ],
             [
              0.5555555555555556,
              "#d8576b"
             ],
             [
              0.6666666666666666,
              "#ed7953"
             ],
             [
              0.7777777777777778,
              "#fb9f3a"
             ],
             [
              0.8888888888888888,
              "#fdca26"
             ],
             [
              1,
              "#f0f921"
             ]
            ],
            "type": "histogram2dcontour"
           }
          ],
          "mesh3d": [
           {
            "colorbar": {
             "outlinewidth": 0,
             "ticks": ""
            },
            "type": "mesh3d"
           }
          ],
          "parcoords": [
           {
            "line": {
             "colorbar": {
              "outlinewidth": 0,
              "ticks": ""
             }
            },
            "type": "parcoords"
           }
          ],
          "pie": [
           {
            "automargin": true,
            "type": "pie"
           }
          ],
          "scatter": [
           {
            "fillpattern": {
             "fillmode": "overlay",
             "size": 10,
             "solidity": 0.2
            },
            "type": "scatter"
           }
          ],
          "scatter3d": [
           {
            "line": {
             "colorbar": {
              "outlinewidth": 0,
              "ticks": ""
             }
            },
            "marker": {
             "colorbar": {
              "outlinewidth": 0,
              "ticks": ""
             }
            },
            "type": "scatter3d"
           }
          ],
          "scattercarpet": [
           {
            "marker": {
             "colorbar": {
              "outlinewidth": 0,
              "ticks": ""
             }
            },
            "type": "scattercarpet"
           }
          ],
          "scattergeo": [
           {
            "marker": {
             "colorbar": {
              "outlinewidth": 0,
              "ticks": ""
             }
            },
            "type": "scattergeo"
           }
          ],
          "scattergl": [
           {
            "marker": {
             "colorbar": {
              "outlinewidth": 0,
              "ticks": ""
             }
            },
            "type": "scattergl"
           }
          ],
          "scattermap": [
           {
            "marker": {
             "colorbar": {
              "outlinewidth": 0,
              "ticks": ""
             }
            },
            "type": "scattermap"
           }
          ],
          "scattermapbox": [
           {
            "marker": {
             "colorbar": {
              "outlinewidth": 0,
              "ticks": ""
             }
            },
            "type": "scattermapbox"
           }
          ],
          "scatterpolar": [
           {
            "marker": {
             "colorbar": {
              "outlinewidth": 0,
              "ticks": ""
             }
            },
            "type": "scatterpolar"
           }
          ],
          "scatterpolargl": [
           {
            "marker": {
             "colorbar": {
              "outlinewidth": 0,
              "ticks": ""
             }
            },
            "type": "scatterpolargl"
           }
          ],
          "scatterternary": [
           {
            "marker": {
             "colorbar": {
              "outlinewidth": 0,
              "ticks": ""
             }
            },
            "type": "scatterternary"
           }
          ],
          "surface": [
           {
            "colorbar": {
             "outlinewidth": 0,
             "ticks": ""
            },
            "colorscale": [
             [
              0,
              "#0d0887"
             ],
             [
              0.1111111111111111,
              "#46039f"
             ],
             [
              0.2222222222222222,
              "#7201a8"
             ],
             [
              0.3333333333333333,
              "#9c179e"
             ],
             [
              0.4444444444444444,
              "#bd3786"
             ],
             [
              0.5555555555555556,
              "#d8576b"
             ],
             [
              0.6666666666666666,
              "#ed7953"
             ],
             [
              0.7777777777777778,
              "#fb9f3a"
             ],
             [
              0.8888888888888888,
              "#fdca26"
             ],
             [
              1,
              "#f0f921"
             ]
            ],
            "type": "surface"
           }
          ],
          "table": [
           {
            "cells": {
             "fill": {
              "color": "#EBF0F8"
             },
             "line": {
              "color": "white"
             }
            },
            "header": {
             "fill": {
              "color": "#C8D4E3"
             },
             "line": {
              "color": "white"
             }
            },
            "type": "table"
           }
          ]
         },
         "layout": {
          "annotationdefaults": {
           "arrowcolor": "#2a3f5f",
           "arrowhead": 0,
           "arrowwidth": 1
          },
          "autotypenumbers": "strict",
          "coloraxis": {
           "colorbar": {
            "outlinewidth": 0,
            "ticks": ""
           }
          },
          "colorscale": {
           "diverging": [
            [
             0,
             "#8e0152"
            ],
            [
             0.1,
             "#c51b7d"
            ],
            [
             0.2,
             "#de77ae"
            ],
            [
             0.3,
             "#f1b6da"
            ],
            [
             0.4,
             "#fde0ef"
            ],
            [
             0.5,
             "#f7f7f7"
            ],
            [
             0.6,
             "#e6f5d0"
            ],
            [
             0.7,
             "#b8e186"
            ],
            [
             0.8,
             "#7fbc41"
            ],
            [
             0.9,
             "#4d9221"
            ],
            [
             1,
             "#276419"
            ]
           ],
           "sequential": [
            [
             0,
             "#0d0887"
            ],
            [
             0.1111111111111111,
             "#46039f"
            ],
            [
             0.2222222222222222,
             "#7201a8"
            ],
            [
             0.3333333333333333,
             "#9c179e"
            ],
            [
             0.4444444444444444,
             "#bd3786"
            ],
            [
             0.5555555555555556,
             "#d8576b"
            ],
            [
             0.6666666666666666,
             "#ed7953"
            ],
            [
             0.7777777777777778,
             "#fb9f3a"
            ],
            [
             0.8888888888888888,
             "#fdca26"
            ],
            [
             1,
             "#f0f921"
            ]
           ],
           "sequentialminus": [
            [
             0,
             "#0d0887"
            ],
            [
             0.1111111111111111,
             "#46039f"
            ],
            [
             0.2222222222222222,
             "#7201a8"
            ],
            [
             0.3333333333333333,
             "#9c179e"
            ],
            [
             0.4444444444444444,
             "#bd3786"
            ],
            [
             0.5555555555555556,
             "#d8576b"
            ],
            [
             0.6666666666666666,
             "#ed7953"
            ],
            [
             0.7777777777777778,
             "#fb9f3a"
            ],
            [
             0.8888888888888888,
             "#fdca26"
            ],
            [
             1,
             "#f0f921"
            ]
           ]
          },
          "colorway": [
           "#636efa",
           "#EF553B",
           "#00cc96",
           "#ab63fa",
           "#FFA15A",
           "#19d3f3",
           "#FF6692",
           "#B6E880",
           "#FF97FF",
           "#FECB52"
          ],
          "font": {
           "color": "#2a3f5f"
          },
          "geo": {
           "bgcolor": "white",
           "lakecolor": "white",
           "landcolor": "#E5ECF6",
           "showlakes": true,
           "showland": true,
           "subunitcolor": "white"
          },
          "hoverlabel": {
           "align": "left"
          },
          "hovermode": "closest",
          "mapbox": {
           "style": "light"
          },
          "paper_bgcolor": "white",
          "plot_bgcolor": "#E5ECF6",
          "polar": {
           "angularaxis": {
            "gridcolor": "white",
            "linecolor": "white",
            "ticks": ""
           },
           "bgcolor": "#E5ECF6",
           "radialaxis": {
            "gridcolor": "white",
            "linecolor": "white",
            "ticks": ""
           }
          },
          "scene": {
           "xaxis": {
            "backgroundcolor": "#E5ECF6",
            "gridcolor": "white",
            "gridwidth": 2,
            "linecolor": "white",
            "showbackground": true,
            "ticks": "",
            "zerolinecolor": "white"
           },
           "yaxis": {
            "backgroundcolor": "#E5ECF6",
            "gridcolor": "white",
            "gridwidth": 2,
            "linecolor": "white",
            "showbackground": true,
            "ticks": "",
            "zerolinecolor": "white"
           },
           "zaxis": {
            "backgroundcolor": "#E5ECF6",
            "gridcolor": "white",
            "gridwidth": 2,
            "linecolor": "white",
            "showbackground": true,
            "ticks": "",
            "zerolinecolor": "white"
           }
          },
          "shapedefaults": {
           "line": {
            "color": "#2a3f5f"
           }
          },
          "ternary": {
           "aaxis": {
            "gridcolor": "white",
            "linecolor": "white",
            "ticks": ""
           },
           "baxis": {
            "gridcolor": "white",
            "linecolor": "white",
            "ticks": ""
           },
           "bgcolor": "#E5ECF6",
           "caxis": {
            "gridcolor": "white",
            "linecolor": "white",
            "ticks": ""
           }
          },
          "title": {
           "x": 0.05
          },
          "xaxis": {
           "automargin": true,
           "gridcolor": "white",
           "linecolor": "white",
           "ticks": "",
           "title": {
            "standoff": 15
           },
           "zerolinecolor": "white",
           "zerolinewidth": 2
          },
          "yaxis": {
           "automargin": true,
           "gridcolor": "white",
           "linecolor": "white",
           "ticks": "",
           "title": {
            "standoff": 15
           },
           "zerolinecolor": "white",
           "zerolinewidth": 2
          }
         }
        },
        "title": {
         "text": "Ladder Score vs Generosity"
        },
        "xaxis": {
         "anchor": "y",
         "domain": [
          0,
          1
         ],
         "title": {
          "text": "Generosity"
         }
        },
        "yaxis": {
         "anchor": "x",
         "domain": [
          0,
          1
         ],
         "title": {
          "text": "Ladder Score"
         }
        }
       }
      }
     },
     "metadata": {},
     "output_type": "display_data"
    }
   ],
   "source": [
    "px.scatter(\n",
    "    df_whr,\n",
    "    x=\"Generosity\",\n",
    "    y=\"Ladder Score\",\n",
    "    hover_name=df_whr.index,\n",
    "    title=\"Ladder Score vs Generosity\",\n",
    "    labels={\"Generosity\": \"Generosity\", \"Ladder Score\": \"Ladder Score\"},\n",
    "    color_discrete_sequence=[\"#188FFF\"],\n",
    "    opacity=0.7,\n",
    "    trendline=\"ols\"\n",
    ")"
   ]
  },
  {
   "cell_type": "markdown",
   "id": "b89cd0ae",
   "metadata": {},
   "source": [
    "![Track Age vs Streams](screenshots/ladder-score-vs-generosity.png\n",
    ")\n"
   ]
  },
  {
   "cell_type": "markdown",
   "id": "4ddaee4c",
   "metadata": {},
   "source": [
    "## Scatter Plot: Ladder Score vs Perceptions Of Corruption  \n",
    "\n",
    "This scatter plot examines the effect of **perceived corruption** on **Ladder Score**.  \n",
    "\n",
    "**Key Observations:**  \n",
    "- There is a **moderate negative correlation**: countries with higher corruption perception tend to have lower happiness.  \n",
    "- **Top-ranking countries** (Finland, Denmark, Iceland) show low perceived corruption (≈0.18–0.67) and high happiness (~7.5–7.8).  \n",
    "- **Lowest-ranking countries** (Afghanistan, Lebanon, Sierra Leone) have high perceived corruption (~0.85–0.89) and correspondingly low happiness (~1.86–3.14).  \n",
    "- Some exceptions exist: Israel (high perceived corruption ≈0.71) still maintains a high happiness score (~7.47), indicating **other factors like GDP and social support can offset negative impact**.  \n",
    "- The OLS trendline confirms a **general downward trend**, showing corruption perception is an important but **not sole determinant** of national happiness.  \n",
    "\n",
    "**Conclusion:**  \n",
    "- Lowering corruption perception can positively impact national well-being, but it must be **paired with social support, freedom, and economic growth** to maximize happiness.  "
   ]
  },
  {
   "cell_type": "code",
   "execution_count": 49,
   "id": "47411029",
   "metadata": {},
   "outputs": [
    {
     "data": {
      "application/vnd.plotly.v1+json": {
       "config": {
        "plotlyServerURL": "https://plot.ly"
       },
       "data": [
        {
         "hovertemplate": "<b>%{hovertext}</b><br><br>Perceptions Of Corruption=%{x}<br>Ladder Score=%{y}<extra></extra>",
         "hovertext": [
          "Finland",
          "Denmark",
          "Iceland",
          "Israel",
          "Netherlands",
          "Sweden",
          "Norway",
          "Switzerland",
          "Luxembourg",
          "New Zealand",
          "Austria",
          "Australia",
          "Canada",
          "Ireland",
          "United States",
          "Germany",
          "Belgium",
          "Czechia",
          "United Kingdom",
          "Lithuania",
          "France",
          "Slovenia",
          "Costa Rica",
          "Romania",
          "Singapore",
          "United Arab Emirates",
          "Taiwan Province of China",
          "Uruguay",
          "Slovakia",
          "Saudi Arabia",
          "Estonia",
          "Spain",
          "Italy",
          "Kosovo",
          "Chile",
          "Mexico",
          "Malta",
          "Panama",
          "Poland",
          "Nicaragua",
          "Latvia",
          "Bahrain",
          "Guatemala",
          "Kazakhstan",
          "Serbia",
          "Cyprus",
          "Japan",
          "Croatia",
          "Brazil",
          "El Salvador",
          "Hungary",
          "Argentina",
          "Honduras",
          "Uzbekistan",
          "Malaysia",
          "Portugal",
          "South Korea",
          "Greece",
          "Mauritius",
          "Thailand",
          "Mongolia",
          "Kyrgyzstan",
          "Moldova",
          "China",
          "Vietnam",
          "Paraguay",
          "Montenegro",
          "Jamaica",
          "Bolivia",
          "Russia",
          "Bosnia and Herzegovina",
          "Colombia",
          "Dominican Republic",
          "Ecuador",
          "Peru",
          "Philippines",
          "Bulgaria",
          "Nepal",
          "Armenia",
          "Tajikistan",
          "Algeria",
          "Hong Kong S.A.R. of China",
          "Albania",
          "Indonesia",
          "South Africa",
          "Congo (Brazzaville)",
          "North Macedonia",
          "Venezuela",
          "Laos",
          "Georgia",
          "Guinea",
          "Ukraine",
          "Ivory Coast",
          "Gabon",
          "Nigeria",
          "Cameroon",
          "Mozambique",
          "Iraq",
          "Morocco",
          "Iran",
          "Senegal",
          "Mauritania",
          "Burkina Faso",
          "Namibia",
          "Turkiye",
          "Ghana",
          "Pakistan",
          "Niger",
          "Tunisia",
          "Kenya",
          "Sri Lanka",
          "Uganda",
          "Chad",
          "Cambodia",
          "Benin",
          "Myanmar",
          "Bangladesh",
          "Gambia",
          "Mali",
          "Egypt",
          "Togo",
          "Jordan",
          "Ethiopia",
          "Liberia",
          "India",
          "Madagascar",
          "Zambia",
          "Tanzania",
          "Comoros",
          "Malawi",
          "Botswana",
          "Congo (Kinshasa)",
          "Zimbabwe",
          "Sierra Leone",
          "Lebanon",
          "Afghanistan"
         ],
         "legendgroup": "",
         "marker": {
          "color": "#16A17F",
          "opacity": 0.7,
          "symbol": "circle"
         },
         "mode": "markers",
         "name": "",
         "orientation": "v",
         "showlegend": false,
         "type": "scatter",
         "x": {
          "bdata": "sp3vp8ZLxz9KDAIrhxbJP8dLN4lBYOU/Di2yne+n5j+oxks3iUHYP0Jg5dAi28k/6SYxCKwc0j+gGi/dJAbRPxSuR+F6FNY/8tJNYhBY0T8CK4cW2c7fP1g5tMh2vt8/4XoUrkfh2j+28/3UeOnWPz81XrpJDOY/4XoUrkfh2j/FILByaJHhP7ByaJHtfOs/dZMYBFYO3T/D9Shcj8LpPxkEVg4tsuE/eekmMQis6D/6fmq8dJPoP+58PzVeuu0/46WbxCCwwj/jpZvEILDiP5huEoPAyuU/ZmZmZmZm4j8j2/l+arzsP+kmMQisHOY/kxgEVg4t2j+Nl24Sg8DmP4ts5/up8eo/g8DKoUW26z+8dJMYBFbqP/p+arx0k+g/hxbZzvdT5z9/arx0kxjsP1pkO99Pjec/AAAAAAAA5D+PwvUoXI/qPy/dJAaBlec/YhBYObTI6j/fT42XbhLnP+kmMQisHOo/hetRuB6F6z97FK5H4XrkP5qZmZmZme0/BFYOLbKd5z/Xo3A9CtfjPwwCK4cW2eo/PzVeukkM6j9g5dAi2/nqP9Ei2/l+auQ/qMZLN4lB6D9/arx0kxjsPzvfT42XbuY/x0s3iUFg6T/NzMzMzMzoPx+F61G4Hu0/XrpJDAIr6z8hsHJoke3sP6JFtvP91Ow/3SQGgZVD5z99PzVeuknoP2Dl0CLb+eo/NV66SQwC6z8AAAAAAADsP99PjZduEus/bxKDwMqh6T/HSzeJQWDtP+Olm8QgsOo/oBov3SQG5T8OLbKd76fqPyUGgZVDi+w/BoGVQ4ts5z/0/dR46SbtP3WTGARWDuk/j8L1KFyP5j9OYhBYObTgP4ts5/up8eY/pHA9Ctej2D9/arx0kxjsP9V46SYxCOw/d76fGi/d7D/ZzvdT46XnP3e+nxov3ew/wcqhRbbz6T/l0CLb+X7mP/hT46WbxOQ/yXa+nxov6T+gGi/dJAbtP6wcWmQ73+c/9P3UeOkm6T/0/dR46SbtP99PjZduEus/H4XrUbge5T/VeOkmMQjsP8HKoUW28+k/gZVDi2zn5z/fT42XbhLrP6AaL90kBuU/eekmMQis6D+PwvUoXI/qP3E9CtejcOk//tR46SYx7D/Jdr6fGi/pP7ByaJHtfOc/oBov3SQG7T/dJAaBlUPrP0Jg5dAi2+k/BoGVQ4ts6z9t5/up8dLpPwaBlUOLbOs/O99PjZdu4j91kxgEVg7lP7x0kxgEVuY/qMZLN4lB7D/fT42XbhLrP4/C9Shcj+I/rkfhehSu5z+WQ4ts5/vlP3Noke18P+k/j8L1KFyP6j/4U+Olm8ToP1g5tMh2vuc/kxgEVg4t6j/ufD81XrrhP90kBoGVQ+c/K4cW2c735z+PwvUoXI/qP+Olm8QgsOo/UI2XbhKD6D/b+X5qvHTrP1CNl24Sg+w/tMh2vp8a6z8=",
          "dtype": "f8"
         },
         "xaxis": "x",
         "y": {
          "bdata": "nu+nxks3H0Dy0k1iEFgeQB+F61G4Hh5AMQisHFrkHUDpJjEIrJwdQBSuR+F6lB1Aw/UoXI9CHUD2KFyPwvUcQLbz/dR46RxAy6FFtvN9HEAX2c73U2McQOF6FK5HYRxA8tJNYhDYG0C+nxov3aQbQPp+arx0kxtAxSCwcmiRG0BWDi2ynW8bQOF6FK5HYRtAyXa+nxovG0BaZDvfTw0bQL6fGi/dpBpAmpmZmZmZGkBWDi2ynW8aQEJg5dAiWxpADAIrhxZZGkBiEFg5tEgaQKRwPQrXIxpAYOXQItv5GUDHSzeJQeAZQCcxCKwc2hlAUrgehevRGUBYObTIdr4ZQB+F61G4nhlARrbz/dR4GUC8dJMYBFYZQFK4HoXrURlAMzMzMzMzGUCPwvUoXA8ZQArXo3A9ChlA8KfGSzcJGUAnMQisHNoYQP7UeOkmsRhAmpmZmZmZGED6fmq8dJMYQPp+arx0kxhAhetRuB6FGEBqvHSTGIQYQAAAAAAAgBhAAAAAAACAGECwcmiR7XwYQESLbOf7KRhAf2q8dJMYGEBkO99PjRcYQHWTGARWDhhAPzVeukkMGECsHFpkO98XQOf7qfHSzRdA001iEFi5F0DP91PjpZsXQKwcWmQ7XxdAXI/C9ShcF0DNzMzMzEwXQC2yne+nRhdAEoPAyqFFF0BaZDvfTw0XQMHKoUW28xZAF9nO91PjFkAdWmQ7388WQCPb+X5qvBZAvp8aL92kFkDVeOkmMYgWQIXrUbgehRZALbKd76dGFkAj2/l+ajwWQLTIdr6fGhZAZDvfT40XFkB3vp8aL90VQHE9CtejcBVAke18PzVeFUBSuB6F61EVQDeJQWDlUBVACKwcWmQ7FUDP91PjpRsVQM/3U+OlGxVAmpmZmZkZFUDFILByaBEVQGq8dJMYBBVA8tJNYhDYFECLbOf7qXEUQFYOLbKdbxRAfT81XrpJFEBiEFg5tEgUQIPAyqFFNhRApHA9CtcjFEAGgZVDi+wTQDEIrBxa5BNAN4lBYOXQE0DdJAaBlcMTQOkmMQisnBNAGy/dJAaBE0DsUbgehWsTQEw3iUFg5RJAWmQ730+NEkCgGi/dJIYSQNv5fmq8dBJA7FG4HoVrEkC4HoXrUTgSQBsv3SQGARJAsHJoke38EUCmm8QgsPIRQPhT46WbxBFA7nw/NV66EUBKDAIrh5YRQN9PjZdukhFA5dAi2/l+EUCwcmiR7XwRQFTjpZvEIBFABFYOLbIdEUCYbhKDwMoQQK5H4XoUrhBAPzVeukmMEEB7FK5H4XoQQHe+nxovXRBAXrpJDAIrEEC+nxov3SQQQPp+arx0ExBAQmDl0CLbD0BaZDvfT40NQFyPwvUoXAxA9ihcj8L1C0B7FK5H4XoLQA4tsp3vpwlAbxKDwMqhCUC0yHa+nxoJQIlBYOXQIgNAWDm0yHa+/T8=",
          "dtype": "f8"
         },
         "yaxis": "y"
        },
        {
         "hovertemplate": "<b>OLS trendline</b><br>Ladder Score = -3.03224 * Perceptions Of Corruption + 7.74157<br>R<sup>2</sup>=0.221428<br><br>Perceptions Of Corruption=%{x}<br>Ladder Score=%{y} <b>(trend)</b><extra></extra>",
         "legendgroup": "",
         "marker": {
          "color": "#16A17F",
          "symbol": "circle"
         },
         "mode": "lines",
         "name": "",
         "showlegend": false,
         "type": "scatter",
         "x": {
          "bdata": "46WbxCCwwj+yne+nxkvHP0oMAiuHFsk/QmDl0CLbyT+gGi/dJAbRP/LSTWIQWNE/6SYxCKwc0j8UrkfhehTWP7bz/dR46dY/qMZLN4lB2D+kcD0K16PYP5MYBFYOLdo/4XoUrkfh2j/hehSuR+HaP3WTGARWDt0/WDm0yHa+3z8CK4cW2c7fP05iEFg5tOA/xSCwcmiR4T8ZBFYOLbLhP+58PzVeuuE/ZmZmZmZm4j8730+Nl27iP4/C9Shcj+I/46WbxCCw4j/Xo3A9CtfjPwAAAAAAAOQ/0SLb+X5q5D97FK5H4XrkP/hT46WbxOQ/oBov3SQG5T+gGi/dJAblP3WTGARWDuU/H4XrUbge5T/HSzeJQWDlP5huEoPAyuU/lkOLbOf75T8/NV66SQzmP+kmMQisHOY/vHSTGARW5j8730+Nl27mP+XQItv5fuY/j8L1KFyP5j8OLbKd76fmP42XbhKDwOY/i2zn+6nx5j/fT42XbhLnP90kBoGVQ+c/3SQGgZVD5z+HFtnO91PnPwaBlUOLbOc/sHJoke185z9aZDvfT43nPy/dJAaBlec/BFYOLbKd5z/ZzvdT46XnP65H4XoUruc/WDm0yHa+5z+sHFpkO9/nP4GVQ4ts5+c/K4cW2c735z+oxks3iUHoP30/NV66Seg/UI2XbhKD6D/6fmq8dJPoP/p+arx0k+g/eekmMQis6D956SYxCKzoP/hT46WbxOg/zczMzMzM6D91kxgEVg7pP/T91HjpJuk/yXa+nxov6T/Jdr6fGi/pP3Noke18P+k/x0s3iUFg6T9xPQrXo3DpP28Sg8DKoek/w/UoXI/C6T9t5/up8dLpP0Jg5dAi2+k/wcqhRbbz6T/ByqFFtvPpPz81XrpJDOo/6SYxCKwc6j+TGARWDi3qP7x0kxgEVuo/j8L1KFyP6j+PwvUoXI/qP4/C9Shcj+o/j8L1KFyP6j8OLbKd76fqP+Olm8QgsOo/46WbxCCw6j9iEFg5tMjqPwwCK4cW2eo/i2zn+6nx6j9g5dAi2/nqP2Dl0CLb+eo/NV66SQwC6z/fT42XbhLrP99PjZduEus/30+Nl24S6z/fT42XbhLrP7TIdr6fGus/XrpJDAIr6z/dJAaBlUPrPwaBlUOLbOs/BoGVQ4ts6z/b+X5qvHTrP7ByaJHtfOs/hetRuB6F6z+DwMqhRbbrPwAAAAAAAOw/1XjpJjEI7D/VeOkmMQjsP39qvHSTGOw/f2q8dJMY7D9/arx0kxjsP/7UeOkmMew/qMZLN4lB7D9QjZduEoPsPyUGgZVDi+w/I9v5fmq87D+iRbbz/dTsP3e+nxov3ew/d76fGi/d7D8hsHJoke3sP6AaL90kBu0/oBov3SQG7T8fhetRuB7tP/T91HjpJu0/9P3UeOkm7T/HSzeJQWDtP5qZmZmZme0/7nw/NV667T8=",
          "dtype": "f8"
         },
         "xaxis": "x",
         "y": {
          "bdata": "xeXn/QcyHUC1OVozQMIcQAUFXNbHlhxAAhPviSaEHECR/WQFbr0bQOQzCpvnrRtA4E8wAqWIG0Aai8pBIsgaQL9+3sbEnxpAti9hO5BeGkC0PfTu7ksaQKp1QL1pARpA+rl4BkLfGUD6uXgGQt8ZQJZeDwCwdRlAhMAU6UbzGEAumAIHLPAYQM6nPPOLohhAwmZSG7ZOGEBsxQmTSkIYQBad97AvPxhADU56Jfv9F0C3JWhD4PoXQGCEH7t07hdACePWMgniF0D6NkloQXIXQE1t7v26YhdA8mACg106F0BGEN6+JzQXQEKlOsw1GBdAlGKpu17/FkCUYqm7Xv8WQD46l9lD/BZAk+lyFQ72FkDlpuEEN90WQIqa9YnZtBZAiKiIPTiiFkDcV2R5ApwWQDAHQLXMlRZA2OzAhhCAFkDXc4rgv3YWQCwjZhyKcBZAgNJBWFRqFkB+WQuyA2EWQH7g1AuzVxZAeu5nvxFFFkAkTR83pjgWQCFbsuoEJhZAIVuy6gQmFkB2Co4mzx8WQHSRV4B+FhZAyEAzvEgQFkAd8A74EgoWQMjH/BX4BhZAcp/qM90DFkAcd9hRwgAWQMZOxm+n/RVAGv6hq3H3FUDEXFkjBusVQG40R0Hr5xVAwuMifbXhFUC+eH+Kw8UVQGhQbaiowhVAEDbueeysFUBk5cm1tqYVQGTlybW2phVAZGyTD2adFUBkbJMPZp0VQGLzXGkVlBVADMtKh/qQFUBeiLl2I3gVQF0Pg9DSbhVAB+dw7rdrFUAH53Dut2sVQFyWTCqCZRVABPUDohZZFUBZpN/d4FIVQFaycpE/QBVAABEqCdQzFUBUwAVFni0VQP6X82KDKhVA/R69vDIhFUD9Hr28MiEVQPylhhbiFxVAUFViUqwRFUClBD6OdgsVQPg64yPw+xRAoCBk9TPmFECgIGT1M+YUQKAgZPUz5hRAoCBk9TPmFECepy1P49wUQEh/G23I2RRASH8bbcjZFEBIBuXGd9AUQJy1wAJCyhRAmjyKXPHAFEBEFHh61r0UQEQUeHrWvRRA7+tlmLu6FEBEm0HUhbQUQESbQdSFtBRARJtB1IW0FEBEm0HUhbQUQO5yL/JqsRRAQiILLjWrFEBBqdSH5KEUQJTfeR1ekhRAlN95HV6SFEA+t2c7Q48UQOiOVVkojBRAkmZDdw2JFECQdNYqbHYUQIwJMzh6WhRANuEgVl9XFEA24SBWX1cUQIuQ/JEpURRAi5D8kSlRFECLkPyRKVEUQIoXxuvYRxRA3sahJ6NBFEAwhBAXzCgUQNpb/jSxJRRA2GmR6A8TFEDW8FpCvwkUQIDISGCkBhRAgMhIYKQGFEDVdyScbgAUQNT+7fUd9xNA1P7t9R33E0DShbdPze0TQHxdpW2y6hNAfF2lbbLqE0AkQyY/9tQTQMwopxA6vxNAdYdeiM6yE0A=",
          "dtype": "f8"
         },
         "yaxis": "y"
        }
       ],
       "layout": {
        "legend": {
         "tracegroupgap": 0
        },
        "template": {
         "data": {
          "bar": [
           {
            "error_x": {
             "color": "#2a3f5f"
            },
            "error_y": {
             "color": "#2a3f5f"
            },
            "marker": {
             "line": {
              "color": "#E5ECF6",
              "width": 0.5
             },
             "pattern": {
              "fillmode": "overlay",
              "size": 10,
              "solidity": 0.2
             }
            },
            "type": "bar"
           }
          ],
          "barpolar": [
           {
            "marker": {
             "line": {
              "color": "#E5ECF6",
              "width": 0.5
             },
             "pattern": {
              "fillmode": "overlay",
              "size": 10,
              "solidity": 0.2
             }
            },
            "type": "barpolar"
           }
          ],
          "carpet": [
           {
            "aaxis": {
             "endlinecolor": "#2a3f5f",
             "gridcolor": "white",
             "linecolor": "white",
             "minorgridcolor": "white",
             "startlinecolor": "#2a3f5f"
            },
            "baxis": {
             "endlinecolor": "#2a3f5f",
             "gridcolor": "white",
             "linecolor": "white",
             "minorgridcolor": "white",
             "startlinecolor": "#2a3f5f"
            },
            "type": "carpet"
           }
          ],
          "choropleth": [
           {
            "colorbar": {
             "outlinewidth": 0,
             "ticks": ""
            },
            "type": "choropleth"
           }
          ],
          "contour": [
           {
            "colorbar": {
             "outlinewidth": 0,
             "ticks": ""
            },
            "colorscale": [
             [
              0,
              "#0d0887"
             ],
             [
              0.1111111111111111,
              "#46039f"
             ],
             [
              0.2222222222222222,
              "#7201a8"
             ],
             [
              0.3333333333333333,
              "#9c179e"
             ],
             [
              0.4444444444444444,
              "#bd3786"
             ],
             [
              0.5555555555555556,
              "#d8576b"
             ],
             [
              0.6666666666666666,
              "#ed7953"
             ],
             [
              0.7777777777777778,
              "#fb9f3a"
             ],
             [
              0.8888888888888888,
              "#fdca26"
             ],
             [
              1,
              "#f0f921"
             ]
            ],
            "type": "contour"
           }
          ],
          "contourcarpet": [
           {
            "colorbar": {
             "outlinewidth": 0,
             "ticks": ""
            },
            "type": "contourcarpet"
           }
          ],
          "heatmap": [
           {
            "colorbar": {
             "outlinewidth": 0,
             "ticks": ""
            },
            "colorscale": [
             [
              0,
              "#0d0887"
             ],
             [
              0.1111111111111111,
              "#46039f"
             ],
             [
              0.2222222222222222,
              "#7201a8"
             ],
             [
              0.3333333333333333,
              "#9c179e"
             ],
             [
              0.4444444444444444,
              "#bd3786"
             ],
             [
              0.5555555555555556,
              "#d8576b"
             ],
             [
              0.6666666666666666,
              "#ed7953"
             ],
             [
              0.7777777777777778,
              "#fb9f3a"
             ],
             [
              0.8888888888888888,
              "#fdca26"
             ],
             [
              1,
              "#f0f921"
             ]
            ],
            "type": "heatmap"
           }
          ],
          "histogram": [
           {
            "marker": {
             "pattern": {
              "fillmode": "overlay",
              "size": 10,
              "solidity": 0.2
             }
            },
            "type": "histogram"
           }
          ],
          "histogram2d": [
           {
            "colorbar": {
             "outlinewidth": 0,
             "ticks": ""
            },
            "colorscale": [
             [
              0,
              "#0d0887"
             ],
             [
              0.1111111111111111,
              "#46039f"
             ],
             [
              0.2222222222222222,
              "#7201a8"
             ],
             [
              0.3333333333333333,
              "#9c179e"
             ],
             [
              0.4444444444444444,
              "#bd3786"
             ],
             [
              0.5555555555555556,
              "#d8576b"
             ],
             [
              0.6666666666666666,
              "#ed7953"
             ],
             [
              0.7777777777777778,
              "#fb9f3a"
             ],
             [
              0.8888888888888888,
              "#fdca26"
             ],
             [
              1,
              "#f0f921"
             ]
            ],
            "type": "histogram2d"
           }
          ],
          "histogram2dcontour": [
           {
            "colorbar": {
             "outlinewidth": 0,
             "ticks": ""
            },
            "colorscale": [
             [
              0,
              "#0d0887"
             ],
             [
              0.1111111111111111,
              "#46039f"
             ],
             [
              0.2222222222222222,
              "#7201a8"
             ],
             [
              0.3333333333333333,
              "#9c179e"
             ],
             [
              0.4444444444444444,
              "#bd3786"
             ],
             [
              0.5555555555555556,
              "#d8576b"
             ],
             [
              0.6666666666666666,
              "#ed7953"
             ],
             [
              0.7777777777777778,
              "#fb9f3a"
             ],
             [
              0.8888888888888888,
              "#fdca26"
             ],
             [
              1,
              "#f0f921"
             ]
            ],
            "type": "histogram2dcontour"
           }
          ],
          "mesh3d": [
           {
            "colorbar": {
             "outlinewidth": 0,
             "ticks": ""
            },
            "type": "mesh3d"
           }
          ],
          "parcoords": [
           {
            "line": {
             "colorbar": {
              "outlinewidth": 0,
              "ticks": ""
             }
            },
            "type": "parcoords"
           }
          ],
          "pie": [
           {
            "automargin": true,
            "type": "pie"
           }
          ],
          "scatter": [
           {
            "fillpattern": {
             "fillmode": "overlay",
             "size": 10,
             "solidity": 0.2
            },
            "type": "scatter"
           }
          ],
          "scatter3d": [
           {
            "line": {
             "colorbar": {
              "outlinewidth": 0,
              "ticks": ""
             }
            },
            "marker": {
             "colorbar": {
              "outlinewidth": 0,
              "ticks": ""
             }
            },
            "type": "scatter3d"
           }
          ],
          "scattercarpet": [
           {
            "marker": {
             "colorbar": {
              "outlinewidth": 0,
              "ticks": ""
             }
            },
            "type": "scattercarpet"
           }
          ],
          "scattergeo": [
           {
            "marker": {
             "colorbar": {
              "outlinewidth": 0,
              "ticks": ""
             }
            },
            "type": "scattergeo"
           }
          ],
          "scattergl": [
           {
            "marker": {
             "colorbar": {
              "outlinewidth": 0,
              "ticks": ""
             }
            },
            "type": "scattergl"
           }
          ],
          "scattermap": [
           {
            "marker": {
             "colorbar": {
              "outlinewidth": 0,
              "ticks": ""
             }
            },
            "type": "scattermap"
           }
          ],
          "scattermapbox": [
           {
            "marker": {
             "colorbar": {
              "outlinewidth": 0,
              "ticks": ""
             }
            },
            "type": "scattermapbox"
           }
          ],
          "scatterpolar": [
           {
            "marker": {
             "colorbar": {
              "outlinewidth": 0,
              "ticks": ""
             }
            },
            "type": "scatterpolar"
           }
          ],
          "scatterpolargl": [
           {
            "marker": {
             "colorbar": {
              "outlinewidth": 0,
              "ticks": ""
             }
            },
            "type": "scatterpolargl"
           }
          ],
          "scatterternary": [
           {
            "marker": {
             "colorbar": {
              "outlinewidth": 0,
              "ticks": ""
             }
            },
            "type": "scatterternary"
           }
          ],
          "surface": [
           {
            "colorbar": {
             "outlinewidth": 0,
             "ticks": ""
            },
            "colorscale": [
             [
              0,
              "#0d0887"
             ],
             [
              0.1111111111111111,
              "#46039f"
             ],
             [
              0.2222222222222222,
              "#7201a8"
             ],
             [
              0.3333333333333333,
              "#9c179e"
             ],
             [
              0.4444444444444444,
              "#bd3786"
             ],
             [
              0.5555555555555556,
              "#d8576b"
             ],
             [
              0.6666666666666666,
              "#ed7953"
             ],
             [
              0.7777777777777778,
              "#fb9f3a"
             ],
             [
              0.8888888888888888,
              "#fdca26"
             ],
             [
              1,
              "#f0f921"
             ]
            ],
            "type": "surface"
           }
          ],
          "table": [
           {
            "cells": {
             "fill": {
              "color": "#EBF0F8"
             },
             "line": {
              "color": "white"
             }
            },
            "header": {
             "fill": {
              "color": "#C8D4E3"
             },
             "line": {
              "color": "white"
             }
            },
            "type": "table"
           }
          ]
         },
         "layout": {
          "annotationdefaults": {
           "arrowcolor": "#2a3f5f",
           "arrowhead": 0,
           "arrowwidth": 1
          },
          "autotypenumbers": "strict",
          "coloraxis": {
           "colorbar": {
            "outlinewidth": 0,
            "ticks": ""
           }
          },
          "colorscale": {
           "diverging": [
            [
             0,
             "#8e0152"
            ],
            [
             0.1,
             "#c51b7d"
            ],
            [
             0.2,
             "#de77ae"
            ],
            [
             0.3,
             "#f1b6da"
            ],
            [
             0.4,
             "#fde0ef"
            ],
            [
             0.5,
             "#f7f7f7"
            ],
            [
             0.6,
             "#e6f5d0"
            ],
            [
             0.7,
             "#b8e186"
            ],
            [
             0.8,
             "#7fbc41"
            ],
            [
             0.9,
             "#4d9221"
            ],
            [
             1,
             "#276419"
            ]
           ],
           "sequential": [
            [
             0,
             "#0d0887"
            ],
            [
             0.1111111111111111,
             "#46039f"
            ],
            [
             0.2222222222222222,
             "#7201a8"
            ],
            [
             0.3333333333333333,
             "#9c179e"
            ],
            [
             0.4444444444444444,
             "#bd3786"
            ],
            [
             0.5555555555555556,
             "#d8576b"
            ],
            [
             0.6666666666666666,
             "#ed7953"
            ],
            [
             0.7777777777777778,
             "#fb9f3a"
            ],
            [
             0.8888888888888888,
             "#fdca26"
            ],
            [
             1,
             "#f0f921"
            ]
           ],
           "sequentialminus": [
            [
             0,
             "#0d0887"
            ],
            [
             0.1111111111111111,
             "#46039f"
            ],
            [
             0.2222222222222222,
             "#7201a8"
            ],
            [
             0.3333333333333333,
             "#9c179e"
            ],
            [
             0.4444444444444444,
             "#bd3786"
            ],
            [
             0.5555555555555556,
             "#d8576b"
            ],
            [
             0.6666666666666666,
             "#ed7953"
            ],
            [
             0.7777777777777778,
             "#fb9f3a"
            ],
            [
             0.8888888888888888,
             "#fdca26"
            ],
            [
             1,
             "#f0f921"
            ]
           ]
          },
          "colorway": [
           "#636efa",
           "#EF553B",
           "#00cc96",
           "#ab63fa",
           "#FFA15A",
           "#19d3f3",
           "#FF6692",
           "#B6E880",
           "#FF97FF",
           "#FECB52"
          ],
          "font": {
           "color": "#2a3f5f"
          },
          "geo": {
           "bgcolor": "white",
           "lakecolor": "white",
           "landcolor": "#E5ECF6",
           "showlakes": true,
           "showland": true,
           "subunitcolor": "white"
          },
          "hoverlabel": {
           "align": "left"
          },
          "hovermode": "closest",
          "mapbox": {
           "style": "light"
          },
          "paper_bgcolor": "white",
          "plot_bgcolor": "#E5ECF6",
          "polar": {
           "angularaxis": {
            "gridcolor": "white",
            "linecolor": "white",
            "ticks": ""
           },
           "bgcolor": "#E5ECF6",
           "radialaxis": {
            "gridcolor": "white",
            "linecolor": "white",
            "ticks": ""
           }
          },
          "scene": {
           "xaxis": {
            "backgroundcolor": "#E5ECF6",
            "gridcolor": "white",
            "gridwidth": 2,
            "linecolor": "white",
            "showbackground": true,
            "ticks": "",
            "zerolinecolor": "white"
           },
           "yaxis": {
            "backgroundcolor": "#E5ECF6",
            "gridcolor": "white",
            "gridwidth": 2,
            "linecolor": "white",
            "showbackground": true,
            "ticks": "",
            "zerolinecolor": "white"
           },
           "zaxis": {
            "backgroundcolor": "#E5ECF6",
            "gridcolor": "white",
            "gridwidth": 2,
            "linecolor": "white",
            "showbackground": true,
            "ticks": "",
            "zerolinecolor": "white"
           }
          },
          "shapedefaults": {
           "line": {
            "color": "#2a3f5f"
           }
          },
          "ternary": {
           "aaxis": {
            "gridcolor": "white",
            "linecolor": "white",
            "ticks": ""
           },
           "baxis": {
            "gridcolor": "white",
            "linecolor": "white",
            "ticks": ""
           },
           "bgcolor": "#E5ECF6",
           "caxis": {
            "gridcolor": "white",
            "linecolor": "white",
            "ticks": ""
           }
          },
          "title": {
           "x": 0.05
          },
          "xaxis": {
           "automargin": true,
           "gridcolor": "white",
           "linecolor": "white",
           "ticks": "",
           "title": {
            "standoff": 15
           },
           "zerolinecolor": "white",
           "zerolinewidth": 2
          },
          "yaxis": {
           "automargin": true,
           "gridcolor": "white",
           "linecolor": "white",
           "ticks": "",
           "title": {
            "standoff": 15
           },
           "zerolinecolor": "white",
           "zerolinewidth": 2
          }
         }
        },
        "title": {
         "text": "Ladder Score vs Perceptions Of Corruption"
        },
        "xaxis": {
         "anchor": "y",
         "domain": [
          0,
          1
         ],
         "title": {
          "text": "Perceptions Of Corruption"
         }
        },
        "yaxis": {
         "anchor": "x",
         "domain": [
          0,
          1
         ],
         "title": {
          "text": "Ladder Score"
         }
        }
       }
      }
     },
     "metadata": {},
     "output_type": "display_data"
    }
   ],
   "source": [
    "px.scatter(\n",
    "    df_whr,\n",
    "    x=\"Perceptions Of Corruption\",\n",
    "    y=\"Ladder Score\",\n",
    "    hover_name=df_whr.index,\n",
    "    title=\"Ladder Score vs Perceptions Of Corruption\",\n",
    "    labels={\"Perceptions Of Corruption\": \"Perceptions Of Corruption\", \"Ladder Score\": \"Ladder Score\"},\n",
    "    color_discrete_sequence=[\"#16A17F\"],\n",
    "    opacity=0.7,\n",
    "    trendline=\"ols\"\n",
    ")"
   ]
  },
  {
   "cell_type": "markdown",
   "id": "5ca5a962",
   "metadata": {},
   "source": [
    "![Track Age vs Streams](screenshots/ladder-score-vs-perceptions-of-corruption.png)\n"
   ]
  },
  {
   "cell_type": "markdown",
   "id": "209a2881",
   "metadata": {},
   "source": [
    "## Distribution of Logged GDP Per Capita\n",
    "\n",
    "- **Overview**: This boxplot shows the distribution of “Logged GDP Per Capita” across countries, including all individual points.\n",
    "- **High outliers**:\n",
    "  - Luxembourg (11.660), Singapore (11.571), Ireland (11.527), Switzerland (11.164), UAE (11.145)\n",
    "  - These countries have very high GDP per capita, reflecting strong economies and high standards of living.\n",
    "- **Low outliers**:\n",
    "  - Venezuela (5.527), Congo (Kinshasa) (7.007), Mozambique (7.116), Chad (7.261), Liberia (7.277)\n",
    "  - These countries have very low GDP per capita, indicative of economic struggles or instability.\n",
    "- **Median & Quartiles**:\n",
    "  - Most countries cluster between ~8.5 and 10.5 in logged GDP per capita, representing moderate to high economic development.\n",
    "- **Insights**:\n",
    "  - Higher GDP per capita generally correlates with better infrastructure, healthcare, and quality of life.\n",
    "  - Lower GDP per capita countries often face challenges in development, social services, and income equality.\n",
    "- **Conclusion**: The distribution highlights global economic disparities, with a small set of very wealthy nations and a long tail of lower-income countries."
   ]
  },
  {
   "cell_type": "code",
   "execution_count": 51,
   "id": "5b0f40dc",
   "metadata": {},
   "outputs": [
    {
     "data": {
      "application/vnd.plotly.v1+json": {
       "config": {
        "plotlyServerURL": "https://plot.ly"
       },
       "data": [
        {
         "alignmentgroup": "True",
         "boxpoints": "all",
         "hovertemplate": "<b>%{hovertext}</b><br><br>Logged Gdp Per Capita=%{x}<extra></extra>",
         "hovertext": [
          "Finland",
          "Denmark",
          "Iceland",
          "Israel",
          "Netherlands",
          "Sweden",
          "Norway",
          "Switzerland",
          "Luxembourg",
          "New Zealand",
          "Austria",
          "Australia",
          "Canada",
          "Ireland",
          "United States",
          "Germany",
          "Belgium",
          "Czechia",
          "United Kingdom",
          "Lithuania",
          "France",
          "Slovenia",
          "Costa Rica",
          "Romania",
          "Singapore",
          "United Arab Emirates",
          "Taiwan Province of China",
          "Uruguay",
          "Slovakia",
          "Saudi Arabia",
          "Estonia",
          "Spain",
          "Italy",
          "Kosovo",
          "Chile",
          "Mexico",
          "Malta",
          "Panama",
          "Poland",
          "Nicaragua",
          "Latvia",
          "Bahrain",
          "Guatemala",
          "Kazakhstan",
          "Serbia",
          "Cyprus",
          "Japan",
          "Croatia",
          "Brazil",
          "El Salvador",
          "Hungary",
          "Argentina",
          "Honduras",
          "Uzbekistan",
          "Malaysia",
          "Portugal",
          "South Korea",
          "Greece",
          "Mauritius",
          "Thailand",
          "Mongolia",
          "Kyrgyzstan",
          "Moldova",
          "China",
          "Vietnam",
          "Paraguay",
          "Montenegro",
          "Jamaica",
          "Bolivia",
          "Russia",
          "Bosnia and Herzegovina",
          "Colombia",
          "Dominican Republic",
          "Ecuador",
          "Peru",
          "Philippines",
          "Bulgaria",
          "Nepal",
          "Armenia",
          "Tajikistan",
          "Algeria",
          "Hong Kong S.A.R. of China",
          "Albania",
          "Indonesia",
          "South Africa",
          "Congo (Brazzaville)",
          "North Macedonia",
          "Venezuela",
          "Laos",
          "Georgia",
          "Guinea",
          "Ukraine",
          "Ivory Coast",
          "Gabon",
          "Nigeria",
          "Cameroon",
          "Mozambique",
          "Iraq",
          "Morocco",
          "Iran",
          "Senegal",
          "Mauritania",
          "Burkina Faso",
          "Namibia",
          "Turkiye",
          "Ghana",
          "Pakistan",
          "Niger",
          "Tunisia",
          "Kenya",
          "Sri Lanka",
          "Uganda",
          "Chad",
          "Cambodia",
          "Benin",
          "Myanmar",
          "Bangladesh",
          "Gambia",
          "Mali",
          "Egypt",
          "Togo",
          "Jordan",
          "Ethiopia",
          "Liberia",
          "India",
          "Madagascar",
          "Zambia",
          "Tanzania",
          "Comoros",
          "Malawi",
          "Botswana",
          "Congo (Kinshasa)",
          "Zimbabwe",
          "Sierra Leone",
          "Lebanon",
          "Afghanistan"
         ],
         "legendgroup": "",
         "marker": {
          "color": "#19D3F3"
         },
         "name": "",
         "notched": false,
         "offsetgroup": "",
         "orientation": "h",
         "showlegend": false,
         "type": "box",
         "x": {
          "bdata": "L90kBoGVJUAGgZVDi+wlQJhuEoPAyiVAukkMAitHJUD8qfHSTeIlQGq8dJMYxCVAkxgEVg4tJkCHFtnO91MmQFK4HoXrUSdAbef7qfFSJUA/NV66ScwlQDEIrBxapCVAsp3vp8aLJUDn+6nx0g0nQH9qvHSTGCZANV66SQzCJUDjpZvEILAlQEa28/3UOCVAnMQgsHJoJUCJQWDl0CIlQPT91HjpZiVAkxgEVg4tJUCBlUOLbOcjQCGwcmiRrSRAMQisHFokJ0AK16NwPUomQPLSTWIQmCVAbef7qfESJEDb+X5qvLQkQK5H4XoUbiVAokW28/0UJUAUrkfhehQlQPhT46WbRCVAK4cW2c63IkDufD81XjokQDMzMzMzsyNA30+Nl25SJUBcj8L1KJwkQA4tsp3v5yRAI9v5fmo8IUA9CtejcL0kQFpkO99PjSVACKwcWmQ7IkCiRbbz/VQkQGiR7Xw/tSNARrbz/dQ4JUAIrBxaZDslQDvfT42XriRARIts5/spI0AhsHJokS0iQEoMAiuH1iRAXrpJDALrI0CF61G4HkUhQEw3iUFg5SFASgwCK4dWJEDP91PjpdskQIlBYOXQYiVA+n5qvHSTJEBEi2zn++kjQI2XbhKDgCNAWDm0yHa+IkBGtvP91PggQHNoke18/yJAYOXQItt5I0Bt5/up8ZIiQIXrUbgeBSNAx0s3iUGgI0AUrkfhelQiQLgehetR+CFA7FG4HoVrJEAIrBxaZDsjQF66SQwCKyNArBxaZDufI0AK16NwPYoiQOf7qfHSzSJAaJHtfD/1IUAGgZVDiywkQFCNl24SgyBAexSuR+E6I0DTTWIQWHkgQJqZmZmZmSJAO99PjZfuJUD8qfHSTSIjQIXrUbgexSJA2/l+arz0IkBxPQrXozAgQA4tsp3vZyNAz/dT46UbFkAGgZVDi+whQJhuEoPASiNAhetRuB6FH0BU46WbxKAiQPT91HjpJiFAbef7qfESI0DLoUW28/0gQMl2vp8abyBAEFg5tMh2HEAZBFYOLTIiQBkEVg4t8iFAuB6F61E4I0CPwvUoXE8gQDvfT42XLiFAXrpJDAKrHkDLoUW28z0iQHe+nxovnSRA/tR46SYxIUAUrkfhehQhQHe+nxovXRxAsHJoke18IkDRItv5fuogQAisHFpk+yJAd76fGi/dHkAlBoGVQwsdQIXrUbgexSBA2/l+arw0IEACK4cW2c4gQB+F61G4XiFAZDvfT42XHkAfhetRuJ4eQJZDi2znuyJA/tR46SaxHkDD9Shcj0IiQNv5fmq89B5Az/dT46UbHUD4U+Olm4QhQClcj8L1KB1A2c73U+MlIEAhsHJokW0fQGZmZmZmJiBAaJHtfD81HUA1XrpJDEIjQLpJDAIrBxxAqvHSTWKQHkD6fmq8dJMdQNv5fmq89CJAsp3vp8ZLHUA=",
          "dtype": "f8"
         },
         "x0": " ",
         "xaxis": "x",
         "y0": " ",
         "yaxis": "y"
        }
       ],
       "layout": {
        "boxmode": "group",
        "legend": {
         "tracegroupgap": 0
        },
        "template": {
         "data": {
          "bar": [
           {
            "error_x": {
             "color": "#2a3f5f"
            },
            "error_y": {
             "color": "#2a3f5f"
            },
            "marker": {
             "line": {
              "color": "#E5ECF6",
              "width": 0.5
             },
             "pattern": {
              "fillmode": "overlay",
              "size": 10,
              "solidity": 0.2
             }
            },
            "type": "bar"
           }
          ],
          "barpolar": [
           {
            "marker": {
             "line": {
              "color": "#E5ECF6",
              "width": 0.5
             },
             "pattern": {
              "fillmode": "overlay",
              "size": 10,
              "solidity": 0.2
             }
            },
            "type": "barpolar"
           }
          ],
          "carpet": [
           {
            "aaxis": {
             "endlinecolor": "#2a3f5f",
             "gridcolor": "white",
             "linecolor": "white",
             "minorgridcolor": "white",
             "startlinecolor": "#2a3f5f"
            },
            "baxis": {
             "endlinecolor": "#2a3f5f",
             "gridcolor": "white",
             "linecolor": "white",
             "minorgridcolor": "white",
             "startlinecolor": "#2a3f5f"
            },
            "type": "carpet"
           }
          ],
          "choropleth": [
           {
            "colorbar": {
             "outlinewidth": 0,
             "ticks": ""
            },
            "type": "choropleth"
           }
          ],
          "contour": [
           {
            "colorbar": {
             "outlinewidth": 0,
             "ticks": ""
            },
            "colorscale": [
             [
              0,
              "#0d0887"
             ],
             [
              0.1111111111111111,
              "#46039f"
             ],
             [
              0.2222222222222222,
              "#7201a8"
             ],
             [
              0.3333333333333333,
              "#9c179e"
             ],
             [
              0.4444444444444444,
              "#bd3786"
             ],
             [
              0.5555555555555556,
              "#d8576b"
             ],
             [
              0.6666666666666666,
              "#ed7953"
             ],
             [
              0.7777777777777778,
              "#fb9f3a"
             ],
             [
              0.8888888888888888,
              "#fdca26"
             ],
             [
              1,
              "#f0f921"
             ]
            ],
            "type": "contour"
           }
          ],
          "contourcarpet": [
           {
            "colorbar": {
             "outlinewidth": 0,
             "ticks": ""
            },
            "type": "contourcarpet"
           }
          ],
          "heatmap": [
           {
            "colorbar": {
             "outlinewidth": 0,
             "ticks": ""
            },
            "colorscale": [
             [
              0,
              "#0d0887"
             ],
             [
              0.1111111111111111,
              "#46039f"
             ],
             [
              0.2222222222222222,
              "#7201a8"
             ],
             [
              0.3333333333333333,
              "#9c179e"
             ],
             [
              0.4444444444444444,
              "#bd3786"
             ],
             [
              0.5555555555555556,
              "#d8576b"
             ],
             [
              0.6666666666666666,
              "#ed7953"
             ],
             [
              0.7777777777777778,
              "#fb9f3a"
             ],
             [
              0.8888888888888888,
              "#fdca26"
             ],
             [
              1,
              "#f0f921"
             ]
            ],
            "type": "heatmap"
           }
          ],
          "histogram": [
           {
            "marker": {
             "pattern": {
              "fillmode": "overlay",
              "size": 10,
              "solidity": 0.2
             }
            },
            "type": "histogram"
           }
          ],
          "histogram2d": [
           {
            "colorbar": {
             "outlinewidth": 0,
             "ticks": ""
            },
            "colorscale": [
             [
              0,
              "#0d0887"
             ],
             [
              0.1111111111111111,
              "#46039f"
             ],
             [
              0.2222222222222222,
              "#7201a8"
             ],
             [
              0.3333333333333333,
              "#9c179e"
             ],
             [
              0.4444444444444444,
              "#bd3786"
             ],
             [
              0.5555555555555556,
              "#d8576b"
             ],
             [
              0.6666666666666666,
              "#ed7953"
             ],
             [
              0.7777777777777778,
              "#fb9f3a"
             ],
             [
              0.8888888888888888,
              "#fdca26"
             ],
             [
              1,
              "#f0f921"
             ]
            ],
            "type": "histogram2d"
           }
          ],
          "histogram2dcontour": [
           {
            "colorbar": {
             "outlinewidth": 0,
             "ticks": ""
            },
            "colorscale": [
             [
              0,
              "#0d0887"
             ],
             [
              0.1111111111111111,
              "#46039f"
             ],
             [
              0.2222222222222222,
              "#7201a8"
             ],
             [
              0.3333333333333333,
              "#9c179e"
             ],
             [
              0.4444444444444444,
              "#bd3786"
             ],
             [
              0.5555555555555556,
              "#d8576b"
             ],
             [
              0.6666666666666666,
              "#ed7953"
             ],
             [
              0.7777777777777778,
              "#fb9f3a"
             ],
             [
              0.8888888888888888,
              "#fdca26"
             ],
             [
              1,
              "#f0f921"
             ]
            ],
            "type": "histogram2dcontour"
           }
          ],
          "mesh3d": [
           {
            "colorbar": {
             "outlinewidth": 0,
             "ticks": ""
            },
            "type": "mesh3d"
           }
          ],
          "parcoords": [
           {
            "line": {
             "colorbar": {
              "outlinewidth": 0,
              "ticks": ""
             }
            },
            "type": "parcoords"
           }
          ],
          "pie": [
           {
            "automargin": true,
            "type": "pie"
           }
          ],
          "scatter": [
           {
            "fillpattern": {
             "fillmode": "overlay",
             "size": 10,
             "solidity": 0.2
            },
            "type": "scatter"
           }
          ],
          "scatter3d": [
           {
            "line": {
             "colorbar": {
              "outlinewidth": 0,
              "ticks": ""
             }
            },
            "marker": {
             "colorbar": {
              "outlinewidth": 0,
              "ticks": ""
             }
            },
            "type": "scatter3d"
           }
          ],
          "scattercarpet": [
           {
            "marker": {
             "colorbar": {
              "outlinewidth": 0,
              "ticks": ""
             }
            },
            "type": "scattercarpet"
           }
          ],
          "scattergeo": [
           {
            "marker": {
             "colorbar": {
              "outlinewidth": 0,
              "ticks": ""
             }
            },
            "type": "scattergeo"
           }
          ],
          "scattergl": [
           {
            "marker": {
             "colorbar": {
              "outlinewidth": 0,
              "ticks": ""
             }
            },
            "type": "scattergl"
           }
          ],
          "scattermap": [
           {
            "marker": {
             "colorbar": {
              "outlinewidth": 0,
              "ticks": ""
             }
            },
            "type": "scattermap"
           }
          ],
          "scattermapbox": [
           {
            "marker": {
             "colorbar": {
              "outlinewidth": 0,
              "ticks": ""
             }
            },
            "type": "scattermapbox"
           }
          ],
          "scatterpolar": [
           {
            "marker": {
             "colorbar": {
              "outlinewidth": 0,
              "ticks": ""
             }
            },
            "type": "scatterpolar"
           }
          ],
          "scatterpolargl": [
           {
            "marker": {
             "colorbar": {
              "outlinewidth": 0,
              "ticks": ""
             }
            },
            "type": "scatterpolargl"
           }
          ],
          "scatterternary": [
           {
            "marker": {
             "colorbar": {
              "outlinewidth": 0,
              "ticks": ""
             }
            },
            "type": "scatterternary"
           }
          ],
          "surface": [
           {
            "colorbar": {
             "outlinewidth": 0,
             "ticks": ""
            },
            "colorscale": [
             [
              0,
              "#0d0887"
             ],
             [
              0.1111111111111111,
              "#46039f"
             ],
             [
              0.2222222222222222,
              "#7201a8"
             ],
             [
              0.3333333333333333,
              "#9c179e"
             ],
             [
              0.4444444444444444,
              "#bd3786"
             ],
             [
              0.5555555555555556,
              "#d8576b"
             ],
             [
              0.6666666666666666,
              "#ed7953"
             ],
             [
              0.7777777777777778,
              "#fb9f3a"
             ],
             [
              0.8888888888888888,
              "#fdca26"
             ],
             [
              1,
              "#f0f921"
             ]
            ],
            "type": "surface"
           }
          ],
          "table": [
           {
            "cells": {
             "fill": {
              "color": "#EBF0F8"
             },
             "line": {
              "color": "white"
             }
            },
            "header": {
             "fill": {
              "color": "#C8D4E3"
             },
             "line": {
              "color": "white"
             }
            },
            "type": "table"
           }
          ]
         },
         "layout": {
          "annotationdefaults": {
           "arrowcolor": "#2a3f5f",
           "arrowhead": 0,
           "arrowwidth": 1
          },
          "autotypenumbers": "strict",
          "coloraxis": {
           "colorbar": {
            "outlinewidth": 0,
            "ticks": ""
           }
          },
          "colorscale": {
           "diverging": [
            [
             0,
             "#8e0152"
            ],
            [
             0.1,
             "#c51b7d"
            ],
            [
             0.2,
             "#de77ae"
            ],
            [
             0.3,
             "#f1b6da"
            ],
            [
             0.4,
             "#fde0ef"
            ],
            [
             0.5,
             "#f7f7f7"
            ],
            [
             0.6,
             "#e6f5d0"
            ],
            [
             0.7,
             "#b8e186"
            ],
            [
             0.8,
             "#7fbc41"
            ],
            [
             0.9,
             "#4d9221"
            ],
            [
             1,
             "#276419"
            ]
           ],
           "sequential": [
            [
             0,
             "#0d0887"
            ],
            [
             0.1111111111111111,
             "#46039f"
            ],
            [
             0.2222222222222222,
             "#7201a8"
            ],
            [
             0.3333333333333333,
             "#9c179e"
            ],
            [
             0.4444444444444444,
             "#bd3786"
            ],
            [
             0.5555555555555556,
             "#d8576b"
            ],
            [
             0.6666666666666666,
             "#ed7953"
            ],
            [
             0.7777777777777778,
             "#fb9f3a"
            ],
            [
             0.8888888888888888,
             "#fdca26"
            ],
            [
             1,
             "#f0f921"
            ]
           ],
           "sequentialminus": [
            [
             0,
             "#0d0887"
            ],
            [
             0.1111111111111111,
             "#46039f"
            ],
            [
             0.2222222222222222,
             "#7201a8"
            ],
            [
             0.3333333333333333,
             "#9c179e"
            ],
            [
             0.4444444444444444,
             "#bd3786"
            ],
            [
             0.5555555555555556,
             "#d8576b"
            ],
            [
             0.6666666666666666,
             "#ed7953"
            ],
            [
             0.7777777777777778,
             "#fb9f3a"
            ],
            [
             0.8888888888888888,
             "#fdca26"
            ],
            [
             1,
             "#f0f921"
            ]
           ]
          },
          "colorway": [
           "#636efa",
           "#EF553B",
           "#00cc96",
           "#ab63fa",
           "#FFA15A",
           "#19d3f3",
           "#FF6692",
           "#B6E880",
           "#FF97FF",
           "#FECB52"
          ],
          "font": {
           "color": "#2a3f5f"
          },
          "geo": {
           "bgcolor": "white",
           "lakecolor": "white",
           "landcolor": "#E5ECF6",
           "showlakes": true,
           "showland": true,
           "subunitcolor": "white"
          },
          "hoverlabel": {
           "align": "left"
          },
          "hovermode": "closest",
          "mapbox": {
           "style": "light"
          },
          "paper_bgcolor": "white",
          "plot_bgcolor": "#E5ECF6",
          "polar": {
           "angularaxis": {
            "gridcolor": "white",
            "linecolor": "white",
            "ticks": ""
           },
           "bgcolor": "#E5ECF6",
           "radialaxis": {
            "gridcolor": "white",
            "linecolor": "white",
            "ticks": ""
           }
          },
          "scene": {
           "xaxis": {
            "backgroundcolor": "#E5ECF6",
            "gridcolor": "white",
            "gridwidth": 2,
            "linecolor": "white",
            "showbackground": true,
            "ticks": "",
            "zerolinecolor": "white"
           },
           "yaxis": {
            "backgroundcolor": "#E5ECF6",
            "gridcolor": "white",
            "gridwidth": 2,
            "linecolor": "white",
            "showbackground": true,
            "ticks": "",
            "zerolinecolor": "white"
           },
           "zaxis": {
            "backgroundcolor": "#E5ECF6",
            "gridcolor": "white",
            "gridwidth": 2,
            "linecolor": "white",
            "showbackground": true,
            "ticks": "",
            "zerolinecolor": "white"
           }
          },
          "shapedefaults": {
           "line": {
            "color": "#2a3f5f"
           }
          },
          "ternary": {
           "aaxis": {
            "gridcolor": "white",
            "linecolor": "white",
            "ticks": ""
           },
           "baxis": {
            "gridcolor": "white",
            "linecolor": "white",
            "ticks": ""
           },
           "bgcolor": "#E5ECF6",
           "caxis": {
            "gridcolor": "white",
            "linecolor": "white",
            "ticks": ""
           }
          },
          "title": {
           "x": 0.05
          },
          "xaxis": {
           "automargin": true,
           "gridcolor": "white",
           "linecolor": "white",
           "ticks": "",
           "title": {
            "standoff": 15
           },
           "zerolinecolor": "white",
           "zerolinewidth": 2
          },
          "yaxis": {
           "automargin": true,
           "gridcolor": "white",
           "linecolor": "white",
           "ticks": "",
           "title": {
            "standoff": 15
           },
           "zerolinecolor": "white",
           "zerolinewidth": 2
          }
         }
        },
        "title": {
         "text": "Distribution of Logged GDP Per Capita"
        },
        "xaxis": {
         "anchor": "y",
         "domain": [
          0,
          1
         ],
         "title": {
          "text": "Logged Gdp Per Capita"
         }
        },
        "yaxis": {
         "anchor": "x",
         "domain": [
          0,
          1
         ]
        }
       }
      }
     },
     "metadata": {},
     "output_type": "display_data"
    }
   ],
   "source": [
    "df_plot = df_whr.reset_index()\n",
    "\n",
    "px.box(df_plot, \n",
    "             x=\"Logged Gdp Per Capita\",\n",
    "             hover_name=\"Country Name\",\n",
    "             points=\"all\",\n",
    "             title=\"Distribution of Logged GDP Per Capita\",\n",
    "             color_discrete_sequence=[\"#19D3F3\"])"
   ]
  },
  {
   "cell_type": "markdown",
   "id": "c1f9feee",
   "metadata": {},
   "source": [
    "![Track Age vs Streams](screenshots/distribution-of-logged-gdp-per-capita.png\n",
    ")\n"
   ]
  },
  {
   "cell_type": "markdown",
   "id": "f31584ce",
   "metadata": {},
   "source": [
    "## Distribution of Social Support\n",
    "\n",
    "- **Overview**: This boxplot visualizes the distribution of “Social Support” scores across countries, including all individual points.\n",
    "- **High outliers**:\n",
    "  - Iceland (0.983), Finland (0.969), Denmark (0.954), Slovakia (0.953), Czechia (0.953)\n",
    "  - These countries have very strong social support networks, reflecting robust family, community, and societal structures.\n",
    "- **Low outliers**:\n",
    "  - Afghanistan (0.341), Benin (0.437), Comoros (0.471)\n",
    "  - These countries face weaker social support systems, likely due to poverty, conflict, or social instability.\n",
    "- **Median & Quartiles**: Most countries cluster between ~0.7 and 0.9, showing moderate to high social support globally.\n",
    "- **Insights**:\n",
    "  - Higher social support is often linked with higher happiness, better health outcomes, and resilience during crises.\n",
    "  - Lower social support may contribute to societal vulnerability and lower overall well-being.\n",
    "- **Conclusion**: The extremes highlight global inequalities in social cohesion and community support, while most countries show moderately high social support."
   ]
  },
  {
   "cell_type": "code",
   "execution_count": 52,
   "id": "71c38c2b",
   "metadata": {},
   "outputs": [
    {
     "data": {
      "application/vnd.plotly.v1+json": {
       "config": {
        "plotlyServerURL": "https://plot.ly"
       },
       "data": [
        {
         "alignmentgroup": "True",
         "boxpoints": "all",
         "hovertemplate": "<b>%{hovertext}</b><br><br>Social Support=%{x}<extra></extra>",
         "hovertext": [
          "Finland",
          "Denmark",
          "Iceland",
          "Israel",
          "Netherlands",
          "Sweden",
          "Norway",
          "Switzerland",
          "Luxembourg",
          "New Zealand",
          "Austria",
          "Australia",
          "Canada",
          "Ireland",
          "United States",
          "Germany",
          "Belgium",
          "Czechia",
          "United Kingdom",
          "Lithuania",
          "France",
          "Slovenia",
          "Costa Rica",
          "Romania",
          "Singapore",
          "United Arab Emirates",
          "Taiwan Province of China",
          "Uruguay",
          "Slovakia",
          "Saudi Arabia",
          "Estonia",
          "Spain",
          "Italy",
          "Kosovo",
          "Chile",
          "Mexico",
          "Malta",
          "Panama",
          "Poland",
          "Nicaragua",
          "Latvia",
          "Bahrain",
          "Guatemala",
          "Kazakhstan",
          "Serbia",
          "Cyprus",
          "Japan",
          "Croatia",
          "Brazil",
          "El Salvador",
          "Hungary",
          "Argentina",
          "Honduras",
          "Uzbekistan",
          "Malaysia",
          "Portugal",
          "South Korea",
          "Greece",
          "Mauritius",
          "Thailand",
          "Mongolia",
          "Kyrgyzstan",
          "Moldova",
          "China",
          "Vietnam",
          "Paraguay",
          "Montenegro",
          "Jamaica",
          "Bolivia",
          "Russia",
          "Bosnia and Herzegovina",
          "Colombia",
          "Dominican Republic",
          "Ecuador",
          "Peru",
          "Philippines",
          "Bulgaria",
          "Nepal",
          "Armenia",
          "Tajikistan",
          "Algeria",
          "Hong Kong S.A.R. of China",
          "Albania",
          "Indonesia",
          "South Africa",
          "Congo (Brazzaville)",
          "North Macedonia",
          "Venezuela",
          "Laos",
          "Georgia",
          "Guinea",
          "Ukraine",
          "Ivory Coast",
          "Gabon",
          "Nigeria",
          "Cameroon",
          "Mozambique",
          "Iraq",
          "Morocco",
          "Iran",
          "Senegal",
          "Mauritania",
          "Burkina Faso",
          "Namibia",
          "Turkiye",
          "Ghana",
          "Pakistan",
          "Niger",
          "Tunisia",
          "Kenya",
          "Sri Lanka",
          "Uganda",
          "Chad",
          "Cambodia",
          "Benin",
          "Myanmar",
          "Bangladesh",
          "Gambia",
          "Mali",
          "Egypt",
          "Togo",
          "Jordan",
          "Ethiopia",
          "Liberia",
          "India",
          "Madagascar",
          "Zambia",
          "Tanzania",
          "Comoros",
          "Malawi",
          "Botswana",
          "Congo (Kinshasa)",
          "Zimbabwe",
          "Sierra Leone",
          "Lebanon",
          "Afghanistan"
         ],
         "legendgroup": "",
         "marker": {
          "color": "#FFA15A"
         },
         "name": "",
         "notched": false,
         "offsetgroup": "",
         "orientation": "h",
         "showlegend": false,
         "type": "box",
         "x": {
          "bdata": "NV66SQwC7z+6SQwCK4fuP9v5fmq8dO8/kxgEVg4t7j/D9Shcj8LtPz81XrpJDO4/kxgEVg4t7j9xPQrXo3DtP1TjpZvEIOw/EFg5tMh27j/RItv5fmrsPxfZzvdT4+0/7nw/NV667T/2KFyPwvXsP5zEILByaO0/eekmMQis7D9I4XoUrkftP+XQItv5fu4/001iEFg57D8/NV66SQzuP0oMAiuHFu0/O99PjZdu7j+BlUOLbOfrP4lBYOXQIus/f2q8dJMY7D8730+Nl27qP30/NV66Sew/nu+nxks37T/l0CLb+X7uP30/NV66Sew/EoPAyqFF7j9t5/up8dLtP9NNYhBYOew/NV66SQwC6z+mm8QgsHLsP+58PzVeuuk/8KfGSzeJ7T956SYxCKzsP5qZmZmZme0/sp3vp8ZL6z+WQ4ts5/vtPzVeukkMAus/lkOLbOf76T+YbhKDwMrtP1YOLbKd7+s/O99PjZdu6j/P91PjpZvsP/LSTWIQWO0/jZduEoPA6j8pXI/C9SjoP5MYBFYOLe4/UI2XbhKD7D9QjZduEoPoPwAAAAAAAOw/xSCwcmiR6T9/arx0kxjsP5ZDi2zn++k/uB6F61G46j/RItv5fmrsPyuHFtnO9+s/QmDl0CLb7T/0/dR46SbtPwaBlUOLbOs/jZduEoPA6j8Sg8DKoUXqP8uhRbbz/ew/exSuR+F67D9YObTIdr7rP8HKoUW28+k/ppvEILBy7D8pXI/C9SjsP+f7qfHSTeo/EFg5tMh26j+YbhKDwMrpP/Cnxks3iek/9ihcj8L16D/HSzeJQWDtP1YOLbKd7+c/SOF6FK5H6T+Nl24Sg8DqP1yPwvUoXOs/vp8aL90k6j9g5dAi2/nmP+58PzVeuuk/oBov3SQG7T9cj8L1KFzjP8P1KFyPwuk/DAIrhxbZ6j/ufD81XrrlP7bz/dR46eY/+FPjpZvE5D9/arx0kxjsP+f7qfHSTeI/rBxaZDvf5z+uR+F6FK7nP8HKoUW28+U/vp8aL90k5j9g5dAi2/nmPxkEVg4tsuE/TDeJQWDl6D9U46WbxCDkP8/3U+Olm+Q/nu+nxks35T/Jdr6fGi/pP0a28/3UeOk/UI2XbhKD5D8IrBxaZDvjP+F6FK5H4eI/XI/C9Shc5z8UrkfhehTmPzvfT42Xbuo/nMQgsHJo6T+0yHa+nxrnP4GVQ4ts5+c/K4cW2c732z/Jdr6fGi/pP5zEILByaOE/46WbxCCw4j9g5dAi2/niPwisHFpkO+c/CtejcD0K4z+HFtnO91PnP6AaL90kBuk/30+Nl24S4z/b+X5qvHTjP83MzMzMzOQ/aJHtfD815j9MN4lBYOXkP76fGi/dJN4/y6FFtvP94D9/arx0kxjoP3e+nxov3eQ/FK5H4XoU5j/D9Shcj8LhP/YoXI/C9eA/bef7qfHS1T8=",
          "dtype": "f8"
         },
         "x0": " ",
         "xaxis": "x",
         "y0": " ",
         "yaxis": "y"
        }
       ],
       "layout": {
        "boxmode": "group",
        "legend": {
         "tracegroupgap": 0
        },
        "template": {
         "data": {
          "bar": [
           {
            "error_x": {
             "color": "#2a3f5f"
            },
            "error_y": {
             "color": "#2a3f5f"
            },
            "marker": {
             "line": {
              "color": "#E5ECF6",
              "width": 0.5
             },
             "pattern": {
              "fillmode": "overlay",
              "size": 10,
              "solidity": 0.2
             }
            },
            "type": "bar"
           }
          ],
          "barpolar": [
           {
            "marker": {
             "line": {
              "color": "#E5ECF6",
              "width": 0.5
             },
             "pattern": {
              "fillmode": "overlay",
              "size": 10,
              "solidity": 0.2
             }
            },
            "type": "barpolar"
           }
          ],
          "carpet": [
           {
            "aaxis": {
             "endlinecolor": "#2a3f5f",
             "gridcolor": "white",
             "linecolor": "white",
             "minorgridcolor": "white",
             "startlinecolor": "#2a3f5f"
            },
            "baxis": {
             "endlinecolor": "#2a3f5f",
             "gridcolor": "white",
             "linecolor": "white",
             "minorgridcolor": "white",
             "startlinecolor": "#2a3f5f"
            },
            "type": "carpet"
           }
          ],
          "choropleth": [
           {
            "colorbar": {
             "outlinewidth": 0,
             "ticks": ""
            },
            "type": "choropleth"
           }
          ],
          "contour": [
           {
            "colorbar": {
             "outlinewidth": 0,
             "ticks": ""
            },
            "colorscale": [
             [
              0,
              "#0d0887"
             ],
             [
              0.1111111111111111,
              "#46039f"
             ],
             [
              0.2222222222222222,
              "#7201a8"
             ],
             [
              0.3333333333333333,
              "#9c179e"
             ],
             [
              0.4444444444444444,
              "#bd3786"
             ],
             [
              0.5555555555555556,
              "#d8576b"
             ],
             [
              0.6666666666666666,
              "#ed7953"
             ],
             [
              0.7777777777777778,
              "#fb9f3a"
             ],
             [
              0.8888888888888888,
              "#fdca26"
             ],
             [
              1,
              "#f0f921"
             ]
            ],
            "type": "contour"
           }
          ],
          "contourcarpet": [
           {
            "colorbar": {
             "outlinewidth": 0,
             "ticks": ""
            },
            "type": "contourcarpet"
           }
          ],
          "heatmap": [
           {
            "colorbar": {
             "outlinewidth": 0,
             "ticks": ""
            },
            "colorscale": [
             [
              0,
              "#0d0887"
             ],
             [
              0.1111111111111111,
              "#46039f"
             ],
             [
              0.2222222222222222,
              "#7201a8"
             ],
             [
              0.3333333333333333,
              "#9c179e"
             ],
             [
              0.4444444444444444,
              "#bd3786"
             ],
             [
              0.5555555555555556,
              "#d8576b"
             ],
             [
              0.6666666666666666,
              "#ed7953"
             ],
             [
              0.7777777777777778,
              "#fb9f3a"
             ],
             [
              0.8888888888888888,
              "#fdca26"
             ],
             [
              1,
              "#f0f921"
             ]
            ],
            "type": "heatmap"
           }
          ],
          "histogram": [
           {
            "marker": {
             "pattern": {
              "fillmode": "overlay",
              "size": 10,
              "solidity": 0.2
             }
            },
            "type": "histogram"
           }
          ],
          "histogram2d": [
           {
            "colorbar": {
             "outlinewidth": 0,
             "ticks": ""
            },
            "colorscale": [
             [
              0,
              "#0d0887"
             ],
             [
              0.1111111111111111,
              "#46039f"
             ],
             [
              0.2222222222222222,
              "#7201a8"
             ],
             [
              0.3333333333333333,
              "#9c179e"
             ],
             [
              0.4444444444444444,
              "#bd3786"
             ],
             [
              0.5555555555555556,
              "#d8576b"
             ],
             [
              0.6666666666666666,
              "#ed7953"
             ],
             [
              0.7777777777777778,
              "#fb9f3a"
             ],
             [
              0.8888888888888888,
              "#fdca26"
             ],
             [
              1,
              "#f0f921"
             ]
            ],
            "type": "histogram2d"
           }
          ],
          "histogram2dcontour": [
           {
            "colorbar": {
             "outlinewidth": 0,
             "ticks": ""
            },
            "colorscale": [
             [
              0,
              "#0d0887"
             ],
             [
              0.1111111111111111,
              "#46039f"
             ],
             [
              0.2222222222222222,
              "#7201a8"
             ],
             [
              0.3333333333333333,
              "#9c179e"
             ],
             [
              0.4444444444444444,
              "#bd3786"
             ],
             [
              0.5555555555555556,
              "#d8576b"
             ],
             [
              0.6666666666666666,
              "#ed7953"
             ],
             [
              0.7777777777777778,
              "#fb9f3a"
             ],
             [
              0.8888888888888888,
              "#fdca26"
             ],
             [
              1,
              "#f0f921"
             ]
            ],
            "type": "histogram2dcontour"
           }
          ],
          "mesh3d": [
           {
            "colorbar": {
             "outlinewidth": 0,
             "ticks": ""
            },
            "type": "mesh3d"
           }
          ],
          "parcoords": [
           {
            "line": {
             "colorbar": {
              "outlinewidth": 0,
              "ticks": ""
             }
            },
            "type": "parcoords"
           }
          ],
          "pie": [
           {
            "automargin": true,
            "type": "pie"
           }
          ],
          "scatter": [
           {
            "fillpattern": {
             "fillmode": "overlay",
             "size": 10,
             "solidity": 0.2
            },
            "type": "scatter"
           }
          ],
          "scatter3d": [
           {
            "line": {
             "colorbar": {
              "outlinewidth": 0,
              "ticks": ""
             }
            },
            "marker": {
             "colorbar": {
              "outlinewidth": 0,
              "ticks": ""
             }
            },
            "type": "scatter3d"
           }
          ],
          "scattercarpet": [
           {
            "marker": {
             "colorbar": {
              "outlinewidth": 0,
              "ticks": ""
             }
            },
            "type": "scattercarpet"
           }
          ],
          "scattergeo": [
           {
            "marker": {
             "colorbar": {
              "outlinewidth": 0,
              "ticks": ""
             }
            },
            "type": "scattergeo"
           }
          ],
          "scattergl": [
           {
            "marker": {
             "colorbar": {
              "outlinewidth": 0,
              "ticks": ""
             }
            },
            "type": "scattergl"
           }
          ],
          "scattermap": [
           {
            "marker": {
             "colorbar": {
              "outlinewidth": 0,
              "ticks": ""
             }
            },
            "type": "scattermap"
           }
          ],
          "scattermapbox": [
           {
            "marker": {
             "colorbar": {
              "outlinewidth": 0,
              "ticks": ""
             }
            },
            "type": "scattermapbox"
           }
          ],
          "scatterpolar": [
           {
            "marker": {
             "colorbar": {
              "outlinewidth": 0,
              "ticks": ""
             }
            },
            "type": "scatterpolar"
           }
          ],
          "scatterpolargl": [
           {
            "marker": {
             "colorbar": {
              "outlinewidth": 0,
              "ticks": ""
             }
            },
            "type": "scatterpolargl"
           }
          ],
          "scatterternary": [
           {
            "marker": {
             "colorbar": {
              "outlinewidth": 0,
              "ticks": ""
             }
            },
            "type": "scatterternary"
           }
          ],
          "surface": [
           {
            "colorbar": {
             "outlinewidth": 0,
             "ticks": ""
            },
            "colorscale": [
             [
              0,
              "#0d0887"
             ],
             [
              0.1111111111111111,
              "#46039f"
             ],
             [
              0.2222222222222222,
              "#7201a8"
             ],
             [
              0.3333333333333333,
              "#9c179e"
             ],
             [
              0.4444444444444444,
              "#bd3786"
             ],
             [
              0.5555555555555556,
              "#d8576b"
             ],
             [
              0.6666666666666666,
              "#ed7953"
             ],
             [
              0.7777777777777778,
              "#fb9f3a"
             ],
             [
              0.8888888888888888,
              "#fdca26"
             ],
             [
              1,
              "#f0f921"
             ]
            ],
            "type": "surface"
           }
          ],
          "table": [
           {
            "cells": {
             "fill": {
              "color": "#EBF0F8"
             },
             "line": {
              "color": "white"
             }
            },
            "header": {
             "fill": {
              "color": "#C8D4E3"
             },
             "line": {
              "color": "white"
             }
            },
            "type": "table"
           }
          ]
         },
         "layout": {
          "annotationdefaults": {
           "arrowcolor": "#2a3f5f",
           "arrowhead": 0,
           "arrowwidth": 1
          },
          "autotypenumbers": "strict",
          "coloraxis": {
           "colorbar": {
            "outlinewidth": 0,
            "ticks": ""
           }
          },
          "colorscale": {
           "diverging": [
            [
             0,
             "#8e0152"
            ],
            [
             0.1,
             "#c51b7d"
            ],
            [
             0.2,
             "#de77ae"
            ],
            [
             0.3,
             "#f1b6da"
            ],
            [
             0.4,
             "#fde0ef"
            ],
            [
             0.5,
             "#f7f7f7"
            ],
            [
             0.6,
             "#e6f5d0"
            ],
            [
             0.7,
             "#b8e186"
            ],
            [
             0.8,
             "#7fbc41"
            ],
            [
             0.9,
             "#4d9221"
            ],
            [
             1,
             "#276419"
            ]
           ],
           "sequential": [
            [
             0,
             "#0d0887"
            ],
            [
             0.1111111111111111,
             "#46039f"
            ],
            [
             0.2222222222222222,
             "#7201a8"
            ],
            [
             0.3333333333333333,
             "#9c179e"
            ],
            [
             0.4444444444444444,
             "#bd3786"
            ],
            [
             0.5555555555555556,
             "#d8576b"
            ],
            [
             0.6666666666666666,
             "#ed7953"
            ],
            [
             0.7777777777777778,
             "#fb9f3a"
            ],
            [
             0.8888888888888888,
             "#fdca26"
            ],
            [
             1,
             "#f0f921"
            ]
           ],
           "sequentialminus": [
            [
             0,
             "#0d0887"
            ],
            [
             0.1111111111111111,
             "#46039f"
            ],
            [
             0.2222222222222222,
             "#7201a8"
            ],
            [
             0.3333333333333333,
             "#9c179e"
            ],
            [
             0.4444444444444444,
             "#bd3786"
            ],
            [
             0.5555555555555556,
             "#d8576b"
            ],
            [
             0.6666666666666666,
             "#ed7953"
            ],
            [
             0.7777777777777778,
             "#fb9f3a"
            ],
            [
             0.8888888888888888,
             "#fdca26"
            ],
            [
             1,
             "#f0f921"
            ]
           ]
          },
          "colorway": [
           "#636efa",
           "#EF553B",
           "#00cc96",
           "#ab63fa",
           "#FFA15A",
           "#19d3f3",
           "#FF6692",
           "#B6E880",
           "#FF97FF",
           "#FECB52"
          ],
          "font": {
           "color": "#2a3f5f"
          },
          "geo": {
           "bgcolor": "white",
           "lakecolor": "white",
           "landcolor": "#E5ECF6",
           "showlakes": true,
           "showland": true,
           "subunitcolor": "white"
          },
          "hoverlabel": {
           "align": "left"
          },
          "hovermode": "closest",
          "mapbox": {
           "style": "light"
          },
          "paper_bgcolor": "white",
          "plot_bgcolor": "#E5ECF6",
          "polar": {
           "angularaxis": {
            "gridcolor": "white",
            "linecolor": "white",
            "ticks": ""
           },
           "bgcolor": "#E5ECF6",
           "radialaxis": {
            "gridcolor": "white",
            "linecolor": "white",
            "ticks": ""
           }
          },
          "scene": {
           "xaxis": {
            "backgroundcolor": "#E5ECF6",
            "gridcolor": "white",
            "gridwidth": 2,
            "linecolor": "white",
            "showbackground": true,
            "ticks": "",
            "zerolinecolor": "white"
           },
           "yaxis": {
            "backgroundcolor": "#E5ECF6",
            "gridcolor": "white",
            "gridwidth": 2,
            "linecolor": "white",
            "showbackground": true,
            "ticks": "",
            "zerolinecolor": "white"
           },
           "zaxis": {
            "backgroundcolor": "#E5ECF6",
            "gridcolor": "white",
            "gridwidth": 2,
            "linecolor": "white",
            "showbackground": true,
            "ticks": "",
            "zerolinecolor": "white"
           }
          },
          "shapedefaults": {
           "line": {
            "color": "#2a3f5f"
           }
          },
          "ternary": {
           "aaxis": {
            "gridcolor": "white",
            "linecolor": "white",
            "ticks": ""
           },
           "baxis": {
            "gridcolor": "white",
            "linecolor": "white",
            "ticks": ""
           },
           "bgcolor": "#E5ECF6",
           "caxis": {
            "gridcolor": "white",
            "linecolor": "white",
            "ticks": ""
           }
          },
          "title": {
           "x": 0.05
          },
          "xaxis": {
           "automargin": true,
           "gridcolor": "white",
           "linecolor": "white",
           "ticks": "",
           "title": {
            "standoff": 15
           },
           "zerolinecolor": "white",
           "zerolinewidth": 2
          },
          "yaxis": {
           "automargin": true,
           "gridcolor": "white",
           "linecolor": "white",
           "ticks": "",
           "title": {
            "standoff": 15
           },
           "zerolinecolor": "white",
           "zerolinewidth": 2
          }
         }
        },
        "title": {
         "text": "Distribution of Social Support"
        },
        "xaxis": {
         "anchor": "y",
         "domain": [
          0,
          1
         ],
         "title": {
          "text": "Social Support"
         }
        },
        "yaxis": {
         "anchor": "x",
         "domain": [
          0,
          1
         ]
        }
       }
      }
     },
     "metadata": {},
     "output_type": "display_data"
    }
   ],
   "source": [
    "px.box(df_plot, \n",
    "             x=\"Social Support\", \n",
    "             points=\"all\",\n",
    "             hover_name=\"Country Name\",\n",
    "             title=\"Distribution of Social Support\",\n",
    "             color_discrete_sequence=[\"#FFA15A\"])"
   ]
  },
  {
   "cell_type": "markdown",
   "id": "4f9bacc6",
   "metadata": {},
   "source": [
    "![Track Age vs Streams](screenshots/distribution-of-social-support.png\n",
    ")\n"
   ]
  },
  {
   "cell_type": "markdown",
   "id": "70fae7bd",
   "metadata": {},
   "source": [
    "## Distribution of Healthy Life Expectancy\n",
    "\n",
    "- **Overview**: This boxplot shows the spread of “Healthy Life Expectancy” scores across countries, with all individual points included.\n",
    "- **Median & Quartiles**: Most countries fall between ~63 and 72 years, indicating a general clustering around high life expectancy.\n",
    "- **High outliers**:\n",
    "  - Hong Kong S.A.R. of China (77.280), Japan (74.349), Singapore (73.800), South Korea (73.650), Switzerland (72.900)\n",
    "  - These countries have significantly higher life expectancy than the global median.\n",
    "- **Low outliers**:\n",
    "  - Mozambique (51.530), Chad (53.125), Zimbabwe (54.050), Guinea (54.185), Afghanistan (54.712)\n",
    "  - These countries face much lower healthy life expectancy due to economic, health, or social challenges.\n",
    "- **Insights**:\n",
    "  - Higher values typically reflect strong healthcare systems, nutrition, and living conditions.\n",
    "  - Lower values highlight countries struggling with health infrastructure, conflict, or poverty.\n",
    "- **Conclusion**: The extremes emphasize global disparities in health and longevity, while most countries cluster around moderately high life expectancy."
   ]
  },
  {
   "cell_type": "code",
   "execution_count": 53,
   "id": "2d567d98",
   "metadata": {},
   "outputs": [
    {
     "data": {
      "application/vnd.plotly.v1+json": {
       "config": {
        "plotlyServerURL": "https://plot.ly"
       },
       "data": [
        {
         "alignmentgroup": "True",
         "boxpoints": "all",
         "hovertemplate": "<b>%{hovertext}</b><br><br>Healthy Life Expectancy=%{x}<extra></extra>",
         "hovertext": [
          "Finland",
          "Denmark",
          "Iceland",
          "Israel",
          "Netherlands",
          "Sweden",
          "Norway",
          "Switzerland",
          "Luxembourg",
          "New Zealand",
          "Austria",
          "Australia",
          "Canada",
          "Ireland",
          "United States",
          "Germany",
          "Belgium",
          "Czechia",
          "United Kingdom",
          "Lithuania",
          "France",
          "Slovenia",
          "Costa Rica",
          "Romania",
          "Singapore",
          "United Arab Emirates",
          "Taiwan Province of China",
          "Uruguay",
          "Slovakia",
          "Saudi Arabia",
          "Estonia",
          "Spain",
          "Italy",
          "Kosovo",
          "Chile",
          "Mexico",
          "Malta",
          "Panama",
          "Poland",
          "Nicaragua",
          "Latvia",
          "Bahrain",
          "Guatemala",
          "Kazakhstan",
          "Serbia",
          "Cyprus",
          "Japan",
          "Croatia",
          "Brazil",
          "El Salvador",
          "Hungary",
          "Argentina",
          "Honduras",
          "Uzbekistan",
          "Malaysia",
          "Portugal",
          "South Korea",
          "Greece",
          "Mauritius",
          "Thailand",
          "Mongolia",
          "Kyrgyzstan",
          "Moldova",
          "China",
          "Vietnam",
          "Paraguay",
          "Montenegro",
          "Jamaica",
          "Bolivia",
          "Russia",
          "Bosnia and Herzegovina",
          "Colombia",
          "Dominican Republic",
          "Ecuador",
          "Peru",
          "Philippines",
          "Bulgaria",
          "Nepal",
          "Armenia",
          "Tajikistan",
          "Algeria",
          "Hong Kong S.A.R. of China",
          "Albania",
          "Indonesia",
          "South Africa",
          "Congo (Brazzaville)",
          "North Macedonia",
          "Venezuela",
          "Laos",
          "Georgia",
          "Guinea",
          "Ukraine",
          "Ivory Coast",
          "Gabon",
          "Nigeria",
          "Cameroon",
          "Mozambique",
          "Iraq",
          "Morocco",
          "Iran",
          "Senegal",
          "Mauritania",
          "Burkina Faso",
          "Namibia",
          "Turkiye",
          "Ghana",
          "Pakistan",
          "Niger",
          "Tunisia",
          "Kenya",
          "Sri Lanka",
          "Uganda",
          "Chad",
          "Cambodia",
          "Benin",
          "Myanmar",
          "Bangladesh",
          "Gambia",
          "Mali",
          "Egypt",
          "Togo",
          "Jordan",
          "Ethiopia",
          "Liberia",
          "India",
          "Madagascar",
          "Zambia",
          "Tanzania",
          "Comoros",
          "Malawi",
          "Botswana",
          "Congo (Kinshasa)",
          "Zimbabwe",
          "Sierra Leone",
          "Lebanon",
          "Afghanistan"
         ],
         "legendgroup": "",
         "marker": {
          "color": "#AB63FA"
         },
         "name": "",
         "notched": false,
         "offsetgroup": "",
         "orientation": "h",
         "showlegend": false,
         "type": "box",
         "x": {
          "bdata": "mpmZmZnJUUAAAAAAANBRQDMzMzMzA1JA+FPjpZssUkAzMzMzM+NRQJqZmZmZCVJAAAAAAADgUUCamZmZmTlSQDMzMzMz61FAZmZmZmaWUUCamZmZmclRQDMzMzMzw1FAmpmZmZnZUUAzMzMzM9NRQGZmZmZmdlBAMzMzMzPTUUCoxks3iblRQDMzMzMzQ1FAMzMzMzOTUUDFILByaNlQQDMzMzMzE1JAF9nO91PDUUAAAAAAAIBRQCUGgZVDw1BAMzMzMzNzUkBkO99PjY9QQGZmZmZmZlFAAAAAAADgUEASg8DKoTVRQKjGSzeJGVBAmpmZmZlpUUBmZmZmZhZSQDMzMzMzA1JAFK5H4XpMUEAzMzMzM5NRQDMzMzMzc1BAZmZmZmbmUUDNzMzMzDxRQEJg5dAiQ1FAmpmZmZlpUECamZmZmZlQQM3MzMzMdFBAMzMzMzNzT0AX2c73U3NQQBKDwMqhxVBAF9nO91MzUkB1kxgEVpZSQM3MzMzMPFFADi2yne9vUECR7Xw/NWZQQAAAAAAA4FBAzczMzMzMUEB56SYxCARQQCUGgZVDU1BA7nw/NV5qUEAAAAAAANBRQJqZmZmZaVJAmpmZmZnJUUDNzMzMzOxPQM3MzMzMHFFAAAAAAABATkBKDAIrh7ZQQEJg5dAiU1BAarx0kxgsUUDjpZvEIGBQQJqZmZmZeVBAZmZmZmbGUEBmZmZmZqZQQOkmMQiszE9A+FPjpZs8UECamZmZmdFQQGZmZmZmVlFAqMZLN4kZUEAAAAAAAEBRQGZmZmZmdlFAvp8aL90ET0AAAAAAAKBQQCPb+X5q7E5A0SLb+X7yUECwcmiR7RxPQEJg5dAio1BAUrgehetRU0CamZmZmUlRQKAaL90khk9AO99PjZd+TEDNzMzMzGxMQAAAAAAAoFBAMzMzMzMDUEAMAiuHFnlOQM3MzMzMPFBASOF6FK4XS0AzMzMzMyNQQESLbOf7+UtAx0s3iUEgTUA1XrpJDHJLQCPb+X5q7EtApHA9CtfDSUCF61G4HrVPQBfZzvdT809AZmZmZmamUEAdWmQ73/9NQM3MzMzMPE5AXrpJDAK7S0CwcmiR7WxMQN9PjZduKlFAi2zn+6lhTUDy0k1iEKhMQGZmZmZmRkxAAAAAAADAUEAdWmQ73z9NQJqZmZmZyVBAvp8aL910TUAAAAAAAJBKQDMzMzMz805AXI/C9SgMTECLbOf7qbFOQFCNl24SI1BAMzMzMzPzTEDdJAaBlbNLQKrx0k1iwE9AtvP91Hi5TEBmZmZmZuZQQNNNYhBYWU5AmpmZmZlZTED6fmq8dGNOQGZmZmZmBk1Aarx0kxiES0AX2c73U7NNQGZmZmZmtk1AzczMzMw8TUDNzMzMzFxLQAAAAAAAsEtAZmZmZmYGS0AzMzMzM3NLQKjGSzeJiVBAQmDl0CJbS0A=",
          "dtype": "f8"
         },
         "x0": " ",
         "xaxis": "x",
         "y0": " ",
         "yaxis": "y"
        }
       ],
       "layout": {
        "boxmode": "group",
        "legend": {
         "tracegroupgap": 0
        },
        "template": {
         "data": {
          "bar": [
           {
            "error_x": {
             "color": "#2a3f5f"
            },
            "error_y": {
             "color": "#2a3f5f"
            },
            "marker": {
             "line": {
              "color": "#E5ECF6",
              "width": 0.5
             },
             "pattern": {
              "fillmode": "overlay",
              "size": 10,
              "solidity": 0.2
             }
            },
            "type": "bar"
           }
          ],
          "barpolar": [
           {
            "marker": {
             "line": {
              "color": "#E5ECF6",
              "width": 0.5
             },
             "pattern": {
              "fillmode": "overlay",
              "size": 10,
              "solidity": 0.2
             }
            },
            "type": "barpolar"
           }
          ],
          "carpet": [
           {
            "aaxis": {
             "endlinecolor": "#2a3f5f",
             "gridcolor": "white",
             "linecolor": "white",
             "minorgridcolor": "white",
             "startlinecolor": "#2a3f5f"
            },
            "baxis": {
             "endlinecolor": "#2a3f5f",
             "gridcolor": "white",
             "linecolor": "white",
             "minorgridcolor": "white",
             "startlinecolor": "#2a3f5f"
            },
            "type": "carpet"
           }
          ],
          "choropleth": [
           {
            "colorbar": {
             "outlinewidth": 0,
             "ticks": ""
            },
            "type": "choropleth"
           }
          ],
          "contour": [
           {
            "colorbar": {
             "outlinewidth": 0,
             "ticks": ""
            },
            "colorscale": [
             [
              0,
              "#0d0887"
             ],
             [
              0.1111111111111111,
              "#46039f"
             ],
             [
              0.2222222222222222,
              "#7201a8"
             ],
             [
              0.3333333333333333,
              "#9c179e"
             ],
             [
              0.4444444444444444,
              "#bd3786"
             ],
             [
              0.5555555555555556,
              "#d8576b"
             ],
             [
              0.6666666666666666,
              "#ed7953"
             ],
             [
              0.7777777777777778,
              "#fb9f3a"
             ],
             [
              0.8888888888888888,
              "#fdca26"
             ],
             [
              1,
              "#f0f921"
             ]
            ],
            "type": "contour"
           }
          ],
          "contourcarpet": [
           {
            "colorbar": {
             "outlinewidth": 0,
             "ticks": ""
            },
            "type": "contourcarpet"
           }
          ],
          "heatmap": [
           {
            "colorbar": {
             "outlinewidth": 0,
             "ticks": ""
            },
            "colorscale": [
             [
              0,
              "#0d0887"
             ],
             [
              0.1111111111111111,
              "#46039f"
             ],
             [
              0.2222222222222222,
              "#7201a8"
             ],
             [
              0.3333333333333333,
              "#9c179e"
             ],
             [
              0.4444444444444444,
              "#bd3786"
             ],
             [
              0.5555555555555556,
              "#d8576b"
             ],
             [
              0.6666666666666666,
              "#ed7953"
             ],
             [
              0.7777777777777778,
              "#fb9f3a"
             ],
             [
              0.8888888888888888,
              "#fdca26"
             ],
             [
              1,
              "#f0f921"
             ]
            ],
            "type": "heatmap"
           }
          ],
          "histogram": [
           {
            "marker": {
             "pattern": {
              "fillmode": "overlay",
              "size": 10,
              "solidity": 0.2
             }
            },
            "type": "histogram"
           }
          ],
          "histogram2d": [
           {
            "colorbar": {
             "outlinewidth": 0,
             "ticks": ""
            },
            "colorscale": [
             [
              0,
              "#0d0887"
             ],
             [
              0.1111111111111111,
              "#46039f"
             ],
             [
              0.2222222222222222,
              "#7201a8"
             ],
             [
              0.3333333333333333,
              "#9c179e"
             ],
             [
              0.4444444444444444,
              "#bd3786"
             ],
             [
              0.5555555555555556,
              "#d8576b"
             ],
             [
              0.6666666666666666,
              "#ed7953"
             ],
             [
              0.7777777777777778,
              "#fb9f3a"
             ],
             [
              0.8888888888888888,
              "#fdca26"
             ],
             [
              1,
              "#f0f921"
             ]
            ],
            "type": "histogram2d"
           }
          ],
          "histogram2dcontour": [
           {
            "colorbar": {
             "outlinewidth": 0,
             "ticks": ""
            },
            "colorscale": [
             [
              0,
              "#0d0887"
             ],
             [
              0.1111111111111111,
              "#46039f"
             ],
             [
              0.2222222222222222,
              "#7201a8"
             ],
             [
              0.3333333333333333,
              "#9c179e"
             ],
             [
              0.4444444444444444,
              "#bd3786"
             ],
             [
              0.5555555555555556,
              "#d8576b"
             ],
             [
              0.6666666666666666,
              "#ed7953"
             ],
             [
              0.7777777777777778,
              "#fb9f3a"
             ],
             [
              0.8888888888888888,
              "#fdca26"
             ],
             [
              1,
              "#f0f921"
             ]
            ],
            "type": "histogram2dcontour"
           }
          ],
          "mesh3d": [
           {
            "colorbar": {
             "outlinewidth": 0,
             "ticks": ""
            },
            "type": "mesh3d"
           }
          ],
          "parcoords": [
           {
            "line": {
             "colorbar": {
              "outlinewidth": 0,
              "ticks": ""
             }
            },
            "type": "parcoords"
           }
          ],
          "pie": [
           {
            "automargin": true,
            "type": "pie"
           }
          ],
          "scatter": [
           {
            "fillpattern": {
             "fillmode": "overlay",
             "size": 10,
             "solidity": 0.2
            },
            "type": "scatter"
           }
          ],
          "scatter3d": [
           {
            "line": {
             "colorbar": {
              "outlinewidth": 0,
              "ticks": ""
             }
            },
            "marker": {
             "colorbar": {
              "outlinewidth": 0,
              "ticks": ""
             }
            },
            "type": "scatter3d"
           }
          ],
          "scattercarpet": [
           {
            "marker": {
             "colorbar": {
              "outlinewidth": 0,
              "ticks": ""
             }
            },
            "type": "scattercarpet"
           }
          ],
          "scattergeo": [
           {
            "marker": {
             "colorbar": {
              "outlinewidth": 0,
              "ticks": ""
             }
            },
            "type": "scattergeo"
           }
          ],
          "scattergl": [
           {
            "marker": {
             "colorbar": {
              "outlinewidth": 0,
              "ticks": ""
             }
            },
            "type": "scattergl"
           }
          ],
          "scattermap": [
           {
            "marker": {
             "colorbar": {
              "outlinewidth": 0,
              "ticks": ""
             }
            },
            "type": "scattermap"
           }
          ],
          "scattermapbox": [
           {
            "marker": {
             "colorbar": {
              "outlinewidth": 0,
              "ticks": ""
             }
            },
            "type": "scattermapbox"
           }
          ],
          "scatterpolar": [
           {
            "marker": {
             "colorbar": {
              "outlinewidth": 0,
              "ticks": ""
             }
            },
            "type": "scatterpolar"
           }
          ],
          "scatterpolargl": [
           {
            "marker": {
             "colorbar": {
              "outlinewidth": 0,
              "ticks": ""
             }
            },
            "type": "scatterpolargl"
           }
          ],
          "scatterternary": [
           {
            "marker": {
             "colorbar": {
              "outlinewidth": 0,
              "ticks": ""
             }
            },
            "type": "scatterternary"
           }
          ],
          "surface": [
           {
            "colorbar": {
             "outlinewidth": 0,
             "ticks": ""
            },
            "colorscale": [
             [
              0,
              "#0d0887"
             ],
             [
              0.1111111111111111,
              "#46039f"
             ],
             [
              0.2222222222222222,
              "#7201a8"
             ],
             [
              0.3333333333333333,
              "#9c179e"
             ],
             [
              0.4444444444444444,
              "#bd3786"
             ],
             [
              0.5555555555555556,
              "#d8576b"
             ],
             [
              0.6666666666666666,
              "#ed7953"
             ],
             [
              0.7777777777777778,
              "#fb9f3a"
             ],
             [
              0.8888888888888888,
              "#fdca26"
             ],
             [
              1,
              "#f0f921"
             ]
            ],
            "type": "surface"
           }
          ],
          "table": [
           {
            "cells": {
             "fill": {
              "color": "#EBF0F8"
             },
             "line": {
              "color": "white"
             }
            },
            "header": {
             "fill": {
              "color": "#C8D4E3"
             },
             "line": {
              "color": "white"
             }
            },
            "type": "table"
           }
          ]
         },
         "layout": {
          "annotationdefaults": {
           "arrowcolor": "#2a3f5f",
           "arrowhead": 0,
           "arrowwidth": 1
          },
          "autotypenumbers": "strict",
          "coloraxis": {
           "colorbar": {
            "outlinewidth": 0,
            "ticks": ""
           }
          },
          "colorscale": {
           "diverging": [
            [
             0,
             "#8e0152"
            ],
            [
             0.1,
             "#c51b7d"
            ],
            [
             0.2,
             "#de77ae"
            ],
            [
             0.3,
             "#f1b6da"
            ],
            [
             0.4,
             "#fde0ef"
            ],
            [
             0.5,
             "#f7f7f7"
            ],
            [
             0.6,
             "#e6f5d0"
            ],
            [
             0.7,
             "#b8e186"
            ],
            [
             0.8,
             "#7fbc41"
            ],
            [
             0.9,
             "#4d9221"
            ],
            [
             1,
             "#276419"
            ]
           ],
           "sequential": [
            [
             0,
             "#0d0887"
            ],
            [
             0.1111111111111111,
             "#46039f"
            ],
            [
             0.2222222222222222,
             "#7201a8"
            ],
            [
             0.3333333333333333,
             "#9c179e"
            ],
            [
             0.4444444444444444,
             "#bd3786"
            ],
            [
             0.5555555555555556,
             "#d8576b"
            ],
            [
             0.6666666666666666,
             "#ed7953"
            ],
            [
             0.7777777777777778,
             "#fb9f3a"
            ],
            [
             0.8888888888888888,
             "#fdca26"
            ],
            [
             1,
             "#f0f921"
            ]
           ],
           "sequentialminus": [
            [
             0,
             "#0d0887"
            ],
            [
             0.1111111111111111,
             "#46039f"
            ],
            [
             0.2222222222222222,
             "#7201a8"
            ],
            [
             0.3333333333333333,
             "#9c179e"
            ],
            [
             0.4444444444444444,
             "#bd3786"
            ],
            [
             0.5555555555555556,
             "#d8576b"
            ],
            [
             0.6666666666666666,
             "#ed7953"
            ],
            [
             0.7777777777777778,
             "#fb9f3a"
            ],
            [
             0.8888888888888888,
             "#fdca26"
            ],
            [
             1,
             "#f0f921"
            ]
           ]
          },
          "colorway": [
           "#636efa",
           "#EF553B",
           "#00cc96",
           "#ab63fa",
           "#FFA15A",
           "#19d3f3",
           "#FF6692",
           "#B6E880",
           "#FF97FF",
           "#FECB52"
          ],
          "font": {
           "color": "#2a3f5f"
          },
          "geo": {
           "bgcolor": "white",
           "lakecolor": "white",
           "landcolor": "#E5ECF6",
           "showlakes": true,
           "showland": true,
           "subunitcolor": "white"
          },
          "hoverlabel": {
           "align": "left"
          },
          "hovermode": "closest",
          "mapbox": {
           "style": "light"
          },
          "paper_bgcolor": "white",
          "plot_bgcolor": "#E5ECF6",
          "polar": {
           "angularaxis": {
            "gridcolor": "white",
            "linecolor": "white",
            "ticks": ""
           },
           "bgcolor": "#E5ECF6",
           "radialaxis": {
            "gridcolor": "white",
            "linecolor": "white",
            "ticks": ""
           }
          },
          "scene": {
           "xaxis": {
            "backgroundcolor": "#E5ECF6",
            "gridcolor": "white",
            "gridwidth": 2,
            "linecolor": "white",
            "showbackground": true,
            "ticks": "",
            "zerolinecolor": "white"
           },
           "yaxis": {
            "backgroundcolor": "#E5ECF6",
            "gridcolor": "white",
            "gridwidth": 2,
            "linecolor": "white",
            "showbackground": true,
            "ticks": "",
            "zerolinecolor": "white"
           },
           "zaxis": {
            "backgroundcolor": "#E5ECF6",
            "gridcolor": "white",
            "gridwidth": 2,
            "linecolor": "white",
            "showbackground": true,
            "ticks": "",
            "zerolinecolor": "white"
           }
          },
          "shapedefaults": {
           "line": {
            "color": "#2a3f5f"
           }
          },
          "ternary": {
           "aaxis": {
            "gridcolor": "white",
            "linecolor": "white",
            "ticks": ""
           },
           "baxis": {
            "gridcolor": "white",
            "linecolor": "white",
            "ticks": ""
           },
           "bgcolor": "#E5ECF6",
           "caxis": {
            "gridcolor": "white",
            "linecolor": "white",
            "ticks": ""
           }
          },
          "title": {
           "x": 0.05
          },
          "xaxis": {
           "automargin": true,
           "gridcolor": "white",
           "linecolor": "white",
           "ticks": "",
           "title": {
            "standoff": 15
           },
           "zerolinecolor": "white",
           "zerolinewidth": 2
          },
          "yaxis": {
           "automargin": true,
           "gridcolor": "white",
           "linecolor": "white",
           "ticks": "",
           "title": {
            "standoff": 15
           },
           "zerolinecolor": "white",
           "zerolinewidth": 2
          }
         }
        },
        "title": {
         "text": "Distribution of Healthy Life Expectancy"
        },
        "xaxis": {
         "anchor": "y",
         "domain": [
          0,
          1
         ],
         "title": {
          "text": "Healthy Life Expectancy"
         }
        },
        "yaxis": {
         "anchor": "x",
         "domain": [
          0,
          1
         ]
        }
       }
      }
     },
     "metadata": {},
     "output_type": "display_data"
    }
   ],
   "source": [
    "px.box(df_plot, \n",
    "             x=\"Healthy Life Expectancy\", \n",
    "             points=\"all\",\n",
    "             hover_name=\"Country Name\",\n",
    "             title=\"Distribution of Healthy Life Expectancy\",\n",
    "             color_discrete_sequence=[\"#AB63FA\"])"
   ]
  },
  {
   "cell_type": "markdown",
   "id": "39fadf1a",
   "metadata": {},
   "source": [
    "![Track Age vs Streams](screenshots/distribution-of-healthy-life-expectancy.png\n",
    ")\n"
   ]
  },
  {
   "cell_type": "markdown",
   "id": "cc3fd048",
   "metadata": {},
   "source": [
    "## Distribution of Freedom To Make Life Choices\n",
    "\n",
    "- **Overview**: The boxplot displays the spread of “Freedom To Make Life Choices” scores across countries, including all individual points for full transparency.\n",
    "- **Median & Quartiles**: Most countries score between ~0.7 and 0.9, showing moderate to high freedom in life decisions.\n",
    "- **Outliers**:\n",
    "  - **High outliers (very free)**: Finland (0.961), Cambodia (0.958), Sweden (0.948), Norway (0.947), Bahrain (0.944) — significantly higher than the majority.\n",
    "  - **Low outliers (very restricted)**: Afghanistan (0.382), Comoros (0.470), Lebanon (0.474), Turkiye (0.475), Madagascar (0.522) — much lower freedom than the global median.\n",
    "- **Insights**:\n",
    "  - High outliers reflect countries with strong personal autonomy, supportive policies, or societal norms enabling individual choice.\n",
    "  - Low outliers may indicate political, economic, or social constraints limiting individual freedoms.\n",
    "- **Conclusion**: Extreme values highlight countries at both ends of the freedom spectrum, useful for understanding disparities in life choice autonomy globally.\n"
   ]
  },
  {
   "cell_type": "code",
   "execution_count": 54,
   "id": "05c993b9",
   "metadata": {},
   "outputs": [
    {
     "data": {
      "application/vnd.plotly.v1+json": {
       "config": {
        "plotlyServerURL": "https://plot.ly"
       },
       "data": [
        {
         "alignmentgroup": "True",
         "boxpoints": "all",
         "hovertemplate": "<b>%{hovertext}</b><br><br>Freedom To Make Life Choices=%{x}<extra></extra>",
         "hovertext": [
          "Finland",
          "Denmark",
          "Iceland",
          "Israel",
          "Netherlands",
          "Sweden",
          "Norway",
          "Switzerland",
          "Luxembourg",
          "New Zealand",
          "Austria",
          "Australia",
          "Canada",
          "Ireland",
          "United States",
          "Germany",
          "Belgium",
          "Czechia",
          "United Kingdom",
          "Lithuania",
          "France",
          "Slovenia",
          "Costa Rica",
          "Romania",
          "Singapore",
          "United Arab Emirates",
          "Taiwan Province of China",
          "Uruguay",
          "Slovakia",
          "Saudi Arabia",
          "Estonia",
          "Spain",
          "Italy",
          "Kosovo",
          "Chile",
          "Mexico",
          "Malta",
          "Panama",
          "Poland",
          "Nicaragua",
          "Latvia",
          "Bahrain",
          "Guatemala",
          "Kazakhstan",
          "Serbia",
          "Cyprus",
          "Japan",
          "Croatia",
          "Brazil",
          "El Salvador",
          "Hungary",
          "Argentina",
          "Honduras",
          "Uzbekistan",
          "Malaysia",
          "Portugal",
          "South Korea",
          "Greece",
          "Mauritius",
          "Thailand",
          "Mongolia",
          "Kyrgyzstan",
          "Moldova",
          "China",
          "Vietnam",
          "Paraguay",
          "Montenegro",
          "Jamaica",
          "Bolivia",
          "Russia",
          "Bosnia and Herzegovina",
          "Colombia",
          "Dominican Republic",
          "Ecuador",
          "Peru",
          "Philippines",
          "Bulgaria",
          "Nepal",
          "Armenia",
          "Tajikistan",
          "Algeria",
          "Hong Kong S.A.R. of China",
          "Albania",
          "Indonesia",
          "South Africa",
          "Congo (Brazzaville)",
          "North Macedonia",
          "Venezuela",
          "Laos",
          "Georgia",
          "Guinea",
          "Ukraine",
          "Ivory Coast",
          "Gabon",
          "Nigeria",
          "Cameroon",
          "Mozambique",
          "Iraq",
          "Morocco",
          "Iran",
          "Senegal",
          "Mauritania",
          "Burkina Faso",
          "Namibia",
          "Turkiye",
          "Ghana",
          "Pakistan",
          "Niger",
          "Tunisia",
          "Kenya",
          "Sri Lanka",
          "Uganda",
          "Chad",
          "Cambodia",
          "Benin",
          "Myanmar",
          "Bangladesh",
          "Gambia",
          "Mali",
          "Egypt",
          "Togo",
          "Jordan",
          "Ethiopia",
          "Liberia",
          "India",
          "Madagascar",
          "Zambia",
          "Tanzania",
          "Comoros",
          "Malawi",
          "Botswana",
          "Congo (Kinshasa)",
          "Zimbabwe",
          "Sierra Leone",
          "Lebanon",
          "Afghanistan"
         ],
         "legendgroup": "",
         "marker": {
          "color": "#00CC96"
         },
         "name": "",
         "notched": false,
         "offsetgroup": "",
         "orientation": "h",
         "showlegend": false,
         "type": "box",
         "x": {
          "bdata": "jZduEoPA7j8X2c73U+PtP8HKoUW28+0/F9nO91Pj6T/8qfHSTWLsP7x0kxgEVu4/5/up8dJN7j9QjZduEoPsP0jhehSuR+0//Knx0k1i7D9cj8L1KFzrP3sUrkfheuw/K4cW2c736z8rhxbZzvfrP5qZmZmZmek/30+Nl24S6z9mZmZmZmbqP0w3iUFg5ew/3SQGgZVD6z9WDi2yne/nP2iR7Xw/Neo/nu+nxks37T+kcD0K16PsPzEIrBxaZOs/f2q8dJMY7D++nxov3STuP+58PzVeuuk/pHA9Ctej7D9/arx0kxjoP8/3U+Olm+w/7nw/NV667T+gGi/dJAbpP42XbhKDwOY/WmQ730+N6z/y0k1iEFjpPzEIrBxaZOs/JzEIrBxa7D9cj8L1KFzrP3sUrkfheug/qvHSTWIQ7D+TGARWDi3qP2iR7Xw/Ne4/MQisHFpk6z+yne+nxkvrPwrXo3A9Cus/XrpJDAIr5z/FILByaJHpP9NNYhBYOeg/bxKDwMqh6T/HSzeJQWDtP6jGSzeJQeg/vHSTGARW6j9g5dAi2/nqP2q8dJMYBO4/qvHSTWIQ7D93vp8aL93sP4ts5/up8eY/kxgEVg4t4j9qvHSTGATqPzMzMzMzM+s/O99PjZdu5j8X2c73U+PtP+F6FK5H4eo/001iEFg57D8/NV66SQzuP1CNl24Sg+w/w/UoXI/C6T/n+6nx0k3qPy2yne+nxus/NV66SQwC5z+sHFpkO9/nP+58PzVeuuk/MzMzMzMz6z9Ei2zn+6npP5zEILByaOk/nMQgsHJo7T9vEoPAyqHpP0Jg5dAi2+k/Rrbz/dR46T85tMh2vp/qPxKDwMqhReI/lkOLbOf75T+cxCCwcmjpPylcj8L1KOw/XI/C9Shc5z9cj8L1KFznP8/3U+Olm+g/SgwCK4cW5T+cxCCwcmjtP/T91HjpJuk/SgwCK4cW5T9xPQrXo3DpP9v5fmq8dOc/JQaBlUOL5D9g5dAi2/nmP8HKoUW28+U/CKwcWmQ76z956SYxCKzkP8l2vp8aL+k/YOXQItv54j9OYhBYObToP4GVQ4ts5+M/EoPAyqFF5j+cxCCwcmjlP2ZmZmZmZt4/d76fGi/d6D9QjZduEoPoP57vp8ZLN+k/O99PjZdu4j8Sg8DKoUXmP8l2vp8aL+k/O99PjZdu5j9Ei2zn+6nlPw4tsp3vp+4/LbKd76fG5z/dJAaBlUPnPwrXo3A9Cus/30+Nl24S4z83iUFg5dDmPwaBlUOLbOc/oBov3SQG5T+kcD0K16PoPwrXo3A9Cuc/hetRuB6F5z9OYhBYObTsP05iEFg5tOA/HVpkO99P6T83iUFg5dDqPxSuR+F6FN4/AAAAAAAA6D9YObTIdr7nP3Noke18P+U/IbByaJHt5D8fhetRuB7lP7x0kxgEVt4/ppvEILBy2D8=",
          "dtype": "f8"
         },
         "x0": " ",
         "xaxis": "x",
         "y0": " ",
         "yaxis": "y"
        }
       ],
       "layout": {
        "boxmode": "group",
        "legend": {
         "tracegroupgap": 0
        },
        "template": {
         "data": {
          "bar": [
           {
            "error_x": {
             "color": "#2a3f5f"
            },
            "error_y": {
             "color": "#2a3f5f"
            },
            "marker": {
             "line": {
              "color": "#E5ECF6",
              "width": 0.5
             },
             "pattern": {
              "fillmode": "overlay",
              "size": 10,
              "solidity": 0.2
             }
            },
            "type": "bar"
           }
          ],
          "barpolar": [
           {
            "marker": {
             "line": {
              "color": "#E5ECF6",
              "width": 0.5
             },
             "pattern": {
              "fillmode": "overlay",
              "size": 10,
              "solidity": 0.2
             }
            },
            "type": "barpolar"
           }
          ],
          "carpet": [
           {
            "aaxis": {
             "endlinecolor": "#2a3f5f",
             "gridcolor": "white",
             "linecolor": "white",
             "minorgridcolor": "white",
             "startlinecolor": "#2a3f5f"
            },
            "baxis": {
             "endlinecolor": "#2a3f5f",
             "gridcolor": "white",
             "linecolor": "white",
             "minorgridcolor": "white",
             "startlinecolor": "#2a3f5f"
            },
            "type": "carpet"
           }
          ],
          "choropleth": [
           {
            "colorbar": {
             "outlinewidth": 0,
             "ticks": ""
            },
            "type": "choropleth"
           }
          ],
          "contour": [
           {
            "colorbar": {
             "outlinewidth": 0,
             "ticks": ""
            },
            "colorscale": [
             [
              0,
              "#0d0887"
             ],
             [
              0.1111111111111111,
              "#46039f"
             ],
             [
              0.2222222222222222,
              "#7201a8"
             ],
             [
              0.3333333333333333,
              "#9c179e"
             ],
             [
              0.4444444444444444,
              "#bd3786"
             ],
             [
              0.5555555555555556,
              "#d8576b"
             ],
             [
              0.6666666666666666,
              "#ed7953"
             ],
             [
              0.7777777777777778,
              "#fb9f3a"
             ],
             [
              0.8888888888888888,
              "#fdca26"
             ],
             [
              1,
              "#f0f921"
             ]
            ],
            "type": "contour"
           }
          ],
          "contourcarpet": [
           {
            "colorbar": {
             "outlinewidth": 0,
             "ticks": ""
            },
            "type": "contourcarpet"
           }
          ],
          "heatmap": [
           {
            "colorbar": {
             "outlinewidth": 0,
             "ticks": ""
            },
            "colorscale": [
             [
              0,
              "#0d0887"
             ],
             [
              0.1111111111111111,
              "#46039f"
             ],
             [
              0.2222222222222222,
              "#7201a8"
             ],
             [
              0.3333333333333333,
              "#9c179e"
             ],
             [
              0.4444444444444444,
              "#bd3786"
             ],
             [
              0.5555555555555556,
              "#d8576b"
             ],
             [
              0.6666666666666666,
              "#ed7953"
             ],
             [
              0.7777777777777778,
              "#fb9f3a"
             ],
             [
              0.8888888888888888,
              "#fdca26"
             ],
             [
              1,
              "#f0f921"
             ]
            ],
            "type": "heatmap"
           }
          ],
          "histogram": [
           {
            "marker": {
             "pattern": {
              "fillmode": "overlay",
              "size": 10,
              "solidity": 0.2
             }
            },
            "type": "histogram"
           }
          ],
          "histogram2d": [
           {
            "colorbar": {
             "outlinewidth": 0,
             "ticks": ""
            },
            "colorscale": [
             [
              0,
              "#0d0887"
             ],
             [
              0.1111111111111111,
              "#46039f"
             ],
             [
              0.2222222222222222,
              "#7201a8"
             ],
             [
              0.3333333333333333,
              "#9c179e"
             ],
             [
              0.4444444444444444,
              "#bd3786"
             ],
             [
              0.5555555555555556,
              "#d8576b"
             ],
             [
              0.6666666666666666,
              "#ed7953"
             ],
             [
              0.7777777777777778,
              "#fb9f3a"
             ],
             [
              0.8888888888888888,
              "#fdca26"
             ],
             [
              1,
              "#f0f921"
             ]
            ],
            "type": "histogram2d"
           }
          ],
          "histogram2dcontour": [
           {
            "colorbar": {
             "outlinewidth": 0,
             "ticks": ""
            },
            "colorscale": [
             [
              0,
              "#0d0887"
             ],
             [
              0.1111111111111111,
              "#46039f"
             ],
             [
              0.2222222222222222,
              "#7201a8"
             ],
             [
              0.3333333333333333,
              "#9c179e"
             ],
             [
              0.4444444444444444,
              "#bd3786"
             ],
             [
              0.5555555555555556,
              "#d8576b"
             ],
             [
              0.6666666666666666,
              "#ed7953"
             ],
             [
              0.7777777777777778,
              "#fb9f3a"
             ],
             [
              0.8888888888888888,
              "#fdca26"
             ],
             [
              1,
              "#f0f921"
             ]
            ],
            "type": "histogram2dcontour"
           }
          ],
          "mesh3d": [
           {
            "colorbar": {
             "outlinewidth": 0,
             "ticks": ""
            },
            "type": "mesh3d"
           }
          ],
          "parcoords": [
           {
            "line": {
             "colorbar": {
              "outlinewidth": 0,
              "ticks": ""
             }
            },
            "type": "parcoords"
           }
          ],
          "pie": [
           {
            "automargin": true,
            "type": "pie"
           }
          ],
          "scatter": [
           {
            "fillpattern": {
             "fillmode": "overlay",
             "size": 10,
             "solidity": 0.2
            },
            "type": "scatter"
           }
          ],
          "scatter3d": [
           {
            "line": {
             "colorbar": {
              "outlinewidth": 0,
              "ticks": ""
             }
            },
            "marker": {
             "colorbar": {
              "outlinewidth": 0,
              "ticks": ""
             }
            },
            "type": "scatter3d"
           }
          ],
          "scattercarpet": [
           {
            "marker": {
             "colorbar": {
              "outlinewidth": 0,
              "ticks": ""
             }
            },
            "type": "scattercarpet"
           }
          ],
          "scattergeo": [
           {
            "marker": {
             "colorbar": {
              "outlinewidth": 0,
              "ticks": ""
             }
            },
            "type": "scattergeo"
           }
          ],
          "scattergl": [
           {
            "marker": {
             "colorbar": {
              "outlinewidth": 0,
              "ticks": ""
             }
            },
            "type": "scattergl"
           }
          ],
          "scattermap": [
           {
            "marker": {
             "colorbar": {
              "outlinewidth": 0,
              "ticks": ""
             }
            },
            "type": "scattermap"
           }
          ],
          "scattermapbox": [
           {
            "marker": {
             "colorbar": {
              "outlinewidth": 0,
              "ticks": ""
             }
            },
            "type": "scattermapbox"
           }
          ],
          "scatterpolar": [
           {
            "marker": {
             "colorbar": {
              "outlinewidth": 0,
              "ticks": ""
             }
            },
            "type": "scatterpolar"
           }
          ],
          "scatterpolargl": [
           {
            "marker": {
             "colorbar": {
              "outlinewidth": 0,
              "ticks": ""
             }
            },
            "type": "scatterpolargl"
           }
          ],
          "scatterternary": [
           {
            "marker": {
             "colorbar": {
              "outlinewidth": 0,
              "ticks": ""
             }
            },
            "type": "scatterternary"
           }
          ],
          "surface": [
           {
            "colorbar": {
             "outlinewidth": 0,
             "ticks": ""
            },
            "colorscale": [
             [
              0,
              "#0d0887"
             ],
             [
              0.1111111111111111,
              "#46039f"
             ],
             [
              0.2222222222222222,
              "#7201a8"
             ],
             [
              0.3333333333333333,
              "#9c179e"
             ],
             [
              0.4444444444444444,
              "#bd3786"
             ],
             [
              0.5555555555555556,
              "#d8576b"
             ],
             [
              0.6666666666666666,
              "#ed7953"
             ],
             [
              0.7777777777777778,
              "#fb9f3a"
             ],
             [
              0.8888888888888888,
              "#fdca26"
             ],
             [
              1,
              "#f0f921"
             ]
            ],
            "type": "surface"
           }
          ],
          "table": [
           {
            "cells": {
             "fill": {
              "color": "#EBF0F8"
             },
             "line": {
              "color": "white"
             }
            },
            "header": {
             "fill": {
              "color": "#C8D4E3"
             },
             "line": {
              "color": "white"
             }
            },
            "type": "table"
           }
          ]
         },
         "layout": {
          "annotationdefaults": {
           "arrowcolor": "#2a3f5f",
           "arrowhead": 0,
           "arrowwidth": 1
          },
          "autotypenumbers": "strict",
          "coloraxis": {
           "colorbar": {
            "outlinewidth": 0,
            "ticks": ""
           }
          },
          "colorscale": {
           "diverging": [
            [
             0,
             "#8e0152"
            ],
            [
             0.1,
             "#c51b7d"
            ],
            [
             0.2,
             "#de77ae"
            ],
            [
             0.3,
             "#f1b6da"
            ],
            [
             0.4,
             "#fde0ef"
            ],
            [
             0.5,
             "#f7f7f7"
            ],
            [
             0.6,
             "#e6f5d0"
            ],
            [
             0.7,
             "#b8e186"
            ],
            [
             0.8,
             "#7fbc41"
            ],
            [
             0.9,
             "#4d9221"
            ],
            [
             1,
             "#276419"
            ]
           ],
           "sequential": [
            [
             0,
             "#0d0887"
            ],
            [
             0.1111111111111111,
             "#46039f"
            ],
            [
             0.2222222222222222,
             "#7201a8"
            ],
            [
             0.3333333333333333,
             "#9c179e"
            ],
            [
             0.4444444444444444,
             "#bd3786"
            ],
            [
             0.5555555555555556,
             "#d8576b"
            ],
            [
             0.6666666666666666,
             "#ed7953"
            ],
            [
             0.7777777777777778,
             "#fb9f3a"
            ],
            [
             0.8888888888888888,
             "#fdca26"
            ],
            [
             1,
             "#f0f921"
            ]
           ],
           "sequentialminus": [
            [
             0,
             "#0d0887"
            ],
            [
             0.1111111111111111,
             "#46039f"
            ],
            [
             0.2222222222222222,
             "#7201a8"
            ],
            [
             0.3333333333333333,
             "#9c179e"
            ],
            [
             0.4444444444444444,
             "#bd3786"
            ],
            [
             0.5555555555555556,
             "#d8576b"
            ],
            [
             0.6666666666666666,
             "#ed7953"
            ],
            [
             0.7777777777777778,
             "#fb9f3a"
            ],
            [
             0.8888888888888888,
             "#fdca26"
            ],
            [
             1,
             "#f0f921"
            ]
           ]
          },
          "colorway": [
           "#636efa",
           "#EF553B",
           "#00cc96",
           "#ab63fa",
           "#FFA15A",
           "#19d3f3",
           "#FF6692",
           "#B6E880",
           "#FF97FF",
           "#FECB52"
          ],
          "font": {
           "color": "#2a3f5f"
          },
          "geo": {
           "bgcolor": "white",
           "lakecolor": "white",
           "landcolor": "#E5ECF6",
           "showlakes": true,
           "showland": true,
           "subunitcolor": "white"
          },
          "hoverlabel": {
           "align": "left"
          },
          "hovermode": "closest",
          "mapbox": {
           "style": "light"
          },
          "paper_bgcolor": "white",
          "plot_bgcolor": "#E5ECF6",
          "polar": {
           "angularaxis": {
            "gridcolor": "white",
            "linecolor": "white",
            "ticks": ""
           },
           "bgcolor": "#E5ECF6",
           "radialaxis": {
            "gridcolor": "white",
            "linecolor": "white",
            "ticks": ""
           }
          },
          "scene": {
           "xaxis": {
            "backgroundcolor": "#E5ECF6",
            "gridcolor": "white",
            "gridwidth": 2,
            "linecolor": "white",
            "showbackground": true,
            "ticks": "",
            "zerolinecolor": "white"
           },
           "yaxis": {
            "backgroundcolor": "#E5ECF6",
            "gridcolor": "white",
            "gridwidth": 2,
            "linecolor": "white",
            "showbackground": true,
            "ticks": "",
            "zerolinecolor": "white"
           },
           "zaxis": {
            "backgroundcolor": "#E5ECF6",
            "gridcolor": "white",
            "gridwidth": 2,
            "linecolor": "white",
            "showbackground": true,
            "ticks": "",
            "zerolinecolor": "white"
           }
          },
          "shapedefaults": {
           "line": {
            "color": "#2a3f5f"
           }
          },
          "ternary": {
           "aaxis": {
            "gridcolor": "white",
            "linecolor": "white",
            "ticks": ""
           },
           "baxis": {
            "gridcolor": "white",
            "linecolor": "white",
            "ticks": ""
           },
           "bgcolor": "#E5ECF6",
           "caxis": {
            "gridcolor": "white",
            "linecolor": "white",
            "ticks": ""
           }
          },
          "title": {
           "x": 0.05
          },
          "xaxis": {
           "automargin": true,
           "gridcolor": "white",
           "linecolor": "white",
           "ticks": "",
           "title": {
            "standoff": 15
           },
           "zerolinecolor": "white",
           "zerolinewidth": 2
          },
          "yaxis": {
           "automargin": true,
           "gridcolor": "white",
           "linecolor": "white",
           "ticks": "",
           "title": {
            "standoff": 15
           },
           "zerolinecolor": "white",
           "zerolinewidth": 2
          }
         }
        },
        "title": {
         "text": "Distribution of Freedom To Make Life Choices"
        },
        "xaxis": {
         "anchor": "y",
         "domain": [
          0,
          1
         ],
         "title": {
          "text": "Freedom To Make Life Choices"
         }
        },
        "yaxis": {
         "anchor": "x",
         "domain": [
          0,
          1
         ]
        }
       }
      }
     },
     "metadata": {},
     "output_type": "display_data"
    }
   ],
   "source": [
    "px.box(df_plot, \n",
    "             x=\"Freedom To Make Life Choices\", \n",
    "             points=\"all\",\n",
    "             hover_name=\"Country Name\",\n",
    "             title=\"Distribution of Freedom To Make Life Choices\",\n",
    "             color_discrete_sequence=[\"#00CC96\"])"
   ]
  },
  {
   "cell_type": "markdown",
   "id": "2a58fb83",
   "metadata": {},
   "source": [
    "![Track Age vs Streams](screenshots/distribution-of-freedom-to-make-life-choices.png\n",
    ")\n"
   ]
  },
  {
   "cell_type": "markdown",
   "id": "d7552963",
   "metadata": {},
   "source": [
    "## Distribution of Generosity\n",
    "\n",
    "- **Overview**: This boxplot shows how generosity scores are spread across countries, displaying all individual points for full visibility.\n",
    "- **Median & Quartiles**: Most countries cluster around 0.0–0.2, indicating low to moderate generosity in the dataset.\n",
    "- **Outliers**:\n",
    "  - **High outliers (very generous)**: Indonesia (0.531), Myanmar (0.491), Gambia (0.364), Thailand (0.289), Kenya (0.288) significantly higher generosity than the majority.\n",
    "  - **Low outliers (very low generosity)**: Georgia (-0.254), Greece (-0.240), Japan (-0.237), Morocco (-0.231), Botswana (-0.215) exceptionally low generosity scores.\n",
    "- **Insights**:\n",
    "  - High outliers may reflect strong cultural, social, or policy-driven generosity.\n",
    "  - Low outliers could suggest less social cohesion or lower trust and altruism at the national level.\n",
    "- **Conclusion**: Outliers highlight extremes in generosity and can help identify countries with unusual social behaviors compared to global norms."
   ]
  },
  {
   "cell_type": "code",
   "execution_count": 55,
   "id": "887f0d47",
   "metadata": {},
   "outputs": [
    {
     "data": {
      "application/vnd.plotly.v1+json": {
       "config": {
        "plotlyServerURL": "https://plot.ly"
       },
       "data": [
        {
         "alignmentgroup": "True",
         "boxpoints": "all",
         "hovertemplate": "<b>%{hovertext}</b><br><br>Generosity=%{x}<extra></extra>",
         "hovertext": [
          "Finland",
          "Denmark",
          "Iceland",
          "Israel",
          "Netherlands",
          "Sweden",
          "Norway",
          "Switzerland",
          "Luxembourg",
          "New Zealand",
          "Austria",
          "Australia",
          "Canada",
          "Ireland",
          "United States",
          "Germany",
          "Belgium",
          "Czechia",
          "United Kingdom",
          "Lithuania",
          "France",
          "Slovenia",
          "Costa Rica",
          "Romania",
          "Singapore",
          "United Arab Emirates",
          "Taiwan Province of China",
          "Uruguay",
          "Slovakia",
          "Saudi Arabia",
          "Estonia",
          "Spain",
          "Italy",
          "Kosovo",
          "Chile",
          "Mexico",
          "Malta",
          "Panama",
          "Poland",
          "Nicaragua",
          "Latvia",
          "Bahrain",
          "Guatemala",
          "Kazakhstan",
          "Serbia",
          "Cyprus",
          "Japan",
          "Croatia",
          "Brazil",
          "El Salvador",
          "Hungary",
          "Argentina",
          "Honduras",
          "Uzbekistan",
          "Malaysia",
          "Portugal",
          "South Korea",
          "Greece",
          "Mauritius",
          "Thailand",
          "Mongolia",
          "Kyrgyzstan",
          "Moldova",
          "China",
          "Vietnam",
          "Paraguay",
          "Montenegro",
          "Jamaica",
          "Bolivia",
          "Russia",
          "Bosnia and Herzegovina",
          "Colombia",
          "Dominican Republic",
          "Ecuador",
          "Peru",
          "Philippines",
          "Bulgaria",
          "Nepal",
          "Armenia",
          "Tajikistan",
          "Algeria",
          "Hong Kong S.A.R. of China",
          "Albania",
          "Indonesia",
          "South Africa",
          "Congo (Brazzaville)",
          "North Macedonia",
          "Venezuela",
          "Laos",
          "Georgia",
          "Guinea",
          "Ukraine",
          "Ivory Coast",
          "Gabon",
          "Nigeria",
          "Cameroon",
          "Mozambique",
          "Iraq",
          "Morocco",
          "Iran",
          "Senegal",
          "Mauritania",
          "Burkina Faso",
          "Namibia",
          "Turkiye",
          "Ghana",
          "Pakistan",
          "Niger",
          "Tunisia",
          "Kenya",
          "Sri Lanka",
          "Uganda",
          "Chad",
          "Cambodia",
          "Benin",
          "Myanmar",
          "Bangladesh",
          "Gambia",
          "Mali",
          "Egypt",
          "Togo",
          "Jordan",
          "Ethiopia",
          "Liberia",
          "India",
          "Madagascar",
          "Zambia",
          "Tanzania",
          "Comoros",
          "Malawi",
          "Botswana",
          "Congo (Kinshasa)",
          "Zimbabwe",
          "Sierra Leone",
          "Lebanon",
          "Afghanistan"
         ],
         "legendgroup": "",
         "marker": {
          "color": "#EF553B"
         },
         "name": "",
         "notched": false,
         "offsetgroup": "",
         "orientation": "h",
         "showlegend": false,
         "type": "box",
         "x": {
          "bdata": "2/l+arx0k7/0/dR46SbBPzVeukkMAss/WmQ730+Nl7/dJAaBlUPLPx+F61G4HsU/PzVeukkMwj/ZzvdT46WbP/p+arx0k5g/ZmZmZmZmxj/pJjEIrBy6P/LSTWIQWMk/L90kBoGVwz9aZDvfT423P/Cnxks3icE/uB6F61G4nj/8qfHSTWJQP3sUrkfheqQ//tR46SYx0D+PwvUoXI/Cv5qZmZmZmbm/eekmMQisjD/sUbgeheuxv2q8dJMYBMa/VOOlm8QgsD/6fmq8dJO4P1CNl24Sg8C/pHA9CtejsL/8qfHSTWKQvyPb+X5qvLS//Knx0k1ioD9MN4lBYOWwv4ts5/up8bK/+n5qvHST0D+6SQwCK4eGv6rx0k1iELi/EFg5tMh2vj+gGi/dJAbBv1g5tMh2vp+/Gy/dJAaBlT956SYxCKysv8HKoUW2870/yXa+nxovrb8AAAAAAAAAAOkmMQisHMo/uB6F61G4rr+8dJMYBFbOvwIrhxbZzre/O99PjZdugr/ZzvdT46W7v2iR7Xw/Na6/YhBYObTItr+iRbbz/dS4P3E9CtejcM0/exSuR+F6xD9KDAIrhxbJv1pkO99Pjae/uB6F61G4zr956SYxCKycv+XQItv5ftI/UrgehetRyD9eukkMAivHP3sUrkfherS/y6FFtvP9pL/8qfHSTWJwvxsv3SQGgZU/VOOlm8QgsD+JQWDl0CK7v1TjpZvEILC/uB6F61G4nr+R7Xw/NV7KPzm0yHa+n7q/8tJNYhBYub/ZzvdT46W7vxBYObTIdr6/uB6F61G4rr/Jdr6fGi+tv+Olm8QgsMI/16NwPQrXw7+4HoXrUbiuv8HKoUW2872/ObTIdr6fmr956SYxCKx8v8uhRbbz/eA/EoPAyqFFtr/8qfHSTWJwv/hT46WbxMA//Knx0k1iwD+yne+nxku3P6jGSzeJQdC/AAAAAAAAwD+4HoXrUbjOP/p+arx0k2g/Vg4tsp3vx7/jpZvEILCyP7gehetRuI4/qvHSTWIQqD97FK5H4Xp0v8UgsHJokc2/vp8aL90kxj+6SQwCK4eGPzm0yHa+n4q/UrgehetRuD9U46WbxCDAv4PAyqFFtrO/mG4Sg8DKwT/8qfHSTWKAP/yp8dJNYqA/3SQGgZVDy78730+Nl27SP7gehetRuJ6/yXa+nxovvT99PzVeuknMP+Olm8QgsLI/arx0kxgEpr8GgZVDi2zfP3sUrkfhenQ/sp3vp8ZL1z956SYxCKycvwaBlUOLbMe/+n5qvHSTmD8zMzMzMzPDv0a28/3UeNE/g8DKoUW2wz8730+Nl26yPzMzMzMzM7M/SgwCK4cWuT+yne+nxkvHP3npJjEIrIy/exSuR+F6dD+F61G4HoXLv2q8dJMYBLY/WmQ730+Np7/hehSuR+G6Pz81XrpJDMK/I9v5fmq8tL8=",
          "dtype": "f8"
         },
         "x0": " ",
         "xaxis": "x",
         "y0": " ",
         "yaxis": "y"
        }
       ],
       "layout": {
        "boxmode": "group",
        "legend": {
         "tracegroupgap": 0
        },
        "template": {
         "data": {
          "bar": [
           {
            "error_x": {
             "color": "#2a3f5f"
            },
            "error_y": {
             "color": "#2a3f5f"
            },
            "marker": {
             "line": {
              "color": "#E5ECF6",
              "width": 0.5
             },
             "pattern": {
              "fillmode": "overlay",
              "size": 10,
              "solidity": 0.2
             }
            },
            "type": "bar"
           }
          ],
          "barpolar": [
           {
            "marker": {
             "line": {
              "color": "#E5ECF6",
              "width": 0.5
             },
             "pattern": {
              "fillmode": "overlay",
              "size": 10,
              "solidity": 0.2
             }
            },
            "type": "barpolar"
           }
          ],
          "carpet": [
           {
            "aaxis": {
             "endlinecolor": "#2a3f5f",
             "gridcolor": "white",
             "linecolor": "white",
             "minorgridcolor": "white",
             "startlinecolor": "#2a3f5f"
            },
            "baxis": {
             "endlinecolor": "#2a3f5f",
             "gridcolor": "white",
             "linecolor": "white",
             "minorgridcolor": "white",
             "startlinecolor": "#2a3f5f"
            },
            "type": "carpet"
           }
          ],
          "choropleth": [
           {
            "colorbar": {
             "outlinewidth": 0,
             "ticks": ""
            },
            "type": "choropleth"
           }
          ],
          "contour": [
           {
            "colorbar": {
             "outlinewidth": 0,
             "ticks": ""
            },
            "colorscale": [
             [
              0,
              "#0d0887"
             ],
             [
              0.1111111111111111,
              "#46039f"
             ],
             [
              0.2222222222222222,
              "#7201a8"
             ],
             [
              0.3333333333333333,
              "#9c179e"
             ],
             [
              0.4444444444444444,
              "#bd3786"
             ],
             [
              0.5555555555555556,
              "#d8576b"
             ],
             [
              0.6666666666666666,
              "#ed7953"
             ],
             [
              0.7777777777777778,
              "#fb9f3a"
             ],
             [
              0.8888888888888888,
              "#fdca26"
             ],
             [
              1,
              "#f0f921"
             ]
            ],
            "type": "contour"
           }
          ],
          "contourcarpet": [
           {
            "colorbar": {
             "outlinewidth": 0,
             "ticks": ""
            },
            "type": "contourcarpet"
           }
          ],
          "heatmap": [
           {
            "colorbar": {
             "outlinewidth": 0,
             "ticks": ""
            },
            "colorscale": [
             [
              0,
              "#0d0887"
             ],
             [
              0.1111111111111111,
              "#46039f"
             ],
             [
              0.2222222222222222,
              "#7201a8"
             ],
             [
              0.3333333333333333,
              "#9c179e"
             ],
             [
              0.4444444444444444,
              "#bd3786"
             ],
             [
              0.5555555555555556,
              "#d8576b"
             ],
             [
              0.6666666666666666,
              "#ed7953"
             ],
             [
              0.7777777777777778,
              "#fb9f3a"
             ],
             [
              0.8888888888888888,
              "#fdca26"
             ],
             [
              1,
              "#f0f921"
             ]
            ],
            "type": "heatmap"
           }
          ],
          "histogram": [
           {
            "marker": {
             "pattern": {
              "fillmode": "overlay",
              "size": 10,
              "solidity": 0.2
             }
            },
            "type": "histogram"
           }
          ],
          "histogram2d": [
           {
            "colorbar": {
             "outlinewidth": 0,
             "ticks": ""
            },
            "colorscale": [
             [
              0,
              "#0d0887"
             ],
             [
              0.1111111111111111,
              "#46039f"
             ],
             [
              0.2222222222222222,
              "#7201a8"
             ],
             [
              0.3333333333333333,
              "#9c179e"
             ],
             [
              0.4444444444444444,
              "#bd3786"
             ],
             [
              0.5555555555555556,
              "#d8576b"
             ],
             [
              0.6666666666666666,
              "#ed7953"
             ],
             [
              0.7777777777777778,
              "#fb9f3a"
             ],
             [
              0.8888888888888888,
              "#fdca26"
             ],
             [
              1,
              "#f0f921"
             ]
            ],
            "type": "histogram2d"
           }
          ],
          "histogram2dcontour": [
           {
            "colorbar": {
             "outlinewidth": 0,
             "ticks": ""
            },
            "colorscale": [
             [
              0,
              "#0d0887"
             ],
             [
              0.1111111111111111,
              "#46039f"
             ],
             [
              0.2222222222222222,
              "#7201a8"
             ],
             [
              0.3333333333333333,
              "#9c179e"
             ],
             [
              0.4444444444444444,
              "#bd3786"
             ],
             [
              0.5555555555555556,
              "#d8576b"
             ],
             [
              0.6666666666666666,
              "#ed7953"
             ],
             [
              0.7777777777777778,
              "#fb9f3a"
             ],
             [
              0.8888888888888888,
              "#fdca26"
             ],
             [
              1,
              "#f0f921"
             ]
            ],
            "type": "histogram2dcontour"
           }
          ],
          "mesh3d": [
           {
            "colorbar": {
             "outlinewidth": 0,
             "ticks": ""
            },
            "type": "mesh3d"
           }
          ],
          "parcoords": [
           {
            "line": {
             "colorbar": {
              "outlinewidth": 0,
              "ticks": ""
             }
            },
            "type": "parcoords"
           }
          ],
          "pie": [
           {
            "automargin": true,
            "type": "pie"
           }
          ],
          "scatter": [
           {
            "fillpattern": {
             "fillmode": "overlay",
             "size": 10,
             "solidity": 0.2
            },
            "type": "scatter"
           }
          ],
          "scatter3d": [
           {
            "line": {
             "colorbar": {
              "outlinewidth": 0,
              "ticks": ""
             }
            },
            "marker": {
             "colorbar": {
              "outlinewidth": 0,
              "ticks": ""
             }
            },
            "type": "scatter3d"
           }
          ],
          "scattercarpet": [
           {
            "marker": {
             "colorbar": {
              "outlinewidth": 0,
              "ticks": ""
             }
            },
            "type": "scattercarpet"
           }
          ],
          "scattergeo": [
           {
            "marker": {
             "colorbar": {
              "outlinewidth": 0,
              "ticks": ""
             }
            },
            "type": "scattergeo"
           }
          ],
          "scattergl": [
           {
            "marker": {
             "colorbar": {
              "outlinewidth": 0,
              "ticks": ""
             }
            },
            "type": "scattergl"
           }
          ],
          "scattermap": [
           {
            "marker": {
             "colorbar": {
              "outlinewidth": 0,
              "ticks": ""
             }
            },
            "type": "scattermap"
           }
          ],
          "scattermapbox": [
           {
            "marker": {
             "colorbar": {
              "outlinewidth": 0,
              "ticks": ""
             }
            },
            "type": "scattermapbox"
           }
          ],
          "scatterpolar": [
           {
            "marker": {
             "colorbar": {
              "outlinewidth": 0,
              "ticks": ""
             }
            },
            "type": "scatterpolar"
           }
          ],
          "scatterpolargl": [
           {
            "marker": {
             "colorbar": {
              "outlinewidth": 0,
              "ticks": ""
             }
            },
            "type": "scatterpolargl"
           }
          ],
          "scatterternary": [
           {
            "marker": {
             "colorbar": {
              "outlinewidth": 0,
              "ticks": ""
             }
            },
            "type": "scatterternary"
           }
          ],
          "surface": [
           {
            "colorbar": {
             "outlinewidth": 0,
             "ticks": ""
            },
            "colorscale": [
             [
              0,
              "#0d0887"
             ],
             [
              0.1111111111111111,
              "#46039f"
             ],
             [
              0.2222222222222222,
              "#7201a8"
             ],
             [
              0.3333333333333333,
              "#9c179e"
             ],
             [
              0.4444444444444444,
              "#bd3786"
             ],
             [
              0.5555555555555556,
              "#d8576b"
             ],
             [
              0.6666666666666666,
              "#ed7953"
             ],
             [
              0.7777777777777778,
              "#fb9f3a"
             ],
             [
              0.8888888888888888,
              "#fdca26"
             ],
             [
              1,
              "#f0f921"
             ]
            ],
            "type": "surface"
           }
          ],
          "table": [
           {
            "cells": {
             "fill": {
              "color": "#EBF0F8"
             },
             "line": {
              "color": "white"
             }
            },
            "header": {
             "fill": {
              "color": "#C8D4E3"
             },
             "line": {
              "color": "white"
             }
            },
            "type": "table"
           }
          ]
         },
         "layout": {
          "annotationdefaults": {
           "arrowcolor": "#2a3f5f",
           "arrowhead": 0,
           "arrowwidth": 1
          },
          "autotypenumbers": "strict",
          "coloraxis": {
           "colorbar": {
            "outlinewidth": 0,
            "ticks": ""
           }
          },
          "colorscale": {
           "diverging": [
            [
             0,
             "#8e0152"
            ],
            [
             0.1,
             "#c51b7d"
            ],
            [
             0.2,
             "#de77ae"
            ],
            [
             0.3,
             "#f1b6da"
            ],
            [
             0.4,
             "#fde0ef"
            ],
            [
             0.5,
             "#f7f7f7"
            ],
            [
             0.6,
             "#e6f5d0"
            ],
            [
             0.7,
             "#b8e186"
            ],
            [
             0.8,
             "#7fbc41"
            ],
            [
             0.9,
             "#4d9221"
            ],
            [
             1,
             "#276419"
            ]
           ],
           "sequential": [
            [
             0,
             "#0d0887"
            ],
            [
             0.1111111111111111,
             "#46039f"
            ],
            [
             0.2222222222222222,
             "#7201a8"
            ],
            [
             0.3333333333333333,
             "#9c179e"
            ],
            [
             0.4444444444444444,
             "#bd3786"
            ],
            [
             0.5555555555555556,
             "#d8576b"
            ],
            [
             0.6666666666666666,
             "#ed7953"
            ],
            [
             0.7777777777777778,
             "#fb9f3a"
            ],
            [
             0.8888888888888888,
             "#fdca26"
            ],
            [
             1,
             "#f0f921"
            ]
           ],
           "sequentialminus": [
            [
             0,
             "#0d0887"
            ],
            [
             0.1111111111111111,
             "#46039f"
            ],
            [
             0.2222222222222222,
             "#7201a8"
            ],
            [
             0.3333333333333333,
             "#9c179e"
            ],
            [
             0.4444444444444444,
             "#bd3786"
            ],
            [
             0.5555555555555556,
             "#d8576b"
            ],
            [
             0.6666666666666666,
             "#ed7953"
            ],
            [
             0.7777777777777778,
             "#fb9f3a"
            ],
            [
             0.8888888888888888,
             "#fdca26"
            ],
            [
             1,
             "#f0f921"
            ]
           ]
          },
          "colorway": [
           "#636efa",
           "#EF553B",
           "#00cc96",
           "#ab63fa",
           "#FFA15A",
           "#19d3f3",
           "#FF6692",
           "#B6E880",
           "#FF97FF",
           "#FECB52"
          ],
          "font": {
           "color": "#2a3f5f"
          },
          "geo": {
           "bgcolor": "white",
           "lakecolor": "white",
           "landcolor": "#E5ECF6",
           "showlakes": true,
           "showland": true,
           "subunitcolor": "white"
          },
          "hoverlabel": {
           "align": "left"
          },
          "hovermode": "closest",
          "mapbox": {
           "style": "light"
          },
          "paper_bgcolor": "white",
          "plot_bgcolor": "#E5ECF6",
          "polar": {
           "angularaxis": {
            "gridcolor": "white",
            "linecolor": "white",
            "ticks": ""
           },
           "bgcolor": "#E5ECF6",
           "radialaxis": {
            "gridcolor": "white",
            "linecolor": "white",
            "ticks": ""
           }
          },
          "scene": {
           "xaxis": {
            "backgroundcolor": "#E5ECF6",
            "gridcolor": "white",
            "gridwidth": 2,
            "linecolor": "white",
            "showbackground": true,
            "ticks": "",
            "zerolinecolor": "white"
           },
           "yaxis": {
            "backgroundcolor": "#E5ECF6",
            "gridcolor": "white",
            "gridwidth": 2,
            "linecolor": "white",
            "showbackground": true,
            "ticks": "",
            "zerolinecolor": "white"
           },
           "zaxis": {
            "backgroundcolor": "#E5ECF6",
            "gridcolor": "white",
            "gridwidth": 2,
            "linecolor": "white",
            "showbackground": true,
            "ticks": "",
            "zerolinecolor": "white"
           }
          },
          "shapedefaults": {
           "line": {
            "color": "#2a3f5f"
           }
          },
          "ternary": {
           "aaxis": {
            "gridcolor": "white",
            "linecolor": "white",
            "ticks": ""
           },
           "baxis": {
            "gridcolor": "white",
            "linecolor": "white",
            "ticks": ""
           },
           "bgcolor": "#E5ECF6",
           "caxis": {
            "gridcolor": "white",
            "linecolor": "white",
            "ticks": ""
           }
          },
          "title": {
           "x": 0.05
          },
          "xaxis": {
           "automargin": true,
           "gridcolor": "white",
           "linecolor": "white",
           "ticks": "",
           "title": {
            "standoff": 15
           },
           "zerolinecolor": "white",
           "zerolinewidth": 2
          },
          "yaxis": {
           "automargin": true,
           "gridcolor": "white",
           "linecolor": "white",
           "ticks": "",
           "title": {
            "standoff": 15
           },
           "zerolinecolor": "white",
           "zerolinewidth": 2
          }
         }
        },
        "title": {
         "text": "Distribution of Generosity"
        },
        "xaxis": {
         "anchor": "y",
         "domain": [
          0,
          1
         ],
         "title": {
          "text": "Generosity"
         }
        },
        "yaxis": {
         "anchor": "x",
         "domain": [
          0,
          1
         ]
        }
       }
      }
     },
     "metadata": {},
     "output_type": "display_data"
    }
   ],
   "source": [
    "px.box(df_plot, \n",
    "             x=\"Generosity\", \n",
    "             points=\"all\",\n",
    "             hover_name=\"Country Name\",\n",
    "             title=\"Distribution of Generosity\",\n",
    "             color_discrete_sequence=[\"#EF553B\"])"
   ]
  },
  {
   "cell_type": "markdown",
   "id": "3f92d631",
   "metadata": {},
   "source": [
    "![Track Age vs Streams](screenshots/distribution-of-generosity.png\n",
    ")\n"
   ]
  },
  {
   "cell_type": "markdown",
   "id": "fff09679",
   "metadata": {},
   "source": [
    "## Distribution of Perceptions Of Corruption\n",
    "\n",
    "- **Overview**: This boxplot displays the range of perceived corruption across countries, highlighting all individual points for better clarity.\n",
    "- **Median & Quartiles**: Most countries cluster around 0.7–0.9, indicating moderate perceived corruption.\n",
    "- **Outliers**:\n",
    "  - **Low outliers (less perceived corruption)**: Singapore (0.146), Finland (0.182), Denmark (0.196), Sweden (0.202), Switzerland (0.266) exceptionally low perception of corruption.\n",
    "  - **High outliers (more perceived corruption)**: Romania (0.929), Croatia (0.925), Bosnia and Herzegovina (0.918), Nigeria (0.911), Bulgaria (0.911) very high perception of corruption.\n",
    "- **Insights**:\n",
    "  - Countries with the lowest perceived corruption tend to be among the happiest or most developed nations.\n",
    "  - High outliers often indicate systemic governance or transparency issues affecting public trust.\n",
    "- **Conclusion**: Outliers in corruption perception are strong indicators of institutional effectiveness and may significantly influence overall happiness scores."
   ]
  },
  {
   "cell_type": "code",
   "execution_count": 56,
   "id": "5df15390",
   "metadata": {},
   "outputs": [
    {
     "data": {
      "application/vnd.plotly.v1+json": {
       "config": {
        "plotlyServerURL": "https://plot.ly"
       },
       "data": [
        {
         "alignmentgroup": "True",
         "boxpoints": "all",
         "hovertemplate": "<b>%{hovertext}</b><br><br>Perceptions Of Corruption=%{x}<extra></extra>",
         "hovertext": [
          "Finland",
          "Denmark",
          "Iceland",
          "Israel",
          "Netherlands",
          "Sweden",
          "Norway",
          "Switzerland",
          "Luxembourg",
          "New Zealand",
          "Austria",
          "Australia",
          "Canada",
          "Ireland",
          "United States",
          "Germany",
          "Belgium",
          "Czechia",
          "United Kingdom",
          "Lithuania",
          "France",
          "Slovenia",
          "Costa Rica",
          "Romania",
          "Singapore",
          "United Arab Emirates",
          "Taiwan Province of China",
          "Uruguay",
          "Slovakia",
          "Saudi Arabia",
          "Estonia",
          "Spain",
          "Italy",
          "Kosovo",
          "Chile",
          "Mexico",
          "Malta",
          "Panama",
          "Poland",
          "Nicaragua",
          "Latvia",
          "Bahrain",
          "Guatemala",
          "Kazakhstan",
          "Serbia",
          "Cyprus",
          "Japan",
          "Croatia",
          "Brazil",
          "El Salvador",
          "Hungary",
          "Argentina",
          "Honduras",
          "Uzbekistan",
          "Malaysia",
          "Portugal",
          "South Korea",
          "Greece",
          "Mauritius",
          "Thailand",
          "Mongolia",
          "Kyrgyzstan",
          "Moldova",
          "China",
          "Vietnam",
          "Paraguay",
          "Montenegro",
          "Jamaica",
          "Bolivia",
          "Russia",
          "Bosnia and Herzegovina",
          "Colombia",
          "Dominican Republic",
          "Ecuador",
          "Peru",
          "Philippines",
          "Bulgaria",
          "Nepal",
          "Armenia",
          "Tajikistan",
          "Algeria",
          "Hong Kong S.A.R. of China",
          "Albania",
          "Indonesia",
          "South Africa",
          "Congo (Brazzaville)",
          "North Macedonia",
          "Venezuela",
          "Laos",
          "Georgia",
          "Guinea",
          "Ukraine",
          "Ivory Coast",
          "Gabon",
          "Nigeria",
          "Cameroon",
          "Mozambique",
          "Iraq",
          "Morocco",
          "Iran",
          "Senegal",
          "Mauritania",
          "Burkina Faso",
          "Namibia",
          "Turkiye",
          "Ghana",
          "Pakistan",
          "Niger",
          "Tunisia",
          "Kenya",
          "Sri Lanka",
          "Uganda",
          "Chad",
          "Cambodia",
          "Benin",
          "Myanmar",
          "Bangladesh",
          "Gambia",
          "Mali",
          "Egypt",
          "Togo",
          "Jordan",
          "Ethiopia",
          "Liberia",
          "India",
          "Madagascar",
          "Zambia",
          "Tanzania",
          "Comoros",
          "Malawi",
          "Botswana",
          "Congo (Kinshasa)",
          "Zimbabwe",
          "Sierra Leone",
          "Lebanon",
          "Afghanistan"
         ],
         "legendgroup": "",
         "marker": {
          "color": "#636EFA"
         },
         "name": "",
         "notched": false,
         "offsetgroup": "",
         "orientation": "h",
         "showlegend": false,
         "type": "box",
         "x": {
          "bdata": "sp3vp8ZLxz9KDAIrhxbJP8dLN4lBYOU/Di2yne+n5j+oxks3iUHYP0Jg5dAi28k/6SYxCKwc0j+gGi/dJAbRPxSuR+F6FNY/8tJNYhBY0T8CK4cW2c7fP1g5tMh2vt8/4XoUrkfh2j+28/3UeOnWPz81XrpJDOY/4XoUrkfh2j/FILByaJHhP7ByaJHtfOs/dZMYBFYO3T/D9Shcj8LpPxkEVg4tsuE/eekmMQis6D/6fmq8dJPoP+58PzVeuu0/46WbxCCwwj/jpZvEILDiP5huEoPAyuU/ZmZmZmZm4j8j2/l+arzsP+kmMQisHOY/kxgEVg4t2j+Nl24Sg8DmP4ts5/up8eo/g8DKoUW26z+8dJMYBFbqP/p+arx0k+g/hxbZzvdT5z9/arx0kxjsP1pkO99Pjec/AAAAAAAA5D+PwvUoXI/qPy/dJAaBlec/YhBYObTI6j/fT42XbhLnP+kmMQisHOo/hetRuB6F6z97FK5H4XrkP5qZmZmZme0/BFYOLbKd5z/Xo3A9CtfjPwwCK4cW2eo/PzVeukkM6j9g5dAi2/nqP9Ei2/l+auQ/qMZLN4lB6D9/arx0kxjsPzvfT42XbuY/x0s3iUFg6T/NzMzMzMzoPx+F61G4Hu0/XrpJDAIr6z8hsHJoke3sP6JFtvP91Ow/3SQGgZVD5z99PzVeuknoP2Dl0CLb+eo/NV66SQwC6z8AAAAAAADsP99PjZduEus/bxKDwMqh6T/HSzeJQWDtP+Olm8QgsOo/oBov3SQG5T8OLbKd76fqPyUGgZVDi+w/BoGVQ4ts5z/0/dR46SbtP3WTGARWDuk/j8L1KFyP5j9OYhBYObTgP4ts5/up8eY/pHA9Ctej2D9/arx0kxjsP9V46SYxCOw/d76fGi/d7D/ZzvdT46XnP3e+nxov3ew/wcqhRbbz6T/l0CLb+X7mP/hT46WbxOQ/yXa+nxov6T+gGi/dJAbtP6wcWmQ73+c/9P3UeOkm6T/0/dR46SbtP99PjZduEus/H4XrUbge5T/VeOkmMQjsP8HKoUW28+k/gZVDi2zn5z/fT42XbhLrP6AaL90kBuU/eekmMQis6D+PwvUoXI/qP3E9CtejcOk//tR46SYx7D/Jdr6fGi/pP7ByaJHtfOc/oBov3SQG7T/dJAaBlUPrP0Jg5dAi2+k/BoGVQ4ts6z9t5/up8dLpPwaBlUOLbOs/O99PjZdu4j91kxgEVg7lP7x0kxgEVuY/qMZLN4lB7D/fT42XbhLrP4/C9Shcj+I/rkfhehSu5z+WQ4ts5/vlP3Noke18P+k/j8L1KFyP6j/4U+Olm8ToP1g5tMh2vuc/kxgEVg4t6j/ufD81XrrhP90kBoGVQ+c/K4cW2c735z+PwvUoXI/qP+Olm8QgsOo/UI2XbhKD6D/b+X5qvHTrP1CNl24Sg+w/tMh2vp8a6z8=",
          "dtype": "f8"
         },
         "x0": " ",
         "xaxis": "x",
         "y0": " ",
         "yaxis": "y"
        }
       ],
       "layout": {
        "boxmode": "group",
        "legend": {
         "tracegroupgap": 0
        },
        "template": {
         "data": {
          "bar": [
           {
            "error_x": {
             "color": "#2a3f5f"
            },
            "error_y": {
             "color": "#2a3f5f"
            },
            "marker": {
             "line": {
              "color": "#E5ECF6",
              "width": 0.5
             },
             "pattern": {
              "fillmode": "overlay",
              "size": 10,
              "solidity": 0.2
             }
            },
            "type": "bar"
           }
          ],
          "barpolar": [
           {
            "marker": {
             "line": {
              "color": "#E5ECF6",
              "width": 0.5
             },
             "pattern": {
              "fillmode": "overlay",
              "size": 10,
              "solidity": 0.2
             }
            },
            "type": "barpolar"
           }
          ],
          "carpet": [
           {
            "aaxis": {
             "endlinecolor": "#2a3f5f",
             "gridcolor": "white",
             "linecolor": "white",
             "minorgridcolor": "white",
             "startlinecolor": "#2a3f5f"
            },
            "baxis": {
             "endlinecolor": "#2a3f5f",
             "gridcolor": "white",
             "linecolor": "white",
             "minorgridcolor": "white",
             "startlinecolor": "#2a3f5f"
            },
            "type": "carpet"
           }
          ],
          "choropleth": [
           {
            "colorbar": {
             "outlinewidth": 0,
             "ticks": ""
            },
            "type": "choropleth"
           }
          ],
          "contour": [
           {
            "colorbar": {
             "outlinewidth": 0,
             "ticks": ""
            },
            "colorscale": [
             [
              0,
              "#0d0887"
             ],
             [
              0.1111111111111111,
              "#46039f"
             ],
             [
              0.2222222222222222,
              "#7201a8"
             ],
             [
              0.3333333333333333,
              "#9c179e"
             ],
             [
              0.4444444444444444,
              "#bd3786"
             ],
             [
              0.5555555555555556,
              "#d8576b"
             ],
             [
              0.6666666666666666,
              "#ed7953"
             ],
             [
              0.7777777777777778,
              "#fb9f3a"
             ],
             [
              0.8888888888888888,
              "#fdca26"
             ],
             [
              1,
              "#f0f921"
             ]
            ],
            "type": "contour"
           }
          ],
          "contourcarpet": [
           {
            "colorbar": {
             "outlinewidth": 0,
             "ticks": ""
            },
            "type": "contourcarpet"
           }
          ],
          "heatmap": [
           {
            "colorbar": {
             "outlinewidth": 0,
             "ticks": ""
            },
            "colorscale": [
             [
              0,
              "#0d0887"
             ],
             [
              0.1111111111111111,
              "#46039f"
             ],
             [
              0.2222222222222222,
              "#7201a8"
             ],
             [
              0.3333333333333333,
              "#9c179e"
             ],
             [
              0.4444444444444444,
              "#bd3786"
             ],
             [
              0.5555555555555556,
              "#d8576b"
             ],
             [
              0.6666666666666666,
              "#ed7953"
             ],
             [
              0.7777777777777778,
              "#fb9f3a"
             ],
             [
              0.8888888888888888,
              "#fdca26"
             ],
             [
              1,
              "#f0f921"
             ]
            ],
            "type": "heatmap"
           }
          ],
          "histogram": [
           {
            "marker": {
             "pattern": {
              "fillmode": "overlay",
              "size": 10,
              "solidity": 0.2
             }
            },
            "type": "histogram"
           }
          ],
          "histogram2d": [
           {
            "colorbar": {
             "outlinewidth": 0,
             "ticks": ""
            },
            "colorscale": [
             [
              0,
              "#0d0887"
             ],
             [
              0.1111111111111111,
              "#46039f"
             ],
             [
              0.2222222222222222,
              "#7201a8"
             ],
             [
              0.3333333333333333,
              "#9c179e"
             ],
             [
              0.4444444444444444,
              "#bd3786"
             ],
             [
              0.5555555555555556,
              "#d8576b"
             ],
             [
              0.6666666666666666,
              "#ed7953"
             ],
             [
              0.7777777777777778,
              "#fb9f3a"
             ],
             [
              0.8888888888888888,
              "#fdca26"
             ],
             [
              1,
              "#f0f921"
             ]
            ],
            "type": "histogram2d"
           }
          ],
          "histogram2dcontour": [
           {
            "colorbar": {
             "outlinewidth": 0,
             "ticks": ""
            },
            "colorscale": [
             [
              0,
              "#0d0887"
             ],
             [
              0.1111111111111111,
              "#46039f"
             ],
             [
              0.2222222222222222,
              "#7201a8"
             ],
             [
              0.3333333333333333,
              "#9c179e"
             ],
             [
              0.4444444444444444,
              "#bd3786"
             ],
             [
              0.5555555555555556,
              "#d8576b"
             ],
             [
              0.6666666666666666,
              "#ed7953"
             ],
             [
              0.7777777777777778,
              "#fb9f3a"
             ],
             [
              0.8888888888888888,
              "#fdca26"
             ],
             [
              1,
              "#f0f921"
             ]
            ],
            "type": "histogram2dcontour"
           }
          ],
          "mesh3d": [
           {
            "colorbar": {
             "outlinewidth": 0,
             "ticks": ""
            },
            "type": "mesh3d"
           }
          ],
          "parcoords": [
           {
            "line": {
             "colorbar": {
              "outlinewidth": 0,
              "ticks": ""
             }
            },
            "type": "parcoords"
           }
          ],
          "pie": [
           {
            "automargin": true,
            "type": "pie"
           }
          ],
          "scatter": [
           {
            "fillpattern": {
             "fillmode": "overlay",
             "size": 10,
             "solidity": 0.2
            },
            "type": "scatter"
           }
          ],
          "scatter3d": [
           {
            "line": {
             "colorbar": {
              "outlinewidth": 0,
              "ticks": ""
             }
            },
            "marker": {
             "colorbar": {
              "outlinewidth": 0,
              "ticks": ""
             }
            },
            "type": "scatter3d"
           }
          ],
          "scattercarpet": [
           {
            "marker": {
             "colorbar": {
              "outlinewidth": 0,
              "ticks": ""
             }
            },
            "type": "scattercarpet"
           }
          ],
          "scattergeo": [
           {
            "marker": {
             "colorbar": {
              "outlinewidth": 0,
              "ticks": ""
             }
            },
            "type": "scattergeo"
           }
          ],
          "scattergl": [
           {
            "marker": {
             "colorbar": {
              "outlinewidth": 0,
              "ticks": ""
             }
            },
            "type": "scattergl"
           }
          ],
          "scattermap": [
           {
            "marker": {
             "colorbar": {
              "outlinewidth": 0,
              "ticks": ""
             }
            },
            "type": "scattermap"
           }
          ],
          "scattermapbox": [
           {
            "marker": {
             "colorbar": {
              "outlinewidth": 0,
              "ticks": ""
             }
            },
            "type": "scattermapbox"
           }
          ],
          "scatterpolar": [
           {
            "marker": {
             "colorbar": {
              "outlinewidth": 0,
              "ticks": ""
             }
            },
            "type": "scatterpolar"
           }
          ],
          "scatterpolargl": [
           {
            "marker": {
             "colorbar": {
              "outlinewidth": 0,
              "ticks": ""
             }
            },
            "type": "scatterpolargl"
           }
          ],
          "scatterternary": [
           {
            "marker": {
             "colorbar": {
              "outlinewidth": 0,
              "ticks": ""
             }
            },
            "type": "scatterternary"
           }
          ],
          "surface": [
           {
            "colorbar": {
             "outlinewidth": 0,
             "ticks": ""
            },
            "colorscale": [
             [
              0,
              "#0d0887"
             ],
             [
              0.1111111111111111,
              "#46039f"
             ],
             [
              0.2222222222222222,
              "#7201a8"
             ],
             [
              0.3333333333333333,
              "#9c179e"
             ],
             [
              0.4444444444444444,
              "#bd3786"
             ],
             [
              0.5555555555555556,
              "#d8576b"
             ],
             [
              0.6666666666666666,
              "#ed7953"
             ],
             [
              0.7777777777777778,
              "#fb9f3a"
             ],
             [
              0.8888888888888888,
              "#fdca26"
             ],
             [
              1,
              "#f0f921"
             ]
            ],
            "type": "surface"
           }
          ],
          "table": [
           {
            "cells": {
             "fill": {
              "color": "#EBF0F8"
             },
             "line": {
              "color": "white"
             }
            },
            "header": {
             "fill": {
              "color": "#C8D4E3"
             },
             "line": {
              "color": "white"
             }
            },
            "type": "table"
           }
          ]
         },
         "layout": {
          "annotationdefaults": {
           "arrowcolor": "#2a3f5f",
           "arrowhead": 0,
           "arrowwidth": 1
          },
          "autotypenumbers": "strict",
          "coloraxis": {
           "colorbar": {
            "outlinewidth": 0,
            "ticks": ""
           }
          },
          "colorscale": {
           "diverging": [
            [
             0,
             "#8e0152"
            ],
            [
             0.1,
             "#c51b7d"
            ],
            [
             0.2,
             "#de77ae"
            ],
            [
             0.3,
             "#f1b6da"
            ],
            [
             0.4,
             "#fde0ef"
            ],
            [
             0.5,
             "#f7f7f7"
            ],
            [
             0.6,
             "#e6f5d0"
            ],
            [
             0.7,
             "#b8e186"
            ],
            [
             0.8,
             "#7fbc41"
            ],
            [
             0.9,
             "#4d9221"
            ],
            [
             1,
             "#276419"
            ]
           ],
           "sequential": [
            [
             0,
             "#0d0887"
            ],
            [
             0.1111111111111111,
             "#46039f"
            ],
            [
             0.2222222222222222,
             "#7201a8"
            ],
            [
             0.3333333333333333,
             "#9c179e"
            ],
            [
             0.4444444444444444,
             "#bd3786"
            ],
            [
             0.5555555555555556,
             "#d8576b"
            ],
            [
             0.6666666666666666,
             "#ed7953"
            ],
            [
             0.7777777777777778,
             "#fb9f3a"
            ],
            [
             0.8888888888888888,
             "#fdca26"
            ],
            [
             1,
             "#f0f921"
            ]
           ],
           "sequentialminus": [
            [
             0,
             "#0d0887"
            ],
            [
             0.1111111111111111,
             "#46039f"
            ],
            [
             0.2222222222222222,
             "#7201a8"
            ],
            [
             0.3333333333333333,
             "#9c179e"
            ],
            [
             0.4444444444444444,
             "#bd3786"
            ],
            [
             0.5555555555555556,
             "#d8576b"
            ],
            [
             0.6666666666666666,
             "#ed7953"
            ],
            [
             0.7777777777777778,
             "#fb9f3a"
            ],
            [
             0.8888888888888888,
             "#fdca26"
            ],
            [
             1,
             "#f0f921"
            ]
           ]
          },
          "colorway": [
           "#636efa",
           "#EF553B",
           "#00cc96",
           "#ab63fa",
           "#FFA15A",
           "#19d3f3",
           "#FF6692",
           "#B6E880",
           "#FF97FF",
           "#FECB52"
          ],
          "font": {
           "color": "#2a3f5f"
          },
          "geo": {
           "bgcolor": "white",
           "lakecolor": "white",
           "landcolor": "#E5ECF6",
           "showlakes": true,
           "showland": true,
           "subunitcolor": "white"
          },
          "hoverlabel": {
           "align": "left"
          },
          "hovermode": "closest",
          "mapbox": {
           "style": "light"
          },
          "paper_bgcolor": "white",
          "plot_bgcolor": "#E5ECF6",
          "polar": {
           "angularaxis": {
            "gridcolor": "white",
            "linecolor": "white",
            "ticks": ""
           },
           "bgcolor": "#E5ECF6",
           "radialaxis": {
            "gridcolor": "white",
            "linecolor": "white",
            "ticks": ""
           }
          },
          "scene": {
           "xaxis": {
            "backgroundcolor": "#E5ECF6",
            "gridcolor": "white",
            "gridwidth": 2,
            "linecolor": "white",
            "showbackground": true,
            "ticks": "",
            "zerolinecolor": "white"
           },
           "yaxis": {
            "backgroundcolor": "#E5ECF6",
            "gridcolor": "white",
            "gridwidth": 2,
            "linecolor": "white",
            "showbackground": true,
            "ticks": "",
            "zerolinecolor": "white"
           },
           "zaxis": {
            "backgroundcolor": "#E5ECF6",
            "gridcolor": "white",
            "gridwidth": 2,
            "linecolor": "white",
            "showbackground": true,
            "ticks": "",
            "zerolinecolor": "white"
           }
          },
          "shapedefaults": {
           "line": {
            "color": "#2a3f5f"
           }
          },
          "ternary": {
           "aaxis": {
            "gridcolor": "white",
            "linecolor": "white",
            "ticks": ""
           },
           "baxis": {
            "gridcolor": "white",
            "linecolor": "white",
            "ticks": ""
           },
           "bgcolor": "#E5ECF6",
           "caxis": {
            "gridcolor": "white",
            "linecolor": "white",
            "ticks": ""
           }
          },
          "title": {
           "x": 0.05
          },
          "xaxis": {
           "automargin": true,
           "gridcolor": "white",
           "linecolor": "white",
           "ticks": "",
           "title": {
            "standoff": 15
           },
           "zerolinecolor": "white",
           "zerolinewidth": 2
          },
          "yaxis": {
           "automargin": true,
           "gridcolor": "white",
           "linecolor": "white",
           "ticks": "",
           "title": {
            "standoff": 15
           },
           "zerolinecolor": "white",
           "zerolinewidth": 2
          }
         }
        },
        "title": {
         "text": "Distribution of Perceptions Of Corruption"
        },
        "xaxis": {
         "anchor": "y",
         "domain": [
          0,
          1
         ],
         "title": {
          "text": "Perceptions Of Corruption"
         }
        },
        "yaxis": {
         "anchor": "x",
         "domain": [
          0,
          1
         ]
        }
       }
      }
     },
     "metadata": {},
     "output_type": "display_data"
    }
   ],
   "source": [
    "px.box(df_plot, \n",
    "             x=\"Perceptions Of Corruption\", \n",
    "             points=\"all\",\n",
    "             hover_name=\"Country Name\",\n",
    "             title=\"Distribution of Perceptions Of Corruption\",\n",
    "             color_discrete_sequence=[\"#636EFA\"])"
   ]
  },
  {
   "cell_type": "markdown",
   "id": "c9d09b9a",
   "metadata": {},
   "source": [
    "![Track Age vs Streams](screenshots/distribution-of-perceptions-of-corruption.png\n",
    ")\n"
   ]
  },
  {
   "cell_type": "markdown",
   "id": "cf22352a",
   "metadata": {},
   "source": [
    "## World Happiness Report 2025 – Final Insights\n",
    "\n",
    "### 1. Happiest vs Least Happy Countries\n",
    "**Top 10 happiest countries:**  \n",
    "- Nordic dominance: Finland (7.80), Denmark (7.59), Iceland (7.53)  \n",
    "- Small gaps among top 5 indicate consistently high well-being  \n",
    "\n",
    "**Bottom 10 least happy countries:**  \n",
    "- Afghanistan (1.86), Lebanon (2.39), Sierra Leone (3.14)  \n",
    "- Large gap between top and bottom (~7.8 vs ~1.86)  \n",
    "- Low scores linked to conflict, poor governance, and weak social support  \n",
    "\n",
    "**Conclusion:**  \n",
    "- Global inequality in happiness is evident; top countries cluster tightly, while bottom countries show extreme disparities\n",
    "\n",
    "---\n",
    "\n",
    "### 2. Social Support\n",
    "- **Correlation with happiness:** Strong positive  \n",
    "- **High outliers:** Iceland (0.983), Finland (0.969), Denmark (0.954)  \n",
    "- **Low outliers:** Afghanistan (0.341), Benin (0.437), Comoros (0.471)  \n",
    "\n",
    "**Conclusion:**  \n",
    "- Social support is a key predictor of national happiness\n",
    "\n",
    "---\n",
    "\n",
    "### 3. Healthy Life Expectancy\n",
    "- **Correlation with happiness:** Moderate positive  \n",
    "- **High outliers:** Hong Kong (77.28), Japan (74.35), Singapore (73.80)  \n",
    "- **Low outliers:** Mozambique (51.53), Chad (53.13), Afghanistan (54.71)  \n",
    "\n",
    "**Conclusion:**  \n",
    "- Longevity contributes to happiness but is secondary to social and economic factors\n",
    "\n",
    "---\n",
    "\n",
    "### 4. Freedom To Make Life Choices\n",
    "- **Correlation with happiness:** Strong positive  \n",
    "- **High outliers:** Finland (0.961), Cambodia (0.958), Sweden (0.948)  \n",
    "- **Low outliers:** Afghanistan (0.382), Comoros (0.470), Lebanon (0.474)  \n",
    "\n",
    "**Conclusion:**  \n",
    "- Freedom significantly impacts well-being; limited freedom correlates with low happiness\n",
    "\n",
    "---\n",
    "\n",
    "### 5. Generosity\n",
    "- **Correlation with happiness:** Weak to moderate  \n",
    "- **High outliers:** Indonesia (0.531), Myanmar (0.491), Gambia (0.364)  \n",
    "- **Low outliers:** Georgia (-0.254), Greece (-0.240), Japan (-0.237)  \n",
    "\n",
    "**Conclusion:**  \n",
    "- Generosity alone is not a strong predictor; it interacts with social support and GDP\n",
    "\n",
    "---\n",
    "\n",
    "### 6. Perceptions of Corruption\n",
    "- **Correlation with happiness:** Moderate negative  \n",
    "- **Low outliers (less corruption):** Singapore (0.146), Finland (0.182), Denmark (0.196)  \n",
    "- **High outliers (more corruption):** Romania (0.929), Croatia (0.925), Nigeria (0.911)  \n",
    "\n",
    "**Conclusion:**  \n",
    "- Reducing corruption perception improves well-being, but social support, freedom, and GDP are crucial\n",
    "\n",
    "---\n",
    "\n",
    "### 7. Logged GDP Per Capita\n",
    "- **Correlation with happiness:** Positive  \n",
    "- **High outliers:** Luxembourg (11.66), Singapore (11.57), Ireland (11.53)  \n",
    "- **Low outliers:** Venezuela (5.53), Mozambique (7.12), Chad (7.26)  \n",
    "\n",
    "**Conclusion:**  \n",
    "- Wealth enhances well-being but is insufficient without social support and freedom\n",
    "\n",
    "---\n",
    "\n",
    "### 8. Overall Takeaways\n",
    "- **Primary happiness drivers:** Social support, freedom to make life choices  \n",
    "- **Secondary drivers:** Healthy life expectancy, GDP per capita  \n",
    "- **Moderate/limited drivers:** Generosity, perceptions of corruption  \n",
    "- **Patterns:**  \n",
    "  - Nordic countries excel across all indicators  \n",
    "  - Lowest-ranking countries face multiple compounding issues  \n",
    "  - Outliers reveal exceptional national circumstances"
   ]
  }
 ],
 "metadata": {
  "kernelspec": {
   "display_name": "Python 3",
   "language": "python",
   "name": "python3"
  },
  "language_info": {
   "codemirror_mode": {
    "name": "ipython",
    "version": 3
   },
   "file_extension": ".py",
   "mimetype": "text/x-python",
   "name": "python",
   "nbconvert_exporter": "python",
   "pygments_lexer": "ipython3",
   "version": "3.13.5"
  }
 },
 "nbformat": 4,
 "nbformat_minor": 5
}
